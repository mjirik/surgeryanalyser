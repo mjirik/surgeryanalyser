{
 "cells": [
  {
   "cell_type": "code",
   "id": "initial_id",
   "metadata": {
    "tags": [],
    "ExecuteTime": {
     "end_time": "2024-11-28T16:24:56.064096Z",
     "start_time": "2024-11-28T16:24:56.056907Z"
    }
   },
   "source": [
    "import numpy as np\n",
    "import seaborn as sns\n",
    "import pandas as pd\n",
    "import scipy\n",
    "import skimage\n",
    "sns.set_style(\"ticks\")\n",
    "from pathlib import Path"
   ],
   "outputs": [],
   "execution_count": 124
  },
  {
   "cell_type": "markdown",
   "id": "53e39872-8212-46c6-9931-5bc4ba7f3955",
   "metadata": {},
   "source": [
    "# Get the data "
   ]
  },
  {
   "metadata": {
    "ExecuteTime": {
     "end_time": "2024-11-28T16:24:58.655593Z",
     "start_time": "2024-11-28T16:24:58.162249Z"
    }
   },
   "cell_type": "code",
   "source": [
    "\n",
    "\n",
    "\n",
    "fn = sorted(list(Path(\".\").glob(\"*2024-10_stitches*.xlsx\")))[-1]\n",
    "print(fn)\n",
    "dfall = pd.read_excel(fn)\n",
    "\n"
   ],
   "id": "a9cd78d339c0c223",
   "outputs": [
    {
     "name": "stdout",
     "output_type": "stream",
     "text": [
      "2024-10_stitches_pretest_posttest.2024-11-13_14-01-17.xlsx\n"
     ]
    }
   ],
   "execution_count": 125
  },
  {
   "cell_type": "code",
   "id": "f697ae50f242b813",
   "metadata": {
    "collapsed": false,
    "tags": [],
    "ExecuteTime": {
     "end_time": "2024-11-28T16:25:02.917702Z",
     "start_time": "2024-11-28T16:25:02.862299Z"
    }
   },
   "source": [
    "df = dfall.copy()\n",
    "df.tail()"
   ],
   "outputs": [
    {
     "data": {
      "text/plain": [
       "     Unnamed: 0                             filename  \\\n",
       "165         165                         IMG_3597.mov   \n",
       "166         166  Stresstest_nicht_gekürztes_Vid.webm   \n",
       "167         167                      STresstest.webm   \n",
       "168         168                       stresstest.MP4   \n",
       "169         169                         posttest.mp4   \n",
       "\n",
       "                        email             collections    category  \\\n",
       "165  lina.hermsen@uni-jena.de  ['Stresstest 2024-10']  Stresstest   \n",
       "166       Behamin36@gmail.com  ['Stresstest 2024-10']  Stresstest   \n",
       "167     maia.lieb@uni-jena.de  ['Stresstest 2024-10']  Stresstest   \n",
       "168  Hannah.lucas@uni-jena.de  ['Stresstest 2024-10']  Stresstest   \n",
       "169       Behamin36@gmail.com    ['Posttest 2024-10']    Posttest   \n",
       "\n",
       "                      annotation_annotation_annotation  \\\n",
       "165                                                NaN   \n",
       "166                                                NaN   \n",
       "167                                                NaN   \n",
       "168  Hey, das war super. \\nDu hast umgegriffen, sen...   \n",
       "169                                                NaN   \n",
       "\n",
       "     annotation_annotation_time_and_movements  \\\n",
       "165                                       NaN   \n",
       "166                                       NaN   \n",
       "167                                       NaN   \n",
       "168                                       5.0   \n",
       "169                                       NaN   \n",
       "\n",
       "                                            report_url  \\\n",
       "165  http://suran.kky.zcu.cz//uploader/web_report/6...   \n",
       "166  http://suran.kky.zcu.cz//uploader/web_report/c...   \n",
       "167  http://suran.kky.zcu.cz//uploader/web_report/b...   \n",
       "168  http://suran.kky.zcu.cz//uploader/web_report/4...   \n",
       "169  http://suran.kky.zcu.cz//uploader/web_report/4...   \n",
       "\n",
       "     AI movement evaluation stitch [%]  Stitch duration [s]  ...  \\\n",
       "165                          83.429174            51.266667  ...   \n",
       "166                          77.306725            59.800000  ...   \n",
       "167                          66.601286            84.866667  ...   \n",
       "168                          75.544862            64.733333  ...   \n",
       "169                          85.385601            47.866667  ...   \n",
       "\n",
       "     Scissors bbox piercing median area presence [%]  \\\n",
       "165                                              NaN   \n",
       "166                                              NaN   \n",
       "167                                              NaN   \n",
       "168                                              NaN   \n",
       "169                                              NaN   \n",
       "\n",
       "     Scissors bbox piercing length [m]  Scissors bbox piercing visibility [s]  \\\n",
       "165                                NaN                                    NaN   \n",
       "166                                NaN                                    NaN   \n",
       "167                                NaN                                    NaN   \n",
       "168                                NaN                                    NaN   \n",
       "169                                NaN                                    NaN   \n",
       "\n",
       "     Scissors bbox piercing velocity  Scissors bbox piercing velocity std  \\\n",
       "165                              NaN                                  NaN   \n",
       "166                              NaN                                  NaN   \n",
       "167                              NaN                                  NaN   \n",
       "168                              NaN                                  NaN   \n",
       "169                              NaN                                  NaN   \n",
       "\n",
       "     Scissors bbox piercing velocity above threshold  \\\n",
       "165                                              NaN   \n",
       "166                                              NaN   \n",
       "167                                              NaN   \n",
       "168                                              NaN   \n",
       "169                                              NaN   \n",
       "\n",
       "     Scissors bbox piercing velocity threshold [m/s]  \\\n",
       "165                                              NaN   \n",
       "166                                              NaN   \n",
       "167                                              NaN   \n",
       "168                                              NaN   \n",
       "169                                              NaN   \n",
       "\n",
       "     Scissors bbox piercing unit  Scissors bbox piercing visibility [%]  \\\n",
       "165                          NaN                                    NaN   \n",
       "166                          NaN                                    NaN   \n",
       "167                          NaN                                    NaN   \n",
       "168                          NaN                                    NaN   \n",
       "169                          NaN                                    NaN   \n",
       "\n",
       "    stitch_id  \n",
       "165         4  \n",
       "166         4  \n",
       "167         4  \n",
       "168         4  \n",
       "169         4  \n",
       "\n",
       "[5 rows x 216 columns]"
      ],
      "text/html": [
       "<div>\n",
       "<style scoped>\n",
       "    .dataframe tbody tr th:only-of-type {\n",
       "        vertical-align: middle;\n",
       "    }\n",
       "\n",
       "    .dataframe tbody tr th {\n",
       "        vertical-align: top;\n",
       "    }\n",
       "\n",
       "    .dataframe thead th {\n",
       "        text-align: right;\n",
       "    }\n",
       "</style>\n",
       "<table border=\"1\" class=\"dataframe\">\n",
       "  <thead>\n",
       "    <tr style=\"text-align: right;\">\n",
       "      <th></th>\n",
       "      <th>Unnamed: 0</th>\n",
       "      <th>filename</th>\n",
       "      <th>email</th>\n",
       "      <th>collections</th>\n",
       "      <th>category</th>\n",
       "      <th>annotation_annotation_annotation</th>\n",
       "      <th>annotation_annotation_time_and_movements</th>\n",
       "      <th>report_url</th>\n",
       "      <th>AI movement evaluation stitch [%]</th>\n",
       "      <th>Stitch duration [s]</th>\n",
       "      <th>...</th>\n",
       "      <th>Scissors bbox piercing median area presence [%]</th>\n",
       "      <th>Scissors bbox piercing length [m]</th>\n",
       "      <th>Scissors bbox piercing visibility [s]</th>\n",
       "      <th>Scissors bbox piercing velocity</th>\n",
       "      <th>Scissors bbox piercing velocity std</th>\n",
       "      <th>Scissors bbox piercing velocity above threshold</th>\n",
       "      <th>Scissors bbox piercing velocity threshold [m/s]</th>\n",
       "      <th>Scissors bbox piercing unit</th>\n",
       "      <th>Scissors bbox piercing visibility [%]</th>\n",
       "      <th>stitch_id</th>\n",
       "    </tr>\n",
       "  </thead>\n",
       "  <tbody>\n",
       "    <tr>\n",
       "      <th>165</th>\n",
       "      <td>165</td>\n",
       "      <td>IMG_3597.mov</td>\n",
       "      <td>lina.hermsen@uni-jena.de</td>\n",
       "      <td>['Stresstest 2024-10']</td>\n",
       "      <td>Stresstest</td>\n",
       "      <td>NaN</td>\n",
       "      <td>NaN</td>\n",
       "      <td>http://suran.kky.zcu.cz//uploader/web_report/6...</td>\n",
       "      <td>83.429174</td>\n",
       "      <td>51.266667</td>\n",
       "      <td>...</td>\n",
       "      <td>NaN</td>\n",
       "      <td>NaN</td>\n",
       "      <td>NaN</td>\n",
       "      <td>NaN</td>\n",
       "      <td>NaN</td>\n",
       "      <td>NaN</td>\n",
       "      <td>NaN</td>\n",
       "      <td>NaN</td>\n",
       "      <td>NaN</td>\n",
       "      <td>4</td>\n",
       "    </tr>\n",
       "    <tr>\n",
       "      <th>166</th>\n",
       "      <td>166</td>\n",
       "      <td>Stresstest_nicht_gekürztes_Vid.webm</td>\n",
       "      <td>Behamin36@gmail.com</td>\n",
       "      <td>['Stresstest 2024-10']</td>\n",
       "      <td>Stresstest</td>\n",
       "      <td>NaN</td>\n",
       "      <td>NaN</td>\n",
       "      <td>http://suran.kky.zcu.cz//uploader/web_report/c...</td>\n",
       "      <td>77.306725</td>\n",
       "      <td>59.800000</td>\n",
       "      <td>...</td>\n",
       "      <td>NaN</td>\n",
       "      <td>NaN</td>\n",
       "      <td>NaN</td>\n",
       "      <td>NaN</td>\n",
       "      <td>NaN</td>\n",
       "      <td>NaN</td>\n",
       "      <td>NaN</td>\n",
       "      <td>NaN</td>\n",
       "      <td>NaN</td>\n",
       "      <td>4</td>\n",
       "    </tr>\n",
       "    <tr>\n",
       "      <th>167</th>\n",
       "      <td>167</td>\n",
       "      <td>STresstest.webm</td>\n",
       "      <td>maia.lieb@uni-jena.de</td>\n",
       "      <td>['Stresstest 2024-10']</td>\n",
       "      <td>Stresstest</td>\n",
       "      <td>NaN</td>\n",
       "      <td>NaN</td>\n",
       "      <td>http://suran.kky.zcu.cz//uploader/web_report/b...</td>\n",
       "      <td>66.601286</td>\n",
       "      <td>84.866667</td>\n",
       "      <td>...</td>\n",
       "      <td>NaN</td>\n",
       "      <td>NaN</td>\n",
       "      <td>NaN</td>\n",
       "      <td>NaN</td>\n",
       "      <td>NaN</td>\n",
       "      <td>NaN</td>\n",
       "      <td>NaN</td>\n",
       "      <td>NaN</td>\n",
       "      <td>NaN</td>\n",
       "      <td>4</td>\n",
       "    </tr>\n",
       "    <tr>\n",
       "      <th>168</th>\n",
       "      <td>168</td>\n",
       "      <td>stresstest.MP4</td>\n",
       "      <td>Hannah.lucas@uni-jena.de</td>\n",
       "      <td>['Stresstest 2024-10']</td>\n",
       "      <td>Stresstest</td>\n",
       "      <td>Hey, das war super. \\nDu hast umgegriffen, sen...</td>\n",
       "      <td>5.0</td>\n",
       "      <td>http://suran.kky.zcu.cz//uploader/web_report/4...</td>\n",
       "      <td>75.544862</td>\n",
       "      <td>64.733333</td>\n",
       "      <td>...</td>\n",
       "      <td>NaN</td>\n",
       "      <td>NaN</td>\n",
       "      <td>NaN</td>\n",
       "      <td>NaN</td>\n",
       "      <td>NaN</td>\n",
       "      <td>NaN</td>\n",
       "      <td>NaN</td>\n",
       "      <td>NaN</td>\n",
       "      <td>NaN</td>\n",
       "      <td>4</td>\n",
       "    </tr>\n",
       "    <tr>\n",
       "      <th>169</th>\n",
       "      <td>169</td>\n",
       "      <td>posttest.mp4</td>\n",
       "      <td>Behamin36@gmail.com</td>\n",
       "      <td>['Posttest 2024-10']</td>\n",
       "      <td>Posttest</td>\n",
       "      <td>NaN</td>\n",
       "      <td>NaN</td>\n",
       "      <td>http://suran.kky.zcu.cz//uploader/web_report/4...</td>\n",
       "      <td>85.385601</td>\n",
       "      <td>47.866667</td>\n",
       "      <td>...</td>\n",
       "      <td>NaN</td>\n",
       "      <td>NaN</td>\n",
       "      <td>NaN</td>\n",
       "      <td>NaN</td>\n",
       "      <td>NaN</td>\n",
       "      <td>NaN</td>\n",
       "      <td>NaN</td>\n",
       "      <td>NaN</td>\n",
       "      <td>NaN</td>\n",
       "      <td>4</td>\n",
       "    </tr>\n",
       "  </tbody>\n",
       "</table>\n",
       "<p>5 rows × 216 columns</p>\n",
       "</div>"
      ]
     },
     "execution_count": 126,
     "metadata": {},
     "output_type": "execute_result"
    }
   ],
   "execution_count": 126
  },
  {
   "cell_type": "code",
   "source": [
    "df.columns"
   ],
   "metadata": {
    "collapsed": false,
    "ExecuteTime": {
     "end_time": "2024-11-28T16:25:08.255343Z",
     "start_time": "2024-11-28T16:25:08.237137Z"
    }
   },
   "id": "708bda5294698d43",
   "outputs": [
    {
     "data": {
      "text/plain": [
       "Index(['Unnamed: 0', 'filename', 'email', 'collections', 'category',\n",
       "       'annotation_annotation_annotation',\n",
       "       'annotation_annotation_time_and_movements', 'report_url',\n",
       "       'AI movement evaluation stitch [%]', 'Stitch duration [s]',\n",
       "       ...\n",
       "       'Scissors bbox piercing median area presence [%]',\n",
       "       'Scissors bbox piercing length [m]',\n",
       "       'Scissors bbox piercing visibility [s]',\n",
       "       'Scissors bbox piercing velocity',\n",
       "       'Scissors bbox piercing velocity std',\n",
       "       'Scissors bbox piercing velocity above threshold',\n",
       "       'Scissors bbox piercing velocity threshold [m/s]',\n",
       "       'Scissors bbox piercing unit', 'Scissors bbox piercing visibility [%]',\n",
       "       'stitch_id'],\n",
       "      dtype='object', length=216)"
      ]
     },
     "execution_count": 127,
     "metadata": {},
     "output_type": "execute_result"
    }
   ],
   "execution_count": 127
  },
  {
   "metadata": {
    "ExecuteTime": {
     "end_time": "2024-11-28T16:25:09.041290Z",
     "start_time": "2024-11-28T16:25:09.038906Z"
    }
   },
   "cell_type": "code",
   "source": "\n",
   "id": "654fa3f9c58fcc1b",
   "outputs": [],
   "execution_count": 127
  },
  {
   "metadata": {
    "ExecuteTime": {
     "end_time": "2024-11-28T16:25:09.481307Z",
     "start_time": "2024-11-28T16:25:09.460117Z"
    }
   },
   "cell_type": "code",
   "source": [
    "# go over all emails and count number of records with \"stresstest\" in the category column\n",
    "df[\"collections\"].str.contains(\"Stresstest\").sum()"
   ],
   "id": "dbc57a40cdd010df",
   "outputs": [
    {
     "data": {
      "text/plain": [
       "71"
      ]
     },
     "execution_count": 128,
     "metadata": {},
     "output_type": "execute_result"
    }
   ],
   "execution_count": 128
  },
  {
   "metadata": {
    "ExecuteTime": {
     "end_time": "2024-11-28T16:25:11.302247Z",
     "start_time": "2024-11-28T16:25:11.283726Z"
    }
   },
   "cell_type": "code",
   "source": "df[\"category\"].unique()",
   "id": "c222aac7ce22898d",
   "outputs": [
    {
     "data": {
      "text/plain": [
       "array(['Pretest', 'Stresstest', 'Posttest'], dtype=object)"
      ]
     },
     "execution_count": 129,
     "metadata": {},
     "output_type": "execute_result"
    }
   ],
   "execution_count": 129
  },
  {
   "metadata": {
    "ExecuteTime": {
     "end_time": "2024-11-28T16:25:14.157847Z",
     "start_time": "2024-11-28T16:25:14.129032Z"
    }
   },
   "cell_type": "code",
   "source": [
    "\n",
    "ai_col = df.columns[df.columns.str.contains(\"AI\")][0]\n",
    "\n",
    "df=df.dropna(subset=[ai_col])"
   ],
   "id": "52d5a142c4d82538",
   "outputs": [],
   "execution_count": 130
  },
  {
   "metadata": {
    "ExecuteTime": {
     "end_time": "2024-11-28T16:25:15.891185Z",
     "start_time": "2024-11-28T16:25:15.872532Z"
    }
   },
   "cell_type": "code",
   "source": [
    "\n",
    "df[\"category\"].value_counts()"
   ],
   "id": "782a502a041eec33",
   "outputs": [
    {
     "data": {
      "text/plain": [
       "Stresstest    65\n",
       "Pretest       53\n",
       "Posttest      32\n",
       "Name: category, dtype: int64"
      ]
     },
     "execution_count": 131,
     "metadata": {},
     "output_type": "execute_result"
    }
   ],
   "execution_count": 131
  },
  {
   "metadata": {
    "ExecuteTime": {
     "end_time": "2024-11-28T16:25:17.658738Z",
     "start_time": "2024-11-28T16:25:17.639415Z"
    }
   },
   "cell_type": "code",
   "source": [
    "for cat in df[\"category\"].unique():\n",
    "    cat_count = len(df[df.category == cat][\"email\"].str.lower().unique())\n",
    "    print(f\"{cat}: {cat_count}\")"
   ],
   "id": "b75e7fe2135d1215",
   "outputs": [
    {
     "name": "stdout",
     "output_type": "stream",
     "text": [
      "Pretest: 20\n",
      "Stresstest: 15\n",
      "Posttest: 12\n"
     ]
    }
   ],
   "execution_count": 132
  },
  {
   "metadata": {
    "ExecuteTime": {
     "end_time": "2024-11-28T16:25:26.124440Z",
     "start_time": "2024-11-28T16:25:26.119907Z"
    }
   },
   "cell_type": "code",
   "source": [
    "# ai_col is not NaN\n",
    "df[ai_col].notna().sum()"
   ],
   "id": "f157530fed98d093",
   "outputs": [
    {
     "data": {
      "text/plain": [
       "150"
      ]
     },
     "execution_count": 133,
     "metadata": {},
     "output_type": "execute_result"
    }
   ],
   "execution_count": 133
  },
  {
   "metadata": {
    "ExecuteTime": {
     "end_time": "2024-11-28T16:25:26.876229Z",
     "start_time": "2024-11-28T16:25:26.856408Z"
    }
   },
   "cell_type": "code",
   "source": [
    "\n",
    "for cat in df[\"category\"].unique():\n",
    "    cat_count = len(df[(df.category == cat) & (df[ai_col].notna())][\"email\"].str.lower().unique())\n",
    "    print(f\"{cat}: {cat_count}\")\n"
   ],
   "id": "fc6d2798dee2126",
   "outputs": [
    {
     "name": "stdout",
     "output_type": "stream",
     "text": [
      "Pretest: 20\n",
      "Stresstest: 15\n",
      "Posttest: 12\n"
     ]
    }
   ],
   "execution_count": 134
  },
  {
   "metadata": {
    "ExecuteTime": {
     "end_time": "2024-11-28T16:25:51.357779Z",
     "start_time": "2024-11-28T16:25:51.352757Z"
    }
   },
   "cell_type": "code",
   "source": "df.columns[df.columns.str.contains(\"AI\")]",
   "id": "9f80971b8179c044",
   "outputs": [
    {
     "data": {
      "text/plain": [
       "Index(['AI movement evaluation stitch [%]'], dtype='object')"
      ]
     },
     "execution_count": 135,
     "metadata": {},
     "output_type": "execute_result"
    }
   ],
   "execution_count": 135
  },
  {
   "metadata": {},
   "cell_type": "markdown",
   "source": "# Not paired data",
   "id": "63b7e7a85cc179d8"
  },
  {
   "metadata": {
    "ExecuteTime": {
     "end_time": "2024-11-28T16:25:53.584968Z",
     "start_time": "2024-11-28T16:25:52.912332Z"
    }
   },
   "cell_type": "code",
   "source": [
    "import seaborn as sns\n",
    "import matplotlib.pyplot as plt\n",
    "\n",
    "# show boxplot on the data with swarms\n",
    "sns.boxplot(data=df, x=\"category\", y=ai_col)\n",
    "sns.swarmplot(data=df, x=\"category\", y=ai_col, color=\".25\")\n",
    "plt.savefig(\"pretest_posttest_boxplot.png\", dpi=300, bbox_inches=\"tight\")"
   ],
   "id": "3597560da2a7a3e4",
   "outputs": [
    {
     "data": {
      "text/plain": [
       "<Figure size 432x288 with 1 Axes>"
      ],
      "image/png": "[encoded data removed]"
     },
     "metadata": {},
     "output_type": "display_data"
    }
   ],
   "execution_count": 136
  },
  {
   "metadata": {
    "ExecuteTime": {
     "end_time": "2024-11-28T16:25:54.070568Z",
     "start_time": "2024-11-28T16:25:53.914714Z"
    }
   },
   "cell_type": "code",
   "source": "sns.violinplot(data=df, x=\"category\", y=ai_col)",
   "id": "235ece87597ed393",
   "outputs": [
    {
     "data": {
      "text/plain": [
       "<AxesSubplot:xlabel='category', ylabel='AI movement evaluation stitch [%]'>"
      ]
     },
     "execution_count": 137,
     "metadata": {},
     "output_type": "execute_result"
    },
    {
     "data": {
      "text/plain": [
       "<Figure size 432x288 with 1 Axes>"
      ],
      "image/png": "[encoded data removed]"
     },
     "metadata": {},
     "output_type": "display_data"
    }
   ],
   "execution_count": 137
  },
  {
   "metadata": {
    "ExecuteTime": {
     "end_time": "2024-11-28T16:25:55.188762Z",
     "start_time": "2024-11-28T16:25:55.153668Z"
    }
   },
   "cell_type": "code",
   "source": [
    "# do the statistical test that pretest is lower than posttest\n",
    "from scipy.stats import ttest_ind\n",
    "pretest = df[df[\"category\"].str.contains(\"Pretest\")][ai_col].dropna()\n",
    "posttest = df[df[\"category\"].str.contains(\"Posttest\")][ai_col].dropna() - 0\n",
    "stresstest = df[df[\"category\"].str.contains(\"Stresstest\")][ai_col].dropna()\n",
    "\n",
    "\n",
    "stat = ttest_ind(pretest, posttest, alternative=\"less\")\n",
    "if stat.pvalue < 0.001:\n",
    "    print(\"Pretest is lower than posttest with 99.9% confidence\")\n",
    "else:\n",
    "    print(\"Pretest is not lower than posttest with 99% confidence\")\n",
    "stat"
   ],
   "id": "c309826c51abaa66",
   "outputs": [
    {
     "name": "stdout",
     "output_type": "stream",
     "text": [
      "Pretest is lower than posttest with 99.9% confidence\n"
     ]
    },
    {
     "data": {
      "text/plain": [
       "Ttest_indResult(statistic=-3.9630414803282847, pvalue=7.797659368935957e-05)"
      ]
     },
     "execution_count": 138,
     "metadata": {},
     "output_type": "execute_result"
    }
   ],
   "execution_count": 138
  },
  {
   "metadata": {
    "ExecuteTime": {
     "end_time": "2024-11-28T16:25:55.635560Z",
     "start_time": "2024-11-28T16:25:55.618877Z"
    }
   },
   "cell_type": "code",
   "source": [
    "\n",
    "stat = ttest_ind(stresstest, posttest, alternative=\"less\")\n",
    "if stat.pvalue < 0.05:\n",
    "    print(\"Stresstest is lower than posttest with 99% confidence\")\n",
    "else:\n",
    "    print(\"Stresstest is not lower than posttest with 99% confidence\")\n"
   ],
   "id": "bb928712b991213f",
   "outputs": [
    {
     "name": "stdout",
     "output_type": "stream",
     "text": [
      "Stresstest is not lower than posttest with 99% confidence\n"
     ]
    }
   ],
   "execution_count": 139
  },
  {
   "metadata": {},
   "cell_type": "markdown",
   "source": [
    "\n",
    "# Make pairs for `pretest` and `posttest` and `stresstest`"
   ],
   "id": "891903e2ea431caf"
  },
  {
   "metadata": {
    "ExecuteTime": {
     "end_time": "2024-11-28T17:11:29.425244Z",
     "start_time": "2024-11-28T17:11:29.259241Z"
    }
   },
   "cell_type": "code",
   "source": [
    "df[\"email\"] = df[\"email\"].str.lower()\n",
    "rename = {\n",
    "    \"hanife-elif.capan@uni-jena.de\": \"e.capan@outlook.de\",\n",
    "    \"maia-lieb@web.de\": \"maia.lieb@uni-jena.de\",\n",
    "}\n",
    "# rewrite one email to other\n",
    "\n",
    "df[\"email\"] = df[\"email\"].replace(rename)\n",
    "emails = df[\"email\"].str.lower().unique()\n",
    "\n",
    "df_pairs = pd.DataFrame()\n",
    "ai_col = df.columns[df.columns.str.contains(\"AI\")][0]\n",
    "df_users = pd.DataFrame()\n",
    "\n",
    "\n",
    "for email in emails:\n",
    "    dfemail = df[df[\"email\"].str.lower() == email]\n",
    "    \n",
    "    pretest = dfemail[dfemail[\"category\"].str.contains(\"Pretest\")].sort_values(\"stitch_id\")\n",
    "    posttest = dfemail[dfemail[\"category\"].str.contains(\"Posttest\")].sort_values(\"stitch_id\")\n",
    "    stresstest = dfemail[dfemail[\"category\"].str.contains(\"Stresstest\")].sort_values(\"stitch_id\")\n",
    "    print(f\"email: {email}, {len(pretest)}, {len(posttest)}, {len(stresstest)}\")\n",
    "    \n",
    "    # take first not NaN value\n",
    "    ai_pretest_values = pretest[ai_col].values\n",
    "    ai_posttest_values = posttest[ai_col].values\n",
    "    ai_stresstest_values = stresstest[ai_col].values\n",
    "    \n",
    "    ai_pretest_values = ai_pretest_values[~np.isnan(ai_pretest_values)]\n",
    "    ai_posttest_values = ai_posttest_values[~np.isnan(ai_posttest_values)]\n",
    "    ai_stresstest_values = ai_stresstest_values[~np.isnan(ai_stresstest_values)]\n",
    "    \n",
    "    ai_pretest = ai_pretest_values[0] if len(ai_pretest_values) > 0 else np.nan\n",
    "    ai_posttest = ai_posttest_values[0] if len(ai_posttest_values) > 0 else np.nan\n",
    "    ai_stresstest = ai_stresstest_values[0] if len(ai_stresstest_values) > 0 else np.nan\n",
    "    \n",
    "    # ai_pretest = pretest[ai_col].values[0] if len(pretest) > 0 else np.nan\n",
    "    # ai_posttest = posttest[ai_col].values[0] if len(posttest) > 0 else np.nan\n",
    "    # ai_stresstest = stresstest[ai_col].values[0] if len(stresstest) > 0 else np.nan\n",
    "    count_not_na = 0\n",
    "    if not np.isnan(ai_pretest):\n",
    "        count_not_na += 1\n",
    "    if not np.isnan(ai_posttest):\n",
    "        count_not_na += 1\n",
    "    if not np.isnan(ai_stresstest):\n",
    "        count_not_na += 1\n",
    "    \n",
    "    df_pairs = df_pairs.append({\"email\": email, \"pretest\": ai_pretest, \"posttest\": ai_posttest, \"stresstest\": ai_stresstest, \"category_count\": count_not_na}, ignore_index=True)\n",
    "\n",
    "    df_users = df_users.append({\n",
    "        \"email\": email, \"pretest\": len(pretest), \"posttest\": len(posttest), \"stresstest\": len(stresstest)\n",
    "    },\n",
    "        ignore_index=True)\n",
    "    \n",
    "# df_pairs\n",
    "df_users\n",
    "    "
   ],
   "id": "83e950d90bf5cc1b",
   "outputs": [
    {
     "name": "stdout",
     "output_type": "stream",
     "text": [
      "email: jonas.lanzenberger@uni-jena.de, 3, 3, 0\n",
      "email: carina.bachmann@med.uni-jena.de, 3, 0, 0\n",
      "email: adrian.faesel@uni-jena.de, 3, 2, 5\n",
      "email: simona.maria.beham@uni-jena.de, 3, 0, 5\n",
      "email: lara.sophie.oeltjen@uni-jena.de, 3, 0, 0\n",
      "email: simone.oberpriller@uni-jena.de, 2, 3, 5\n",
      "email: pauline.franz@uni-jena.de, 3, 3, 4\n",
      "email: hannah.senftleber@uni-jena.de, 4, 0, 0\n",
      "email: karim.sawalha@uni-jena.de, 3, 0, 0\n",
      "email: hannah.lucas@uni-jena.de, 3, 1, 5\n",
      "email: lara-katharina.hasse@outlook.de, 3, 3, 5\n",
      "email: behamin36@gmail.com, 2, 5, 5\n",
      "email: jonas.genoux@uni-jena.de, 3, 2, 0\n",
      "email: marika.liane.dahm@uni-jena.de, 2, 0, 0\n",
      "email: soraya.wille@uni-jena.de, 1, 0, 0\n",
      "email: e.capan@outlook.de, 3, 3, 5\n",
      "email: matthis.r@gmx.de, 0, 0, 5\n",
      "email: martha.oda.hiecke@uni-jena.de, 3, 0, 5\n",
      "email: maia.lieb@uni-jena.de, 3, 0, 3\n",
      "email: shanna-luna.naja@uni-jena.de, 0, 0, 5\n",
      "email: paula.sczesny@uni-jena.de, 2, 1, 2\n",
      "email: lina.hermsen@uni-jena.de, 0, 0, 5\n",
      "email: luisa.zahariuc@uni-jena.de, 0, 0, 1\n",
      "email: sam.quaas@uni-jena.de, 0, 3, 0\n",
      "email: lisa.marie.petri@uni-jena.de, 1, 3, 0\n"
     ]
    },
    {
     "data": {
      "text/plain": [
       "                              email  pretest  posttest  stresstest\n",
       "0    jonas.lanzenberger@uni-jena.de      3.0       3.0         0.0\n",
       "1   carina.bachmann@med.uni-jena.de      3.0       0.0         0.0\n",
       "2         adrian.faesel@uni-jena.de      3.0       2.0         5.0\n",
       "3    simona.maria.beham@uni-jena.de      3.0       0.0         5.0\n",
       "4   lara.sophie.oeltjen@uni-jena.de      3.0       0.0         0.0\n",
       "5    simone.oberpriller@uni-jena.de      2.0       3.0         5.0\n",
       "6         pauline.franz@uni-jena.de      3.0       3.0         4.0\n",
       "7     hannah.senftleber@uni-jena.de      4.0       0.0         0.0\n",
       "8         karim.sawalha@uni-jena.de      3.0       0.0         0.0\n",
       "9          hannah.lucas@uni-jena.de      3.0       1.0         5.0\n",
       "10  lara-katharina.hasse@outlook.de      3.0       3.0         5.0\n",
       "11              behamin36@gmail.com      2.0       5.0         5.0\n",
       "12         jonas.genoux@uni-jena.de      3.0       2.0         0.0\n",
       "13    marika.liane.dahm@uni-jena.de      2.0       0.0         0.0\n",
       "14         soraya.wille@uni-jena.de      1.0       0.0         0.0\n",
       "15               e.capan@outlook.de      3.0       3.0         5.0\n",
       "16                 matthis.r@gmx.de      0.0       0.0         5.0\n",
       "17    martha.oda.hiecke@uni-jena.de      3.0       0.0         5.0\n",
       "18            maia.lieb@uni-jena.de      3.0       0.0         3.0\n",
       "19     shanna-luna.naja@uni-jena.de      0.0       0.0         5.0\n",
       "20        paula.sczesny@uni-jena.de      2.0       1.0         2.0\n",
       "21         lina.hermsen@uni-jena.de      0.0       0.0         5.0\n",
       "22       luisa.zahariuc@uni-jena.de      0.0       0.0         1.0\n",
       "23            sam.quaas@uni-jena.de      0.0       3.0         0.0\n",
       "24     lisa.marie.petri@uni-jena.de      1.0       3.0         0.0"
      ],
      "text/html": [
       "<div>\n",
       "<style scoped>\n",
       "    .dataframe tbody tr th:only-of-type {\n",
       "        vertical-align: middle;\n",
       "    }\n",
       "\n",
       "    .dataframe tbody tr th {\n",
       "        vertical-align: top;\n",
       "    }\n",
       "\n",
       "    .dataframe thead th {\n",
       "        text-align: right;\n",
       "    }\n",
       "</style>\n",
       "<table border=\"1\" class=\"dataframe\">\n",
       "  <thead>\n",
       "    <tr style=\"text-align: right;\">\n",
       "      <th></th>\n",
       "      <th>email</th>\n",
       "      <th>pretest</th>\n",
       "      <th>posttest</th>\n",
       "      <th>stresstest</th>\n",
       "    </tr>\n",
       "  </thead>\n",
       "  <tbody>\n",
       "    <tr>\n",
       "      <th>0</th>\n",
       "      <td>jonas.lanzenberger@uni-jena.de</td>\n",
       "      <td>3.0</td>\n",
       "      <td>3.0</td>\n",
       "      <td>0.0</td>\n",
       "    </tr>\n",
       "    <tr>\n",
       "      <th>1</th>\n",
       "      <td>carina.bachmann@med.uni-jena.de</td>\n",
       "      <td>3.0</td>\n",
       "      <td>0.0</td>\n",
       "      <td>0.0</td>\n",
       "    </tr>\n",
       "    <tr>\n",
       "      <th>2</th>\n",
       "      <td>adrian.faesel@uni-jena.de</td>\n",
       "      <td>3.0</td>\n",
       "      <td>2.0</td>\n",
       "      <td>5.0</td>\n",
       "    </tr>\n",
       "    <tr>\n",
       "      <th>3</th>\n",
       "      <td>simona.maria.beham@uni-jena.de</td>\n",
       "      <td>3.0</td>\n",
       "      <td>0.0</td>\n",
       "      <td>5.0</td>\n",
       "    </tr>\n",
       "    <tr>\n",
       "      <th>4</th>\n",
       "      <td>lara.sophie.oeltjen@uni-jena.de</td>\n",
       "      <td>3.0</td>\n",
       "      <td>0.0</td>\n",
       "      <td>0.0</td>\n",
       "    </tr>\n",
       "    <tr>\n",
       "      <th>5</th>\n",
       "      <td>simone.oberpriller@uni-jena.de</td>\n",
       "      <td>2.0</td>\n",
       "      <td>3.0</td>\n",
       "      <td>5.0</td>\n",
       "    </tr>\n",
       "    <tr>\n",
       "      <th>6</th>\n",
       "      <td>pauline.franz@uni-jena.de</td>\n",
       "      <td>3.0</td>\n",
       "      <td>3.0</td>\n",
       "      <td>4.0</td>\n",
       "    </tr>\n",
       "    <tr>\n",
       "      <th>7</th>\n",
       "      <td>hannah.senftleber@uni-jena.de</td>\n",
       "      <td>4.0</td>\n",
       "      <td>0.0</td>\n",
       "      <td>0.0</td>\n",
       "    </tr>\n",
       "    <tr>\n",
       "      <th>8</th>\n",
       "      <td>karim.sawalha@uni-jena.de</td>\n",
       "      <td>3.0</td>\n",
       "      <td>0.0</td>\n",
       "      <td>0.0</td>\n",
       "    </tr>\n",
       "    <tr>\n",
       "      <th>9</th>\n",
       "      <td>hannah.lucas@uni-jena.de</td>\n",
       "      <td>3.0</td>\n",
       "      <td>1.0</td>\n",
       "      <td>5.0</td>\n",
       "    </tr>\n",
       "    <tr>\n",
       "      <th>10</th>\n",
       "      <td>lara-katharina.hasse@outlook.de</td>\n",
       "      <td>3.0</td>\n",
       "      <td>3.0</td>\n",
       "      <td>5.0</td>\n",
       "    </tr>\n",
       "    <tr>\n",
       "      <th>11</th>\n",
       "      <td>behamin36@gmail.com</td>\n",
       "      <td>2.0</td>\n",
       "      <td>5.0</td>\n",
       "      <td>5.0</td>\n",
       "    </tr>\n",
       "    <tr>\n",
       "      <th>12</th>\n",
       "      <td>jonas.genoux@uni-jena.de</td>\n",
       "      <td>3.0</td>\n",
       "      <td>2.0</td>\n",
       "      <td>0.0</td>\n",
       "    </tr>\n",
       "    <tr>\n",
       "      <th>13</th>\n",
       "      <td>marika.liane.dahm@uni-jena.de</td>\n",
       "      <td>2.0</td>\n",
       "      <td>0.0</td>\n",
       "      <td>0.0</td>\n",
       "    </tr>\n",
       "    <tr>\n",
       "      <th>14</th>\n",
       "      <td>soraya.wille@uni-jena.de</td>\n",
       "      <td>1.0</td>\n",
       "      <td>0.0</td>\n",
       "      <td>0.0</td>\n",
       "    </tr>\n",
       "    <tr>\n",
       "      <th>15</th>\n",
       "      <td>e.capan@outlook.de</td>\n",
       "      <td>3.0</td>\n",
       "      <td>3.0</td>\n",
       "      <td>5.0</td>\n",
       "    </tr>\n",
       "    <tr>\n",
       "      <th>16</th>\n",
       "      <td>matthis.r@gmx.de</td>\n",
       "      <td>0.0</td>\n",
       "      <td>0.0</td>\n",
       "      <td>5.0</td>\n",
       "    </tr>\n",
       "    <tr>\n",
       "      <th>17</th>\n",
       "      <td>martha.oda.hiecke@uni-jena.de</td>\n",
       "      <td>3.0</td>\n",
       "      <td>0.0</td>\n",
       "      <td>5.0</td>\n",
       "    </tr>\n",
       "    <tr>\n",
       "      <th>18</th>\n",
       "      <td>maia.lieb@uni-jena.de</td>\n",
       "      <td>3.0</td>\n",
       "      <td>0.0</td>\n",
       "      <td>3.0</td>\n",
       "    </tr>\n",
       "    <tr>\n",
       "      <th>19</th>\n",
       "      <td>shanna-luna.naja@uni-jena.de</td>\n",
       "      <td>0.0</td>\n",
       "      <td>0.0</td>\n",
       "      <td>5.0</td>\n",
       "    </tr>\n",
       "    <tr>\n",
       "      <th>20</th>\n",
       "      <td>paula.sczesny@uni-jena.de</td>\n",
       "      <td>2.0</td>\n",
       "      <td>1.0</td>\n",
       "      <td>2.0</td>\n",
       "    </tr>\n",
       "    <tr>\n",
       "      <th>21</th>\n",
       "      <td>lina.hermsen@uni-jena.de</td>\n",
       "      <td>0.0</td>\n",
       "      <td>0.0</td>\n",
       "      <td>5.0</td>\n",
       "    </tr>\n",
       "    <tr>\n",
       "      <th>22</th>\n",
       "      <td>luisa.zahariuc@uni-jena.de</td>\n",
       "      <td>0.0</td>\n",
       "      <td>0.0</td>\n",
       "      <td>1.0</td>\n",
       "    </tr>\n",
       "    <tr>\n",
       "      <th>23</th>\n",
       "      <td>sam.quaas@uni-jena.de</td>\n",
       "      <td>0.0</td>\n",
       "      <td>3.0</td>\n",
       "      <td>0.0</td>\n",
       "    </tr>\n",
       "    <tr>\n",
       "      <th>24</th>\n",
       "      <td>lisa.marie.petri@uni-jena.de</td>\n",
       "      <td>1.0</td>\n",
       "      <td>3.0</td>\n",
       "      <td>0.0</td>\n",
       "    </tr>\n",
       "  </tbody>\n",
       "</table>\n",
       "</div>"
      ]
     },
     "execution_count": 169,
     "metadata": {},
     "output_type": "execute_result"
    }
   ],
   "execution_count": 169
  },
  {
   "metadata": {
    "ExecuteTime": {
     "end_time": "2024-11-28T17:11:31.919254Z",
     "start_time": "2024-11-28T17:11:31.912790Z"
    }
   },
   "cell_type": "code",
   "source": [
    "# show counts of non-NA values in the columns\n",
    "#counts of each category\n",
    "df_pairs.count()"
   ],
   "id": "1cae0ae4fd8a550e",
   "outputs": [
    {
     "data": {
      "text/plain": [
       "email             25\n",
       "pretest           20\n",
       "posttest          12\n",
       "stresstest        15\n",
       "category_count    25\n",
       "dtype: int64"
      ]
     },
     "execution_count": 170,
     "metadata": {},
     "output_type": "execute_result"
    }
   ],
   "execution_count": 170
  },
  {
   "metadata": {
    "ExecuteTime": {
     "end_time": "2024-11-28T17:11:47.676933Z",
     "start_time": "2024-11-28T17:11:47.668260Z"
    }
   },
   "cell_type": "code",
   "source": [
    "df_pairs_cleaned = df_pairs[[\"pretest\", \"posttest\"]].dropna().reset_index(drop=True)\n",
    "df_pairs_cleaned"
   ],
   "id": "442acc4907167d6e",
   "outputs": [
    {
     "data": {
      "text/plain": [
       "      pretest   posttest\n",
       "0   76.464533  83.818686\n",
       "1   66.784286  82.563337\n",
       "2   70.642264  75.217799\n",
       "3   54.158080  82.196945\n",
       "4   84.083548  85.521703\n",
       "5   56.611203  76.459554\n",
       "6   80.629195  84.994506\n",
       "7   81.318603  82.160903\n",
       "8   87.658428  84.724907\n",
       "9   81.885099  86.328478\n",
       "10  85.366745  86.497122"
      ],
      "text/html": [
       "<div>\n",
       "<style scoped>\n",
       "    .dataframe tbody tr th:only-of-type {\n",
       "        vertical-align: middle;\n",
       "    }\n",
       "\n",
       "    .dataframe tbody tr th {\n",
       "        vertical-align: top;\n",
       "    }\n",
       "\n",
       "    .dataframe thead th {\n",
       "        text-align: right;\n",
       "    }\n",
       "</style>\n",
       "<table border=\"1\" class=\"dataframe\">\n",
       "  <thead>\n",
       "    <tr style=\"text-align: right;\">\n",
       "      <th></th>\n",
       "      <th>pretest</th>\n",
       "      <th>posttest</th>\n",
       "    </tr>\n",
       "  </thead>\n",
       "  <tbody>\n",
       "    <tr>\n",
       "      <th>0</th>\n",
       "      <td>76.464533</td>\n",
       "      <td>83.818686</td>\n",
       "    </tr>\n",
       "    <tr>\n",
       "      <th>1</th>\n",
       "      <td>66.784286</td>\n",
       "      <td>82.563337</td>\n",
       "    </tr>\n",
       "    <tr>\n",
       "      <th>2</th>\n",
       "      <td>70.642264</td>\n",
       "      <td>75.217799</td>\n",
       "    </tr>\n",
       "    <tr>\n",
       "      <th>3</th>\n",
       "      <td>54.158080</td>\n",
       "      <td>82.196945</td>\n",
       "    </tr>\n",
       "    <tr>\n",
       "      <th>4</th>\n",
       "      <td>84.083548</td>\n",
       "      <td>85.521703</td>\n",
       "    </tr>\n",
       "    <tr>\n",
       "      <th>5</th>\n",
       "      <td>56.611203</td>\n",
       "      <td>76.459554</td>\n",
       "    </tr>\n",
       "    <tr>\n",
       "      <th>6</th>\n",
       "      <td>80.629195</td>\n",
       "      <td>84.994506</td>\n",
       "    </tr>\n",
       "    <tr>\n",
       "      <th>7</th>\n",
       "      <td>81.318603</td>\n",
       "      <td>82.160903</td>\n",
       "    </tr>\n",
       "    <tr>\n",
       "      <th>8</th>\n",
       "      <td>87.658428</td>\n",
       "      <td>84.724907</td>\n",
       "    </tr>\n",
       "    <tr>\n",
       "      <th>9</th>\n",
       "      <td>81.885099</td>\n",
       "      <td>86.328478</td>\n",
       "    </tr>\n",
       "    <tr>\n",
       "      <th>10</th>\n",
       "      <td>85.366745</td>\n",
       "      <td>86.497122</td>\n",
       "    </tr>\n",
       "  </tbody>\n",
       "</table>\n",
       "</div>"
      ]
     },
     "execution_count": 172,
     "metadata": {},
     "output_type": "execute_result"
    }
   ],
   "execution_count": 172
  },
  {
   "metadata": {
    "ExecuteTime": {
     "end_time": "2024-11-28T17:11:49.358071Z",
     "start_time": "2024-11-28T17:11:49.347624Z"
    }
   },
   "cell_type": "code",
   "source": "df_pairs",
   "id": "b3f304984e5dd622",
   "outputs": [
    {
     "data": {
      "text/plain": [
       "                              email    pretest   posttest  stresstest  \\\n",
       "0    jonas.lanzenberger@uni-jena.de  76.464533  83.818686         NaN   \n",
       "1   carina.bachmann@med.uni-jena.de  69.089496        NaN         NaN   \n",
       "2         adrian.faesel@uni-jena.de  66.784286  82.563337   80.536560   \n",
       "3    simona.maria.beham@uni-jena.de  88.348921        NaN   79.560476   \n",
       "4   lara.sophie.oeltjen@uni-jena.de  84.448769        NaN         NaN   \n",
       "5    simone.oberpriller@uni-jena.de  70.642264  75.217799   75.188513   \n",
       "6         pauline.franz@uni-jena.de  54.158080  82.196945   79.704928   \n",
       "7     hannah.senftleber@uni-jena.de  59.309700        NaN         NaN   \n",
       "8         karim.sawalha@uni-jena.de  55.896226        NaN         NaN   \n",
       "9          hannah.lucas@uni-jena.de  84.083548  85.521703   76.683688   \n",
       "10  lara-katharina.hasse@outlook.de  56.611203  76.459554   81.142255   \n",
       "11              behamin36@gmail.com  80.629195  84.994506   88.842476   \n",
       "12         jonas.genoux@uni-jena.de  81.318603  82.160903         NaN   \n",
       "13    marika.liane.dahm@uni-jena.de  75.981138        NaN         NaN   \n",
       "14         soraya.wille@uni-jena.de  61.581474        NaN         NaN   \n",
       "15               e.capan@outlook.de  87.658428  84.724907   85.635945   \n",
       "16                 matthis.r@gmx.de        NaN        NaN   76.105974   \n",
       "17    martha.oda.hiecke@uni-jena.de  58.012419        NaN   76.887450   \n",
       "18            maia.lieb@uni-jena.de  65.025412        NaN   86.746929   \n",
       "19     shanna-luna.naja@uni-jena.de        NaN        NaN   80.544391   \n",
       "20        paula.sczesny@uni-jena.de  81.885099  86.328478   75.939598   \n",
       "21         lina.hermsen@uni-jena.de        NaN        NaN   78.827814   \n",
       "22       luisa.zahariuc@uni-jena.de        NaN        NaN   61.581474   \n",
       "23            sam.quaas@uni-jena.de        NaN  71.564665         NaN   \n",
       "24     lisa.marie.petri@uni-jena.de  85.366745  86.497122         NaN   \n",
       "\n",
       "    category_count  \n",
       "0              2.0  \n",
       "1              1.0  \n",
       "2              3.0  \n",
       "3              2.0  \n",
       "4              1.0  \n",
       "5              3.0  \n",
       "6              3.0  \n",
       "7              1.0  \n",
       "8              1.0  \n",
       "9              3.0  \n",
       "10             3.0  \n",
       "11             3.0  \n",
       "12             2.0  \n",
       "13             1.0  \n",
       "14             1.0  \n",
       "15             3.0  \n",
       "16             1.0  \n",
       "17             2.0  \n",
       "18             2.0  \n",
       "19             1.0  \n",
       "20             3.0  \n",
       "21             1.0  \n",
       "22             1.0  \n",
       "23             1.0  \n",
       "24             2.0  "
      ],
      "text/html": [
       "<div>\n",
       "<style scoped>\n",
       "    .dataframe tbody tr th:only-of-type {\n",
       "        vertical-align: middle;\n",
       "    }\n",
       "\n",
       "    .dataframe tbody tr th {\n",
       "        vertical-align: top;\n",
       "    }\n",
       "\n",
       "    .dataframe thead th {\n",
       "        text-align: right;\n",
       "    }\n",
       "</style>\n",
       "<table border=\"1\" class=\"dataframe\">\n",
       "  <thead>\n",
       "    <tr style=\"text-align: right;\">\n",
       "      <th></th>\n",
       "      <th>email</th>\n",
       "      <th>pretest</th>\n",
       "      <th>posttest</th>\n",
       "      <th>stresstest</th>\n",
       "      <th>category_count</th>\n",
       "    </tr>\n",
       "  </thead>\n",
       "  <tbody>\n",
       "    <tr>\n",
       "      <th>0</th>\n",
       "      <td>jonas.lanzenberger@uni-jena.de</td>\n",
       "      <td>76.464533</td>\n",
       "      <td>83.818686</td>\n",
       "      <td>NaN</td>\n",
       "      <td>2.0</td>\n",
       "    </tr>\n",
       "    <tr>\n",
       "      <th>1</th>\n",
       "      <td>carina.bachmann@med.uni-jena.de</td>\n",
       "      <td>69.089496</td>\n",
       "      <td>NaN</td>\n",
       "      <td>NaN</td>\n",
       "      <td>1.0</td>\n",
       "    </tr>\n",
       "    <tr>\n",
       "      <th>2</th>\n",
       "      <td>adrian.faesel@uni-jena.de</td>\n",
       "      <td>66.784286</td>\n",
       "      <td>82.563337</td>\n",
       "      <td>80.536560</td>\n",
       "      <td>3.0</td>\n",
       "    </tr>\n",
       "    <tr>\n",
       "      <th>3</th>\n",
       "      <td>simona.maria.beham@uni-jena.de</td>\n",
       "      <td>88.348921</td>\n",
       "      <td>NaN</td>\n",
       "      <td>79.560476</td>\n",
       "      <td>2.0</td>\n",
       "    </tr>\n",
       "    <tr>\n",
       "      <th>4</th>\n",
       "      <td>lara.sophie.oeltjen@uni-jena.de</td>\n",
       "      <td>84.448769</td>\n",
       "      <td>NaN</td>\n",
       "      <td>NaN</td>\n",
       "      <td>1.0</td>\n",
       "    </tr>\n",
       "    <tr>\n",
       "      <th>5</th>\n",
       "      <td>simone.oberpriller@uni-jena.de</td>\n",
       "      <td>70.642264</td>\n",
       "      <td>75.217799</td>\n",
       "      <td>75.188513</td>\n",
       "      <td>3.0</td>\n",
       "    </tr>\n",
       "    <tr>\n",
       "      <th>6</th>\n",
       "      <td>pauline.franz@uni-jena.de</td>\n",
       "      <td>54.158080</td>\n",
       "      <td>82.196945</td>\n",
       "      <td>79.704928</td>\n",
       "      <td>3.0</td>\n",
       "    </tr>\n",
       "    <tr>\n",
       "      <th>7</th>\n",
       "      <td>hannah.senftleber@uni-jena.de</td>\n",
       "      <td>59.309700</td>\n",
       "      <td>NaN</td>\n",
       "      <td>NaN</td>\n",
       "      <td>1.0</td>\n",
       "    </tr>\n",
       "    <tr>\n",
       "      <th>8</th>\n",
       "      <td>karim.sawalha@uni-jena.de</td>\n",
       "      <td>55.896226</td>\n",
       "      <td>NaN</td>\n",
       "      <td>NaN</td>\n",
       "      <td>1.0</td>\n",
       "    </tr>\n",
       "    <tr>\n",
       "      <th>9</th>\n",
       "      <td>hannah.lucas@uni-jena.de</td>\n",
       "      <td>84.083548</td>\n",
       "      <td>85.521703</td>\n",
       "      <td>76.683688</td>\n",
       "      <td>3.0</td>\n",
       "    </tr>\n",
       "    <tr>\n",
       "      <th>10</th>\n",
       "      <td>lara-katharina.hasse@outlook.de</td>\n",
       "      <td>56.611203</td>\n",
       "      <td>76.459554</td>\n",
       "      <td>81.142255</td>\n",
       "      <td>3.0</td>\n",
       "    </tr>\n",
       "    <tr>\n",
       "      <th>11</th>\n",
       "      <td>behamin36@gmail.com</td>\n",
       "      <td>80.629195</td>\n",
       "      <td>84.994506</td>\n",
       "      <td>88.842476</td>\n",
       "      <td>3.0</td>\n",
       "    </tr>\n",
       "    <tr>\n",
       "      <th>12</th>\n",
       "      <td>jonas.genoux@uni-jena.de</td>\n",
       "      <td>81.318603</td>\n",
       "      <td>82.160903</td>\n",
       "      <td>NaN</td>\n",
       "      <td>2.0</td>\n",
       "    </tr>\n",
       "    <tr>\n",
       "      <th>13</th>\n",
       "      <td>marika.liane.dahm@uni-jena.de</td>\n",
       "      <td>75.981138</td>\n",
       "      <td>NaN</td>\n",
       "      <td>NaN</td>\n",
       "      <td>1.0</td>\n",
       "    </tr>\n",
       "    <tr>\n",
       "      <th>14</th>\n",
       "      <td>soraya.wille@uni-jena.de</td>\n",
       "      <td>61.581474</td>\n",
       "      <td>NaN</td>\n",
       "      <td>NaN</td>\n",
       "      <td>1.0</td>\n",
       "    </tr>\n",
       "    <tr>\n",
       "      <th>15</th>\n",
       "      <td>e.capan@outlook.de</td>\n",
       "      <td>87.658428</td>\n",
       "      <td>84.724907</td>\n",
       "      <td>85.635945</td>\n",
       "      <td>3.0</td>\n",
       "    </tr>\n",
       "    <tr>\n",
       "      <th>16</th>\n",
       "      <td>matthis.r@gmx.de</td>\n",
       "      <td>NaN</td>\n",
       "      <td>NaN</td>\n",
       "      <td>76.105974</td>\n",
       "      <td>1.0</td>\n",
       "    </tr>\n",
       "    <tr>\n",
       "      <th>17</th>\n",
       "      <td>martha.oda.hiecke@uni-jena.de</td>\n",
       "      <td>58.012419</td>\n",
       "      <td>NaN</td>\n",
       "      <td>76.887450</td>\n",
       "      <td>2.0</td>\n",
       "    </tr>\n",
       "    <tr>\n",
       "      <th>18</th>\n",
       "      <td>maia.lieb@uni-jena.de</td>\n",
       "      <td>65.025412</td>\n",
       "      <td>NaN</td>\n",
       "      <td>86.746929</td>\n",
       "      <td>2.0</td>\n",
       "    </tr>\n",
       "    <tr>\n",
       "      <th>19</th>\n",
       "      <td>shanna-luna.naja@uni-jena.de</td>\n",
       "      <td>NaN</td>\n",
       "      <td>NaN</td>\n",
       "      <td>80.544391</td>\n",
       "      <td>1.0</td>\n",
       "    </tr>\n",
       "    <tr>\n",
       "      <th>20</th>\n",
       "      <td>paula.sczesny@uni-jena.de</td>\n",
       "      <td>81.885099</td>\n",
       "      <td>86.328478</td>\n",
       "      <td>75.939598</td>\n",
       "      <td>3.0</td>\n",
       "    </tr>\n",
       "    <tr>\n",
       "      <th>21</th>\n",
       "      <td>lina.hermsen@uni-jena.de</td>\n",
       "      <td>NaN</td>\n",
       "      <td>NaN</td>\n",
       "      <td>78.827814</td>\n",
       "      <td>1.0</td>\n",
       "    </tr>\n",
       "    <tr>\n",
       "      <th>22</th>\n",
       "      <td>luisa.zahariuc@uni-jena.de</td>\n",
       "      <td>NaN</td>\n",
       "      <td>NaN</td>\n",
       "      <td>61.581474</td>\n",
       "      <td>1.0</td>\n",
       "    </tr>\n",
       "    <tr>\n",
       "      <th>23</th>\n",
       "      <td>sam.quaas@uni-jena.de</td>\n",
       "      <td>NaN</td>\n",
       "      <td>71.564665</td>\n",
       "      <td>NaN</td>\n",
       "      <td>1.0</td>\n",
       "    </tr>\n",
       "    <tr>\n",
       "      <th>24</th>\n",
       "      <td>lisa.marie.petri@uni-jena.de</td>\n",
       "      <td>85.366745</td>\n",
       "      <td>86.497122</td>\n",
       "      <td>NaN</td>\n",
       "      <td>2.0</td>\n",
       "    </tr>\n",
       "  </tbody>\n",
       "</table>\n",
       "</div>"
      ]
     },
     "execution_count": 173,
     "metadata": {},
     "output_type": "execute_result"
    }
   ],
   "execution_count": 173
  },
  {
   "metadata": {
    "ExecuteTime": {
     "end_time": "2024-11-28T17:12:55.113214Z",
     "start_time": "2024-11-28T17:12:54.362602Z"
    }
   },
   "cell_type": "code",
   "source": [
    "# transpose data, the ai_pretest is first point of line, ai_posttest is second point of line\n",
    "# df_pairs_cleaned = df_pairs_cleaned.T\n",
    "\n",
    "\n",
    "# df_pairs.columns.rename({\"ai_pretest\": \"pretest\", \"ai_posttest\": \"posttest\"}, inplace=True)\n",
    "sns.lineplot(data=df_pairs_cleaned.T)\n",
    "\n",
    "# sns.show()\n",
    "# sns.lineplot(data=df_pairs_cleaned.reset_index(), x=\"index\", y=\"ai_pretest\")\n",
    "plt.savefig(\"pretest_posttest_lineplot.pdf\", dpi=300, bbox_inches=\"tight\")\n",
    "plt.savefig(\"pretest_posttest_lineplot.png\", dpi=300, bbox_inches=\"tight\")\n"
   ],
   "id": "617b609e03ed32a0",
   "outputs": [
    {
     "data": {
      "text/plain": [
       "<Figure size 432x288 with 1 Axes>"
      ],
      "image/png": "[encoded data removed]"
     },
     "metadata": {},
     "output_type": "display_data"
    }
   ],
   "execution_count": 176
  },
  {
   "metadata": {},
   "cell_type": "code",
   "outputs": [],
   "execution_count": null,
   "source": "",
   "id": "83d970e17bde797b"
  },
  {
   "metadata": {
    "ExecuteTime": {
     "end_time": "2024-11-28T17:08:02.402343Z",
     "start_time": "2024-11-28T17:08:02.397338Z"
    }
   },
   "cell_type": "code",
   "source": [
    "from scipy.stats import ttest_rel\n",
    "stat = ttest_rel(df_pairs_cleaned[\"ai_pretest\"], df_pairs_cleaned[\"ai_posttest\"], alternative=\"less\")\n",
    "if stat.pvalue < 0.01:\n",
    "    print(\"Pretest is lower than posttest with 99% confidence\")\n",
    "else:\n",
    "    print(\"Pretest is not lower than posttest with 99% confidence\")\n"
   ],
   "id": "7a71e77c9f158f03",
   "outputs": [
    {
     "name": "stdout",
     "output_type": "stream",
     "text": [
      "Pretest is not lower than posttest with 99% confidence\n"
     ]
    }
   ],
   "execution_count": 158
  },
  {
   "metadata": {
    "ExecuteTime": {
     "end_time": "2024-11-28T17:08:03.103424Z",
     "start_time": "2024-11-28T17:08:03.101163Z"
    }
   },
   "cell_type": "code",
   "source": "",
   "id": "4496fce146ace40c",
   "outputs": [],
   "execution_count": null
  },
  {
   "metadata": {
    "ExecuteTime": {
     "end_time": "2024-11-28T17:08:03.592318Z",
     "start_time": "2024-11-28T17:08:03.589679Z"
    }
   },
   "cell_type": "code",
   "source": "# make statistical test that between ai_pretest is lower than ai_posttest",
   "id": "d96213e1df2b9b19",
   "outputs": [],
   "execution_count": 159
  },
  {
   "metadata": {
    "ExecuteTime": {
     "end_time": "2024-11-28T17:08:03.792577Z",
     "start_time": "2024-11-28T17:08:03.788900Z"
    }
   },
   "cell_type": "code",
   "source": "len(emails)",
   "id": "7fc90f3573b10642",
   "outputs": [
    {
     "data": {
      "text/plain": [
       "25"
      ]
     },
     "execution_count": 160,
     "metadata": {},
     "output_type": "execute_result"
    }
   ],
   "execution_count": 160
  },
  {
   "metadata": {},
   "cell_type": "markdown",
   "source": "# Old processing",
   "id": "53e2cb5215bcbc3f"
  },
  {
   "cell_type": "code",
   "outputs": [],
   "source": [
    "## Select data"
   ],
   "metadata": {
    "collapsed": false,
    "ExecuteTime": {
     "end_time": "2024-06-25T08:40:20.662691200Z",
     "start_time": "2024-06-25T08:40:20.540582400Z"
    }
   },
   "id": "54f57d6207d089c",
   "execution_count": 7
  },
  {
   "cell_type": "code",
   "outputs": [
    {
     "name": "stdout",
     "output_type": "stream",
     "text": [
      "pretest: Angelique Runkel _Pretest.mp4\n",
      "posttest: Angelique Runkel_Posttest.mp4\n",
      "pretest: Aryan DadashzadehKhayyat_Pretest.mp4\n",
      "posttest: Aryan DadashzadehKhayat_Posttest.mp4\n",
      "pretest: Fehringer_Pascal__pre_test.mp4\n",
      "posttest: Fehringer_Pascal__post_test.mp4\n",
      "pretest: Fischer_Tom_Pretest.mp4\n",
      "posttest: Fischer_Tom-Posttest.mp4\n",
      "pretest: Gehrke,Yves-Pretest.mp4\n",
      "posttest: Gehrke,Yves - post.mp4\n",
      "pretest: Glöß, Monique, Pretest 1-11.10.2021.mp4\n",
      "posttest: Glöß, Monique_Posttest.mp4\n",
      "pretest: Gremme_YvonnePretest1_11_10_2021.mp4\n",
      "posttest: Gremme_Yvonne_Posttest.mp4\n",
      "pretest: Große Nina__Pretest___11_10_2021.mp4\n",
      "posttest: Große, Nina - Posttest.mp4\n",
      "pretest: Hilger,Anke-Pretest1.mp4\n",
      "posttest: Hilger,Anke-Posttest.mp4\n",
      "pretest: Huster__Janik___Pre_Test.mp4\n",
      "posttest: Huster__Janik_-_Post-Test.mp4\n",
      "pretest: Jonas Marx_Pretest.mp4\n",
      "posttest: Jonas Marx_Posttest.mp4\n",
      "pretest: Kraus__Caroline_PreTest1.mp4\n",
      "posttest: Kraus_Caroline_PostTest.mp4\n",
      "pretest: Laura Bütow_Pretest.mp4\n",
      "posttest: Laura Bütow_Posttest.mp4\n",
      "pretest: Lausch_Laura_Pretest.mp4\n",
      "posttest: Lausch_Laura-Posttest.mp4\n",
      "pretest: Mader_Pretest.mp4\n",
      "posttest: Mader_Posttest.mp4\n",
      "pretest: Neitzel_Natalie_Pretest1.mp4\n",
      "posttest: Neitzel_Natalie_Posttest.mp4\n",
      "pretest: Porthaus, Michael_Pretest1_11_10_2021.mp4\n",
      "posttest: Porthaus, Michael-Posttest.mp4\n",
      "pretest: Pre_-Test_Isabel_Linden.mp4\n",
      "posttest: Post_-Test_Isabel_Linden.mp4\n",
      "pretest: Sarah Grimm PreTest1.mp4\n",
      "posttest: Sarah Grimm post.mp4\n",
      "pretest: Scheufler, Rebekka__Pretest_1__11_10_21.mp4\n",
      "posttest: Scheufler, Rebekka-Posttest.mp4\n",
      "pretest: Schiesser_David_pre_test.mp4\n",
      "posttest: Schiesser_David_post_test.mp4\n",
      "pretest: Spitze_Vanessa_PreTest.mp4\n",
      "posttest: Spitze_Vanessa post.mp4\n",
      "pretest: Volkers_Pr_Test1.mp4\n",
      "posttest: Volkers post.mp4\n"
     ]
    }
   ],
   "source": [
    "pre_post_col = []\n",
    "for i, filename in enumerate(filename_contains_list):\n",
    "    # if odd number it is \"pretest\" if even number it is \"posttest\"\n",
    "    \n",
    "    if i % 2 == 0:\n",
    "        val = \"pretest\"\n",
    "    else:\n",
    "        val = \"posttest\"\n",
    "    pre_post_col.append(val)\n",
    "    print(f\"{val}: {filename}\")\n",
    "\n",
    "pre_post_dict = {filename: val for filename, val in zip(filename_contains_list, pre_post_col)}\n",
    "dfs[\"is_pretest_num\"] = dfs[\"filename\"].apply(lambda x: pre_post_dict[x] == \"pretest\").astype(int)\n",
    "\n",
    "dfs_all = dfs.copy()\n"
   ],
   "metadata": {
    "collapsed": false,
    "ExecuteTime": {
     "end_time": "2024-06-25T08:40:23.793593200Z",
     "start_time": "2024-06-25T08:40:23.629022500Z"
    }
   },
   "id": "556dcd8f8a278268",
   "execution_count": 10
  },
  {
   "cell_type": "code",
   "outputs": [],
   "source": [],
   "metadata": {
    "collapsed": false,
    "ExecuteTime": {
     "end_time": "2024-06-25T08:40:28.941211Z",
     "start_time": "2024-06-25T08:40:28.875693600Z"
    }
   },
   "id": "f39b585e3e843b24",
   "execution_count": 10
  },
  {
   "cell_type": "code",
   "outputs": [],
   "source": [
    "# go over dfs and add column \"pretest_posttest\" with value \"pretest\" or \"posttest\" accoarding to the filename\n",
    "\n",
    "# dfs[\"pretest_posttest\"] = dfs[\"filename\"].apply(lambda x: pre_post_dict[x])\n",
    "# dfs[\"is_pretest\"] = dfs[\"pretest_posttest\"] == \"pretest\"\n",
    "# dfs[\"is_pretest_num\"] = dfs[\"is_pretest\"].astype(int)"
   ],
   "metadata": {
    "collapsed": false,
    "ExecuteTime": {
     "end_time": "2024-06-25T08:40:29.862917Z",
     "start_time": "2024-06-25T08:40:29.746511500Z"
    }
   },
   "id": "f83980aa88ed4cef",
   "execution_count": 11
  },
  {
   "cell_type": "markdown",
   "source": [
    "## Check annotations with not good tracking and remove them from the data"
   ],
   "metadata": {
    "collapsed": false
   },
   "id": "622362e1389155ef"
  },
  {
   "cell_type": "code",
   "outputs": [
    {
     "data": {
      "text/plain": "                                         filename  \\\n2125               Fehringer_Pascal__pre_test.mp4   \n2130                      Laura Bütow_Pretest.mp4   \n2132                Angelique Runkel _Pretest.mp4   \n2135                            Mader_Pretest.mp4   \n2142              Scheufler, Rebekka-Posttest.mp4   \n2145                 Huster__Janik___Pre_Test.mp4   \n2146                      Gehrke,Yves-Pretest.mp4   \n2150         Aryan DadashzadehKhayyat_Pretest.mp4   \n2153         Gremme_YvonnePretest1_11_10_2021.mp4   \n2155                     Fischer_Tom-Posttest.mp4   \n2160                   Spitze_Vanessa_PreTest.mp4   \n2161                      Fischer_Tom_Pretest.mp4   \n2164         Große Nina__Pretest___11_10_2021.mp4   \n2178    Porthaus, Michael_Pretest1_11_10_2021.mp4   \n2181  Scheufler, Rebekka__Pretest_1__11_10_21.mp4   \n2182                 Kraus__Caroline_PreTest1.mp4   \n\n                       annotation_annotation_annotation  \n2125  00:00:08 stitch_start\\r\\n00:01:37 stitch_end\\r...  \n2130  00:02:21 stitch_start\\r\\n00:04:30 stitch_end\\r...  \n2132  00:00:02 stitch_start \\r\\n00:01:01 stitch_end ...  \n2135  00:00:25 stitch_start\\r\\n00:04:05 stitch_end\\r...  \n2142  00:00:21 stitch_start\\r\\nnok different type of...  \n2145  00:01:31 stitch_start\\r\\nfirst stitch is not f...  \n2146  00:00:33 stitch_start \\r\\n00:02:36 stitch_end\\...  \n2150  00:00:00 stitch_start\\r\\n00:01:53 stitch_end\\r...  \n2153                       00:00:16 stitch_start\\r\\nNOK  \n2155  00:00:02 stitch_start\\r\\n00:01:08 stitch_end\\r...  \n2160  00:00:1 stitch_start\\r\\n00:01:10 stitch_end\\r\\...  \n2161  00:00:34 stitch_start \\r\\n00:02:39 stitch_end\\...  \n2164  00:01:36 stitch_start\\r\\ntracking NOK\\r\\nmispl...  \n2178  00:00:17 stitch_start\\r\\n00:01:01 stitch_end\\r...  \n2181  00:01:15 stitch_start\\r\\nnok \\r\\nšije to jak k...  \n2182  00:00:44 stitch_start\\r\\n00:04:43 stitch_end\\r...  ",
      "text/html": "<div>\n<style scoped>\n    .dataframe tbody tr th:only-of-type {\n        vertical-align: middle;\n    }\n\n    .dataframe tbody tr th {\n        vertical-align: top;\n    }\n\n    .dataframe thead th {\n        text-align: right;\n    }\n</style>\n<table border=\"1\" class=\"dataframe\">\n  <thead>\n    <tr style=\"text-align: right;\">\n      <th></th>\n      <th>filename</th>\n      <th>annotation_annotation_annotation</th>\n    </tr>\n  </thead>\n  <tbody>\n    <tr>\n      <th>2125</th>\n      <td>Fehringer_Pascal__pre_test.mp4</td>\n      <td>00:00:08 stitch_start\\r\\n00:01:37 stitch_end\\r...</td>\n    </tr>\n    <tr>\n      <th>2130</th>\n      <td>Laura Bütow_Pretest.mp4</td>\n      <td>00:02:21 stitch_start\\r\\n00:04:30 stitch_end\\r...</td>\n    </tr>\n    <tr>\n      <th>2132</th>\n      <td>Angelique Runkel _Pretest.mp4</td>\n      <td>00:00:02 stitch_start \\r\\n00:01:01 stitch_end ...</td>\n    </tr>\n    <tr>\n      <th>2135</th>\n      <td>Mader_Pretest.mp4</td>\n      <td>00:00:25 stitch_start\\r\\n00:04:05 stitch_end\\r...</td>\n    </tr>\n    <tr>\n      <th>2142</th>\n      <td>Scheufler, Rebekka-Posttest.mp4</td>\n      <td>00:00:21 stitch_start\\r\\nnok different type of...</td>\n    </tr>\n    <tr>\n      <th>2145</th>\n      <td>Huster__Janik___Pre_Test.mp4</td>\n      <td>00:01:31 stitch_start\\r\\nfirst stitch is not f...</td>\n    </tr>\n    <tr>\n      <th>2146</th>\n      <td>Gehrke,Yves-Pretest.mp4</td>\n      <td>00:00:33 stitch_start \\r\\n00:02:36 stitch_end\\...</td>\n    </tr>\n    <tr>\n      <th>2150</th>\n      <td>Aryan DadashzadehKhayyat_Pretest.mp4</td>\n      <td>00:00:00 stitch_start\\r\\n00:01:53 stitch_end\\r...</td>\n    </tr>\n    <tr>\n      <th>2153</th>\n      <td>Gremme_YvonnePretest1_11_10_2021.mp4</td>\n      <td>00:00:16 stitch_start\\r\\nNOK</td>\n    </tr>\n    <tr>\n      <th>2155</th>\n      <td>Fischer_Tom-Posttest.mp4</td>\n      <td>00:00:02 stitch_start\\r\\n00:01:08 stitch_end\\r...</td>\n    </tr>\n    <tr>\n      <th>2160</th>\n      <td>Spitze_Vanessa_PreTest.mp4</td>\n      <td>00:00:1 stitch_start\\r\\n00:01:10 stitch_end\\r\\...</td>\n    </tr>\n    <tr>\n      <th>2161</th>\n      <td>Fischer_Tom_Pretest.mp4</td>\n      <td>00:00:34 stitch_start \\r\\n00:02:39 stitch_end\\...</td>\n    </tr>\n    <tr>\n      <th>2164</th>\n      <td>Große Nina__Pretest___11_10_2021.mp4</td>\n      <td>00:01:36 stitch_start\\r\\ntracking NOK\\r\\nmispl...</td>\n    </tr>\n    <tr>\n      <th>2178</th>\n      <td>Porthaus, Michael_Pretest1_11_10_2021.mp4</td>\n      <td>00:00:17 stitch_start\\r\\n00:01:01 stitch_end\\r...</td>\n    </tr>\n    <tr>\n      <th>2181</th>\n      <td>Scheufler, Rebekka__Pretest_1__11_10_21.mp4</td>\n      <td>00:01:15 stitch_start\\r\\nnok \\r\\nšije to jak k...</td>\n    </tr>\n    <tr>\n      <th>2182</th>\n      <td>Kraus__Caroline_PreTest1.mp4</td>\n      <td>00:00:44 stitch_start\\r\\n00:04:43 stitch_end\\r...</td>\n    </tr>\n  </tbody>\n</table>\n</div>"
     },
     "execution_count": 12,
     "metadata": {},
     "output_type": "execute_result"
    }
   ],
   "source": [
    "dfs[~dfs[\"annotation_annotation_annotation\"].str.contains(\"tracking_ok|tracking OK|trackink_ok\")][[\"filename\", \"annotation_annotation_annotation\"]]\n"
   ],
   "metadata": {
    "collapsed": false,
    "ExecuteTime": {
     "end_time": "2024-06-25T08:40:49.516076Z",
     "start_time": "2024-06-25T08:40:49.463565300Z"
    }
   },
   "id": "89490850ab673b5",
   "execution_count": 12
  },
  {
   "cell_type": "code",
   "outputs": [],
   "source": [],
   "metadata": {
    "collapsed": false,
    "ExecuteTime": {
     "end_time": "2024-06-25T08:40:51.180957300Z",
     "start_time": "2024-06-25T08:40:51.082544300Z"
    }
   },
   "id": "d7b703380bbe86f2",
   "execution_count": 12
  },
  {
   "cell_type": "code",
   "outputs": [],
   "source": [
    "filename_contains_list_ok=[\n",
    "    # \"Angelique Runkel _Pretest.mp4\", #B\n",
    "    # \"Angelique Runkel_Posttest.mp4\",\n",
    "    # \"Aryan DadashzadehKhayyat_Pretest.mp4\", #B\n",
    "    # \"Aryan DadashzadehKhayat_Posttest.mp4\",\n",
    "    # \"Fehringer_Pascal__pre_test.mp4\", #B\n",
    "    # \"Fehringer_Pascal__post_test.mp4\",\n",
    "    # \"Fischer_Tom_Pretest.mp4\", #B\n",
    "    # \"Fischer_Tom-Posttest.mp4\", #B\n",
    "    # \"Gehrke,Yves-Pretest.mp4\", #B\n",
    "    # \"Gehrke,Yves - post.mp4\",\n",
    "    \"Glöß, Monique, Pretest 1-11.10.2021.mp4\",\n",
    "    \"Glöß, Monique_Posttest.mp4\",\n",
    "    # \"Gremme_YvonnePretest1_11_10_2021.mp4\", #B\n",
    "    # \"Gremme_Yvonne_Posttest.mp4\",\n",
    "    # \"Große Nina__Pretest___11_10_2021.mp4\", #B\n",
    "    # \"Große, Nina - Posttest.mp4\",\n",
    "    \"Hilger,Anke-Pretest1.mp4\",\n",
    "    \"Hilger,Anke-Posttest.mp4\",\n",
    "    # \"Huster__Janik___Pre_Test.mp4\", #B\n",
    "    # \"Huster__Janik_-_Post-Test.mp4\",\n",
    "    \"Jonas Marx_Pretest.mp4\",\n",
    "    \"Jonas Marx_Posttest.mp4\",\n",
    "    # \"Kraus__Caroline_PreTest1.mp4\", #B\n",
    "    # \"Kraus_Caroline_PostTest.mp4\",\n",
    "    # \"Laura Bütow_Pretest.mp4\", #B\n",
    "    # \"Laura Bütow_Posttest.mp4\",\n",
    "    \"Lausch_Laura_Pretest.mp4\",\n",
    "    \"Lausch_Laura-Posttest.mp4\",\n",
    "    # \"Mader_Pretest.mp4\", #B\n",
    "    # \"Mader_Posttest.mp4\",\n",
    "    # \"Neitzel_Natalie_Pretest1.mp4\", # měřítko je NaN, protože je jen QR kód z nůžek\n",
    "    # \"Neitzel_Natalie_Posttest.mp4\",\n",
    "    # \"Porthaus, Michael_Pretest1_11_10_2021.mp4\", #B\n",
    "    # \"Porthaus, Michael-Posttest.mp4\",\n",
    "    \"Pre_-Test_Isabel_Linden.mp4\",\n",
    "    \"Post_-Test_Isabel_Linden.mp4\",\n",
    "    \"Sarah Grimm PreTest1.mp4\",\n",
    "    \"Sarah Grimm post.mp4\",\n",
    "    # \"Scheufler, Rebekka__Pretest_1__11_10_21.mp4\", #B\n",
    "    # \"Scheufler, Rebekka-Posttest.mp4\", #B\n",
    "    \"Schiesser_David_pre_test.mp4\",\n",
    "    \"Schiesser_David_post_test.mp4\",\n",
    "    # \"Spitze_Vanessa_PreTest.mp4\", #B\n",
    "    # \"Spitze_Vanessa post.mp4\",\n",
    "    # \"Volkers_Pr_Test1.mp4\", # Měřítko je 'pix'\n",
    "    # \"Volkers post.mp4\",\n",
    "]\n",
    "\n",
    "dfs = dfs_all.copy()\n",
    "dfs = dfs[dfs[\"filename\"].str.contains(\"|\".join(filename_contains_list_ok))].drop_duplicates(subset=[\"filename\"], keep=\"last\")\n"
   ],
   "metadata": {
    "collapsed": false,
    "ExecuteTime": {
     "end_time": "2024-06-25T08:40:51.826809400Z",
     "start_time": "2024-06-25T08:40:51.776244600Z"
    }
   },
   "id": "d54ff51d784dff95",
   "execution_count": 13
  },
  {
   "cell_type": "code",
   "execution_count": 144,
   "id": "c48bd8c947f4ff49",
   "metadata": {
    "collapsed": false,
    "tags": [],
    "ExecuteTime": {
     "end_time": "2024-06-17T12:46:34.567684300Z",
     "start_time": "2024-06-17T12:46:34.417699100Z"
    }
   },
   "outputs": [],
   "source": [
    "# add column \"stars_auto\" with 0 for \"Good\", 1 for \"Medium\", 2 for \"Bad\"\n",
    "\n",
    "# dfs[\"stars_auto\"] = dfs[\"filename\"].str.contains(\"Good\").astype(int) * 0\n",
    "# dfs[\"stars_auto\"] = dfs[\"filename\"].str.contains(\"Bad\").astype(int) * 2\n",
    "# dfs[\"stars_auto\"] = dfs[\"filename\"].str.contains(\"Medium\").astype(int) * 1\n",
    "# dfs[\"stars_auto_filename\"] = dfs[\"filename\"].str.contains(\"Good|good\").astype(int) * 5 + dfs[\"filename\"].str.contains(\"Bad|bad\").astype(int) * 1 + dfs[\"filename\"].str.contains(\"Medium|medium\").astype(int) * 3\n",
    "# dfs[\"stars_auto\"] = dfs[\"annotation_annotation_stars\"]\n",
    "# dfs[\"filename\"].str.contains(\"Good|Medium|Bad\")\n"
   ]
  },
  {
   "cell_type": "code",
   "outputs": [],
   "source": [
    "# dfs[\"annotation_annotation_stars\"]"
   ],
   "metadata": {
    "collapsed": false,
    "ExecuteTime": {
     "end_time": "2024-06-17T12:46:35.245312100Z",
     "start_time": "2024-06-17T12:46:34.884331500Z"
    }
   },
   "id": "c82645fd946211dd",
   "execution_count": 145
  },
  {
   "cell_type": "code",
   "outputs": [],
   "source": [],
   "metadata": {
    "collapsed": false,
    "ExecuteTime": {
     "end_time": "2024-06-25T08:40:56.162620800Z",
     "start_time": "2024-06-25T08:40:56.041109600Z"
    }
   },
   "id": "b89f0efe12631d3b",
   "execution_count": 13
  },
  {
   "cell_type": "code",
   "execution_count": 14,
   "id": "fc241688bee9d33c",
   "metadata": {
    "collapsed": false,
    "tags": [],
    "ExecuteTime": {
     "end_time": "2024-06-25T08:40:56.772819900Z",
     "start_time": "2024-06-25T08:40:56.575803500Z"
    }
   },
   "outputs": [
    {
     "data": {
      "text/plain": "14"
     },
     "execution_count": 14,
     "metadata": {},
     "output_type": "execute_result"
    }
   ],
   "source": [
    "len(dfs)"
   ]
  },
  {
   "cell_type": "code",
   "outputs": [
    {
     "data": {
      "text/plain": "                                     filename  \\\n2198               Glöß, Monique_Posttest.mp4   \n2200  Glöß, Monique, Pretest 1-11.10.2021.mp4   \n2228                 Hilger,Anke-Pretest1.mp4   \n2231                   Jonas Marx_Pretest.mp4   \n2232                  Jonas Marx_Posttest.mp4   \n2234                Lausch_Laura-Posttest.mp4   \n2236                 Lausch_Laura_Pretest.mp4   \n2241             Post_-Test_Isabel_Linden.mp4   \n2243                 Sarah Grimm PreTest1.mp4   \n2249             Schiesser_David_pre_test.mp4   \n2292              Pre_-Test_Isabel_Linden.mp4   \n2294                 Hilger,Anke-Posttest.mp4   \n2438            Schiesser_David_post_test.mp4   \n2454                     Sarah Grimm post.mp4   \n\n                                             report_url           timestamp  \\\n2198  http://suran.kky.zcu.cz:8000//uploader/web_rep... 2024-06-17 13:52:36   \n2200  http://suran.kky.zcu.cz:8000//uploader/web_rep... 2024-06-17 13:56:23   \n2228  http://suran.kky.zcu.cz:8000//uploader/web_rep... 2024-06-17 21:40:47   \n2231  http://suran.kky.zcu.cz:8000//uploader/web_rep... 2024-06-17 21:45:16   \n2232  http://suran.kky.zcu.cz:8000//uploader/web_rep... 2024-06-17 21:48:24   \n2234  http://suran.kky.zcu.cz:8000//uploader/web_rep... 2024-06-17 21:52:50   \n2236  http://suran.kky.zcu.cz:8000//uploader/web_rep... 2024-06-17 21:55:02   \n2241  http://suran.kky.zcu.cz:8000//uploader/web_rep... 2024-06-17 22:06:01   \n2243  http://suran.kky.zcu.cz:8000//uploader/web_rep... 2024-06-17 22:12:31   \n2249  http://suran.kky.zcu.cz:8000//uploader/web_rep... 2024-06-17 22:27:39   \n2292  http://suran.kky.zcu.cz:8000//uploader/web_rep... 2024-06-24 00:45:15   \n2294  http://suran.kky.zcu.cz:8000//uploader/web_rep... 2024-06-24 00:49:06   \n2438  http://suran.kky.zcu.cz:8000//uploader/web_rep... 2024-06-25 08:45:16   \n2454  http://suran.kky.zcu.cz:8000//uploader/web_rep... 2024-06-25 10:39:41   \n\n                                email         uploaded_at       finished_at  \\\n2198                mjirik@kky.zcu.cz 2024-06-03 10:53:00  2024-06-17 11:52   \n2200                mjirik@kky.zcu.cz 2024-06-03 10:53:00  2024-06-17 11:56   \n2228                mjirik@kky.zcu.cz 2024-06-03 10:53:00  2024-06-17 19:40   \n2231                mjirik@kky.zcu.cz 2024-06-03 10:53:00  2024-06-17 19:45   \n2232                mjirik@kky.zcu.cz 2024-06-03 10:53:00  2024-06-17 19:48   \n2234                mjirik@kky.zcu.cz 2024-06-03 10:53:00  2024-06-17 19:52   \n2236                mjirik@kky.zcu.cz 2024-06-03 10:53:00  2024-06-17 19:55   \n2241  carina.bachmann@med.uni-jena.de 2024-05-24 06:46:00  2024-06-17 20:06   \n2243                mjirik@kky.zcu.cz 2024-06-03 10:53:00  2024-06-17 20:12   \n2249                mjirik@kky.zcu.cz 2024-06-03 10:53:00  2024-06-17 20:27   \n2292  carina.bachmann@med.uni-jena.de 2024-05-24 06:46:00  2024-06-23 22:45   \n2294                mjirik@kky.zcu.cz 2024-06-03 10:53:00  2024-06-23 22:49   \n2438                mjirik@kky.zcu.cz 2024-06-03 10:53:00  2024-06-23 22:57   \n2454                mjirik@kky.zcu.cz 2024-06-03 10:53:00  2024-06-25 08:39   \n\n       fps Needle holder length [m] Scissors length [m] Forceps length [m]  \\\n2198  25.0              3,262977484         0,329107903        0,479116913   \n2200  25.0              3,155002152        0,2508010924       0,6626568797   \n2228  25.0              4,321863172                 NaN       0,8153063794   \n2231  25.0              5,308359626        0,3308548525        2,156997692   \n2232  25.0              9,152937907        0,3415283603        2,606627965   \n2234  25.0              4,647987794         0,175066757        1,416169332   \n2236  25.0              4,359753341        0,0243998195        1,521301481   \n2241  25.0              8,224077471         1,098202067        2,034498917   \n2243  25.0              9,734372197        0,6141221271        2,451912263   \n2249  25.0              3,621411427        0,2581136148       0,1805616542   \n2292  25.0              6,586552243         1,825643435        2,822289168   \n2294  25.0              8,379467337        0,1595245989        3,232054017   \n2438  25.0              11,71696976         1,274672193        1,768750199   \n2454  25.0                      NaN                 NaN                NaN   \n\n      ... Forceps knot 0 unit Forceps knot 0 visibility [%]  \\\n2198  ...                 NaN                           NaN   \n2200  ...                 NaN                           NaN   \n2228  ...                 NaN                           NaN   \n2231  ...                 NaN                           NaN   \n2232  ...                 NaN                           NaN   \n2234  ...                 NaN                           NaN   \n2236  ...                 NaN                           NaN   \n2241  ...                 NaN                           NaN   \n2243  ...                 NaN                           NaN   \n2249  ...                 NaN                           NaN   \n2292  ...                 NaN                           NaN   \n2294  ...                 NaN                           NaN   \n2438  ...                 NaN                           NaN   \n2454  ...                 NaN                           NaN   \n\n     Scissors knot 0 area presence [%]  \\\n2198                               NaN   \n2200                               NaN   \n2228                               NaN   \n2231                               NaN   \n2232                               NaN   \n2234                               NaN   \n2236                               NaN   \n2241                               NaN   \n2243                               NaN   \n2249                               NaN   \n2292                               NaN   \n2294                               NaN   \n2438                               NaN   \n2454                               NaN   \n\n     Scissors knot 0 median area presence [%] Scissors knot 0 length [m]  \\\n2198                                      NaN                        NaN   \n2200                                      NaN                        NaN   \n2228                                      NaN                        NaN   \n2231                                      NaN                        NaN   \n2232                                      NaN                        NaN   \n2234                                      NaN                        NaN   \n2236                                      NaN                        NaN   \n2241                                      NaN                        NaN   \n2243                                      NaN                        NaN   \n2249                                      NaN                        NaN   \n2292                                      NaN                        NaN   \n2294                                      NaN                        NaN   \n2438                                      NaN                        NaN   \n2454                                      NaN                        NaN   \n\n     Scissors knot 0 visibility [s] Scissors knot 0 velocity  \\\n2198                            NaN                      NaN   \n2200                            NaN                      NaN   \n2228                            NaN                      NaN   \n2231                            NaN                      NaN   \n2232                            NaN                      NaN   \n2234                            NaN                      NaN   \n2236                            NaN                      NaN   \n2241                            NaN                      NaN   \n2243                            NaN                      NaN   \n2249                            NaN                      NaN   \n2292                            NaN                      NaN   \n2294                            NaN                      NaN   \n2438                            NaN                      NaN   \n2454                            NaN                      NaN   \n\n     Scissors knot 0 unit Scissors knot 0 visibility [%] is_pretest_num  \n2198                  NaN                            NaN              0  \n2200                  NaN                            NaN              1  \n2228                  NaN                            NaN              1  \n2231                  NaN                            NaN              1  \n2232                  NaN                            NaN              0  \n2234                  NaN                            NaN              0  \n2236                  NaN                            NaN              1  \n2241                  NaN                            NaN              0  \n2243                  NaN                            NaN              1  \n2249                  NaN                            NaN              1  \n2292                  NaN                            NaN              1  \n2294                  NaN                            NaN              0  \n2438                  NaN                            NaN              0  \n2454                  NaN                            NaN              0  \n\n[14 rows x 615 columns]",
      "text/html": "<div>\n<style scoped>\n    .dataframe tbody tr th:only-of-type {\n        vertical-align: middle;\n    }\n\n    .dataframe tbody tr th {\n        vertical-align: top;\n    }\n\n    .dataframe thead th {\n        text-align: right;\n    }\n</style>\n<table border=\"1\" class=\"dataframe\">\n  <thead>\n    <tr style=\"text-align: right;\">\n      <th></th>\n      <th>filename</th>\n      <th>report_url</th>\n      <th>timestamp</th>\n      <th>email</th>\n      <th>uploaded_at</th>\n      <th>finished_at</th>\n      <th>fps</th>\n      <th>Needle holder length [m]</th>\n      <th>Scissors length [m]</th>\n      <th>Forceps length [m]</th>\n      <th>...</th>\n      <th>Forceps knot 0 unit</th>\n      <th>Forceps knot 0 visibility [%]</th>\n      <th>Scissors knot 0 area presence [%]</th>\n      <th>Scissors knot 0 median area presence [%]</th>\n      <th>Scissors knot 0 length [m]</th>\n      <th>Scissors knot 0 visibility [s]</th>\n      <th>Scissors knot 0 velocity</th>\n      <th>Scissors knot 0 unit</th>\n      <th>Scissors knot 0 visibility [%]</th>\n      <th>is_pretest_num</th>\n    </tr>\n  </thead>\n  <tbody>\n    <tr>\n      <th>2198</th>\n      <td>Glöß, Monique_Posttest.mp4</td>\n      <td>http://suran.kky.zcu.cz:8000//uploader/web_rep...</td>\n      <td>2024-06-17 13:52:36</td>\n      <td>mjirik@kky.zcu.cz</td>\n      <td>2024-06-03 10:53:00</td>\n      <td>2024-06-17 11:52</td>\n      <td>25.0</td>\n      <td>3,262977484</td>\n      <td>0,329107903</td>\n      <td>0,479116913</td>\n      <td>...</td>\n      <td>NaN</td>\n      <td>NaN</td>\n      <td>NaN</td>\n      <td>NaN</td>\n      <td>NaN</td>\n      <td>NaN</td>\n      <td>NaN</td>\n      <td>NaN</td>\n      <td>NaN</td>\n      <td>0</td>\n    </tr>\n    <tr>\n      <th>2200</th>\n      <td>Glöß, Monique, Pretest 1-11.10.2021.mp4</td>\n      <td>http://suran.kky.zcu.cz:8000//uploader/web_rep...</td>\n      <td>2024-06-17 13:56:23</td>\n      <td>mjirik@kky.zcu.cz</td>\n      <td>2024-06-03 10:53:00</td>\n      <td>2024-06-17 11:56</td>\n      <td>25.0</td>\n      <td>3,155002152</td>\n      <td>0,2508010924</td>\n      <td>0,6626568797</td>\n      <td>...</td>\n      <td>NaN</td>\n      <td>NaN</td>\n      <td>NaN</td>\n      <td>NaN</td>\n      <td>NaN</td>\n      <td>NaN</td>\n      <td>NaN</td>\n      <td>NaN</td>\n      <td>NaN</td>\n      <td>1</td>\n    </tr>\n    <tr>\n      <th>2228</th>\n      <td>Hilger,Anke-Pretest1.mp4</td>\n      <td>http://suran.kky.zcu.cz:8000//uploader/web_rep...</td>\n      <td>2024-06-17 21:40:47</td>\n      <td>mjirik@kky.zcu.cz</td>\n      <td>2024-06-03 10:53:00</td>\n      <td>2024-06-17 19:40</td>\n      <td>25.0</td>\n      <td>4,321863172</td>\n      <td>NaN</td>\n      <td>0,8153063794</td>\n      <td>...</td>\n      <td>NaN</td>\n      <td>NaN</td>\n      <td>NaN</td>\n      <td>NaN</td>\n      <td>NaN</td>\n      <td>NaN</td>\n      <td>NaN</td>\n      <td>NaN</td>\n      <td>NaN</td>\n      <td>1</td>\n    </tr>\n    <tr>\n      <th>2231</th>\n      <td>Jonas Marx_Pretest.mp4</td>\n      <td>http://suran.kky.zcu.cz:8000//uploader/web_rep...</td>\n      <td>2024-06-17 21:45:16</td>\n      <td>mjirik@kky.zcu.cz</td>\n      <td>2024-06-03 10:53:00</td>\n      <td>2024-06-17 19:45</td>\n      <td>25.0</td>\n      <td>5,308359626</td>\n      <td>0,3308548525</td>\n      <td>2,156997692</td>\n      <td>...</td>\n      <td>NaN</td>\n      <td>NaN</td>\n      <td>NaN</td>\n      <td>NaN</td>\n      <td>NaN</td>\n      <td>NaN</td>\n      <td>NaN</td>\n      <td>NaN</td>\n      <td>NaN</td>\n      <td>1</td>\n    </tr>\n    <tr>\n      <th>2232</th>\n      <td>Jonas Marx_Posttest.mp4</td>\n      <td>http://suran.kky.zcu.cz:8000//uploader/web_rep...</td>\n      <td>2024-06-17 21:48:24</td>\n      <td>mjirik@kky.zcu.cz</td>\n      <td>2024-06-03 10:53:00</td>\n      <td>2024-06-17 19:48</td>\n      <td>25.0</td>\n      <td>9,152937907</td>\n      <td>0,3415283603</td>\n      <td>2,606627965</td>\n      <td>...</td>\n      <td>NaN</td>\n      <td>NaN</td>\n      <td>NaN</td>\n      <td>NaN</td>\n      <td>NaN</td>\n      <td>NaN</td>\n      <td>NaN</td>\n      <td>NaN</td>\n      <td>NaN</td>\n      <td>0</td>\n    </tr>\n    <tr>\n      <th>2234</th>\n      <td>Lausch_Laura-Posttest.mp4</td>\n      <td>http://suran.kky.zcu.cz:8000//uploader/web_rep...</td>\n      <td>2024-06-17 21:52:50</td>\n      <td>mjirik@kky.zcu.cz</td>\n      <td>2024-06-03 10:53:00</td>\n      <td>2024-06-17 19:52</td>\n      <td>25.0</td>\n      <td>4,647987794</td>\n      <td>0,175066757</td>\n      <td>1,416169332</td>\n      <td>...</td>\n      <td>NaN</td>\n      <td>NaN</td>\n      <td>NaN</td>\n      <td>NaN</td>\n      <td>NaN</td>\n      <td>NaN</td>\n      <td>NaN</td>\n      <td>NaN</td>\n      <td>NaN</td>\n      <td>0</td>\n    </tr>\n    <tr>\n      <th>2236</th>\n      <td>Lausch_Laura_Pretest.mp4</td>\n      <td>http://suran.kky.zcu.cz:8000//uploader/web_rep...</td>\n      <td>2024-06-17 21:55:02</td>\n      <td>mjirik@kky.zcu.cz</td>\n      <td>2024-06-03 10:53:00</td>\n      <td>2024-06-17 19:55</td>\n      <td>25.0</td>\n      <td>4,359753341</td>\n      <td>0,0243998195</td>\n      <td>1,521301481</td>\n      <td>...</td>\n      <td>NaN</td>\n      <td>NaN</td>\n      <td>NaN</td>\n      <td>NaN</td>\n      <td>NaN</td>\n      <td>NaN</td>\n      <td>NaN</td>\n      <td>NaN</td>\n      <td>NaN</td>\n      <td>1</td>\n    </tr>\n    <tr>\n      <th>2241</th>\n      <td>Post_-Test_Isabel_Linden.mp4</td>\n      <td>http://suran.kky.zcu.cz:8000//uploader/web_rep...</td>\n      <td>2024-06-17 22:06:01</td>\n      <td>carina.bachmann@med.uni-jena.de</td>\n      <td>2024-05-24 06:46:00</td>\n      <td>2024-06-17 20:06</td>\n      <td>25.0</td>\n      <td>8,224077471</td>\n      <td>1,098202067</td>\n      <td>2,034498917</td>\n      <td>...</td>\n      <td>NaN</td>\n      <td>NaN</td>\n      <td>NaN</td>\n      <td>NaN</td>\n      <td>NaN</td>\n      <td>NaN</td>\n      <td>NaN</td>\n      <td>NaN</td>\n      <td>NaN</td>\n      <td>0</td>\n    </tr>\n    <tr>\n      <th>2243</th>\n      <td>Sarah Grimm PreTest1.mp4</td>\n      <td>http://suran.kky.zcu.cz:8000//uploader/web_rep...</td>\n      <td>2024-06-17 22:12:31</td>\n      <td>mjirik@kky.zcu.cz</td>\n      <td>2024-06-03 10:53:00</td>\n      <td>2024-06-17 20:12</td>\n      <td>25.0</td>\n      <td>9,734372197</td>\n      <td>0,6141221271</td>\n      <td>2,451912263</td>\n      <td>...</td>\n      <td>NaN</td>\n      <td>NaN</td>\n      <td>NaN</td>\n      <td>NaN</td>\n      <td>NaN</td>\n      <td>NaN</td>\n      <td>NaN</td>\n      <td>NaN</td>\n      <td>NaN</td>\n      <td>1</td>\n    </tr>\n    <tr>\n      <th>2249</th>\n      <td>Schiesser_David_pre_test.mp4</td>\n      <td>http://suran.kky.zcu.cz:8000//uploader/web_rep...</td>\n      <td>2024-06-17 22:27:39</td>\n      <td>mjirik@kky.zcu.cz</td>\n      <td>2024-06-03 10:53:00</td>\n      <td>2024-06-17 20:27</td>\n      <td>25.0</td>\n      <td>3,621411427</td>\n      <td>0,2581136148</td>\n      <td>0,1805616542</td>\n      <td>...</td>\n      <td>NaN</td>\n      <td>NaN</td>\n      <td>NaN</td>\n      <td>NaN</td>\n      <td>NaN</td>\n      <td>NaN</td>\n      <td>NaN</td>\n      <td>NaN</td>\n      <td>NaN</td>\n      <td>1</td>\n    </tr>\n    <tr>\n      <th>2292</th>\n      <td>Pre_-Test_Isabel_Linden.mp4</td>\n      <td>http://suran.kky.zcu.cz:8000//uploader/web_rep...</td>\n      <td>2024-06-24 00:45:15</td>\n      <td>carina.bachmann@med.uni-jena.de</td>\n      <td>2024-05-24 06:46:00</td>\n      <td>2024-06-23 22:45</td>\n      <td>25.0</td>\n      <td>6,586552243</td>\n      <td>1,825643435</td>\n      <td>2,822289168</td>\n      <td>...</td>\n      <td>NaN</td>\n      <td>NaN</td>\n      <td>NaN</td>\n      <td>NaN</td>\n      <td>NaN</td>\n      <td>NaN</td>\n      <td>NaN</td>\n      <td>NaN</td>\n      <td>NaN</td>\n      <td>1</td>\n    </tr>\n    <tr>\n      <th>2294</th>\n      <td>Hilger,Anke-Posttest.mp4</td>\n      <td>http://suran.kky.zcu.cz:8000//uploader/web_rep...</td>\n      <td>2024-06-24 00:49:06</td>\n      <td>mjirik@kky.zcu.cz</td>\n      <td>2024-06-03 10:53:00</td>\n      <td>2024-06-23 22:49</td>\n      <td>25.0</td>\n      <td>8,379467337</td>\n      <td>0,1595245989</td>\n      <td>3,232054017</td>\n      <td>...</td>\n      <td>NaN</td>\n      <td>NaN</td>\n      <td>NaN</td>\n      <td>NaN</td>\n      <td>NaN</td>\n      <td>NaN</td>\n      <td>NaN</td>\n      <td>NaN</td>\n      <td>NaN</td>\n      <td>0</td>\n    </tr>\n    <tr>\n      <th>2438</th>\n      <td>Schiesser_David_post_test.mp4</td>\n      <td>http://suran.kky.zcu.cz:8000//uploader/web_rep...</td>\n      <td>2024-06-25 08:45:16</td>\n      <td>mjirik@kky.zcu.cz</td>\n      <td>2024-06-03 10:53:00</td>\n      <td>2024-06-23 22:57</td>\n      <td>25.0</td>\n      <td>11,71696976</td>\n      <td>1,274672193</td>\n      <td>1,768750199</td>\n      <td>...</td>\n      <td>NaN</td>\n      <td>NaN</td>\n      <td>NaN</td>\n      <td>NaN</td>\n      <td>NaN</td>\n      <td>NaN</td>\n      <td>NaN</td>\n      <td>NaN</td>\n      <td>NaN</td>\n      <td>0</td>\n    </tr>\n    <tr>\n      <th>2454</th>\n      <td>Sarah Grimm post.mp4</td>\n      <td>http://suran.kky.zcu.cz:8000//uploader/web_rep...</td>\n      <td>2024-06-25 10:39:41</td>\n      <td>mjirik@kky.zcu.cz</td>\n      <td>2024-06-03 10:53:00</td>\n      <td>2024-06-25 08:39</td>\n      <td>25.0</td>\n      <td>NaN</td>\n      <td>NaN</td>\n      <td>NaN</td>\n      <td>...</td>\n      <td>NaN</td>\n      <td>NaN</td>\n      <td>NaN</td>\n      <td>NaN</td>\n      <td>NaN</td>\n      <td>NaN</td>\n      <td>NaN</td>\n      <td>NaN</td>\n      <td>NaN</td>\n      <td>0</td>\n    </tr>\n  </tbody>\n</table>\n<p>14 rows × 615 columns</p>\n</div>"
     },
     "execution_count": 15,
     "metadata": {},
     "output_type": "execute_result"
    }
   ],
   "source": [
    "dfs"
   ],
   "metadata": {
    "collapsed": false,
    "ExecuteTime": {
     "end_time": "2024-06-25T08:40:57.369964500Z",
     "start_time": "2024-06-25T08:40:57.209119Z"
    }
   },
   "id": "f0fac85c7d5db90c",
   "execution_count": 15
  },
  {
   "cell_type": "code",
   "execution_count": 148,
   "id": "885d382a-1c50-4752-a418-78c534c74d61",
   "metadata": {
    "tags": [],
    "ExecuteTime": {
     "end_time": "2024-06-17T12:46:36.406089300Z",
     "start_time": "2024-06-17T12:46:35.891059600Z"
    }
   },
   "outputs": [],
   "source": [
    "import seaborn as sns"
   ]
  },
  {
   "cell_type": "code",
   "outputs": [
    {
     "data": {
      "text/plain": "<AxesSubplot: xlabel='is_pretest_num', ylabel='count'>"
     },
     "execution_count": 149,
     "metadata": {},
     "output_type": "execute_result"
    },
    {
     "data": {
      "text/plain": "<Figure size 640x480 with 1 Axes>",
      "image/png": "[encoded data removed]"
     },
     "metadata": {},
     "output_type": "display_data"
    }
   ],
   "source": [
    "\n",
    "sns.countplot(dfs, x=\"is_pretest_num\")\n"
   ],
   "metadata": {
    "collapsed": false,
    "ExecuteTime": {
     "end_time": "2024-06-17T12:46:37.305332700Z",
     "start_time": "2024-06-17T12:46:36.407089200Z"
    }
   },
   "id": "5024ca032033de84",
   "execution_count": 149
  },
  {
   "cell_type": "code",
   "execution_count": 150,
   "id": "c05a4a16f13bc707",
   "metadata": {
    "collapsed": false,
    "tags": [],
    "ExecuteTime": {
     "end_time": "2024-06-17T12:46:38.251686600Z",
     "start_time": "2024-06-17T12:46:37.078477Z"
    }
   },
   "outputs": [
    {
     "data": {
      "text/plain": "Index(['filename', 'report_url', 'timestamp', 'email', 'uploaded_at',\n       'finished_at', 'fps', 'Needle holder length [m]', 'Scissors length [m]',\n       'Forceps length [m]',\n       ...\n       'Needle holder stitch 1 median area presence [%]',\n       'Needle holder stitch 2 median area presence [%]',\n       'Needle holder stitch 3 median area presence [%]',\n       'Forceps stitch 1 median area presence [%]',\n       'Scissors stitch 1 median area presence [%]',\n       'Scissors stitch 2 median area presence [%]',\n       'Forceps stitch 2 median area presence [%]',\n       'Scissors stitch 3 median area presence [%]',\n       'Forceps stitch 3 median area presence [%]', 'is_pretest_num'],\n      dtype='object', length=501)"
     },
     "execution_count": 150,
     "metadata": {},
     "output_type": "execute_result"
    }
   ],
   "source": [
    "dfs.columns"
   ]
  },
  {
   "cell_type": "markdown",
   "id": "cdbb4a20-c96d-4c0e-8d38-3e17db1b9432",
   "metadata": {},
   "source": [
    "### Replace \",\" with \".\""
   ]
  },
  {
   "cell_type": "code",
   "execution_count": 151,
   "id": "4a1b759401be37e4",
   "metadata": {
    "collapsed": false,
    "tags": [],
    "ExecuteTime": {
     "end_time": "2024-06-17T12:46:38.729470300Z",
     "start_time": "2024-06-17T12:46:38.120032700Z"
    }
   },
   "outputs": [],
   "source": [
    "# find the columns where its values contain single \",\" and digits\n",
    "dfs.columns[dfs.apply(lambda x: (x.dtype is str) and (x.str.contains(\",\\d\").any()))]\n",
    "cols = []\n",
    "for col in dfs.columns:\n",
    "    try:\n",
    "        if (dfs[col].str.contains(\",\\d\").any()):\n",
    "            # convert , to . and change the column type to float\n",
    "            dfs[col] = dfs[col].str.replace(\",\", \".\").astype(float)\n",
    "            cols.append(col)\n",
    "    except:\n",
    "        pass\n",
    "# cols"
   ]
  },
  {
   "cell_type": "code",
   "execution_count": 152,
   "id": "c43a49972fe915d7",
   "metadata": {
    "collapsed": false,
    "tags": [],
    "ExecuteTime": {
     "end_time": "2024-06-17T12:46:38.861424600Z",
     "start_time": "2024-06-17T12:46:38.509141300Z"
    }
   },
   "outputs": [],
   "source": [
    "# dfs"
   ]
  },
  {
   "cell_type": "code",
   "execution_count": 152,
   "id": "51af25062aa51526",
   "metadata": {
    "collapsed": false,
    "ExecuteTime": {
     "end_time": "2024-06-17T12:46:39.031755100Z",
     "start_time": "2024-06-17T12:46:38.804695800Z"
    }
   },
   "outputs": [],
   "source": []
  },
  {
   "cell_type": "code",
   "execution_count": 152,
   "id": "f3373f9ec58e3a99",
   "metadata": {
    "collapsed": false,
    "ExecuteTime": {
     "end_time": "2024-06-17T12:46:39.153885900Z",
     "start_time": "2024-06-17T12:46:39.031755100Z"
    }
   },
   "outputs": [],
   "source": []
  },
  {
   "cell_type": "code",
   "execution_count": 153,
   "id": "d44ea6f5690f0d79",
   "metadata": {
    "collapsed": false,
    "tags": [],
    "ExecuteTime": {
     "end_time": "2024-06-17T12:46:39.359279400Z",
     "start_time": "2024-06-17T12:46:39.090805300Z"
    }
   },
   "outputs": [],
   "source": [
    "# print name of columns containing needle holder\n",
    "# dfs.columns[dfs.columns.str.contains(\"Needle holder\")]"
   ]
  },
  {
   "cell_type": "code",
   "execution_count": 154,
   "id": "fe816967bd95fb8c",
   "metadata": {
    "collapsed": false,
    "tags": [],
    "ExecuteTime": {
     "end_time": "2024-06-17T12:46:39.435795Z",
     "start_time": "2024-06-17T12:46:39.340278100Z"
    }
   },
   "outputs": [],
   "source": [
    "# dfs[[\"Needle holder stitch 1 length [m]\", \"Needle holder length [m]\"]]"
   ]
  },
  {
   "cell_type": "markdown",
   "source": [
    "### Convert bool to the numeric\n"
   ],
   "metadata": {
    "collapsed": false
   },
   "id": "5e088366025dfb8a"
  },
  {
   "cell_type": "code",
   "outputs": [
    {
     "name": "stdout",
     "output_type": "stream",
     "text": [
      "skipped: annotation_annotation\n",
      "skipped: annotation_annotation_annotation\n",
      "skipped: annotation_annotation_stars\n",
      "skipped: annotation_annotation_annotator\n",
      "skipped: annotation_annotation_updated_at\n",
      "skipped: annotation_annotation_id\n",
      "skipped: annotation_annotation_created_at\n",
      "skipped: annotation_annotation_needle_grabbed_correctly\n",
      "skipped: annotation_annotation_needle_holder_stabilized\n",
      "skipped: annotation_annotation_needle_pierced_at_first_try\n",
      "skipped: annotation_annotation_needle_pierced_at_right_angle\n",
      "skipped: annotation_annotation_needle_rotated_correctly_on_opposite_side\n",
      "skipped: annotation_annotation_needle_rotated_correctly_on_students_side\n",
      "skipped: annotation_annotation_forceps_grabs_the_edge\n",
      "skipped: annotation_annotation_three_knots_per_stitch\n",
      "skipped: annotation_annotation_knots_are_done_right\n",
      "skipped: annotation_annotation_threads_shortened_appropriately\n",
      "skipped: annotation_annotation_stitch_to_wound_distance_is_correct\n",
      "skipped: annotation_annotation_distance_between_stitches_is_correct\n",
      "skipped: annotation_annotation_stitches_perpendicular_to_wound\n",
      "skipped: annotation_annotation_equal_sized_wound_portions\n",
      "skipped: annotation_annotation_no_excessive_tension\n",
      "skipped: annotation_annotation_respect_for_tissue\n",
      "skipped: annotation_annotation_time_and_movements\n",
      "skipped: annotation_annotation_instrument_handling\n",
      "skipped: annotation_annotation_procedure_flow\n",
      "skipped: annotation_annotation_i\n"
     ]
    }
   ],
   "source": [
    "# get list of columns containing \"annotation_annotation\" in their name\n",
    "cols = dfs.columns[dfs.columns.str.contains(\"annotation_annotation\")]\n",
    "# dfs[\"annotation_annotation_knots_are_done_right\"] = dfs[\"annotation_annotation_knots_are_done_right\"].astype(float)\n",
    "# get type of the columns\n",
    "dfs[cols].dtypes\n",
    "\n",
    "for col in cols:\n",
    "    uni = dfs[col].unique()\n",
    "    # print(uni)\n",
    "    \n",
    "    if (len(list(uni))==2) and (True in uni) and (False in uni):\n",
    "        dfs[col] = dfs[col].astype(float)\n",
    "    else:\n",
    "        print(f\"skipped: {col}\")\n",
    "\n"
   ],
   "metadata": {
    "collapsed": false,
    "ExecuteTime": {
     "end_time": "2024-06-17T12:46:39.606479400Z",
     "start_time": "2024-06-17T12:46:39.406277700Z"
    }
   },
   "id": "ba15f80522b64985",
   "execution_count": 155
  },
  {
   "cell_type": "code",
   "outputs": [],
   "source": [
    "# assert sorted(list(dfs[\"annotation_annotation_knots_are_done_right\"].unique())) == [0.0, 1.0]"
   ],
   "metadata": {
    "collapsed": false,
    "ExecuteTime": {
     "end_time": "2024-06-17T12:46:40.106055600Z",
     "start_time": "2024-06-17T12:46:39.608479Z"
    }
   },
   "id": "6969ddf322dbb375",
   "execution_count": 156
  },
  {
   "cell_type": "markdown",
   "id": "7190306c-4a98-4a2a-80fc-0ea35452285b",
   "metadata": {},
   "source": [
    "### If there is just one stitch, put ths information into stitch 1 measurements"
   ]
  },
  {
   "cell_type": "code",
   "execution_count": 157,
   "id": "5a00460c06572f18",
   "metadata": {
    "collapsed": false,
    "tags": [],
    "ExecuteTime": {
     "end_time": "2024-06-17T12:46:40.201556200Z",
     "start_time": "2024-06-17T12:46:39.869214600Z"
    }
   },
   "outputs": [],
   "source": [
    "# in pre-test post-test this should not be necessary\n",
    "\n",
    "# If column containing \" stitch 1\" in its name has empty values, fill them with  the values from the column with the same name but withuou \" stitch 1\"\n",
    "# for col in dfs.columns[dfs.columns.str.contains(\" stitch 0\")]:\n",
    "#     dfs[col] = dfs[col].fillna(dfs[col.replace(\" stitch 0\", \"\")])"
   ]
  },
  {
   "cell_type": "code",
   "execution_count": 158,
   "id": "8d4e18421dd66275",
   "metadata": {
    "collapsed": false,
    "tags": [],
    "ExecuteTime": {
     "end_time": "2024-06-17T12:46:40.414634500Z",
     "start_time": "2024-06-17T12:46:40.202556200Z"
    }
   },
   "outputs": [],
   "source": [
    "# dfs[[\"Needle holder stitch 1 length [m]\", \"Needle holder length [m]\"]]\n"
   ]
  },
  {
   "cell_type": "markdown",
   "source": [
    "### Remove rows and columns with lot of NaN values"
   ],
   "metadata": {
    "collapsed": false
   },
   "id": "dd2a27ca81469e52"
  },
  {
   "cell_type": "code",
   "outputs": [
    {
     "name": "stderr",
     "output_type": "stream",
     "text": [
      "C:\\Users\\Jirik\\AppData\\Local\\Temp\\ipykernel_31472\\590114250.py:2: FutureWarning: Support for multi-dimensional indexing (e.g. `obj[:, None]`) is deprecated and will be removed in a future version.  Convert to a numpy array before indexing instead.\n",
      "  numeric_cols = dfs.columns[dfs.apply(lambda x: x.dtype is float).any()]\n"
     ]
    }
   ],
   "source": [
    "# get numeric columns from dfs\n",
    "numeric_cols = dfs.columns[dfs.apply(lambda x: x.dtype is float).any()]\n",
    "\n",
    "\n",
    "# dfs[numeric_cols].isna().sum(axis=1)\n"
   ],
   "metadata": {
    "collapsed": false,
    "ExecuteTime": {
     "end_time": "2024-06-17T12:46:40.675302100Z",
     "start_time": "2024-06-17T12:46:40.413631800Z"
    }
   },
   "id": "d3e11943d92bd9a4",
   "execution_count": 159
  },
  {
   "cell_type": "markdown",
   "source": [
    "# Find records with more than one stitch"
   ],
   "metadata": {
    "collapsed": false
   },
   "id": "13c88e5855f50480"
  },
  {
   "cell_type": "code",
   "outputs": [],
   "source": [
    "# import numpy as np\n",
    "# bc = np.bincount([1,5,5,5,1,2,1])\n",
    "# print(type(bc))\n",
    "# bc"
   ],
   "metadata": {
    "collapsed": false,
    "ExecuteTime": {
     "end_time": "2024-06-17T12:46:40.713302500Z",
     "start_time": "2024-06-17T12:46:40.653313800Z"
    }
   },
   "id": "fc3aa54510c0f5f7",
   "execution_count": 160
  },
  {
   "cell_type": "code",
   "outputs": [
    {
     "data": {
      "text/plain": "Index(['Needle holder stitch 2 length [m]',\n       'Needle holder stitch 2 visibility [s]',\n       'Needle holder stitch 2 velocity', 'Needle holder stitch 2 unit',\n       'Needle holder stitch 2 visibility [%]',\n       'Needle holder stitch 2 area presence [%]',\n       'Forceps stitch 2 length [m]', 'Forceps stitch 2 visibility [s]',\n       'Forceps stitch 2 velocity', 'Forceps stitch 2 unit',\n       'Forceps stitch 2 visibility [%]', 'Forceps stitch 2 area presence [%]',\n       'Scissors stitch 2 length [m]', 'Scissors stitch 2 visibility [s]',\n       'Scissors stitch 2 velocity', 'Scissors stitch 2 unit',\n       'Scissors stitch 2 visibility [%]',\n       'Scissors stitch 2 area presence [%]',\n       'Needle holder bbox stitch 2 length [m]',\n       'Needle holder bbox stitch 2 visibility [s]',\n       'Needle holder bbox stitch 2 velocity',\n       'Needle holder bbox stitch 2 unit',\n       'Needle holder bbox stitch 2 visibility [%]',\n       'Needle holder bbox stitch 2 area presence [%]',\n       'Forceps bbox stitch 2 length [m]',\n       'Forceps bbox stitch 2 visibility [s]',\n       'Forceps bbox stitch 2 velocity', 'Forceps bbox stitch 2 unit',\n       'Forceps bbox stitch 2 visibility [%]',\n       'Forceps bbox stitch 2 area presence [%]',\n       'Scissors bbox stitch 2 length [m]',\n       'Scissors bbox stitch 2 visibility [s]',\n       'Scissors bbox stitch 2 velocity', 'Scissors bbox stitch 2 unit',\n       'Scissors bbox stitch 2 visibility [%]',\n       'Scissors bbox stitch 2 area presence [%]',\n       'Left hand bbox stitch 2 length [m]',\n       'Left hand bbox stitch 2 visibility [s]',\n       'Left hand bbox stitch 2 velocity', 'Left hand bbox stitch 2 unit',\n       'Left hand bbox stitch 2 visibility [%]',\n       'Left hand bbox stitch 2 area presence [%]',\n       'Right hand bbox stitch 2 length [m]',\n       'Right hand bbox stitch 2 visibility [s]',\n       'Right hand bbox stitch 2 velocity', 'Right hand bbox stitch 2 unit',\n       'Right hand bbox stitch 2 visibility [%]',\n       'Right hand bbox stitch 2 area presence [%]',\n       'Needle holder stitch 2 length [pix]', 'Forceps stitch 2 length [pix]',\n       'Scissors stitch 2 length [pix]',\n       'Needle holder bbox stitch 2 length [pix]',\n       'Forceps bbox stitch 2 length [pix]',\n       'Scissors bbox stitch 2 length [pix]',\n       'Left hand bbox stitch 2 length [pix]',\n       'Right hand bbox stitch 2 length [pix]',\n       'Needle holder stitch 2 median area presence [%]',\n       'Scissors stitch 2 median area presence [%]',\n       'Forceps stitch 2 median area presence [%]'],\n      dtype='object')"
     },
     "metadata": {},
     "output_type": "display_data"
    },
    {
     "data": {
      "text/plain": "Index(['Stitch 2 duration [s]', 'Stitch 2 duration [%]'], dtype='object')"
     },
     "metadata": {},
     "output_type": "display_data"
    },
    {
     "data": {
      "text/plain": "                           filename  \\\n2123    Pre_-Test_Isabel_Linden.mp4   \n2148       Sarah Grimm PreTest1.mp4   \n2159  Schiesser_David_post_test.mp4   \n2180   Schiesser_David_pre_test.mp4   \n2202       Hilger,Anke-Posttest.mp4   \n\n                                             report_url           timestamp  \\\n2123  http://suran.kky.zcu.cz:8000//uploader/web_rep... 2024-06-16 23:37:03   \n2148  http://suran.kky.zcu.cz:8000//uploader/web_rep... 2024-06-17 00:33:22   \n2159  http://suran.kky.zcu.cz:8000//uploader/web_rep... 2024-06-17 00:55:01   \n2180  http://suran.kky.zcu.cz:8000//uploader/web_rep... 2024-06-17 11:41:53   \n2202  http://suran.kky.zcu.cz:8000//uploader/web_rep... 2024-06-17 14:00:11   \n\n                                email         uploaded_at       finished_at  \\\n2123  carina.bachmann@med.uni-jena.de 2024-05-24 06:46:00  2024-06-16 21:37   \n2148                mjirik@kky.zcu.cz 2024-06-03 10:53:00  2024-06-16 22:33   \n2159                mjirik@kky.zcu.cz 2024-06-03 10:53:00  2024-06-16 22:55   \n2180                mjirik@kky.zcu.cz 2024-06-03 10:53:00  2024-06-17 09:41   \n2202                mjirik@kky.zcu.cz 2024-06-03 10:53:00  2024-06-17 12:00   \n\n       fps  Needle holder length [m]  Scissors length [m]  Forceps length [m]  \\\n2123  25.0                  6.586552             1.825643            2.822289   \n2148  25.0                  9.734372             0.614122            2.451912   \n2159  25.0                 11.716970             1.274672            1.768750   \n2180  25.0                  3.621411             0.258114            0.180562   \n2202  25.0                  8.379467             0.159525            3.232054   \n\n      ...  Scissors median area presence [%]  \\\n2123  ...                                NaN   \n2148  ...                                NaN   \n2159  ...                                NaN   \n2180  ...                              100.0   \n2202  ...                                0.0   \n\n      Scissors stitch 0 median area presence [%]  \\\n2123                                         NaN   \n2148                                         NaN   \n2159                                         NaN   \n2180                                       100.0   \n2202                                         0.0   \n\n      Needle holder stitch 1 median area presence [%]  \\\n2123                                              NaN   \n2148                                              NaN   \n2159                                              NaN   \n2180                                       100.000000   \n2202                                         5.363985   \n\n      Needle holder stitch 2 median area presence [%]  \\\n2123                                              NaN   \n2148                                              NaN   \n2159                                              NaN   \n2180                                            100.0   \n2202                                              0.0   \n\n      Needle holder stitch 3 median area presence [%]  \\\n2123                                              NaN   \n2148                                              NaN   \n2159                                              NaN   \n2180                                            100.0   \n2202                                              0.0   \n\n      Forceps stitch 1 median area presence [%]  \\\n2123                                        NaN   \n2148                                        NaN   \n2159                                        NaN   \n2180                                        NaN   \n2202                                  23.512748   \n\n      Scissors stitch 1 median area presence [%]  \\\n2123                                         NaN   \n2148                                         NaN   \n2159                                         NaN   \n2180                                         NaN   \n2202                                           0   \n\n      Scissors stitch 2 median area presence [%]  \\\n2123                                         NaN   \n2148                                         NaN   \n2159                                         NaN   \n2180                                         NaN   \n2202                                         0.0   \n\n      Forceps stitch 2 median area presence [%]  is_pretest_num  \n2123                                        NaN               1  \n2148                                        NaN               1  \n2159                                        NaN               0  \n2180                                        NaN               1  \n2202                                        NaN               0  \n\n[5 rows x 499 columns]",
      "text/html": "<div>\n<style scoped>\n    .dataframe tbody tr th:only-of-type {\n        vertical-align: middle;\n    }\n\n    .dataframe tbody tr th {\n        vertical-align: top;\n    }\n\n    .dataframe thead th {\n        text-align: right;\n    }\n</style>\n<table border=\"1\" class=\"dataframe\">\n  <thead>\n    <tr style=\"text-align: right;\">\n      <th></th>\n      <th>filename</th>\n      <th>report_url</th>\n      <th>timestamp</th>\n      <th>email</th>\n      <th>uploaded_at</th>\n      <th>finished_at</th>\n      <th>fps</th>\n      <th>Needle holder length [m]</th>\n      <th>Scissors length [m]</th>\n      <th>Forceps length [m]</th>\n      <th>...</th>\n      <th>Scissors median area presence [%]</th>\n      <th>Scissors stitch 0 median area presence [%]</th>\n      <th>Needle holder stitch 1 median area presence [%]</th>\n      <th>Needle holder stitch 2 median area presence [%]</th>\n      <th>Needle holder stitch 3 median area presence [%]</th>\n      <th>Forceps stitch 1 median area presence [%]</th>\n      <th>Scissors stitch 1 median area presence [%]</th>\n      <th>Scissors stitch 2 median area presence [%]</th>\n      <th>Forceps stitch 2 median area presence [%]</th>\n      <th>is_pretest_num</th>\n    </tr>\n  </thead>\n  <tbody>\n    <tr>\n      <th>2123</th>\n      <td>Pre_-Test_Isabel_Linden.mp4</td>\n      <td>http://suran.kky.zcu.cz:8000//uploader/web_rep...</td>\n      <td>2024-06-16 23:37:03</td>\n      <td>carina.bachmann@med.uni-jena.de</td>\n      <td>2024-05-24 06:46:00</td>\n      <td>2024-06-16 21:37</td>\n      <td>25.0</td>\n      <td>6.586552</td>\n      <td>1.825643</td>\n      <td>2.822289</td>\n      <td>...</td>\n      <td>NaN</td>\n      <td>NaN</td>\n      <td>NaN</td>\n      <td>NaN</td>\n      <td>NaN</td>\n      <td>NaN</td>\n      <td>NaN</td>\n      <td>NaN</td>\n      <td>NaN</td>\n      <td>1</td>\n    </tr>\n    <tr>\n      <th>2148</th>\n      <td>Sarah Grimm PreTest1.mp4</td>\n      <td>http://suran.kky.zcu.cz:8000//uploader/web_rep...</td>\n      <td>2024-06-17 00:33:22</td>\n      <td>mjirik@kky.zcu.cz</td>\n      <td>2024-06-03 10:53:00</td>\n      <td>2024-06-16 22:33</td>\n      <td>25.0</td>\n      <td>9.734372</td>\n      <td>0.614122</td>\n      <td>2.451912</td>\n      <td>...</td>\n      <td>NaN</td>\n      <td>NaN</td>\n      <td>NaN</td>\n      <td>NaN</td>\n      <td>NaN</td>\n      <td>NaN</td>\n      <td>NaN</td>\n      <td>NaN</td>\n      <td>NaN</td>\n      <td>1</td>\n    </tr>\n    <tr>\n      <th>2159</th>\n      <td>Schiesser_David_post_test.mp4</td>\n      <td>http://suran.kky.zcu.cz:8000//uploader/web_rep...</td>\n      <td>2024-06-17 00:55:01</td>\n      <td>mjirik@kky.zcu.cz</td>\n      <td>2024-06-03 10:53:00</td>\n      <td>2024-06-16 22:55</td>\n      <td>25.0</td>\n      <td>11.716970</td>\n      <td>1.274672</td>\n      <td>1.768750</td>\n      <td>...</td>\n      <td>NaN</td>\n      <td>NaN</td>\n      <td>NaN</td>\n      <td>NaN</td>\n      <td>NaN</td>\n      <td>NaN</td>\n      <td>NaN</td>\n      <td>NaN</td>\n      <td>NaN</td>\n      <td>0</td>\n    </tr>\n    <tr>\n      <th>2180</th>\n      <td>Schiesser_David_pre_test.mp4</td>\n      <td>http://suran.kky.zcu.cz:8000//uploader/web_rep...</td>\n      <td>2024-06-17 11:41:53</td>\n      <td>mjirik@kky.zcu.cz</td>\n      <td>2024-06-03 10:53:00</td>\n      <td>2024-06-17 09:41</td>\n      <td>25.0</td>\n      <td>3.621411</td>\n      <td>0.258114</td>\n      <td>0.180562</td>\n      <td>...</td>\n      <td>100.0</td>\n      <td>100.0</td>\n      <td>100.000000</td>\n      <td>100.0</td>\n      <td>100.0</td>\n      <td>NaN</td>\n      <td>NaN</td>\n      <td>NaN</td>\n      <td>NaN</td>\n      <td>1</td>\n    </tr>\n    <tr>\n      <th>2202</th>\n      <td>Hilger,Anke-Posttest.mp4</td>\n      <td>http://suran.kky.zcu.cz:8000//uploader/web_rep...</td>\n      <td>2024-06-17 14:00:11</td>\n      <td>mjirik@kky.zcu.cz</td>\n      <td>2024-06-03 10:53:00</td>\n      <td>2024-06-17 12:00</td>\n      <td>25.0</td>\n      <td>8.379467</td>\n      <td>0.159525</td>\n      <td>3.232054</td>\n      <td>...</td>\n      <td>0.0</td>\n      <td>0.0</td>\n      <td>5.363985</td>\n      <td>0.0</td>\n      <td>0.0</td>\n      <td>23.512748</td>\n      <td>0</td>\n      <td>0.0</td>\n      <td>NaN</td>\n      <td>0</td>\n    </tr>\n  </tbody>\n</table>\n<p>5 rows × 499 columns</p>\n</div>"
     },
     "execution_count": 30,
     "metadata": {},
     "output_type": "execute_result"
    }
   ],
   "source": [
    "display(dfs.columns[dfs.columns.str.contains(\" stitch 2\")])\n",
    "display(dfs.columns[dfs.columns.str.contains(\"Stitch 2\")])\n",
    "# show records with no NA values in \"Stitch 3\" column\n",
    "\n",
    "dfs[dfs[\"Needle holder stitch 3 length [m]\"].notna()]\n"
   ],
   "metadata": {
    "collapsed": false,
    "ExecuteTime": {
     "end_time": "2024-06-17T12:15:00.244901300Z",
     "start_time": "2024-06-17T12:15:00.117041100Z"
    }
   },
   "id": "31453defa6110035",
   "execution_count": 30
  },
  {
   "cell_type": "code",
   "outputs": [
    {
     "data": {
      "text/plain": "                           filename  \\\n2123    Pre_-Test_Isabel_Linden.mp4   \n2148       Sarah Grimm PreTest1.mp4   \n2159  Schiesser_David_post_test.mp4   \n2180   Schiesser_David_pre_test.mp4   \n2202       Hilger,Anke-Posttest.mp4   \n\n                                             report_url           timestamp  \\\n2123  http://suran.kky.zcu.cz:8000//uploader/web_rep... 2024-06-16 23:37:03   \n2148  http://suran.kky.zcu.cz:8000//uploader/web_rep... 2024-06-17 00:33:22   \n2159  http://suran.kky.zcu.cz:8000//uploader/web_rep... 2024-06-17 00:55:01   \n2180  http://suran.kky.zcu.cz:8000//uploader/web_rep... 2024-06-17 11:41:53   \n2202  http://suran.kky.zcu.cz:8000//uploader/web_rep... 2024-06-17 14:00:11   \n\n                                email         uploaded_at       finished_at  \\\n2123  carina.bachmann@med.uni-jena.de 2024-05-24 06:46:00  2024-06-16 21:37   \n2148                mjirik@kky.zcu.cz 2024-06-03 10:53:00  2024-06-16 22:33   \n2159                mjirik@kky.zcu.cz 2024-06-03 10:53:00  2024-06-16 22:55   \n2180                mjirik@kky.zcu.cz 2024-06-03 10:53:00  2024-06-17 09:41   \n2202                mjirik@kky.zcu.cz 2024-06-03 10:53:00  2024-06-17 12:00   \n\n       fps  Needle holder length [m]  Scissors length [m]  Forceps length [m]  \\\n2123  25.0                  6.586552             1.825643            2.822289   \n2148  25.0                  9.734372             0.614122            2.451912   \n2159  25.0                 11.716970             1.274672            1.768750   \n2180  25.0                  3.621411             0.258114            0.180562   \n2202  25.0                  8.379467             0.159525            3.232054   \n\n      ...  Scissors median area presence [%]  \\\n2123  ...                                NaN   \n2148  ...                                NaN   \n2159  ...                                NaN   \n2180  ...                              100.0   \n2202  ...                                0.0   \n\n      Scissors stitch 0 median area presence [%]  \\\n2123                                         NaN   \n2148                                         NaN   \n2159                                         NaN   \n2180                                       100.0   \n2202                                         0.0   \n\n      Needle holder stitch 1 median area presence [%]  \\\n2123                                              NaN   \n2148                                              NaN   \n2159                                              NaN   \n2180                                       100.000000   \n2202                                         5.363985   \n\n      Needle holder stitch 2 median area presence [%]  \\\n2123                                              NaN   \n2148                                              NaN   \n2159                                              NaN   \n2180                                            100.0   \n2202                                              0.0   \n\n      Needle holder stitch 3 median area presence [%]  \\\n2123                                              NaN   \n2148                                              NaN   \n2159                                              NaN   \n2180                                            100.0   \n2202                                              0.0   \n\n      Forceps stitch 1 median area presence [%]  \\\n2123                                        NaN   \n2148                                        NaN   \n2159                                        NaN   \n2180                                        NaN   \n2202                                  23.512748   \n\n      Scissors stitch 1 median area presence [%]  \\\n2123                                         NaN   \n2148                                         NaN   \n2159                                         NaN   \n2180                                         NaN   \n2202                                           0   \n\n      Scissors stitch 2 median area presence [%]  \\\n2123                                         NaN   \n2148                                         NaN   \n2159                                         NaN   \n2180                                         NaN   \n2202                                         0.0   \n\n      Forceps stitch 2 median area presence [%]  is_pretest_num  \n2123                                        NaN               1  \n2148                                        NaN               1  \n2159                                        NaN               0  \n2180                                        NaN               1  \n2202                                        NaN               0  \n\n[5 rows x 499 columns]",
      "text/html": "<div>\n<style scoped>\n    .dataframe tbody tr th:only-of-type {\n        vertical-align: middle;\n    }\n\n    .dataframe tbody tr th {\n        vertical-align: top;\n    }\n\n    .dataframe thead th {\n        text-align: right;\n    }\n</style>\n<table border=\"1\" class=\"dataframe\">\n  <thead>\n    <tr style=\"text-align: right;\">\n      <th></th>\n      <th>filename</th>\n      <th>report_url</th>\n      <th>timestamp</th>\n      <th>email</th>\n      <th>uploaded_at</th>\n      <th>finished_at</th>\n      <th>fps</th>\n      <th>Needle holder length [m]</th>\n      <th>Scissors length [m]</th>\n      <th>Forceps length [m]</th>\n      <th>...</th>\n      <th>Scissors median area presence [%]</th>\n      <th>Scissors stitch 0 median area presence [%]</th>\n      <th>Needle holder stitch 1 median area presence [%]</th>\n      <th>Needle holder stitch 2 median area presence [%]</th>\n      <th>Needle holder stitch 3 median area presence [%]</th>\n      <th>Forceps stitch 1 median area presence [%]</th>\n      <th>Scissors stitch 1 median area presence [%]</th>\n      <th>Scissors stitch 2 median area presence [%]</th>\n      <th>Forceps stitch 2 median area presence [%]</th>\n      <th>is_pretest_num</th>\n    </tr>\n  </thead>\n  <tbody>\n    <tr>\n      <th>2123</th>\n      <td>Pre_-Test_Isabel_Linden.mp4</td>\n      <td>http://suran.kky.zcu.cz:8000//uploader/web_rep...</td>\n      <td>2024-06-16 23:37:03</td>\n      <td>carina.bachmann@med.uni-jena.de</td>\n      <td>2024-05-24 06:46:00</td>\n      <td>2024-06-16 21:37</td>\n      <td>25.0</td>\n      <td>6.586552</td>\n      <td>1.825643</td>\n      <td>2.822289</td>\n      <td>...</td>\n      <td>NaN</td>\n      <td>NaN</td>\n      <td>NaN</td>\n      <td>NaN</td>\n      <td>NaN</td>\n      <td>NaN</td>\n      <td>NaN</td>\n      <td>NaN</td>\n      <td>NaN</td>\n      <td>1</td>\n    </tr>\n    <tr>\n      <th>2148</th>\n      <td>Sarah Grimm PreTest1.mp4</td>\n      <td>http://suran.kky.zcu.cz:8000//uploader/web_rep...</td>\n      <td>2024-06-17 00:33:22</td>\n      <td>mjirik@kky.zcu.cz</td>\n      <td>2024-06-03 10:53:00</td>\n      <td>2024-06-16 22:33</td>\n      <td>25.0</td>\n      <td>9.734372</td>\n      <td>0.614122</td>\n      <td>2.451912</td>\n      <td>...</td>\n      <td>NaN</td>\n      <td>NaN</td>\n      <td>NaN</td>\n      <td>NaN</td>\n      <td>NaN</td>\n      <td>NaN</td>\n      <td>NaN</td>\n      <td>NaN</td>\n      <td>NaN</td>\n      <td>1</td>\n    </tr>\n    <tr>\n      <th>2159</th>\n      <td>Schiesser_David_post_test.mp4</td>\n      <td>http://suran.kky.zcu.cz:8000//uploader/web_rep...</td>\n      <td>2024-06-17 00:55:01</td>\n      <td>mjirik@kky.zcu.cz</td>\n      <td>2024-06-03 10:53:00</td>\n      <td>2024-06-16 22:55</td>\n      <td>25.0</td>\n      <td>11.716970</td>\n      <td>1.274672</td>\n      <td>1.768750</td>\n      <td>...</td>\n      <td>NaN</td>\n      <td>NaN</td>\n      <td>NaN</td>\n      <td>NaN</td>\n      <td>NaN</td>\n      <td>NaN</td>\n      <td>NaN</td>\n      <td>NaN</td>\n      <td>NaN</td>\n      <td>0</td>\n    </tr>\n    <tr>\n      <th>2180</th>\n      <td>Schiesser_David_pre_test.mp4</td>\n      <td>http://suran.kky.zcu.cz:8000//uploader/web_rep...</td>\n      <td>2024-06-17 11:41:53</td>\n      <td>mjirik@kky.zcu.cz</td>\n      <td>2024-06-03 10:53:00</td>\n      <td>2024-06-17 09:41</td>\n      <td>25.0</td>\n      <td>3.621411</td>\n      <td>0.258114</td>\n      <td>0.180562</td>\n      <td>...</td>\n      <td>100.0</td>\n      <td>100.0</td>\n      <td>100.000000</td>\n      <td>100.0</td>\n      <td>100.0</td>\n      <td>NaN</td>\n      <td>NaN</td>\n      <td>NaN</td>\n      <td>NaN</td>\n      <td>1</td>\n    </tr>\n    <tr>\n      <th>2202</th>\n      <td>Hilger,Anke-Posttest.mp4</td>\n      <td>http://suran.kky.zcu.cz:8000//uploader/web_rep...</td>\n      <td>2024-06-17 14:00:11</td>\n      <td>mjirik@kky.zcu.cz</td>\n      <td>2024-06-03 10:53:00</td>\n      <td>2024-06-17 12:00</td>\n      <td>25.0</td>\n      <td>8.379467</td>\n      <td>0.159525</td>\n      <td>3.232054</td>\n      <td>...</td>\n      <td>0.0</td>\n      <td>0.0</td>\n      <td>5.363985</td>\n      <td>0.0</td>\n      <td>0.0</td>\n      <td>23.512748</td>\n      <td>0</td>\n      <td>0.0</td>\n      <td>NaN</td>\n      <td>0</td>\n    </tr>\n  </tbody>\n</table>\n<p>5 rows × 499 columns</p>\n</div>"
     },
     "execution_count": 31,
     "metadata": {},
     "output_type": "execute_result"
    }
   ],
   "source": [
    "dfs[dfs[\"Stitch 3 duration [s]\"].notna()]"
   ],
   "metadata": {
    "collapsed": false,
    "ExecuteTime": {
     "end_time": "2024-06-17T12:15:01.088503600Z",
     "start_time": "2024-06-17T12:15:00.640929100Z"
    }
   },
   "id": "e3704e19d7b2060b",
   "execution_count": 31
  },
  {
   "cell_type": "code",
   "outputs": [],
   "source": [
    "# I have columns named in pattern \"Needle holder stitch 1 length [m]\", \"Needle holder stitch 2 length [m]\", \"Needle holder stitch 3 length [m]\", \"Needle holder stitch 4 length [m]\". I would like to split each row into several rows, each containing just one stitch length and number of the stitch.\n",
    "searched_stitch_number = 2\n",
    "cols = []\n",
    "cols.extend(list(dfs.columns[dfs.columns.str.contains(f\" stitch {searched_stitch_number}\")]))\n",
    "cols.extend(list(dfs.columns[dfs.columns.str.contains(f\"Stitch {searched_stitch_number}\")]))\n",
    "# df_stitches = pd.DataFrame()\n",
    "# df_stitches = dfs.melt(id_vars=[\"filename\"], value_vars=dfs.columns[dfs.columns.str.contains(\" stitch 0\")], var_name=\"stitch\", value_name=\"length\")\n",
    "# df_stitches\n",
    "dfone = dfs[[\"filename\"] + cols]\n",
    "dfone = dfone.copy()\n",
    "rename = {col: col.replace(f\"titch {searched_stitch_number}\", \"titch\") for col in cols }\n",
    "dfone = dfone.rename(columns=rename)\n",
    "dfone[\"stitch_id\"] = searched_stitch_number\n",
    "\n"
   ],
   "metadata": {
    "collapsed": false,
    "ExecuteTime": {
     "end_time": "2024-06-17T12:15:01.867708800Z",
     "start_time": "2024-06-17T12:15:01.124501200Z"
    }
   },
   "id": "d50b8509870c07b9",
   "execution_count": 32
  },
  {
   "cell_type": "code",
   "outputs": [],
   "source": [
    "# dfs"
   ],
   "metadata": {
    "collapsed": false,
    "ExecuteTime": {
     "end_time": "2024-06-17T12:15:02.685352700Z",
     "start_time": "2024-06-17T12:15:02.472472800Z"
    }
   },
   "id": "285ef2be0d3fc8f3",
   "execution_count": 33
  },
  {
   "cell_type": "markdown",
   "id": "d6997045-1eb0-4800-ac0a-fc1327a2dd2d",
   "metadata": {},
   "source": [
    "# Find the correlation"
   ]
  },
  {
   "cell_type": "code",
   "execution_count": 161,
   "id": "ac9eaa05-6615-4b7d-ad65-bbf74ff984e9",
   "metadata": {
    "tags": [],
    "ExecuteTime": {
     "end_time": "2024-06-17T12:46:46.604780400Z",
     "start_time": "2024-06-17T12:46:46.508346900Z"
    }
   },
   "outputs": [],
   "source": [
    "# count numeric values in columns\n",
    "# dfs.drop([\"filename\", \"stars_auto\"], axis=1).apply(lambda x: x.dtype is float).sum()\n",
    "relevant_column = \"is_pretest_num\"\n",
    "# df"
   ]
  },
  {
   "cell_type": "code",
   "execution_count": 162,
   "id": "1b7aa71b1749b7f",
   "metadata": {
    "collapsed": false,
    "tags": [],
    "ExecuteTime": {
     "end_time": "2024-06-17T12:46:47.215309900Z",
     "start_time": "2024-06-17T12:46:46.930280200Z"
    }
   },
   "outputs": [],
   "source": [
    "# remove columns containing \" stitch 1\" in their name\n",
    "dfs = dfs.drop(dfs.columns[dfs.columns.str.contains(\" stitch 1\")], axis=1)\n",
    "dfs = dfs.drop(dfs.columns[dfs.columns.str.contains(\" stitch 2\")], axis=1)\n",
    "dfs = dfs.drop(dfs.columns[dfs.columns.str.contains(\" stitch 3\")], axis=1)\n",
    "dfs = dfs.drop(dfs.columns[dfs.columns.str.contains(\" stitch 4\")], axis=1)\n",
    "dfs = dfs.drop(dfs.columns[dfs.columns.str.contains(\"Stitch 1\")], axis=1)\n",
    "dfs = dfs.drop(dfs.columns[dfs.columns.str.contains(\"Stitch 2\")], axis=1)\n",
    "dfs = dfs.drop(dfs.columns[dfs.columns.str.contains(\"Stitch 3\")], axis=1)\n",
    "dfs = dfs.drop(dfs.columns[dfs.columns.str.contains(\"Stitch 4\")], axis=1)\n",
    "# dfs = dfs.drop(dfs.columns[dfs.columns.str.contains(\"n_stitches_by_user\")], axis=1)\n",
    "# dfs = dfs.drop(dfs.columns[dfs.columns.str.contains(\"annotation_annotation_stars\")], axis=1)\n",
    "\n"
   ]
  },
  {
   "cell_type": "code",
   "outputs": [
    {
     "data": {
      "text/plain": "is_pretest_num                               1.000000\nForceps stitch 0 visibility [%]              0.544166\nScissors velocity                            0.513179\nNeedle holder length [m]                     0.487363\nScissors visibility [s]                      0.452515\n                                               ...   \nannotation_annotation_respect_for_tissue          NaN\nannotation_annotation_time_and_movements          NaN\nannotation_annotation_instrument_handling         NaN\nannotation_annotation_procedure_flow              NaN\nannotation_annotation_i                           NaN\nName: is_pretest_num, Length: 77, dtype: float64"
     },
     "execution_count": 163,
     "metadata": {},
     "output_type": "execute_result"
    }
   ],
   "source": [
    "dfs.corr(numeric_only=True)[relevant_column].abs().sort_values(ascending=False)[\"Needle holder stitch 0 length [m]\"]\n",
    "dfs.corr(numeric_only=True)[relevant_column].abs().sort_values(ascending=False)\n",
    "\n"
   ],
   "metadata": {
    "collapsed": false,
    "ExecuteTime": {
     "end_time": "2024-06-17T12:46:47.335369700Z",
     "start_time": "2024-06-17T12:46:47.180210Z"
    }
   },
   "id": "4e5318e8d4a275f4",
   "execution_count": 163
  },
  {
   "cell_type": "markdown",
   "source": [
    "## Find the best columns to predict annotation_annotation_stars"
   ],
   "metadata": {
    "collapsed": false
   },
   "id": "98cceb8f2d518cbf"
  },
  {
   "cell_type": "code",
   "outputs": [
    {
     "data": {
      "text/plain": "is_pretest_num                               1.000000\nForceps stitch 0 visibility [%]              0.544166\nScissors velocity                            0.513179\nNeedle holder length [m]                     0.487363\nScissors visibility [s]                      0.452515\n                                               ...   \nannotation_annotation_respect_for_tissue          NaN\nannotation_annotation_time_and_movements          NaN\nannotation_annotation_instrument_handling         NaN\nannotation_annotation_procedure_flow              NaN\nannotation_annotation_i                           NaN\nName: is_pretest_num, Length: 77, dtype: float64"
     },
     "execution_count": 164,
     "metadata": {},
     "output_type": "execute_result"
    }
   ],
   "source": [
    "\n",
    "dfs.corr(numeric_only=True)[relevant_column].abs().sort_values(ascending=False)\n"
   ],
   "metadata": {
    "collapsed": false,
    "ExecuteTime": {
     "end_time": "2024-06-17T12:46:48.726210700Z",
     "start_time": "2024-06-17T12:46:48.486037Z"
    }
   },
   "id": "7b3b60fd96e36618",
   "execution_count": 164
  },
  {
   "cell_type": "code",
   "outputs": [
    {
     "data": {
      "text/plain": "['Needle holder stitch 0 length [m]',\n 'Needle holder stitch 0 visibility [s]',\n 'Needle holder stitch 0 velocity',\n 'Needle holder stitch 0 unit',\n 'Needle holder stitch 0 visibility [%]',\n 'Needle holder stitch 0 area presence [%]',\n 'Forceps stitch 0 length [m]',\n 'Forceps stitch 0 visibility [s]',\n 'Forceps stitch 0 velocity',\n 'Forceps stitch 0 unit',\n 'Forceps stitch 0 visibility [%]',\n 'Forceps stitch 0 area presence [%]',\n 'Scissors bbox stitch 0 length [m]',\n 'Scissors bbox stitch 0 visibility [s]',\n 'Scissors bbox stitch 0 velocity',\n 'Scissors bbox stitch 0 unit',\n 'Scissors bbox stitch 0 visibility [%]',\n 'Scissors bbox stitch 0 area presence [%]',\n 'Left hand bbox stitch 0 length [m]',\n 'Left hand bbox stitch 0 visibility [s]',\n 'Left hand bbox stitch 0 velocity',\n 'Left hand bbox stitch 0 unit',\n 'Left hand bbox stitch 0 visibility [%]',\n 'Left hand bbox stitch 0 area presence [%]',\n 'Right hand bbox stitch 0 length [m]',\n 'Right hand bbox stitch 0 visibility [s]',\n 'Right hand bbox stitch 0 velocity',\n 'Right hand bbox stitch 0 unit',\n 'Right hand bbox stitch 0 visibility [%]',\n 'Right hand bbox stitch 0 area presence [%]',\n 'Stitch 0 duration [s]',\n 'Stitch 0 duration [%]',\n 'Needle holder bbox stitch 0 length [m]',\n 'Needle holder bbox stitch 0 visibility [s]',\n 'Needle holder bbox stitch 0 velocity',\n 'Needle holder bbox stitch 0 unit',\n 'Needle holder bbox stitch 0 visibility [%]',\n 'Needle holder bbox stitch 0 area presence [%]',\n 'Forceps bbox stitch 0 length [m]',\n 'Forceps bbox stitch 0 visibility [s]',\n 'Forceps bbox stitch 0 velocity',\n 'Forceps bbox stitch 0 unit',\n 'Forceps bbox stitch 0 visibility [%]',\n 'Forceps bbox stitch 0 area presence [%]',\n 'Scissors stitch 0 length [m]',\n 'Scissors stitch 0 visibility [s]',\n 'Scissors stitch 0 velocity',\n 'Scissors stitch 0 unit',\n 'Scissors stitch 0 visibility [%]',\n 'Scissors stitch 0 area presence [%]',\n 'Needle holder stitch 0 length [pix]',\n 'Forceps stitch 0 length [pix]',\n 'Scissors stitch 0 length [pix]',\n 'Needle holder bbox stitch 0 length [pix]',\n 'Forceps bbox stitch 0 length [pix]',\n 'Scissors bbox stitch 0 length [pix]',\n 'Left hand bbox stitch 0 length [pix]',\n 'Right hand bbox stitch 0 length [pix]',\n 'Forceps curved stitch 0 length [m]',\n 'Forceps curved stitch 0 visibility [s]',\n 'Forceps curved stitch 0 velocity',\n 'Forceps curved stitch 0 unit',\n 'Forceps curved stitch 0 visibility [%]',\n 'Forceps curved stitch 0 area presence [%]',\n 'Forceps curved stitch 0 length [pix]',\n 'Needle holder stitch 0 median area presence [%]',\n 'Forceps stitch 0 median area presence [%]',\n 'Scissors stitch 0 median area presence [%]']"
     },
     "execution_count": 165,
     "metadata": {},
     "output_type": "execute_result"
    }
   ],
   "source": [
    "# get columns containing \"0\"\n",
    "cols_with_0 = list(dfs.columns[dfs.columns.str.contains(\"0\")])\n",
    "cols_with_0"
   ],
   "metadata": {
    "collapsed": false,
    "ExecuteTime": {
     "end_time": "2024-06-17T12:46:51.397453800Z",
     "start_time": "2024-06-17T12:46:51.236146700Z"
    }
   },
   "id": "12800a9e3717c338",
   "execution_count": 165
  },
  {
   "cell_type": "code",
   "execution_count": 166,
   "id": "1d682a975ee6f940",
   "metadata": {
    "collapsed": false,
    "tags": [],
    "ExecuteTime": {
     "end_time": "2024-06-17T12:46:54.966943800Z",
     "start_time": "2024-06-17T12:46:54.817892600Z"
    }
   },
   "outputs": [
    {
     "data": {
      "text/plain": "is_pretest_num                                     1.000000\nForceps stitch 0 visibility [%]                    0.544166\nNeedle holder stitch 0 visibility [%]              0.396896\nNeedle holder stitch 0 median area presence [%]    0.330044\nForceps stitch 0 visibility [s]                    0.328905\nForceps stitch 0 median area presence [%]          0.319254\nScissors stitch 0 velocity                         0.307869\nScissors stitch 0 median area presence [%]         0.298636\nScissors stitch 0 visibility [%]                   0.281929\nNeedle holder stitch 0 length [m]                  0.270487\nNeedle holder stitch 0 visibility [s]              0.267466\nScissors stitch 0 visibility [s]                   0.263070\nForceps stitch 0 length [m]                        0.256184\nNeedle holder stitch 0 velocity                    0.224038\nStitch 0 duration [s]                              0.201470\nNeedle holder stitch 0 area presence [%]           0.174468\nScissors stitch 0 length [m]                       0.157585\nForceps stitch 0 velocity                          0.104510\nForceps stitch 0 area presence [%]                 0.080349\nScissors stitch 0 area presence [%]                0.048687\nStitch 0 duration [%]                              0.020571\nName: is_pretest_num, dtype: float64"
     },
     "execution_count": 166,
     "metadata": {},
     "output_type": "execute_result"
    }
   ],
   "source": [
    "# try to find the best columns to predict stars_auto\n",
    "corr = dfs[cols_with_0 + [relevant_column]].corr(numeric_only=True)[relevant_column].abs().sort_values(ascending=False) #.head(20)\n",
    "# corr = corr[corr.index != \"stars_auto\"] \n",
    "\n",
    "corr"
   ]
  },
  {
   "cell_type": "code",
   "outputs": [],
   "source": [
    "# # corr = dfs.corr(numeric_only=True)[\"annotation_annotation_stars\"].abs().sort_values(ascending=False).head(7)\n",
    "# measurement_vs_annotation_separator = dfs.columns.str.contains(\"annotation_annotation\")\n",
    "# # corr = dfs.corr(numeric_only=True)[\"annotation_annotation_stars\"].abs().sort_values(ascending=False).head(7)\n",
    "# # corr on one axis measurement, on the other annotation, just the first 10\n",
    "# corr = dfs.corr(numeric_only=True).abs()\n",
    "# corr\n",
    "\n",
    "\n",
    "\n"
   ],
   "metadata": {
    "collapsed": false,
    "ExecuteTime": {
     "end_time": "2024-06-17T12:46:55.946012700Z",
     "start_time": "2024-06-17T12:46:55.851995300Z"
    }
   },
   "id": "244635b03a1d94b8",
   "execution_count": 167
  },
  {
   "cell_type": "code",
   "outputs": [],
   "source": [
    "#select the columns containing \"annotation_annotation\" in their name\n",
    "# measurement_vs_annotation_separator = corr.index.str.contains(\"annotation_annotation\")\n",
    "# measurement_vs_annotation_separator"
   ],
   "metadata": {
    "collapsed": false,
    "ExecuteTime": {
     "end_time": "2024-06-17T12:46:56.480501500Z",
     "start_time": "2024-06-17T12:46:56.243586Z"
    }
   },
   "id": "34ab23a9f14e7aa7",
   "execution_count": 168
  },
  {
   "cell_type": "code",
   "outputs": [],
   "source": [
    "# import seaborn as sns\n",
    "# g = sns.pairplot(dfs, y_vars=corr.index[measurement_vs_annotation_separator], \n",
    "#              x_vars=corr.index[~measurement_vs_annotation_separator],\n",
    "#              # x_vars=[\"stars_auto\"]\n",
    "#              # hue=\"n_stitches_by_user\"\n",
    "#              )\n",
    "# g.map_lower(sns.kdeplot, levels=3, color=\".2\")"
   ],
   "metadata": {
    "collapsed": false,
    "ExecuteTime": {
     "end_time": "2024-06-17T12:46:56.742497400Z",
     "start_time": "2024-06-17T12:46:56.403250Z"
    }
   },
   "id": "f8ae65b6df8c563a",
   "execution_count": 169
  },
  {
   "cell_type": "code",
   "outputs": [
    {
     "data": {
      "text/plain": "<seaborn.axisgrid.PairGrid at 0x1d7d7a99c90>"
     },
     "execution_count": 170,
     "metadata": {},
     "output_type": "execute_result"
    },
    {
     "data": {
      "text/plain": "<Figure size 250x5250 with 22 Axes>",
      "image/png": "[encoded data removed]"
     },
     "metadata": {},
     "output_type": "display_data"
    }
   ],
   "source": [
    "\n",
    "sns.pairplot(dfs, y_vars=corr.index,\n",
    "             # x_vars=corr.index,\n",
    "             x_vars=[relevant_column]\n",
    "             )\n"
   ],
   "metadata": {
    "collapsed": false,
    "ExecuteTime": {
     "end_time": "2024-06-17T12:47:01.153182300Z",
     "start_time": "2024-06-17T12:46:56.750628900Z"
    }
   },
   "id": "4817bfe53aecfe9d",
   "execution_count": 170
  },
  {
   "cell_type": "code",
   "outputs": [],
   "source": [
    "\n",
    "# corr = dfs.corr(numeric_only=True)[\"stars_auto\"].sort_values(ascending=False).head(10)\n",
    "# corr\n"
   ],
   "metadata": {
    "collapsed": false,
    "ExecuteTime": {
     "end_time": "2024-06-17T12:47:01.231180700Z",
     "start_time": "2024-06-17T12:47:01.151173500Z"
    }
   },
   "id": "4673f01feed115b5",
   "execution_count": 171
  },
  {
   "cell_type": "code",
   "execution_count": 172,
   "id": "5c45184c-eb71-4c0d-a929-54d97b6ff1a0",
   "metadata": {
    "tags": [],
    "ExecuteTime": {
     "end_time": "2024-06-17T12:47:01.609311900Z",
     "start_time": "2024-06-17T12:47:01.242183800Z"
    }
   },
   "outputs": [],
   "source": [
    "# columns_to_be_removed = [\"stars_auto\"]\n",
    "# columns = list(corr.index)\n",
    "# columns = [col for col in columns if col not in columns_to_be_removed]\n",
    "# columns "
   ]
  },
  {
   "cell_type": "code",
   "outputs": [
    {
     "name": "stderr",
     "output_type": "stream",
     "text": [
      "C:\\Users\\Jirik\\AppData\\Local\\Temp\\ipykernel_31472\\2286235120.py:1: FutureWarning: The default value of numeric_only in DataFrame.mean is deprecated. In a future version, it will default to False. In addition, specifying 'numeric_only=None' is deprecated. Select only valid columns or specify the value of numeric_only to silence this warning.\n",
      "  pretest_mean = dfs[dfs[relevant_column] == 1][cols_with_0 + [relevant_column]].mean()\n",
      "C:\\Users\\Jirik\\AppData\\Local\\Temp\\ipykernel_31472\\2286235120.py:2: FutureWarning: The default value of numeric_only in DataFrame.mean is deprecated. In a future version, it will default to False. In addition, specifying 'numeric_only=None' is deprecated. Select only valid columns or specify the value of numeric_only to silence this warning.\n",
      "  posttest_mean = dfs[dfs[relevant_column] == 0][cols_with_0 + [relevant_column]].mean()\n",
      "C:\\Users\\Jirik\\AppData\\Local\\Temp\\ipykernel_31472\\2286235120.py:3: FutureWarning: The default value of numeric_only in DataFrame.var is deprecated. In a future version, it will default to False. In addition, specifying 'numeric_only=None' is deprecated. Select only valid columns or specify the value of numeric_only to silence this warning.\n",
      "  pretest_var = dfs[dfs[relevant_column] == 1][cols_with_0 + [relevant_column]].var()\n",
      "C:\\Users\\Jirik\\AppData\\Local\\Temp\\ipykernel_31472\\2286235120.py:4: FutureWarning: The default value of numeric_only in DataFrame.var is deprecated. In a future version, it will default to False. In addition, specifying 'numeric_only=None' is deprecated. Select only valid columns or specify the value of numeric_only to silence this warning.\n",
      "  posttest_var = dfs[dfs[relevant_column] == 0][cols_with_0 + [relevant_column]].var()\n"
     ]
    }
   ],
   "source": [
    "pretest_mean = dfs[dfs[relevant_column] == 1][cols_with_0 + [relevant_column]].mean()\n",
    "posttest_mean = dfs[dfs[relevant_column] == 0][cols_with_0 + [relevant_column]].mean()\n",
    "pretest_var = dfs[dfs[relevant_column] == 1][cols_with_0 + [relevant_column]].var()\n",
    "posttest_var = dfs[dfs[relevant_column] == 0][cols_with_0 + [relevant_column]].var()\n",
    "\n",
    "\n",
    "\n",
    "\n"
   ],
   "metadata": {
    "collapsed": false,
    "ExecuteTime": {
     "end_time": "2024-06-17T12:47:01.697473Z",
     "start_time": "2024-06-17T12:47:01.256692100Z"
    }
   },
   "id": "979bb11adfa5c1b2",
   "execution_count": 173
  },
  {
   "cell_type": "code",
   "outputs": [
    {
     "data": {
      "text/plain": "                                                   pretest   posttest  \\\nNeedle holder stitch 0 length [m]                 2.722449   4.344464   \nNeedle holder stitch 0 visibility [s]            64.485714  92.571429   \nNeedle holder stitch 0 velocity                   0.030756   0.036051   \nNeedle holder stitch 0 visibility [%]            67.388738  77.851280   \nNeedle holder stitch 0 area presence [%]         32.786135  44.413393   \n...                                                    ...        ...   \nForceps curved stitch 0 length [pix]                   NaN        NaN   \nNeedle holder stitch 0 median area presence [%]  18.090184   1.217508   \nForceps stitch 0 median area presence [%]        16.914399   0.585671   \nScissors stitch 0 median area presence [%]       16.666667   0.751880   \nis_pretest_num                                    1.000000   0.000000   \n\n                                                 pretest_var  posttest_var  \\\nNeedle holder stitch 0 length [m]                   1.677813     17.763982   \nNeedle holder stitch 0 visibility [s]             309.937355   5661.998309   \nNeedle holder stitch 0 velocity                     0.000137      0.000172   \nNeedle holder stitch 0 visibility [%]             211.774378    129.728492   \nNeedle holder stitch 0 area presence [%]         1693.630084    818.350204   \n...                                                      ...           ...   \nForceps curved stitch 0 length [pix]                     NaN           NaN   \nNeedle holder stitch 0 median area presence [%]  1355.986774      2.489411   \nForceps stitch 0 median area presence [%]        1368.759073      1.685149   \nScissors stitch 0 median area presence [%]       1666.666667      3.957262   \nis_pretest_num                                      0.000000      0.000000   \n\n                                                      diff  \nNeedle holder stitch 0 length [m]                -1.622015  \nNeedle holder stitch 0 visibility [s]           -28.085714  \nNeedle holder stitch 0 velocity                  -0.005295  \nNeedle holder stitch 0 visibility [%]           -10.462542  \nNeedle holder stitch 0 area presence [%]        -11.627258  \n...                                                    ...  \nForceps curved stitch 0 length [pix]                   NaN  \nNeedle holder stitch 0 median area presence [%]  16.872676  \nForceps stitch 0 median area presence [%]        16.328728  \nScissors stitch 0 median area presence [%]       15.914787  \nis_pretest_num                                    1.000000  \n\n[66 rows x 5 columns]",
      "text/html": "<div>\n<style scoped>\n    .dataframe tbody tr th:only-of-type {\n        vertical-align: middle;\n    }\n\n    .dataframe tbody tr th {\n        vertical-align: top;\n    }\n\n    .dataframe thead th {\n        text-align: right;\n    }\n</style>\n<table border=\"1\" class=\"dataframe\">\n  <thead>\n    <tr style=\"text-align: right;\">\n      <th></th>\n      <th>pretest</th>\n      <th>posttest</th>\n      <th>pretest_var</th>\n      <th>posttest_var</th>\n      <th>diff</th>\n    </tr>\n  </thead>\n  <tbody>\n    <tr>\n      <th>Needle holder stitch 0 length [m]</th>\n      <td>2.722449</td>\n      <td>4.344464</td>\n      <td>1.677813</td>\n      <td>17.763982</td>\n      <td>-1.622015</td>\n    </tr>\n    <tr>\n      <th>Needle holder stitch 0 visibility [s]</th>\n      <td>64.485714</td>\n      <td>92.571429</td>\n      <td>309.937355</td>\n      <td>5661.998309</td>\n      <td>-28.085714</td>\n    </tr>\n    <tr>\n      <th>Needle holder stitch 0 velocity</th>\n      <td>0.030756</td>\n      <td>0.036051</td>\n      <td>0.000137</td>\n      <td>0.000172</td>\n      <td>-0.005295</td>\n    </tr>\n    <tr>\n      <th>Needle holder stitch 0 visibility [%]</th>\n      <td>67.388738</td>\n      <td>77.851280</td>\n      <td>211.774378</td>\n      <td>129.728492</td>\n      <td>-10.462542</td>\n    </tr>\n    <tr>\n      <th>Needle holder stitch 0 area presence [%]</th>\n      <td>32.786135</td>\n      <td>44.413393</td>\n      <td>1693.630084</td>\n      <td>818.350204</td>\n      <td>-11.627258</td>\n    </tr>\n    <tr>\n      <th>...</th>\n      <td>...</td>\n      <td>...</td>\n      <td>...</td>\n      <td>...</td>\n      <td>...</td>\n    </tr>\n    <tr>\n      <th>Forceps curved stitch 0 length [pix]</th>\n      <td>NaN</td>\n      <td>NaN</td>\n      <td>NaN</td>\n      <td>NaN</td>\n      <td>NaN</td>\n    </tr>\n    <tr>\n      <th>Needle holder stitch 0 median area presence [%]</th>\n      <td>18.090184</td>\n      <td>1.217508</td>\n      <td>1355.986774</td>\n      <td>2.489411</td>\n      <td>16.872676</td>\n    </tr>\n    <tr>\n      <th>Forceps stitch 0 median area presence [%]</th>\n      <td>16.914399</td>\n      <td>0.585671</td>\n      <td>1368.759073</td>\n      <td>1.685149</td>\n      <td>16.328728</td>\n    </tr>\n    <tr>\n      <th>Scissors stitch 0 median area presence [%]</th>\n      <td>16.666667</td>\n      <td>0.751880</td>\n      <td>1666.666667</td>\n      <td>3.957262</td>\n      <td>15.914787</td>\n    </tr>\n    <tr>\n      <th>is_pretest_num</th>\n      <td>1.000000</td>\n      <td>0.000000</td>\n      <td>0.000000</td>\n      <td>0.000000</td>\n      <td>1.000000</td>\n    </tr>\n  </tbody>\n</table>\n<p>66 rows × 5 columns</p>\n</div>"
     },
     "execution_count": 174,
     "metadata": {},
     "output_type": "execute_result"
    }
   ],
   "source": [
    "df_stats = pd.DataFrame({\"pretest\": pretest_mean, \"posttest\": posttest_mean, \"pretest_var\": pretest_var, \"posttest_var\": posttest_var})\n",
    "df_stats[\"diff\"] = df_stats[\"pretest\"] - df_stats[\"posttest\"]\n",
    "df_stats"
   ],
   "metadata": {
    "collapsed": false,
    "ExecuteTime": {
     "end_time": "2024-06-17T12:47:01.701441900Z",
     "start_time": "2024-06-17T12:47:01.304713400Z"
    }
   },
   "id": "b559b6033140889d",
   "execution_count": 174
  },
  {
   "cell_type": "code",
   "outputs": [
    {
     "name": "stderr",
     "output_type": "stream",
     "text": [
      "ERROR: Could not find a version that satisfies the requirement ace_tools (from versions: none)\n",
      "ERROR: No matching distribution found for ace_tools\n"
     ]
    }
   ],
   "source": [
    "! pip install ace_tools"
   ],
   "metadata": {
    "collapsed": false,
    "ExecuteTime": {
     "end_time": "2024-06-17T12:47:02.746955400Z",
     "start_time": "2024-06-17T12:47:01.319690900Z"
    }
   },
   "id": "8e098242c941d54e",
   "execution_count": 175
  },
  {
   "cell_type": "code",
   "outputs": [
    {
     "name": "stdout",
     "output_type": "stream",
     "text": [
      "Error processing column: Needle holder stitch 0 unit\n",
      "Error processing column: Forceps stitch 0 unit\n",
      "Error processing column: Scissors bbox stitch 0 length [m]\n",
      "Error processing column: Scissors bbox stitch 0 visibility [s]\n",
      "Error processing column: Scissors bbox stitch 0 velocity\n",
      "Error processing column: Scissors bbox stitch 0 unit\n",
      "Error processing column: Scissors bbox stitch 0 visibility [%]\n",
      "Error processing column: Scissors bbox stitch 0 area presence [%]\n",
      "Error processing column: Left hand bbox stitch 0 length [m]\n",
      "Error processing column: Left hand bbox stitch 0 visibility [s]\n",
      "Error processing column: Left hand bbox stitch 0 velocity\n",
      "Error processing column: Left hand bbox stitch 0 unit\n",
      "Error processing column: Left hand bbox stitch 0 visibility [%]\n",
      "Error processing column: Left hand bbox stitch 0 area presence [%]\n",
      "Error processing column: Right hand bbox stitch 0 length [m]\n",
      "Error processing column: Right hand bbox stitch 0 visibility [s]\n",
      "Error processing column: Right hand bbox stitch 0 velocity\n",
      "Error processing column: Right hand bbox stitch 0 unit\n",
      "Error processing column: Right hand bbox stitch 0 visibility [%]\n",
      "Error processing column: Right hand bbox stitch 0 area presence [%]\n",
      "Error processing column: Needle holder bbox stitch 0 length [m]\n",
      "Error processing column: Needle holder bbox stitch 0 visibility [s]\n",
      "Error processing column: Needle holder bbox stitch 0 velocity\n",
      "Error processing column: Needle holder bbox stitch 0 unit\n",
      "Error processing column: Needle holder bbox stitch 0 visibility [%]\n",
      "Error processing column: Needle holder bbox stitch 0 area presence [%]\n",
      "Error processing column: Forceps bbox stitch 0 length [m]\n",
      "Error processing column: Forceps bbox stitch 0 visibility [s]\n",
      "Error processing column: Forceps bbox stitch 0 velocity\n",
      "Error processing column: Forceps bbox stitch 0 unit\n",
      "Error processing column: Forceps bbox stitch 0 visibility [%]\n",
      "Error processing column: Forceps bbox stitch 0 area presence [%]\n",
      "Error processing column: Scissors stitch 0 unit\n",
      "Error processing column: Needle holder stitch 0 length [pix]\n",
      "Error processing column: Forceps stitch 0 length [pix]\n",
      "Error processing column: Scissors stitch 0 length [pix]\n",
      "Error processing column: Needle holder bbox stitch 0 length [pix]\n",
      "Error processing column: Forceps bbox stitch 0 length [pix]\n",
      "Error processing column: Scissors bbox stitch 0 length [pix]\n",
      "Error processing column: Left hand bbox stitch 0 length [pix]\n",
      "Error processing column: Right hand bbox stitch 0 length [pix]\n",
      "Error processing column: Forceps curved stitch 0 length [m]\n",
      "Error processing column: Forceps curved stitch 0 visibility [s]\n",
      "Error processing column: Forceps curved stitch 0 velocity\n",
      "Error processing column: Forceps curved stitch 0 unit\n",
      "Error processing column: Forceps curved stitch 0 visibility [%]\n",
      "Error processing column: Forceps curved stitch 0 area presence [%]\n",
      "Error processing column: Forceps curved stitch 0 length [pix]\n"
     ]
    },
    {
     "name": "stderr",
     "output_type": "stream",
     "text": [
      "C:\\Users\\Jirik\\miniconda3\\envs\\jupyterlab\\lib\\site-packages\\scipy\\stats\\_stats_py.py:112: RuntimeWarning: The input array could not be properly checked for nan values. nan values will be ignored.\n",
      "  warnings.warn(\"The input array could not be properly \"\n",
      "Traceback (most recent call last):\n",
      "  File \"C:\\Users\\Jirik\\AppData\\Local\\Temp\\ipykernel_31472\\2881915677.py\", line 24, in <module>\n",
      "    t_stat, p_value = stats.ttest_rel(pretest_df[col], posttest_df[col], nan_policy='omit')  # Paired t-test\n",
      "  File \"C:\\Users\\Jirik\\miniconda3\\envs\\jupyterlab\\lib\\site-packages\\scipy\\stats\\_stats_py.py\", line 6909, in ttest_rel\n",
      "    d = (a - b).astype(np.float64)\n",
      "TypeError: unsupported operand type(s) for -: 'str' and 'str'\n",
      "Traceback (most recent call last):\n",
      "  File \"C:\\Users\\Jirik\\AppData\\Local\\Temp\\ipykernel_31472\\2881915677.py\", line 24, in <module>\n",
      "    t_stat, p_value = stats.ttest_rel(pretest_df[col], posttest_df[col], nan_policy='omit')  # Paired t-test\n",
      "  File \"C:\\Users\\Jirik\\miniconda3\\envs\\jupyterlab\\lib\\site-packages\\scipy\\stats\\_stats_py.py\", line 6909, in ttest_rel\n",
      "    d = (a - b).astype(np.float64)\n",
      "TypeError: unsupported operand type(s) for -: 'str' and 'str'\n",
      "Traceback (most recent call last):\n",
      "  File \"C:\\Users\\Jirik\\AppData\\Local\\Temp\\ipykernel_31472\\2881915677.py\", line 24, in <module>\n",
      "    t_stat, p_value = stats.ttest_rel(pretest_df[col], posttest_df[col], nan_policy='omit')  # Paired t-test\n",
      "  File \"C:\\Users\\Jirik\\miniconda3\\envs\\jupyterlab\\lib\\site-packages\\scipy\\stats\\_stats_py.py\", line 6891, in ttest_rel\n",
      "    a = ma.masked_invalid(a)\n",
      "  File \"C:\\Users\\Jirik\\miniconda3\\envs\\jupyterlab\\lib\\site-packages\\numpy\\ma\\core.py\", line 2369, in masked_invalid\n",
      "    condition = ~(np.isfinite(a))\n",
      "TypeError: ufunc 'isfinite' not supported for the input types, and the inputs could not be safely coerced to any supported types according to the casting rule ''safe''\n",
      "Traceback (most recent call last):\n",
      "  File \"C:\\Users\\Jirik\\AppData\\Local\\Temp\\ipykernel_31472\\2881915677.py\", line 24, in <module>\n",
      "    t_stat, p_value = stats.ttest_rel(pretest_df[col], posttest_df[col], nan_policy='omit')  # Paired t-test\n",
      "  File \"C:\\Users\\Jirik\\miniconda3\\envs\\jupyterlab\\lib\\site-packages\\scipy\\stats\\_stats_py.py\", line 6891, in ttest_rel\n",
      "    a = ma.masked_invalid(a)\n",
      "  File \"C:\\Users\\Jirik\\miniconda3\\envs\\jupyterlab\\lib\\site-packages\\numpy\\ma\\core.py\", line 2369, in masked_invalid\n",
      "    condition = ~(np.isfinite(a))\n",
      "TypeError: ufunc 'isfinite' not supported for the input types, and the inputs could not be safely coerced to any supported types according to the casting rule ''safe''\n",
      "Traceback (most recent call last):\n",
      "  File \"C:\\Users\\Jirik\\AppData\\Local\\Temp\\ipykernel_31472\\2881915677.py\", line 24, in <module>\n",
      "    t_stat, p_value = stats.ttest_rel(pretest_df[col], posttest_df[col], nan_policy='omit')  # Paired t-test\n",
      "  File \"C:\\Users\\Jirik\\miniconda3\\envs\\jupyterlab\\lib\\site-packages\\scipy\\stats\\_stats_py.py\", line 6891, in ttest_rel\n",
      "    a = ma.masked_invalid(a)\n",
      "  File \"C:\\Users\\Jirik\\miniconda3\\envs\\jupyterlab\\lib\\site-packages\\numpy\\ma\\core.py\", line 2369, in masked_invalid\n",
      "    condition = ~(np.isfinite(a))\n",
      "TypeError: ufunc 'isfinite' not supported for the input types, and the inputs could not be safely coerced to any supported types according to the casting rule ''safe''\n",
      "Traceback (most recent call last):\n",
      "  File \"C:\\Users\\Jirik\\AppData\\Local\\Temp\\ipykernel_31472\\2881915677.py\", line 24, in <module>\n",
      "    t_stat, p_value = stats.ttest_rel(pretest_df[col], posttest_df[col], nan_policy='omit')  # Paired t-test\n",
      "  File \"C:\\Users\\Jirik\\miniconda3\\envs\\jupyterlab\\lib\\site-packages\\scipy\\stats\\_stats_py.py\", line 6891, in ttest_rel\n",
      "    a = ma.masked_invalid(a)\n",
      "  File \"C:\\Users\\Jirik\\miniconda3\\envs\\jupyterlab\\lib\\site-packages\\numpy\\ma\\core.py\", line 2369, in masked_invalid\n",
      "    condition = ~(np.isfinite(a))\n",
      "TypeError: ufunc 'isfinite' not supported for the input types, and the inputs could not be safely coerced to any supported types according to the casting rule ''safe''\n",
      "Traceback (most recent call last):\n",
      "  File \"C:\\Users\\Jirik\\AppData\\Local\\Temp\\ipykernel_31472\\2881915677.py\", line 24, in <module>\n",
      "    t_stat, p_value = stats.ttest_rel(pretest_df[col], posttest_df[col], nan_policy='omit')  # Paired t-test\n",
      "  File \"C:\\Users\\Jirik\\miniconda3\\envs\\jupyterlab\\lib\\site-packages\\scipy\\stats\\_stats_py.py\", line 6891, in ttest_rel\n",
      "    a = ma.masked_invalid(a)\n",
      "  File \"C:\\Users\\Jirik\\miniconda3\\envs\\jupyterlab\\lib\\site-packages\\numpy\\ma\\core.py\", line 2369, in masked_invalid\n",
      "    condition = ~(np.isfinite(a))\n",
      "TypeError: ufunc 'isfinite' not supported for the input types, and the inputs could not be safely coerced to any supported types according to the casting rule ''safe''\n",
      "Traceback (most recent call last):\n",
      "  File \"C:\\Users\\Jirik\\AppData\\Local\\Temp\\ipykernel_31472\\2881915677.py\", line 24, in <module>\n",
      "    t_stat, p_value = stats.ttest_rel(pretest_df[col], posttest_df[col], nan_policy='omit')  # Paired t-test\n",
      "  File \"C:\\Users\\Jirik\\miniconda3\\envs\\jupyterlab\\lib\\site-packages\\scipy\\stats\\_stats_py.py\", line 6891, in ttest_rel\n",
      "    a = ma.masked_invalid(a)\n",
      "  File \"C:\\Users\\Jirik\\miniconda3\\envs\\jupyterlab\\lib\\site-packages\\numpy\\ma\\core.py\", line 2369, in masked_invalid\n",
      "    condition = ~(np.isfinite(a))\n",
      "TypeError: ufunc 'isfinite' not supported for the input types, and the inputs could not be safely coerced to any supported types according to the casting rule ''safe''\n",
      "Traceback (most recent call last):\n",
      "  File \"C:\\Users\\Jirik\\AppData\\Local\\Temp\\ipykernel_31472\\2881915677.py\", line 24, in <module>\n",
      "    t_stat, p_value = stats.ttest_rel(pretest_df[col], posttest_df[col], nan_policy='omit')  # Paired t-test\n",
      "  File \"C:\\Users\\Jirik\\miniconda3\\envs\\jupyterlab\\lib\\site-packages\\scipy\\stats\\_stats_py.py\", line 6891, in ttest_rel\n",
      "    a = ma.masked_invalid(a)\n",
      "  File \"C:\\Users\\Jirik\\miniconda3\\envs\\jupyterlab\\lib\\site-packages\\numpy\\ma\\core.py\", line 2369, in masked_invalid\n",
      "    condition = ~(np.isfinite(a))\n",
      "TypeError: ufunc 'isfinite' not supported for the input types, and the inputs could not be safely coerced to any supported types according to the casting rule ''safe''\n",
      "Traceback (most recent call last):\n",
      "  File \"C:\\Users\\Jirik\\AppData\\Local\\Temp\\ipykernel_31472\\2881915677.py\", line 24, in <module>\n",
      "    t_stat, p_value = stats.ttest_rel(pretest_df[col], posttest_df[col], nan_policy='omit')  # Paired t-test\n",
      "  File \"C:\\Users\\Jirik\\miniconda3\\envs\\jupyterlab\\lib\\site-packages\\scipy\\stats\\_stats_py.py\", line 6891, in ttest_rel\n",
      "    a = ma.masked_invalid(a)\n",
      "  File \"C:\\Users\\Jirik\\miniconda3\\envs\\jupyterlab\\lib\\site-packages\\numpy\\ma\\core.py\", line 2369, in masked_invalid\n",
      "    condition = ~(np.isfinite(a))\n",
      "TypeError: ufunc 'isfinite' not supported for the input types, and the inputs could not be safely coerced to any supported types according to the casting rule ''safe''\n",
      "Traceback (most recent call last):\n",
      "  File \"C:\\Users\\Jirik\\AppData\\Local\\Temp\\ipykernel_31472\\2881915677.py\", line 24, in <module>\n",
      "    t_stat, p_value = stats.ttest_rel(pretest_df[col], posttest_df[col], nan_policy='omit')  # Paired t-test\n",
      "  File \"C:\\Users\\Jirik\\miniconda3\\envs\\jupyterlab\\lib\\site-packages\\scipy\\stats\\_stats_py.py\", line 6891, in ttest_rel\n",
      "    a = ma.masked_invalid(a)\n",
      "  File \"C:\\Users\\Jirik\\miniconda3\\envs\\jupyterlab\\lib\\site-packages\\numpy\\ma\\core.py\", line 2369, in masked_invalid\n",
      "    condition = ~(np.isfinite(a))\n",
      "TypeError: ufunc 'isfinite' not supported for the input types, and the inputs could not be safely coerced to any supported types according to the casting rule ''safe''\n",
      "Traceback (most recent call last):\n",
      "  File \"C:\\Users\\Jirik\\AppData\\Local\\Temp\\ipykernel_31472\\2881915677.py\", line 24, in <module>\n",
      "    t_stat, p_value = stats.ttest_rel(pretest_df[col], posttest_df[col], nan_policy='omit')  # Paired t-test\n",
      "  File \"C:\\Users\\Jirik\\miniconda3\\envs\\jupyterlab\\lib\\site-packages\\scipy\\stats\\_stats_py.py\", line 6891, in ttest_rel\n",
      "    a = ma.masked_invalid(a)\n",
      "  File \"C:\\Users\\Jirik\\miniconda3\\envs\\jupyterlab\\lib\\site-packages\\numpy\\ma\\core.py\", line 2369, in masked_invalid\n",
      "    condition = ~(np.isfinite(a))\n",
      "TypeError: ufunc 'isfinite' not supported for the input types, and the inputs could not be safely coerced to any supported types according to the casting rule ''safe''\n",
      "Traceback (most recent call last):\n",
      "  File \"C:\\Users\\Jirik\\AppData\\Local\\Temp\\ipykernel_31472\\2881915677.py\", line 24, in <module>\n",
      "    t_stat, p_value = stats.ttest_rel(pretest_df[col], posttest_df[col], nan_policy='omit')  # Paired t-test\n",
      "  File \"C:\\Users\\Jirik\\miniconda3\\envs\\jupyterlab\\lib\\site-packages\\scipy\\stats\\_stats_py.py\", line 6891, in ttest_rel\n",
      "    a = ma.masked_invalid(a)\n",
      "  File \"C:\\Users\\Jirik\\miniconda3\\envs\\jupyterlab\\lib\\site-packages\\numpy\\ma\\core.py\", line 2369, in masked_invalid\n",
      "    condition = ~(np.isfinite(a))\n",
      "TypeError: ufunc 'isfinite' not supported for the input types, and the inputs could not be safely coerced to any supported types according to the casting rule ''safe''\n",
      "Traceback (most recent call last):\n",
      "  File \"C:\\Users\\Jirik\\AppData\\Local\\Temp\\ipykernel_31472\\2881915677.py\", line 24, in <module>\n",
      "    t_stat, p_value = stats.ttest_rel(pretest_df[col], posttest_df[col], nan_policy='omit')  # Paired t-test\n",
      "  File \"C:\\Users\\Jirik\\miniconda3\\envs\\jupyterlab\\lib\\site-packages\\scipy\\stats\\_stats_py.py\", line 6891, in ttest_rel\n",
      "    a = ma.masked_invalid(a)\n",
      "  File \"C:\\Users\\Jirik\\miniconda3\\envs\\jupyterlab\\lib\\site-packages\\numpy\\ma\\core.py\", line 2369, in masked_invalid\n",
      "    condition = ~(np.isfinite(a))\n",
      "TypeError: ufunc 'isfinite' not supported for the input types, and the inputs could not be safely coerced to any supported types according to the casting rule ''safe''\n",
      "Traceback (most recent call last):\n",
      "  File \"C:\\Users\\Jirik\\AppData\\Local\\Temp\\ipykernel_31472\\2881915677.py\", line 24, in <module>\n",
      "    t_stat, p_value = stats.ttest_rel(pretest_df[col], posttest_df[col], nan_policy='omit')  # Paired t-test\n",
      "  File \"C:\\Users\\Jirik\\miniconda3\\envs\\jupyterlab\\lib\\site-packages\\scipy\\stats\\_stats_py.py\", line 6891, in ttest_rel\n",
      "    a = ma.masked_invalid(a)\n",
      "  File \"C:\\Users\\Jirik\\miniconda3\\envs\\jupyterlab\\lib\\site-packages\\numpy\\ma\\core.py\", line 2369, in masked_invalid\n",
      "    condition = ~(np.isfinite(a))\n",
      "TypeError: ufunc 'isfinite' not supported for the input types, and the inputs could not be safely coerced to any supported types according to the casting rule ''safe''\n",
      "Traceback (most recent call last):\n",
      "  File \"C:\\Users\\Jirik\\AppData\\Local\\Temp\\ipykernel_31472\\2881915677.py\", line 24, in <module>\n",
      "    t_stat, p_value = stats.ttest_rel(pretest_df[col], posttest_df[col], nan_policy='omit')  # Paired t-test\n",
      "  File \"C:\\Users\\Jirik\\miniconda3\\envs\\jupyterlab\\lib\\site-packages\\scipy\\stats\\_stats_py.py\", line 6891, in ttest_rel\n",
      "    a = ma.masked_invalid(a)\n",
      "  File \"C:\\Users\\Jirik\\miniconda3\\envs\\jupyterlab\\lib\\site-packages\\numpy\\ma\\core.py\", line 2369, in masked_invalid\n",
      "    condition = ~(np.isfinite(a))\n",
      "TypeError: ufunc 'isfinite' not supported for the input types, and the inputs could not be safely coerced to any supported types according to the casting rule ''safe''\n",
      "Traceback (most recent call last):\n",
      "  File \"C:\\Users\\Jirik\\AppData\\Local\\Temp\\ipykernel_31472\\2881915677.py\", line 24, in <module>\n",
      "    t_stat, p_value = stats.ttest_rel(pretest_df[col], posttest_df[col], nan_policy='omit')  # Paired t-test\n",
      "  File \"C:\\Users\\Jirik\\miniconda3\\envs\\jupyterlab\\lib\\site-packages\\scipy\\stats\\_stats_py.py\", line 6891, in ttest_rel\n",
      "    a = ma.masked_invalid(a)\n",
      "  File \"C:\\Users\\Jirik\\miniconda3\\envs\\jupyterlab\\lib\\site-packages\\numpy\\ma\\core.py\", line 2369, in masked_invalid\n",
      "    condition = ~(np.isfinite(a))\n",
      "TypeError: ufunc 'isfinite' not supported for the input types, and the inputs could not be safely coerced to any supported types according to the casting rule ''safe''\n",
      "Traceback (most recent call last):\n",
      "  File \"C:\\Users\\Jirik\\AppData\\Local\\Temp\\ipykernel_31472\\2881915677.py\", line 24, in <module>\n",
      "    t_stat, p_value = stats.ttest_rel(pretest_df[col], posttest_df[col], nan_policy='omit')  # Paired t-test\n",
      "  File \"C:\\Users\\Jirik\\miniconda3\\envs\\jupyterlab\\lib\\site-packages\\scipy\\stats\\_stats_py.py\", line 6891, in ttest_rel\n",
      "    a = ma.masked_invalid(a)\n",
      "  File \"C:\\Users\\Jirik\\miniconda3\\envs\\jupyterlab\\lib\\site-packages\\numpy\\ma\\core.py\", line 2369, in masked_invalid\n",
      "    condition = ~(np.isfinite(a))\n",
      "TypeError: ufunc 'isfinite' not supported for the input types, and the inputs could not be safely coerced to any supported types according to the casting rule ''safe''\n",
      "Traceback (most recent call last):\n",
      "  File \"C:\\Users\\Jirik\\AppData\\Local\\Temp\\ipykernel_31472\\2881915677.py\", line 24, in <module>\n",
      "    t_stat, p_value = stats.ttest_rel(pretest_df[col], posttest_df[col], nan_policy='omit')  # Paired t-test\n",
      "  File \"C:\\Users\\Jirik\\miniconda3\\envs\\jupyterlab\\lib\\site-packages\\scipy\\stats\\_stats_py.py\", line 6891, in ttest_rel\n",
      "    a = ma.masked_invalid(a)\n",
      "  File \"C:\\Users\\Jirik\\miniconda3\\envs\\jupyterlab\\lib\\site-packages\\numpy\\ma\\core.py\", line 2369, in masked_invalid\n",
      "    condition = ~(np.isfinite(a))\n",
      "TypeError: ufunc 'isfinite' not supported for the input types, and the inputs could not be safely coerced to any supported types according to the casting rule ''safe''\n",
      "Traceback (most recent call last):\n",
      "  File \"C:\\Users\\Jirik\\AppData\\Local\\Temp\\ipykernel_31472\\2881915677.py\", line 24, in <module>\n",
      "    t_stat, p_value = stats.ttest_rel(pretest_df[col], posttest_df[col], nan_policy='omit')  # Paired t-test\n",
      "  File \"C:\\Users\\Jirik\\miniconda3\\envs\\jupyterlab\\lib\\site-packages\\scipy\\stats\\_stats_py.py\", line 6891, in ttest_rel\n",
      "    a = ma.masked_invalid(a)\n",
      "  File \"C:\\Users\\Jirik\\miniconda3\\envs\\jupyterlab\\lib\\site-packages\\numpy\\ma\\core.py\", line 2369, in masked_invalid\n",
      "    condition = ~(np.isfinite(a))\n",
      "TypeError: ufunc 'isfinite' not supported for the input types, and the inputs could not be safely coerced to any supported types according to the casting rule ''safe''\n",
      "Traceback (most recent call last):\n",
      "  File \"C:\\Users\\Jirik\\AppData\\Local\\Temp\\ipykernel_31472\\2881915677.py\", line 24, in <module>\n",
      "    t_stat, p_value = stats.ttest_rel(pretest_df[col], posttest_df[col], nan_policy='omit')  # Paired t-test\n",
      "  File \"C:\\Users\\Jirik\\miniconda3\\envs\\jupyterlab\\lib\\site-packages\\scipy\\stats\\_stats_py.py\", line 6891, in ttest_rel\n",
      "    a = ma.masked_invalid(a)\n",
      "  File \"C:\\Users\\Jirik\\miniconda3\\envs\\jupyterlab\\lib\\site-packages\\numpy\\ma\\core.py\", line 2369, in masked_invalid\n",
      "    condition = ~(np.isfinite(a))\n",
      "TypeError: ufunc 'isfinite' not supported for the input types, and the inputs could not be safely coerced to any supported types according to the casting rule ''safe''\n",
      "Traceback (most recent call last):\n",
      "  File \"C:\\Users\\Jirik\\AppData\\Local\\Temp\\ipykernel_31472\\2881915677.py\", line 24, in <module>\n",
      "    t_stat, p_value = stats.ttest_rel(pretest_df[col], posttest_df[col], nan_policy='omit')  # Paired t-test\n",
      "  File \"C:\\Users\\Jirik\\miniconda3\\envs\\jupyterlab\\lib\\site-packages\\scipy\\stats\\_stats_py.py\", line 6891, in ttest_rel\n",
      "    a = ma.masked_invalid(a)\n",
      "  File \"C:\\Users\\Jirik\\miniconda3\\envs\\jupyterlab\\lib\\site-packages\\numpy\\ma\\core.py\", line 2369, in masked_invalid\n",
      "    condition = ~(np.isfinite(a))\n",
      "TypeError: ufunc 'isfinite' not supported for the input types, and the inputs could not be safely coerced to any supported types according to the casting rule ''safe''\n",
      "Traceback (most recent call last):\n",
      "  File \"C:\\Users\\Jirik\\AppData\\Local\\Temp\\ipykernel_31472\\2881915677.py\", line 24, in <module>\n",
      "    t_stat, p_value = stats.ttest_rel(pretest_df[col], posttest_df[col], nan_policy='omit')  # Paired t-test\n",
      "  File \"C:\\Users\\Jirik\\miniconda3\\envs\\jupyterlab\\lib\\site-packages\\scipy\\stats\\_stats_py.py\", line 6891, in ttest_rel\n",
      "    a = ma.masked_invalid(a)\n",
      "  File \"C:\\Users\\Jirik\\miniconda3\\envs\\jupyterlab\\lib\\site-packages\\numpy\\ma\\core.py\", line 2369, in masked_invalid\n",
      "    condition = ~(np.isfinite(a))\n",
      "TypeError: ufunc 'isfinite' not supported for the input types, and the inputs could not be safely coerced to any supported types according to the casting rule ''safe''\n",
      "Traceback (most recent call last):\n",
      "  File \"C:\\Users\\Jirik\\AppData\\Local\\Temp\\ipykernel_31472\\2881915677.py\", line 24, in <module>\n",
      "    t_stat, p_value = stats.ttest_rel(pretest_df[col], posttest_df[col], nan_policy='omit')  # Paired t-test\n",
      "  File \"C:\\Users\\Jirik\\miniconda3\\envs\\jupyterlab\\lib\\site-packages\\scipy\\stats\\_stats_py.py\", line 6891, in ttest_rel\n",
      "    a = ma.masked_invalid(a)\n",
      "  File \"C:\\Users\\Jirik\\miniconda3\\envs\\jupyterlab\\lib\\site-packages\\numpy\\ma\\core.py\", line 2369, in masked_invalid\n",
      "    condition = ~(np.isfinite(a))\n",
      "TypeError: ufunc 'isfinite' not supported for the input types, and the inputs could not be safely coerced to any supported types according to the casting rule ''safe''\n",
      "Traceback (most recent call last):\n",
      "  File \"C:\\Users\\Jirik\\AppData\\Local\\Temp\\ipykernel_31472\\2881915677.py\", line 24, in <module>\n",
      "    t_stat, p_value = stats.ttest_rel(pretest_df[col], posttest_df[col], nan_policy='omit')  # Paired t-test\n",
      "  File \"C:\\Users\\Jirik\\miniconda3\\envs\\jupyterlab\\lib\\site-packages\\scipy\\stats\\_stats_py.py\", line 6891, in ttest_rel\n",
      "    a = ma.masked_invalid(a)\n",
      "  File \"C:\\Users\\Jirik\\miniconda3\\envs\\jupyterlab\\lib\\site-packages\\numpy\\ma\\core.py\", line 2369, in masked_invalid\n",
      "    condition = ~(np.isfinite(a))\n",
      "TypeError: ufunc 'isfinite' not supported for the input types, and the inputs could not be safely coerced to any supported types according to the casting rule ''safe''\n",
      "Traceback (most recent call last):\n",
      "  File \"C:\\Users\\Jirik\\AppData\\Local\\Temp\\ipykernel_31472\\2881915677.py\", line 24, in <module>\n",
      "    t_stat, p_value = stats.ttest_rel(pretest_df[col], posttest_df[col], nan_policy='omit')  # Paired t-test\n",
      "  File \"C:\\Users\\Jirik\\miniconda3\\envs\\jupyterlab\\lib\\site-packages\\scipy\\stats\\_stats_py.py\", line 6891, in ttest_rel\n",
      "    a = ma.masked_invalid(a)\n",
      "  File \"C:\\Users\\Jirik\\miniconda3\\envs\\jupyterlab\\lib\\site-packages\\numpy\\ma\\core.py\", line 2369, in masked_invalid\n",
      "    condition = ~(np.isfinite(a))\n",
      "TypeError: ufunc 'isfinite' not supported for the input types, and the inputs could not be safely coerced to any supported types according to the casting rule ''safe''\n",
      "Traceback (most recent call last):\n",
      "  File \"C:\\Users\\Jirik\\AppData\\Local\\Temp\\ipykernel_31472\\2881915677.py\", line 24, in <module>\n",
      "    t_stat, p_value = stats.ttest_rel(pretest_df[col], posttest_df[col], nan_policy='omit')  # Paired t-test\n",
      "  File \"C:\\Users\\Jirik\\miniconda3\\envs\\jupyterlab\\lib\\site-packages\\scipy\\stats\\_stats_py.py\", line 6891, in ttest_rel\n",
      "    a = ma.masked_invalid(a)\n",
      "  File \"C:\\Users\\Jirik\\miniconda3\\envs\\jupyterlab\\lib\\site-packages\\numpy\\ma\\core.py\", line 2369, in masked_invalid\n",
      "    condition = ~(np.isfinite(a))\n",
      "TypeError: ufunc 'isfinite' not supported for the input types, and the inputs could not be safely coerced to any supported types according to the casting rule ''safe''\n",
      "Traceback (most recent call last):\n",
      "  File \"C:\\Users\\Jirik\\AppData\\Local\\Temp\\ipykernel_31472\\2881915677.py\", line 24, in <module>\n",
      "    t_stat, p_value = stats.ttest_rel(pretest_df[col], posttest_df[col], nan_policy='omit')  # Paired t-test\n",
      "  File \"C:\\Users\\Jirik\\miniconda3\\envs\\jupyterlab\\lib\\site-packages\\scipy\\stats\\_stats_py.py\", line 6891, in ttest_rel\n",
      "    a = ma.masked_invalid(a)\n",
      "  File \"C:\\Users\\Jirik\\miniconda3\\envs\\jupyterlab\\lib\\site-packages\\numpy\\ma\\core.py\", line 2369, in masked_invalid\n",
      "    condition = ~(np.isfinite(a))\n",
      "TypeError: ufunc 'isfinite' not supported for the input types, and the inputs could not be safely coerced to any supported types according to the casting rule ''safe''\n",
      "Traceback (most recent call last):\n",
      "  File \"C:\\Users\\Jirik\\AppData\\Local\\Temp\\ipykernel_31472\\2881915677.py\", line 24, in <module>\n",
      "    t_stat, p_value = stats.ttest_rel(pretest_df[col], posttest_df[col], nan_policy='omit')  # Paired t-test\n",
      "  File \"C:\\Users\\Jirik\\miniconda3\\envs\\jupyterlab\\lib\\site-packages\\scipy\\stats\\_stats_py.py\", line 6891, in ttest_rel\n",
      "    a = ma.masked_invalid(a)\n",
      "  File \"C:\\Users\\Jirik\\miniconda3\\envs\\jupyterlab\\lib\\site-packages\\numpy\\ma\\core.py\", line 2369, in masked_invalid\n",
      "    condition = ~(np.isfinite(a))\n",
      "TypeError: ufunc 'isfinite' not supported for the input types, and the inputs could not be safely coerced to any supported types according to the casting rule ''safe''\n",
      "Traceback (most recent call last):\n",
      "  File \"C:\\Users\\Jirik\\AppData\\Local\\Temp\\ipykernel_31472\\2881915677.py\", line 24, in <module>\n",
      "    t_stat, p_value = stats.ttest_rel(pretest_df[col], posttest_df[col], nan_policy='omit')  # Paired t-test\n",
      "  File \"C:\\Users\\Jirik\\miniconda3\\envs\\jupyterlab\\lib\\site-packages\\scipy\\stats\\_stats_py.py\", line 6891, in ttest_rel\n",
      "    a = ma.masked_invalid(a)\n",
      "  File \"C:\\Users\\Jirik\\miniconda3\\envs\\jupyterlab\\lib\\site-packages\\numpy\\ma\\core.py\", line 2369, in masked_invalid\n",
      "    condition = ~(np.isfinite(a))\n",
      "TypeError: ufunc 'isfinite' not supported for the input types, and the inputs could not be safely coerced to any supported types according to the casting rule ''safe''\n",
      "Traceback (most recent call last):\n",
      "  File \"C:\\Users\\Jirik\\AppData\\Local\\Temp\\ipykernel_31472\\2881915677.py\", line 24, in <module>\n",
      "    t_stat, p_value = stats.ttest_rel(pretest_df[col], posttest_df[col], nan_policy='omit')  # Paired t-test\n",
      "  File \"C:\\Users\\Jirik\\miniconda3\\envs\\jupyterlab\\lib\\site-packages\\scipy\\stats\\_stats_py.py\", line 6891, in ttest_rel\n",
      "    a = ma.masked_invalid(a)\n",
      "  File \"C:\\Users\\Jirik\\miniconda3\\envs\\jupyterlab\\lib\\site-packages\\numpy\\ma\\core.py\", line 2369, in masked_invalid\n",
      "    condition = ~(np.isfinite(a))\n",
      "TypeError: ufunc 'isfinite' not supported for the input types, and the inputs could not be safely coerced to any supported types according to the casting rule ''safe''\n",
      "Traceback (most recent call last):\n",
      "  File \"C:\\Users\\Jirik\\AppData\\Local\\Temp\\ipykernel_31472\\2881915677.py\", line 24, in <module>\n",
      "    t_stat, p_value = stats.ttest_rel(pretest_df[col], posttest_df[col], nan_policy='omit')  # Paired t-test\n",
      "  File \"C:\\Users\\Jirik\\miniconda3\\envs\\jupyterlab\\lib\\site-packages\\scipy\\stats\\_stats_py.py\", line 6891, in ttest_rel\n",
      "    a = ma.masked_invalid(a)\n",
      "  File \"C:\\Users\\Jirik\\miniconda3\\envs\\jupyterlab\\lib\\site-packages\\numpy\\ma\\core.py\", line 2369, in masked_invalid\n",
      "    condition = ~(np.isfinite(a))\n",
      "TypeError: ufunc 'isfinite' not supported for the input types, and the inputs could not be safely coerced to any supported types according to the casting rule ''safe''\n",
      "Traceback (most recent call last):\n",
      "  File \"C:\\Users\\Jirik\\AppData\\Local\\Temp\\ipykernel_31472\\2881915677.py\", line 24, in <module>\n",
      "    t_stat, p_value = stats.ttest_rel(pretest_df[col], posttest_df[col], nan_policy='omit')  # Paired t-test\n",
      "  File \"C:\\Users\\Jirik\\miniconda3\\envs\\jupyterlab\\lib\\site-packages\\scipy\\stats\\_stats_py.py\", line 6909, in ttest_rel\n",
      "    d = (a - b).astype(np.float64)\n",
      "TypeError: unsupported operand type(s) for -: 'str' and 'str'\n",
      "Traceback (most recent call last):\n",
      "  File \"C:\\Users\\Jirik\\AppData\\Local\\Temp\\ipykernel_31472\\2881915677.py\", line 24, in <module>\n",
      "    t_stat, p_value = stats.ttest_rel(pretest_df[col], posttest_df[col], nan_policy='omit')  # Paired t-test\n",
      "  File \"C:\\Users\\Jirik\\miniconda3\\envs\\jupyterlab\\lib\\site-packages\\scipy\\stats\\_stats_py.py\", line 6891, in ttest_rel\n",
      "    a = ma.masked_invalid(a)\n",
      "  File \"C:\\Users\\Jirik\\miniconda3\\envs\\jupyterlab\\lib\\site-packages\\numpy\\ma\\core.py\", line 2369, in masked_invalid\n",
      "    condition = ~(np.isfinite(a))\n",
      "TypeError: ufunc 'isfinite' not supported for the input types, and the inputs could not be safely coerced to any supported types according to the casting rule ''safe''\n",
      "Traceback (most recent call last):\n",
      "  File \"C:\\Users\\Jirik\\AppData\\Local\\Temp\\ipykernel_31472\\2881915677.py\", line 24, in <module>\n",
      "    t_stat, p_value = stats.ttest_rel(pretest_df[col], posttest_df[col], nan_policy='omit')  # Paired t-test\n",
      "  File \"C:\\Users\\Jirik\\miniconda3\\envs\\jupyterlab\\lib\\site-packages\\scipy\\stats\\_stats_py.py\", line 6891, in ttest_rel\n",
      "    a = ma.masked_invalid(a)\n",
      "  File \"C:\\Users\\Jirik\\miniconda3\\envs\\jupyterlab\\lib\\site-packages\\numpy\\ma\\core.py\", line 2369, in masked_invalid\n",
      "    condition = ~(np.isfinite(a))\n",
      "TypeError: ufunc 'isfinite' not supported for the input types, and the inputs could not be safely coerced to any supported types according to the casting rule ''safe''\n",
      "Traceback (most recent call last):\n",
      "  File \"C:\\Users\\Jirik\\AppData\\Local\\Temp\\ipykernel_31472\\2881915677.py\", line 24, in <module>\n",
      "    t_stat, p_value = stats.ttest_rel(pretest_df[col], posttest_df[col], nan_policy='omit')  # Paired t-test\n",
      "  File \"C:\\Users\\Jirik\\miniconda3\\envs\\jupyterlab\\lib\\site-packages\\scipy\\stats\\_stats_py.py\", line 6891, in ttest_rel\n",
      "    a = ma.masked_invalid(a)\n",
      "  File \"C:\\Users\\Jirik\\miniconda3\\envs\\jupyterlab\\lib\\site-packages\\numpy\\ma\\core.py\", line 2369, in masked_invalid\n",
      "    condition = ~(np.isfinite(a))\n",
      "TypeError: ufunc 'isfinite' not supported for the input types, and the inputs could not be safely coerced to any supported types according to the casting rule ''safe''\n",
      "Traceback (most recent call last):\n",
      "  File \"C:\\Users\\Jirik\\AppData\\Local\\Temp\\ipykernel_31472\\2881915677.py\", line 24, in <module>\n",
      "    t_stat, p_value = stats.ttest_rel(pretest_df[col], posttest_df[col], nan_policy='omit')  # Paired t-test\n",
      "  File \"C:\\Users\\Jirik\\miniconda3\\envs\\jupyterlab\\lib\\site-packages\\scipy\\stats\\_stats_py.py\", line 6891, in ttest_rel\n",
      "    a = ma.masked_invalid(a)\n",
      "  File \"C:\\Users\\Jirik\\miniconda3\\envs\\jupyterlab\\lib\\site-packages\\numpy\\ma\\core.py\", line 2369, in masked_invalid\n",
      "    condition = ~(np.isfinite(a))\n",
      "TypeError: ufunc 'isfinite' not supported for the input types, and the inputs could not be safely coerced to any supported types according to the casting rule ''safe''\n",
      "Traceback (most recent call last):\n",
      "  File \"C:\\Users\\Jirik\\AppData\\Local\\Temp\\ipykernel_31472\\2881915677.py\", line 24, in <module>\n",
      "    t_stat, p_value = stats.ttest_rel(pretest_df[col], posttest_df[col], nan_policy='omit')  # Paired t-test\n",
      "  File \"C:\\Users\\Jirik\\miniconda3\\envs\\jupyterlab\\lib\\site-packages\\scipy\\stats\\_stats_py.py\", line 6891, in ttest_rel\n",
      "    a = ma.masked_invalid(a)\n",
      "  File \"C:\\Users\\Jirik\\miniconda3\\envs\\jupyterlab\\lib\\site-packages\\numpy\\ma\\core.py\", line 2369, in masked_invalid\n",
      "    condition = ~(np.isfinite(a))\n",
      "TypeError: ufunc 'isfinite' not supported for the input types, and the inputs could not be safely coerced to any supported types according to the casting rule ''safe''\n",
      "Traceback (most recent call last):\n",
      "  File \"C:\\Users\\Jirik\\AppData\\Local\\Temp\\ipykernel_31472\\2881915677.py\", line 24, in <module>\n",
      "    t_stat, p_value = stats.ttest_rel(pretest_df[col], posttest_df[col], nan_policy='omit')  # Paired t-test\n",
      "  File \"C:\\Users\\Jirik\\miniconda3\\envs\\jupyterlab\\lib\\site-packages\\scipy\\stats\\_stats_py.py\", line 6891, in ttest_rel\n",
      "    a = ma.masked_invalid(a)\n",
      "  File \"C:\\Users\\Jirik\\miniconda3\\envs\\jupyterlab\\lib\\site-packages\\numpy\\ma\\core.py\", line 2369, in masked_invalid\n",
      "    condition = ~(np.isfinite(a))\n",
      "TypeError: ufunc 'isfinite' not supported for the input types, and the inputs could not be safely coerced to any supported types according to the casting rule ''safe''\n",
      "Traceback (most recent call last):\n",
      "  File \"C:\\Users\\Jirik\\AppData\\Local\\Temp\\ipykernel_31472\\2881915677.py\", line 24, in <module>\n",
      "    t_stat, p_value = stats.ttest_rel(pretest_df[col], posttest_df[col], nan_policy='omit')  # Paired t-test\n",
      "  File \"C:\\Users\\Jirik\\miniconda3\\envs\\jupyterlab\\lib\\site-packages\\scipy\\stats\\_stats_py.py\", line 6891, in ttest_rel\n",
      "    a = ma.masked_invalid(a)\n",
      "  File \"C:\\Users\\Jirik\\miniconda3\\envs\\jupyterlab\\lib\\site-packages\\numpy\\ma\\core.py\", line 2369, in masked_invalid\n",
      "    condition = ~(np.isfinite(a))\n",
      "TypeError: ufunc 'isfinite' not supported for the input types, and the inputs could not be safely coerced to any supported types according to the casting rule ''safe''\n",
      "Traceback (most recent call last):\n",
      "  File \"C:\\Users\\Jirik\\AppData\\Local\\Temp\\ipykernel_31472\\2881915677.py\", line 24, in <module>\n",
      "    t_stat, p_value = stats.ttest_rel(pretest_df[col], posttest_df[col], nan_policy='omit')  # Paired t-test\n",
      "  File \"C:\\Users\\Jirik\\miniconda3\\envs\\jupyterlab\\lib\\site-packages\\scipy\\stats\\_stats_py.py\", line 6891, in ttest_rel\n",
      "    a = ma.masked_invalid(a)\n",
      "  File \"C:\\Users\\Jirik\\miniconda3\\envs\\jupyterlab\\lib\\site-packages\\numpy\\ma\\core.py\", line 2369, in masked_invalid\n",
      "    condition = ~(np.isfinite(a))\n",
      "TypeError: ufunc 'isfinite' not supported for the input types, and the inputs could not be safely coerced to any supported types according to the casting rule ''safe''\n",
      "Traceback (most recent call last):\n",
      "  File \"C:\\Users\\Jirik\\AppData\\Local\\Temp\\ipykernel_31472\\2881915677.py\", line 24, in <module>\n",
      "    t_stat, p_value = stats.ttest_rel(pretest_df[col], posttest_df[col], nan_policy='omit')  # Paired t-test\n",
      "  File \"C:\\Users\\Jirik\\miniconda3\\envs\\jupyterlab\\lib\\site-packages\\scipy\\stats\\_stats_py.py\", line 6891, in ttest_rel\n",
      "    a = ma.masked_invalid(a)\n",
      "  File \"C:\\Users\\Jirik\\miniconda3\\envs\\jupyterlab\\lib\\site-packages\\numpy\\ma\\core.py\", line 2369, in masked_invalid\n",
      "    condition = ~(np.isfinite(a))\n",
      "TypeError: ufunc 'isfinite' not supported for the input types, and the inputs could not be safely coerced to any supported types according to the casting rule ''safe''\n",
      "Traceback (most recent call last):\n",
      "  File \"C:\\Users\\Jirik\\AppData\\Local\\Temp\\ipykernel_31472\\2881915677.py\", line 24, in <module>\n",
      "    t_stat, p_value = stats.ttest_rel(pretest_df[col], posttest_df[col], nan_policy='omit')  # Paired t-test\n",
      "  File \"C:\\Users\\Jirik\\miniconda3\\envs\\jupyterlab\\lib\\site-packages\\scipy\\stats\\_stats_py.py\", line 6891, in ttest_rel\n",
      "    a = ma.masked_invalid(a)\n",
      "  File \"C:\\Users\\Jirik\\miniconda3\\envs\\jupyterlab\\lib\\site-packages\\numpy\\ma\\core.py\", line 2369, in masked_invalid\n",
      "    condition = ~(np.isfinite(a))\n",
      "TypeError: ufunc 'isfinite' not supported for the input types, and the inputs could not be safely coerced to any supported types according to the casting rule ''safe''\n",
      "Traceback (most recent call last):\n",
      "  File \"C:\\Users\\Jirik\\AppData\\Local\\Temp\\ipykernel_31472\\2881915677.py\", line 24, in <module>\n",
      "    t_stat, p_value = stats.ttest_rel(pretest_df[col], posttest_df[col], nan_policy='omit')  # Paired t-test\n",
      "  File \"C:\\Users\\Jirik\\miniconda3\\envs\\jupyterlab\\lib\\site-packages\\scipy\\stats\\_stats_py.py\", line 6891, in ttest_rel\n",
      "    a = ma.masked_invalid(a)\n",
      "  File \"C:\\Users\\Jirik\\miniconda3\\envs\\jupyterlab\\lib\\site-packages\\numpy\\ma\\core.py\", line 2369, in masked_invalid\n",
      "    condition = ~(np.isfinite(a))\n",
      "TypeError: ufunc 'isfinite' not supported for the input types, and the inputs could not be safely coerced to any supported types according to the casting rule ''safe''\n",
      "Traceback (most recent call last):\n",
      "  File \"C:\\Users\\Jirik\\AppData\\Local\\Temp\\ipykernel_31472\\2881915677.py\", line 24, in <module>\n",
      "    t_stat, p_value = stats.ttest_rel(pretest_df[col], posttest_df[col], nan_policy='omit')  # Paired t-test\n",
      "  File \"C:\\Users\\Jirik\\miniconda3\\envs\\jupyterlab\\lib\\site-packages\\scipy\\stats\\_stats_py.py\", line 6891, in ttest_rel\n",
      "    a = ma.masked_invalid(a)\n",
      "  File \"C:\\Users\\Jirik\\miniconda3\\envs\\jupyterlab\\lib\\site-packages\\numpy\\ma\\core.py\", line 2369, in masked_invalid\n",
      "    condition = ~(np.isfinite(a))\n",
      "TypeError: ufunc 'isfinite' not supported for the input types, and the inputs could not be safely coerced to any supported types according to the casting rule ''safe''\n",
      "Traceback (most recent call last):\n",
      "  File \"C:\\Users\\Jirik\\AppData\\Local\\Temp\\ipykernel_31472\\2881915677.py\", line 24, in <module>\n",
      "    t_stat, p_value = stats.ttest_rel(pretest_df[col], posttest_df[col], nan_policy='omit')  # Paired t-test\n",
      "  File \"C:\\Users\\Jirik\\miniconda3\\envs\\jupyterlab\\lib\\site-packages\\scipy\\stats\\_stats_py.py\", line 6891, in ttest_rel\n",
      "    a = ma.masked_invalid(a)\n",
      "  File \"C:\\Users\\Jirik\\miniconda3\\envs\\jupyterlab\\lib\\site-packages\\numpy\\ma\\core.py\", line 2369, in masked_invalid\n",
      "    condition = ~(np.isfinite(a))\n",
      "TypeError: ufunc 'isfinite' not supported for the input types, and the inputs could not be safely coerced to any supported types according to the casting rule ''safe''\n",
      "Traceback (most recent call last):\n",
      "  File \"C:\\Users\\Jirik\\AppData\\Local\\Temp\\ipykernel_31472\\2881915677.py\", line 24, in <module>\n",
      "    t_stat, p_value = stats.ttest_rel(pretest_df[col], posttest_df[col], nan_policy='omit')  # Paired t-test\n",
      "  File \"C:\\Users\\Jirik\\miniconda3\\envs\\jupyterlab\\lib\\site-packages\\scipy\\stats\\_stats_py.py\", line 6891, in ttest_rel\n",
      "    a = ma.masked_invalid(a)\n",
      "  File \"C:\\Users\\Jirik\\miniconda3\\envs\\jupyterlab\\lib\\site-packages\\numpy\\ma\\core.py\", line 2369, in masked_invalid\n",
      "    condition = ~(np.isfinite(a))\n",
      "TypeError: ufunc 'isfinite' not supported for the input types, and the inputs could not be safely coerced to any supported types according to the casting rule ''safe''\n",
      "Traceback (most recent call last):\n",
      "  File \"C:\\Users\\Jirik\\AppData\\Local\\Temp\\ipykernel_31472\\2881915677.py\", line 24, in <module>\n",
      "    t_stat, p_value = stats.ttest_rel(pretest_df[col], posttest_df[col], nan_policy='omit')  # Paired t-test\n",
      "  File \"C:\\Users\\Jirik\\miniconda3\\envs\\jupyterlab\\lib\\site-packages\\scipy\\stats\\_stats_py.py\", line 6891, in ttest_rel\n",
      "    a = ma.masked_invalid(a)\n",
      "  File \"C:\\Users\\Jirik\\miniconda3\\envs\\jupyterlab\\lib\\site-packages\\numpy\\ma\\core.py\", line 2369, in masked_invalid\n",
      "    condition = ~(np.isfinite(a))\n",
      "TypeError: ufunc 'isfinite' not supported for the input types, and the inputs could not be safely coerced to any supported types according to the casting rule ''safe''\n"
     ]
    },
    {
     "data": {
      "text/plain": "                                           col_name    t_stat   p_value\n0                 Needle holder stitch 0 length [m] -0.934978  0.385885\n1             Needle holder stitch 0 visibility [s] -0.984098  0.363071\n2                   Needle holder stitch 0 velocity -0.969568  0.369706\n3             Needle holder stitch 0 visibility [%] -1.433291  0.201759\n4          Needle holder stitch 0 area presence [%] -0.701985  0.508990\n5                       Forceps stitch 0 length [m] -0.899178  0.403199\n6                   Forceps stitch 0 visibility [s] -1.250859  0.257551\n7                         Forceps stitch 0 velocity -0.439668  0.675571\n8                   Forceps stitch 0 visibility [%] -2.202124  0.069897\n9                Forceps stitch 0 area presence [%] -0.324468  0.756598\n10                            Stitch 0 duration [s] -0.667306  0.529391\n11                            Stitch 0 duration [%]  0.061892  0.952659\n12                     Scissors stitch 0 length [m] -0.832138  0.443246\n13                 Scissors stitch 0 visibility [s] -0.886139  0.416122\n14                       Scissors stitch 0 velocity  0.736997  0.494232\n15                 Scissors stitch 0 visibility [%] -1.401059  0.220106\n16              Scissors stitch 0 area presence [%] -0.251455  0.811470\n17  Needle holder stitch 0 median area presence [%]  1.190987  0.278633\n18        Forceps stitch 0 median area presence [%]  1.158348  0.290740\n19       Scissors stitch 0 median area presence [%]  0.936282  0.392110",
      "text/html": "<div>\n<style scoped>\n    .dataframe tbody tr th:only-of-type {\n        vertical-align: middle;\n    }\n\n    .dataframe tbody tr th {\n        vertical-align: top;\n    }\n\n    .dataframe thead th {\n        text-align: right;\n    }\n</style>\n<table border=\"1\" class=\"dataframe\">\n  <thead>\n    <tr style=\"text-align: right;\">\n      <th></th>\n      <th>col_name</th>\n      <th>t_stat</th>\n      <th>p_value</th>\n    </tr>\n  </thead>\n  <tbody>\n    <tr>\n      <th>0</th>\n      <td>Needle holder stitch 0 length [m]</td>\n      <td>-0.934978</td>\n      <td>0.385885</td>\n    </tr>\n    <tr>\n      <th>1</th>\n      <td>Needle holder stitch 0 visibility [s]</td>\n      <td>-0.984098</td>\n      <td>0.363071</td>\n    </tr>\n    <tr>\n      <th>2</th>\n      <td>Needle holder stitch 0 velocity</td>\n      <td>-0.969568</td>\n      <td>0.369706</td>\n    </tr>\n    <tr>\n      <th>3</th>\n      <td>Needle holder stitch 0 visibility [%]</td>\n      <td>-1.433291</td>\n      <td>0.201759</td>\n    </tr>\n    <tr>\n      <th>4</th>\n      <td>Needle holder stitch 0 area presence [%]</td>\n      <td>-0.701985</td>\n      <td>0.508990</td>\n    </tr>\n    <tr>\n      <th>5</th>\n      <td>Forceps stitch 0 length [m]</td>\n      <td>-0.899178</td>\n      <td>0.403199</td>\n    </tr>\n    <tr>\n      <th>6</th>\n      <td>Forceps stitch 0 visibility [s]</td>\n      <td>-1.250859</td>\n      <td>0.257551</td>\n    </tr>\n    <tr>\n      <th>7</th>\n      <td>Forceps stitch 0 velocity</td>\n      <td>-0.439668</td>\n      <td>0.675571</td>\n    </tr>\n    <tr>\n      <th>8</th>\n      <td>Forceps stitch 0 visibility [%]</td>\n      <td>-2.202124</td>\n      <td>0.069897</td>\n    </tr>\n    <tr>\n      <th>9</th>\n      <td>Forceps stitch 0 area presence [%]</td>\n      <td>-0.324468</td>\n      <td>0.756598</td>\n    </tr>\n    <tr>\n      <th>10</th>\n      <td>Stitch 0 duration [s]</td>\n      <td>-0.667306</td>\n      <td>0.529391</td>\n    </tr>\n    <tr>\n      <th>11</th>\n      <td>Stitch 0 duration [%]</td>\n      <td>0.061892</td>\n      <td>0.952659</td>\n    </tr>\n    <tr>\n      <th>12</th>\n      <td>Scissors stitch 0 length [m]</td>\n      <td>-0.832138</td>\n      <td>0.443246</td>\n    </tr>\n    <tr>\n      <th>13</th>\n      <td>Scissors stitch 0 visibility [s]</td>\n      <td>-0.886139</td>\n      <td>0.416122</td>\n    </tr>\n    <tr>\n      <th>14</th>\n      <td>Scissors stitch 0 velocity</td>\n      <td>0.736997</td>\n      <td>0.494232</td>\n    </tr>\n    <tr>\n      <th>15</th>\n      <td>Scissors stitch 0 visibility [%]</td>\n      <td>-1.401059</td>\n      <td>0.220106</td>\n    </tr>\n    <tr>\n      <th>16</th>\n      <td>Scissors stitch 0 area presence [%]</td>\n      <td>-0.251455</td>\n      <td>0.811470</td>\n    </tr>\n    <tr>\n      <th>17</th>\n      <td>Needle holder stitch 0 median area presence [%]</td>\n      <td>1.190987</td>\n      <td>0.278633</td>\n    </tr>\n    <tr>\n      <th>18</th>\n      <td>Forceps stitch 0 median area presence [%]</td>\n      <td>1.158348</td>\n      <td>0.290740</td>\n    </tr>\n    <tr>\n      <th>19</th>\n      <td>Scissors stitch 0 median area presence [%]</td>\n      <td>0.936282</td>\n      <td>0.392110</td>\n    </tr>\n  </tbody>\n</table>\n</div>"
     },
     "execution_count": 179,
     "metadata": {},
     "output_type": "execute_result"
    }
   ],
   "source": [
    "import pandas as pd\n",
    "import scipy.stats as stats\n",
    "\n",
    "# Columns to compare\n",
    "# cols_with_0 = list(df_stats.index)  # Replace with your actual column names\n",
    "# relevant_column = \"is_pretest_num\"\n",
    "\n",
    "# DataFrames for each group\n",
    "pretest_df = dfs[dfs[relevant_column] == 1][[\"filename\"] + cols_with_0]\n",
    "posttest_df = dfs[dfs[relevant_column] == 0][[\"filename\"] + cols_with_0]\n",
    "\n",
    "# Ensure both dataframes are sorted by the same criteria to maintain pairing\n",
    "pretest_df.sort_values(by=\"filename\", inplace=True)\n",
    "posttest_df.sort_values(by=\"filename\", inplace=True)\n",
    "# pretest_df = pretest_df.sort_index()\n",
    "# posttest_df = posttest_df.sort_index()\n",
    "\n",
    "# Perform paired t-tests\n",
    "t_stats = []\n",
    "p_values = []\n",
    "col_names = []\n",
    "for col in cols_with_0:\n",
    "    try:\n",
    "        t_stat, p_value = stats.ttest_rel(pretest_df[col], posttest_df[col], nan_policy='omit')  # Paired t-test\n",
    "        t_stats.append(t_stat)\n",
    "        p_values.append(p_value)\n",
    "        col_names.append(col)\n",
    "    except:\n",
    "        print(f\"Error processing column: {col}\")\n",
    "        import traceback\n",
    "        traceback.print_exc()\n",
    "\n",
    "# Collect the statistics in a DataFrame\n",
    "df_stats = pd.DataFrame({\n",
    "    \"col_name\": col_names,\n",
    "    \"t_stat\": t_stats,\n",
    "    \"p_value\": p_values\n",
    "})\n",
    "\n",
    "# import ace_tools as tools; tools.display_dataframe_to_user(name=\"Paired T-Tests Statistics DataFrame\", dataframe=df_stats)\n",
    "\n",
    "df_stats\n",
    "\n",
    "\n"
   ],
   "metadata": {
    "collapsed": false,
    "ExecuteTime": {
     "end_time": "2024-06-17T12:51:47.937869700Z",
     "start_time": "2024-06-17T12:51:47.655839800Z"
    }
   },
   "id": "4a8410d655f555b2",
   "execution_count": 179
  },
  {
   "cell_type": "code",
   "outputs": [
    {
     "data": {
      "text/plain": "                                     filename  \\\n2200  Glöß, Monique, Pretest 1-11.10.2021.mp4   \n2201                 Hilger,Anke-Pretest1.mp4   \n2204                   Jonas Marx_Pretest.mp4   \n2209                 Lausch_Laura_Pretest.mp4   \n2215              Pre_-Test_Isabel_Linden.mp4   \n2216                 Sarah Grimm PreTest1.mp4   \n2180             Schiesser_David_pre_test.mp4   \n\n      Needle holder stitch 0 length [m]  \\\n2200                           3.155002   \n2201                           2.653010   \n2204                           5.297252   \n2209                           1.833348   \n2215                           1.518925   \n2216                           2.869499   \n2180                           1.730106   \n\n      Needle holder stitch 0 visibility [s]  Needle holder stitch 0 velocity  \\\n2200                              41.933333                         0.046177   \n2201                              64.666667                         0.032878   \n2204                              93.466667                         0.045320   \n2209                              71.266667                         0.020547   \n2215                              46.666667                         0.020687   \n2216                              75.000000                         0.031691   \n2180                              58.400000                         0.017994   \n\n     Needle holder stitch 0 unit  Needle holder stitch 0 visibility [%]  \\\n2200                           m                              37.777778   \n2201                           m                              70.289855   \n2204                           m                              75.989160   \n2209                           m                              79.185185   \n2215                           m                              64.516129   \n2216                           m                              79.787234   \n2180                           m                              64.175824   \n\n      Needle holder stitch 0 area presence [%]  Forceps stitch 0 length [m]  \\\n2200                                  0.000000                     0.662657   \n2201                                 60.515464                     0.379417   \n2204                                  0.213980                     2.156998   \n2209                                 89.710009                     0.821892   \n2215                                 77.285714                     0.320440   \n2216                                  1.777778                     0.734290   \n2180                                  0.000000                     0.087466   \n\n      Forceps stitch 0 visibility [s]  Forceps stitch 0 velocity  ...  \\\n2200                        37.666667                   0.015313  ...   \n2201                        19.533333                   0.013234  ...   \n2204                        47.800000                   0.031254  ...   \n2209                        46.533333                   0.014948  ...   \n2215                        20.066667                   0.009389  ...   \n2216                        43.000000                   0.014388  ...   \n2180                        18.733333                   0.003924  ...   \n\n     Forceps curved stitch 0 length [m]  \\\n2200                                NaN   \n2201                                NaN   \n2204                                NaN   \n2209                                NaN   \n2215                                NaN   \n2216                                NaN   \n2180                                NaN   \n\n      Forceps curved stitch 0 visibility [s]  \\\n2200                                     NaN   \n2201                                     NaN   \n2204                                     NaN   \n2209                                     NaN   \n2215                                     NaN   \n2216                                     NaN   \n2180                                     NaN   \n\n      Forceps curved stitch 0 velocity Forceps curved stitch 0 unit  \\\n2200                               NaN                          NaN   \n2201                               NaN                          NaN   \n2204                               NaN                          NaN   \n2209                               NaN                          NaN   \n2215                               NaN                          NaN   \n2216                               NaN                          NaN   \n2180                               NaN                          NaN   \n\n     Forceps curved stitch 0 visibility [%]  \\\n2200                                    NaN   \n2201                                    NaN   \n2204                                    NaN   \n2209                                    NaN   \n2215                                    NaN   \n2216                                    NaN   \n2180                                    NaN   \n\n     Forceps curved stitch 0 area presence [%]  \\\n2200                                       NaN   \n2201                                       NaN   \n2204                                       NaN   \n2209                                       NaN   \n2215                                       NaN   \n2216                                       NaN   \n2180                                       NaN   \n\n     Forceps curved stitch 0 length [pix]  \\\n2200                                  NaN   \n2201                                  NaN   \n2204                                  NaN   \n2209                                  NaN   \n2215                                  NaN   \n2216                                  NaN   \n2180                                  NaN   \n\n     Needle holder stitch 0 median area presence [%]  \\\n2200                                        0.000000   \n2201                                        0.927835   \n2204                                        1.640514   \n2209                                       20.205800   \n2215                                        3.857143   \n2216                                        0.000000   \n2180                                      100.000000   \n\n     Forceps stitch 0 median area presence [%]  \\\n2200                                  0.707965   \n2201                                  3.071672   \n2204                                  0.139470   \n2209                                 14.326648   \n2215                                  0.000000   \n2216                                  0.155039   \n2180                                100.000000   \n\n     Scissors stitch 0 median area presence [%]  \n2200                                        0.0  \n2201                                        NaN  \n2204                                        0.0  \n2209                                        0.0  \n2215                                        0.0  \n2216                                        0.0  \n2180                                      100.0  \n\n[7 rows x 69 columns]",
      "text/html": "<div>\n<style scoped>\n    .dataframe tbody tr th:only-of-type {\n        vertical-align: middle;\n    }\n\n    .dataframe tbody tr th {\n        vertical-align: top;\n    }\n\n    .dataframe thead th {\n        text-align: right;\n    }\n</style>\n<table border=\"1\" class=\"dataframe\">\n  <thead>\n    <tr style=\"text-align: right;\">\n      <th></th>\n      <th>filename</th>\n      <th>Needle holder stitch 0 length [m]</th>\n      <th>Needle holder stitch 0 visibility [s]</th>\n      <th>Needle holder stitch 0 velocity</th>\n      <th>Needle holder stitch 0 unit</th>\n      <th>Needle holder stitch 0 visibility [%]</th>\n      <th>Needle holder stitch 0 area presence [%]</th>\n      <th>Forceps stitch 0 length [m]</th>\n      <th>Forceps stitch 0 visibility [s]</th>\n      <th>Forceps stitch 0 velocity</th>\n      <th>...</th>\n      <th>Forceps curved stitch 0 length [m]</th>\n      <th>Forceps curved stitch 0 visibility [s]</th>\n      <th>Forceps curved stitch 0 velocity</th>\n      <th>Forceps curved stitch 0 unit</th>\n      <th>Forceps curved stitch 0 visibility [%]</th>\n      <th>Forceps curved stitch 0 area presence [%]</th>\n      <th>Forceps curved stitch 0 length [pix]</th>\n      <th>Needle holder stitch 0 median area presence [%]</th>\n      <th>Forceps stitch 0 median area presence [%]</th>\n      <th>Scissors stitch 0 median area presence [%]</th>\n    </tr>\n  </thead>\n  <tbody>\n    <tr>\n      <th>2200</th>\n      <td>Glöß, Monique, Pretest 1-11.10.2021.mp4</td>\n      <td>3.155002</td>\n      <td>41.933333</td>\n      <td>0.046177</td>\n      <td>m</td>\n      <td>37.777778</td>\n      <td>0.000000</td>\n      <td>0.662657</td>\n      <td>37.666667</td>\n      <td>0.015313</td>\n      <td>...</td>\n      <td>NaN</td>\n      <td>NaN</td>\n      <td>NaN</td>\n      <td>NaN</td>\n      <td>NaN</td>\n      <td>NaN</td>\n      <td>NaN</td>\n      <td>0.000000</td>\n      <td>0.707965</td>\n      <td>0.0</td>\n    </tr>\n    <tr>\n      <th>2201</th>\n      <td>Hilger,Anke-Pretest1.mp4</td>\n      <td>2.653010</td>\n      <td>64.666667</td>\n      <td>0.032878</td>\n      <td>m</td>\n      <td>70.289855</td>\n      <td>60.515464</td>\n      <td>0.379417</td>\n      <td>19.533333</td>\n      <td>0.013234</td>\n      <td>...</td>\n      <td>NaN</td>\n      <td>NaN</td>\n      <td>NaN</td>\n      <td>NaN</td>\n      <td>NaN</td>\n      <td>NaN</td>\n      <td>NaN</td>\n      <td>0.927835</td>\n      <td>3.071672</td>\n      <td>NaN</td>\n    </tr>\n    <tr>\n      <th>2204</th>\n      <td>Jonas Marx_Pretest.mp4</td>\n      <td>5.297252</td>\n      <td>93.466667</td>\n      <td>0.045320</td>\n      <td>m</td>\n      <td>75.989160</td>\n      <td>0.213980</td>\n      <td>2.156998</td>\n      <td>47.800000</td>\n      <td>0.031254</td>\n      <td>...</td>\n      <td>NaN</td>\n      <td>NaN</td>\n      <td>NaN</td>\n      <td>NaN</td>\n      <td>NaN</td>\n      <td>NaN</td>\n      <td>NaN</td>\n      <td>1.640514</td>\n      <td>0.139470</td>\n      <td>0.0</td>\n    </tr>\n    <tr>\n      <th>2209</th>\n      <td>Lausch_Laura_Pretest.mp4</td>\n      <td>1.833348</td>\n      <td>71.266667</td>\n      <td>0.020547</td>\n      <td>m</td>\n      <td>79.185185</td>\n      <td>89.710009</td>\n      <td>0.821892</td>\n      <td>46.533333</td>\n      <td>0.014948</td>\n      <td>...</td>\n      <td>NaN</td>\n      <td>NaN</td>\n      <td>NaN</td>\n      <td>NaN</td>\n      <td>NaN</td>\n      <td>NaN</td>\n      <td>NaN</td>\n      <td>20.205800</td>\n      <td>14.326648</td>\n      <td>0.0</td>\n    </tr>\n    <tr>\n      <th>2215</th>\n      <td>Pre_-Test_Isabel_Linden.mp4</td>\n      <td>1.518925</td>\n      <td>46.666667</td>\n      <td>0.020687</td>\n      <td>m</td>\n      <td>64.516129</td>\n      <td>77.285714</td>\n      <td>0.320440</td>\n      <td>20.066667</td>\n      <td>0.009389</td>\n      <td>...</td>\n      <td>NaN</td>\n      <td>NaN</td>\n      <td>NaN</td>\n      <td>NaN</td>\n      <td>NaN</td>\n      <td>NaN</td>\n      <td>NaN</td>\n      <td>3.857143</td>\n      <td>0.000000</td>\n      <td>0.0</td>\n    </tr>\n    <tr>\n      <th>2216</th>\n      <td>Sarah Grimm PreTest1.mp4</td>\n      <td>2.869499</td>\n      <td>75.000000</td>\n      <td>0.031691</td>\n      <td>m</td>\n      <td>79.787234</td>\n      <td>1.777778</td>\n      <td>0.734290</td>\n      <td>43.000000</td>\n      <td>0.014388</td>\n      <td>...</td>\n      <td>NaN</td>\n      <td>NaN</td>\n      <td>NaN</td>\n      <td>NaN</td>\n      <td>NaN</td>\n      <td>NaN</td>\n      <td>NaN</td>\n      <td>0.000000</td>\n      <td>0.155039</td>\n      <td>0.0</td>\n    </tr>\n    <tr>\n      <th>2180</th>\n      <td>Schiesser_David_pre_test.mp4</td>\n      <td>1.730106</td>\n      <td>58.400000</td>\n      <td>0.017994</td>\n      <td>m</td>\n      <td>64.175824</td>\n      <td>0.000000</td>\n      <td>0.087466</td>\n      <td>18.733333</td>\n      <td>0.003924</td>\n      <td>...</td>\n      <td>NaN</td>\n      <td>NaN</td>\n      <td>NaN</td>\n      <td>NaN</td>\n      <td>NaN</td>\n      <td>NaN</td>\n      <td>NaN</td>\n      <td>100.000000</td>\n      <td>100.000000</td>\n      <td>100.0</td>\n    </tr>\n  </tbody>\n</table>\n<p>7 rows × 69 columns</p>\n</div>"
     },
     "execution_count": 177,
     "metadata": {},
     "output_type": "execute_result"
    }
   ],
   "source": [
    "# order by filname\n",
    "pretest_df.sort_values(by=\"filename\", inplace=True)\n",
    "pretest_df"
   ],
   "metadata": {
    "collapsed": false,
    "ExecuteTime": {
     "end_time": "2024-06-17T12:47:02.921864500Z",
     "start_time": "2024-06-17T12:47:02.783318300Z"
    }
   },
   "id": "70cf8b4fb9fa5d6e",
   "execution_count": 177
  },
  {
   "cell_type": "code",
   "outputs": [
    {
     "data": {
      "text/plain": "                           filename  Needle holder stitch 0 length [m]  \\\n2198     Glöß, Monique_Posttest.mp4                           2.640002   \n2202       Hilger,Anke-Posttest.mp4                           1.366011   \n2205        Jonas Marx_Posttest.mp4                           2.058316   \n2208      Lausch_Laura-Posttest.mp4                           1.459292   \n2214   Post_-Test_Isabel_Linden.mp4                           7.535714   \n2217           Sarah Grimm post.mp4                          12.619390   \n2218  Schiesser_David_post_test.mp4                           2.732524   \n\n      Needle holder stitch 0 visibility [s]  Needle holder stitch 0 velocity  \\\n2198                              39.066667                         0.059791   \n2202                              39.533333                         0.025232   \n2205                              67.866667                         0.024867   \n2208                              48.200000                         0.025564   \n2214                             153.266667                         0.032481   \n2217                             237.866667                         0.045985   \n2218                              62.200000                         0.038436   \n\n     Needle holder stitch 0 unit  Needle holder stitch 0 visibility [%]  \\\n2198                           m                              84.316547   \n2202                           m                              68.160920   \n2205                           m                              80.793651   \n2208                           m                              83.103448   \n2214                           m                              57.417582   \n2217                           m                              79.696225   \n2218                           m                              91.470588   \n\n      Needle holder stitch 0 area presence [%]  Forceps stitch 0 length [m]  \\\n2198                                  1.535836                     0.479117   \n2202                                 69.477234                     0.597761   \n2205                                 57.367387                     0.850144   \n2208                                 67.081604                     0.512004   \n2214                                 21.922575                     2.032734   \n2217                                 21.804933                     3.208020   \n2218                                 71.704180                     0.524773   \n\n      Forceps stitch 0 visibility [s]  Forceps stitch 0 velocity  ...  \\\n2198                        25.133333                   0.016709  ...   \n2202                        29.666667                   0.015615  ...   \n2205                        40.000000                   0.018027  ...   \n2208                        26.533333                   0.014976  ...   \n2214                        79.466667                   0.014898  ...   \n2217                       137.200000                   0.017119  ...   \n2218                        34.466667                   0.013320  ...   \n\n     Forceps curved stitch 0 length [m]  \\\n2198                                NaN   \n2202                                NaN   \n2205                                NaN   \n2208                                NaN   \n2214                                NaN   \n2217                                NaN   \n2218                                NaN   \n\n      Forceps curved stitch 0 visibility [s]  \\\n2198                                     NaN   \n2202                                     NaN   \n2205                                     NaN   \n2208                                     NaN   \n2214                                     NaN   \n2217                                     NaN   \n2218                                     NaN   \n\n      Forceps curved stitch 0 velocity Forceps curved stitch 0 unit  \\\n2198                               NaN                          NaN   \n2202                               NaN                          NaN   \n2205                               NaN                          NaN   \n2208                               NaN                          NaN   \n2214                               NaN                          NaN   \n2217                               NaN                          NaN   \n2218                               NaN                          NaN   \n\n     Forceps curved stitch 0 visibility [%]  \\\n2198                                    NaN   \n2202                                    NaN   \n2205                                    NaN   \n2208                                    NaN   \n2214                                    NaN   \n2217                                    NaN   \n2218                                    NaN   \n\n     Forceps curved stitch 0 area presence [%]  \\\n2198                                       NaN   \n2202                                       NaN   \n2205                                       NaN   \n2208                                       NaN   \n2214                                       NaN   \n2217                                       NaN   \n2218                                       NaN   \n\n     Forceps curved stitch 0 length [pix]  \\\n2198                                  NaN   \n2202                                  NaN   \n2205                                  NaN   \n2208                                  NaN   \n2214                                  NaN   \n2217                                  NaN   \n2218                                  NaN   \n\n     Needle holder stitch 0 median area presence [%]  \\\n2198                                        2.389078   \n2202                                        0.000000   \n2205                                        3.831041   \n2208                                        0.000000   \n2214                                        2.218356   \n2217                                        0.084081   \n2218                                        0.000000   \n\n     Forceps stitch 0 median area presence [%]  \\\n2198                                  0.000000   \n2202                                  0.000000   \n2205                                  3.500000   \n2208                                  0.502513   \n2214                                  0.000000   \n2217                                  0.097182   \n2218                                  0.000000   \n\n     Scissors stitch 0 median area presence [%]  \n2198                                   0.000000  \n2202                                   0.000000  \n2205                                   0.000000  \n2208                                   5.263158  \n2214                                   0.000000  \n2217                                   0.000000  \n2218                                   0.000000  \n\n[7 rows x 69 columns]",
      "text/html": "<div>\n<style scoped>\n    .dataframe tbody tr th:only-of-type {\n        vertical-align: middle;\n    }\n\n    .dataframe tbody tr th {\n        vertical-align: top;\n    }\n\n    .dataframe thead th {\n        text-align: right;\n    }\n</style>\n<table border=\"1\" class=\"dataframe\">\n  <thead>\n    <tr style=\"text-align: right;\">\n      <th></th>\n      <th>filename</th>\n      <th>Needle holder stitch 0 length [m]</th>\n      <th>Needle holder stitch 0 visibility [s]</th>\n      <th>Needle holder stitch 0 velocity</th>\n      <th>Needle holder stitch 0 unit</th>\n      <th>Needle holder stitch 0 visibility [%]</th>\n      <th>Needle holder stitch 0 area presence [%]</th>\n      <th>Forceps stitch 0 length [m]</th>\n      <th>Forceps stitch 0 visibility [s]</th>\n      <th>Forceps stitch 0 velocity</th>\n      <th>...</th>\n      <th>Forceps curved stitch 0 length [m]</th>\n      <th>Forceps curved stitch 0 visibility [s]</th>\n      <th>Forceps curved stitch 0 velocity</th>\n      <th>Forceps curved stitch 0 unit</th>\n      <th>Forceps curved stitch 0 visibility [%]</th>\n      <th>Forceps curved stitch 0 area presence [%]</th>\n      <th>Forceps curved stitch 0 length [pix]</th>\n      <th>Needle holder stitch 0 median area presence [%]</th>\n      <th>Forceps stitch 0 median area presence [%]</th>\n      <th>Scissors stitch 0 median area presence [%]</th>\n    </tr>\n  </thead>\n  <tbody>\n    <tr>\n      <th>2198</th>\n      <td>Glöß, Monique_Posttest.mp4</td>\n      <td>2.640002</td>\n      <td>39.066667</td>\n      <td>0.059791</td>\n      <td>m</td>\n      <td>84.316547</td>\n      <td>1.535836</td>\n      <td>0.479117</td>\n      <td>25.133333</td>\n      <td>0.016709</td>\n      <td>...</td>\n      <td>NaN</td>\n      <td>NaN</td>\n      <td>NaN</td>\n      <td>NaN</td>\n      <td>NaN</td>\n      <td>NaN</td>\n      <td>NaN</td>\n      <td>2.389078</td>\n      <td>0.000000</td>\n      <td>0.000000</td>\n    </tr>\n    <tr>\n      <th>2202</th>\n      <td>Hilger,Anke-Posttest.mp4</td>\n      <td>1.366011</td>\n      <td>39.533333</td>\n      <td>0.025232</td>\n      <td>m</td>\n      <td>68.160920</td>\n      <td>69.477234</td>\n      <td>0.597761</td>\n      <td>29.666667</td>\n      <td>0.015615</td>\n      <td>...</td>\n      <td>NaN</td>\n      <td>NaN</td>\n      <td>NaN</td>\n      <td>NaN</td>\n      <td>NaN</td>\n      <td>NaN</td>\n      <td>NaN</td>\n      <td>0.000000</td>\n      <td>0.000000</td>\n      <td>0.000000</td>\n    </tr>\n    <tr>\n      <th>2205</th>\n      <td>Jonas Marx_Posttest.mp4</td>\n      <td>2.058316</td>\n      <td>67.866667</td>\n      <td>0.024867</td>\n      <td>m</td>\n      <td>80.793651</td>\n      <td>57.367387</td>\n      <td>0.850144</td>\n      <td>40.000000</td>\n      <td>0.018027</td>\n      <td>...</td>\n      <td>NaN</td>\n      <td>NaN</td>\n      <td>NaN</td>\n      <td>NaN</td>\n      <td>NaN</td>\n      <td>NaN</td>\n      <td>NaN</td>\n      <td>3.831041</td>\n      <td>3.500000</td>\n      <td>0.000000</td>\n    </tr>\n    <tr>\n      <th>2208</th>\n      <td>Lausch_Laura-Posttest.mp4</td>\n      <td>1.459292</td>\n      <td>48.200000</td>\n      <td>0.025564</td>\n      <td>m</td>\n      <td>83.103448</td>\n      <td>67.081604</td>\n      <td>0.512004</td>\n      <td>26.533333</td>\n      <td>0.014976</td>\n      <td>...</td>\n      <td>NaN</td>\n      <td>NaN</td>\n      <td>NaN</td>\n      <td>NaN</td>\n      <td>NaN</td>\n      <td>NaN</td>\n      <td>NaN</td>\n      <td>0.000000</td>\n      <td>0.502513</td>\n      <td>5.263158</td>\n    </tr>\n    <tr>\n      <th>2214</th>\n      <td>Post_-Test_Isabel_Linden.mp4</td>\n      <td>7.535714</td>\n      <td>153.266667</td>\n      <td>0.032481</td>\n      <td>m</td>\n      <td>57.417582</td>\n      <td>21.922575</td>\n      <td>2.032734</td>\n      <td>79.466667</td>\n      <td>0.014898</td>\n      <td>...</td>\n      <td>NaN</td>\n      <td>NaN</td>\n      <td>NaN</td>\n      <td>NaN</td>\n      <td>NaN</td>\n      <td>NaN</td>\n      <td>NaN</td>\n      <td>2.218356</td>\n      <td>0.000000</td>\n      <td>0.000000</td>\n    </tr>\n    <tr>\n      <th>2217</th>\n      <td>Sarah Grimm post.mp4</td>\n      <td>12.619390</td>\n      <td>237.866667</td>\n      <td>0.045985</td>\n      <td>m</td>\n      <td>79.696225</td>\n      <td>21.804933</td>\n      <td>3.208020</td>\n      <td>137.200000</td>\n      <td>0.017119</td>\n      <td>...</td>\n      <td>NaN</td>\n      <td>NaN</td>\n      <td>NaN</td>\n      <td>NaN</td>\n      <td>NaN</td>\n      <td>NaN</td>\n      <td>NaN</td>\n      <td>0.084081</td>\n      <td>0.097182</td>\n      <td>0.000000</td>\n    </tr>\n    <tr>\n      <th>2218</th>\n      <td>Schiesser_David_post_test.mp4</td>\n      <td>2.732524</td>\n      <td>62.200000</td>\n      <td>0.038436</td>\n      <td>m</td>\n      <td>91.470588</td>\n      <td>71.704180</td>\n      <td>0.524773</td>\n      <td>34.466667</td>\n      <td>0.013320</td>\n      <td>...</td>\n      <td>NaN</td>\n      <td>NaN</td>\n      <td>NaN</td>\n      <td>NaN</td>\n      <td>NaN</td>\n      <td>NaN</td>\n      <td>NaN</td>\n      <td>0.000000</td>\n      <td>0.000000</td>\n      <td>0.000000</td>\n    </tr>\n  </tbody>\n</table>\n<p>7 rows × 69 columns</p>\n</div>"
     },
     "execution_count": 178,
     "metadata": {},
     "output_type": "execute_result"
    }
   ],
   "source": [
    "posttest_df.sort_values(by=\"filename\", inplace=True)\n",
    "posttest_df"
   ],
   "metadata": {
    "collapsed": false,
    "ExecuteTime": {
     "end_time": "2024-06-17T12:47:03.023014600Z",
     "start_time": "2024-06-17T12:47:02.800180800Z"
    }
   },
   "id": "89ca7052d925d09b",
   "execution_count": 178
  },
  {
   "cell_type": "code",
   "outputs": [
    {
     "name": "stdout",
     "output_type": "stream",
     "text": [
      "Needle holder stitch 0 unit\n",
      "Forceps stitch 0 unit\n",
      "Scissors bbox stitch 0 length [m]\n",
      "Scissors bbox stitch 0 visibility [s]\n",
      "Scissors bbox stitch 0 velocity\n",
      "Scissors bbox stitch 0 unit\n",
      "Scissors bbox stitch 0 visibility [%]\n",
      "Scissors bbox stitch 0 area presence [%]\n",
      "Left hand bbox stitch 0 length [m]\n",
      "Left hand bbox stitch 0 visibility [s]\n",
      "Left hand bbox stitch 0 velocity\n",
      "Left hand bbox stitch 0 unit\n",
      "Left hand bbox stitch 0 visibility [%]\n",
      "Left hand bbox stitch 0 area presence [%]\n",
      "Right hand bbox stitch 0 length [m]\n",
      "Right hand bbox stitch 0 visibility [s]\n",
      "Right hand bbox stitch 0 velocity\n",
      "Right hand bbox stitch 0 unit\n",
      "Right hand bbox stitch 0 visibility [%]\n",
      "Right hand bbox stitch 0 area presence [%]\n",
      "Needle holder bbox stitch 0 length [m]\n",
      "Needle holder bbox stitch 0 visibility [s]\n",
      "Needle holder bbox stitch 0 velocity\n",
      "Needle holder bbox stitch 0 unit\n",
      "Needle holder bbox stitch 0 visibility [%]\n",
      "Needle holder bbox stitch 0 area presence [%]\n",
      "Forceps bbox stitch 0 length [m]\n",
      "Forceps bbox stitch 0 visibility [s]\n",
      "Forceps bbox stitch 0 velocity\n",
      "Forceps bbox stitch 0 unit\n",
      "Forceps bbox stitch 0 visibility [%]\n",
      "Forceps bbox stitch 0 area presence [%]\n",
      "Scissors stitch 0 unit\n",
      "Needle holder bbox stitch 0 length [pix]\n",
      "Forceps bbox stitch 0 length [pix]\n",
      "Scissors bbox stitch 0 length [pix]\n",
      "Left hand bbox stitch 0 length [pix]\n",
      "Right hand bbox stitch 0 length [pix]\n",
      "Forceps curved stitch 0 length [m]\n",
      "Forceps curved stitch 0 visibility [s]\n",
      "Forceps curved stitch 0 velocity\n",
      "Forceps curved stitch 0 unit\n",
      "Forceps curved stitch 0 visibility [%]\n",
      "Forceps curved stitch 0 area presence [%]\n",
      "Forceps curved stitch 0 length [pix]\n"
     ]
    },
    {
     "name": "stderr",
     "output_type": "stream",
     "text": [
      "C:\\Users\\Jirik\\miniconda3\\envs\\jupyterlab\\lib\\site-packages\\scipy\\stats\\_stats_py.py:112: RuntimeWarning: The input array could not be properly checked for nan values. nan values will be ignored.\n",
      "  warnings.warn(\"The input array could not be properly \"\n",
      "Traceback (most recent call last):\n",
      "  File \"C:\\Users\\Jirik\\AppData\\Local\\Temp\\ipykernel_5084\\3727262361.py\", line 24, in <module>\n",
      "    t_stat, p_value = stats.ttest_ind(pretest_df[col], posttest_df[col], equal_var=False)  # Assuming unequal variance\n",
      "  File \"C:\\Users\\Jirik\\miniconda3\\envs\\jupyterlab\\lib\\site-packages\\scipy\\stats\\_stats_py.py\", line 6587, in ttest_ind\n",
      "    v1 = _var(a, axis, ddof=1)\n",
      "  File \"C:\\Users\\Jirik\\miniconda3\\envs\\jupyterlab\\lib\\site-packages\\scipy\\stats\\_stats_py.py\", line 1250, in _var\n",
      "    var = _moment(x, 2, axis, mean=mean)\n",
      "  File \"C:\\Users\\Jirik\\miniconda3\\envs\\jupyterlab\\lib\\site-packages\\scipy\\stats\\_stats_py.py\", line 1220, in _moment\n",
      "    mean = a.mean(axis, keepdims=True) if mean is None else mean\n",
      "  File \"C:\\Users\\Jirik\\miniconda3\\envs\\jupyterlab\\lib\\site-packages\\numpy\\core\\_methods.py\", line 179, in _mean\n",
      "    ret = umr_sum(arr, axis, dtype, out, keepdims, where=where)\n",
      "TypeError: can only concatenate str (not \"float\") to str\n",
      "Traceback (most recent call last):\n",
      "  File \"C:\\Users\\Jirik\\AppData\\Local\\Temp\\ipykernel_5084\\3727262361.py\", line 24, in <module>\n",
      "    t_stat, p_value = stats.ttest_ind(pretest_df[col], posttest_df[col], equal_var=False)  # Assuming unequal variance\n",
      "  File \"C:\\Users\\Jirik\\miniconda3\\envs\\jupyterlab\\lib\\site-packages\\scipy\\stats\\_stats_py.py\", line 6587, in ttest_ind\n",
      "    v1 = _var(a, axis, ddof=1)\n",
      "  File \"C:\\Users\\Jirik\\miniconda3\\envs\\jupyterlab\\lib\\site-packages\\scipy\\stats\\_stats_py.py\", line 1250, in _var\n",
      "    var = _moment(x, 2, axis, mean=mean)\n",
      "  File \"C:\\Users\\Jirik\\miniconda3\\envs\\jupyterlab\\lib\\site-packages\\scipy\\stats\\_stats_py.py\", line 1220, in _moment\n",
      "    mean = a.mean(axis, keepdims=True) if mean is None else mean\n",
      "  File \"C:\\Users\\Jirik\\miniconda3\\envs\\jupyterlab\\lib\\site-packages\\numpy\\core\\_methods.py\", line 179, in _mean\n",
      "    ret = umr_sum(arr, axis, dtype, out, keepdims, where=where)\n",
      "TypeError: can only concatenate str (not \"float\") to str\n",
      "Traceback (most recent call last):\n",
      "  File \"C:\\Users\\Jirik\\AppData\\Local\\Temp\\ipykernel_5084\\3727262361.py\", line 24, in <module>\n",
      "    t_stat, p_value = stats.ttest_ind(pretest_df[col], posttest_df[col], equal_var=False)  # Assuming unequal variance\n",
      "  File \"C:\\Users\\Jirik\\miniconda3\\envs\\jupyterlab\\lib\\site-packages\\scipy\\stats\\_stats_py.py\", line 6587, in ttest_ind\n",
      "    v1 = _var(a, axis, ddof=1)\n",
      "  File \"C:\\Users\\Jirik\\miniconda3\\envs\\jupyterlab\\lib\\site-packages\\scipy\\stats\\_stats_py.py\", line 1250, in _var\n",
      "    var = _moment(x, 2, axis, mean=mean)\n",
      "  File \"C:\\Users\\Jirik\\miniconda3\\envs\\jupyterlab\\lib\\site-packages\\scipy\\stats\\_stats_py.py\", line 1223, in _moment\n",
      "    eps = np.finfo(a_zero_mean.dtype).resolution * 10\n",
      "  File \"C:\\Users\\Jirik\\miniconda3\\envs\\jupyterlab\\lib\\site-packages\\numpy\\core\\getlimits.py\", line 398, in __new__\n",
      "    raise ValueError(\"data type %r not inexact\" % (dtype))\n",
      "ValueError: data type <class 'numpy.object_'> not inexact\n",
      "Traceback (most recent call last):\n",
      "  File \"C:\\Users\\Jirik\\AppData\\Local\\Temp\\ipykernel_5084\\3727262361.py\", line 24, in <module>\n",
      "    t_stat, p_value = stats.ttest_ind(pretest_df[col], posttest_df[col], equal_var=False)  # Assuming unequal variance\n",
      "  File \"C:\\Users\\Jirik\\miniconda3\\envs\\jupyterlab\\lib\\site-packages\\scipy\\stats\\_stats_py.py\", line 6587, in ttest_ind\n",
      "    v1 = _var(a, axis, ddof=1)\n",
      "  File \"C:\\Users\\Jirik\\miniconda3\\envs\\jupyterlab\\lib\\site-packages\\scipy\\stats\\_stats_py.py\", line 1250, in _var\n",
      "    var = _moment(x, 2, axis, mean=mean)\n",
      "  File \"C:\\Users\\Jirik\\miniconda3\\envs\\jupyterlab\\lib\\site-packages\\scipy\\stats\\_stats_py.py\", line 1223, in _moment\n",
      "    eps = np.finfo(a_zero_mean.dtype).resolution * 10\n",
      "  File \"C:\\Users\\Jirik\\miniconda3\\envs\\jupyterlab\\lib\\site-packages\\numpy\\core\\getlimits.py\", line 398, in __new__\n",
      "    raise ValueError(\"data type %r not inexact\" % (dtype))\n",
      "ValueError: data type <class 'numpy.object_'> not inexact\n",
      "Traceback (most recent call last):\n",
      "  File \"C:\\Users\\Jirik\\AppData\\Local\\Temp\\ipykernel_5084\\3727262361.py\", line 24, in <module>\n",
      "    t_stat, p_value = stats.ttest_ind(pretest_df[col], posttest_df[col], equal_var=False)  # Assuming unequal variance\n",
      "  File \"C:\\Users\\Jirik\\miniconda3\\envs\\jupyterlab\\lib\\site-packages\\scipy\\stats\\_stats_py.py\", line 6587, in ttest_ind\n",
      "    v1 = _var(a, axis, ddof=1)\n",
      "  File \"C:\\Users\\Jirik\\miniconda3\\envs\\jupyterlab\\lib\\site-packages\\scipy\\stats\\_stats_py.py\", line 1250, in _var\n",
      "    var = _moment(x, 2, axis, mean=mean)\n",
      "  File \"C:\\Users\\Jirik\\miniconda3\\envs\\jupyterlab\\lib\\site-packages\\scipy\\stats\\_stats_py.py\", line 1223, in _moment\n",
      "    eps = np.finfo(a_zero_mean.dtype).resolution * 10\n",
      "  File \"C:\\Users\\Jirik\\miniconda3\\envs\\jupyterlab\\lib\\site-packages\\numpy\\core\\getlimits.py\", line 398, in __new__\n",
      "    raise ValueError(\"data type %r not inexact\" % (dtype))\n",
      "ValueError: data type <class 'numpy.object_'> not inexact\n",
      "Traceback (most recent call last):\n",
      "  File \"C:\\Users\\Jirik\\AppData\\Local\\Temp\\ipykernel_5084\\3727262361.py\", line 24, in <module>\n",
      "    t_stat, p_value = stats.ttest_ind(pretest_df[col], posttest_df[col], equal_var=False)  # Assuming unequal variance\n",
      "  File \"C:\\Users\\Jirik\\miniconda3\\envs\\jupyterlab\\lib\\site-packages\\scipy\\stats\\_stats_py.py\", line 6587, in ttest_ind\n",
      "    v1 = _var(a, axis, ddof=1)\n",
      "  File \"C:\\Users\\Jirik\\miniconda3\\envs\\jupyterlab\\lib\\site-packages\\scipy\\stats\\_stats_py.py\", line 1250, in _var\n",
      "    var = _moment(x, 2, axis, mean=mean)\n",
      "  File \"C:\\Users\\Jirik\\miniconda3\\envs\\jupyterlab\\lib\\site-packages\\scipy\\stats\\_stats_py.py\", line 1223, in _moment\n",
      "    eps = np.finfo(a_zero_mean.dtype).resolution * 10\n",
      "  File \"C:\\Users\\Jirik\\miniconda3\\envs\\jupyterlab\\lib\\site-packages\\numpy\\core\\getlimits.py\", line 398, in __new__\n",
      "    raise ValueError(\"data type %r not inexact\" % (dtype))\n",
      "ValueError: data type <class 'numpy.object_'> not inexact\n",
      "Traceback (most recent call last):\n",
      "  File \"C:\\Users\\Jirik\\AppData\\Local\\Temp\\ipykernel_5084\\3727262361.py\", line 24, in <module>\n",
      "    t_stat, p_value = stats.ttest_ind(pretest_df[col], posttest_df[col], equal_var=False)  # Assuming unequal variance\n",
      "  File \"C:\\Users\\Jirik\\miniconda3\\envs\\jupyterlab\\lib\\site-packages\\scipy\\stats\\_stats_py.py\", line 6587, in ttest_ind\n",
      "    v1 = _var(a, axis, ddof=1)\n",
      "  File \"C:\\Users\\Jirik\\miniconda3\\envs\\jupyterlab\\lib\\site-packages\\scipy\\stats\\_stats_py.py\", line 1250, in _var\n",
      "    var = _moment(x, 2, axis, mean=mean)\n",
      "  File \"C:\\Users\\Jirik\\miniconda3\\envs\\jupyterlab\\lib\\site-packages\\scipy\\stats\\_stats_py.py\", line 1223, in _moment\n",
      "    eps = np.finfo(a_zero_mean.dtype).resolution * 10\n",
      "  File \"C:\\Users\\Jirik\\miniconda3\\envs\\jupyterlab\\lib\\site-packages\\numpy\\core\\getlimits.py\", line 398, in __new__\n",
      "    raise ValueError(\"data type %r not inexact\" % (dtype))\n",
      "ValueError: data type <class 'numpy.object_'> not inexact\n",
      "Traceback (most recent call last):\n",
      "  File \"C:\\Users\\Jirik\\AppData\\Local\\Temp\\ipykernel_5084\\3727262361.py\", line 24, in <module>\n",
      "    t_stat, p_value = stats.ttest_ind(pretest_df[col], posttest_df[col], equal_var=False)  # Assuming unequal variance\n",
      "  File \"C:\\Users\\Jirik\\miniconda3\\envs\\jupyterlab\\lib\\site-packages\\scipy\\stats\\_stats_py.py\", line 6587, in ttest_ind\n",
      "    v1 = _var(a, axis, ddof=1)\n",
      "  File \"C:\\Users\\Jirik\\miniconda3\\envs\\jupyterlab\\lib\\site-packages\\scipy\\stats\\_stats_py.py\", line 1250, in _var\n",
      "    var = _moment(x, 2, axis, mean=mean)\n",
      "  File \"C:\\Users\\Jirik\\miniconda3\\envs\\jupyterlab\\lib\\site-packages\\scipy\\stats\\_stats_py.py\", line 1223, in _moment\n",
      "    eps = np.finfo(a_zero_mean.dtype).resolution * 10\n",
      "  File \"C:\\Users\\Jirik\\miniconda3\\envs\\jupyterlab\\lib\\site-packages\\numpy\\core\\getlimits.py\", line 398, in __new__\n",
      "    raise ValueError(\"data type %r not inexact\" % (dtype))\n",
      "ValueError: data type <class 'numpy.object_'> not inexact\n",
      "Traceback (most recent call last):\n",
      "  File \"C:\\Users\\Jirik\\AppData\\Local\\Temp\\ipykernel_5084\\3727262361.py\", line 24, in <module>\n",
      "    t_stat, p_value = stats.ttest_ind(pretest_df[col], posttest_df[col], equal_var=False)  # Assuming unequal variance\n",
      "  File \"C:\\Users\\Jirik\\miniconda3\\envs\\jupyterlab\\lib\\site-packages\\scipy\\stats\\_stats_py.py\", line 6587, in ttest_ind\n",
      "    v1 = _var(a, axis, ddof=1)\n",
      "  File \"C:\\Users\\Jirik\\miniconda3\\envs\\jupyterlab\\lib\\site-packages\\scipy\\stats\\_stats_py.py\", line 1250, in _var\n",
      "    var = _moment(x, 2, axis, mean=mean)\n",
      "  File \"C:\\Users\\Jirik\\miniconda3\\envs\\jupyterlab\\lib\\site-packages\\scipy\\stats\\_stats_py.py\", line 1223, in _moment\n",
      "    eps = np.finfo(a_zero_mean.dtype).resolution * 10\n",
      "  File \"C:\\Users\\Jirik\\miniconda3\\envs\\jupyterlab\\lib\\site-packages\\numpy\\core\\getlimits.py\", line 398, in __new__\n",
      "    raise ValueError(\"data type %r not inexact\" % (dtype))\n",
      "ValueError: data type <class 'numpy.object_'> not inexact\n",
      "Traceback (most recent call last):\n",
      "  File \"C:\\Users\\Jirik\\AppData\\Local\\Temp\\ipykernel_5084\\3727262361.py\", line 24, in <module>\n",
      "    t_stat, p_value = stats.ttest_ind(pretest_df[col], posttest_df[col], equal_var=False)  # Assuming unequal variance\n",
      "  File \"C:\\Users\\Jirik\\miniconda3\\envs\\jupyterlab\\lib\\site-packages\\scipy\\stats\\_stats_py.py\", line 6587, in ttest_ind\n",
      "    v1 = _var(a, axis, ddof=1)\n",
      "  File \"C:\\Users\\Jirik\\miniconda3\\envs\\jupyterlab\\lib\\site-packages\\scipy\\stats\\_stats_py.py\", line 1250, in _var\n",
      "    var = _moment(x, 2, axis, mean=mean)\n",
      "  File \"C:\\Users\\Jirik\\miniconda3\\envs\\jupyterlab\\lib\\site-packages\\scipy\\stats\\_stats_py.py\", line 1223, in _moment\n",
      "    eps = np.finfo(a_zero_mean.dtype).resolution * 10\n",
      "  File \"C:\\Users\\Jirik\\miniconda3\\envs\\jupyterlab\\lib\\site-packages\\numpy\\core\\getlimits.py\", line 398, in __new__\n",
      "    raise ValueError(\"data type %r not inexact\" % (dtype))\n",
      "ValueError: data type <class 'numpy.object_'> not inexact\n",
      "Traceback (most recent call last):\n",
      "  File \"C:\\Users\\Jirik\\AppData\\Local\\Temp\\ipykernel_5084\\3727262361.py\", line 24, in <module>\n",
      "    t_stat, p_value = stats.ttest_ind(pretest_df[col], posttest_df[col], equal_var=False)  # Assuming unequal variance\n",
      "  File \"C:\\Users\\Jirik\\miniconda3\\envs\\jupyterlab\\lib\\site-packages\\scipy\\stats\\_stats_py.py\", line 6587, in ttest_ind\n",
      "    v1 = _var(a, axis, ddof=1)\n",
      "  File \"C:\\Users\\Jirik\\miniconda3\\envs\\jupyterlab\\lib\\site-packages\\scipy\\stats\\_stats_py.py\", line 1250, in _var\n",
      "    var = _moment(x, 2, axis, mean=mean)\n",
      "  File \"C:\\Users\\Jirik\\miniconda3\\envs\\jupyterlab\\lib\\site-packages\\scipy\\stats\\_stats_py.py\", line 1223, in _moment\n",
      "    eps = np.finfo(a_zero_mean.dtype).resolution * 10\n",
      "  File \"C:\\Users\\Jirik\\miniconda3\\envs\\jupyterlab\\lib\\site-packages\\numpy\\core\\getlimits.py\", line 398, in __new__\n",
      "    raise ValueError(\"data type %r not inexact\" % (dtype))\n",
      "ValueError: data type <class 'numpy.object_'> not inexact\n",
      "Traceback (most recent call last):\n",
      "  File \"C:\\Users\\Jirik\\AppData\\Local\\Temp\\ipykernel_5084\\3727262361.py\", line 24, in <module>\n",
      "    t_stat, p_value = stats.ttest_ind(pretest_df[col], posttest_df[col], equal_var=False)  # Assuming unequal variance\n",
      "  File \"C:\\Users\\Jirik\\miniconda3\\envs\\jupyterlab\\lib\\site-packages\\scipy\\stats\\_stats_py.py\", line 6587, in ttest_ind\n",
      "    v1 = _var(a, axis, ddof=1)\n",
      "  File \"C:\\Users\\Jirik\\miniconda3\\envs\\jupyterlab\\lib\\site-packages\\scipy\\stats\\_stats_py.py\", line 1250, in _var\n",
      "    var = _moment(x, 2, axis, mean=mean)\n",
      "  File \"C:\\Users\\Jirik\\miniconda3\\envs\\jupyterlab\\lib\\site-packages\\scipy\\stats\\_stats_py.py\", line 1223, in _moment\n",
      "    eps = np.finfo(a_zero_mean.dtype).resolution * 10\n",
      "  File \"C:\\Users\\Jirik\\miniconda3\\envs\\jupyterlab\\lib\\site-packages\\numpy\\core\\getlimits.py\", line 398, in __new__\n",
      "    raise ValueError(\"data type %r not inexact\" % (dtype))\n",
      "ValueError: data type <class 'numpy.object_'> not inexact\n",
      "Traceback (most recent call last):\n",
      "  File \"C:\\Users\\Jirik\\AppData\\Local\\Temp\\ipykernel_5084\\3727262361.py\", line 24, in <module>\n",
      "    t_stat, p_value = stats.ttest_ind(pretest_df[col], posttest_df[col], equal_var=False)  # Assuming unequal variance\n",
      "  File \"C:\\Users\\Jirik\\miniconda3\\envs\\jupyterlab\\lib\\site-packages\\scipy\\stats\\_stats_py.py\", line 6587, in ttest_ind\n",
      "    v1 = _var(a, axis, ddof=1)\n",
      "  File \"C:\\Users\\Jirik\\miniconda3\\envs\\jupyterlab\\lib\\site-packages\\scipy\\stats\\_stats_py.py\", line 1250, in _var\n",
      "    var = _moment(x, 2, axis, mean=mean)\n",
      "  File \"C:\\Users\\Jirik\\miniconda3\\envs\\jupyterlab\\lib\\site-packages\\scipy\\stats\\_stats_py.py\", line 1223, in _moment\n",
      "    eps = np.finfo(a_zero_mean.dtype).resolution * 10\n",
      "  File \"C:\\Users\\Jirik\\miniconda3\\envs\\jupyterlab\\lib\\site-packages\\numpy\\core\\getlimits.py\", line 398, in __new__\n",
      "    raise ValueError(\"data type %r not inexact\" % (dtype))\n",
      "ValueError: data type <class 'numpy.object_'> not inexact\n",
      "Traceback (most recent call last):\n",
      "  File \"C:\\Users\\Jirik\\AppData\\Local\\Temp\\ipykernel_5084\\3727262361.py\", line 24, in <module>\n",
      "    t_stat, p_value = stats.ttest_ind(pretest_df[col], posttest_df[col], equal_var=False)  # Assuming unequal variance\n",
      "  File \"C:\\Users\\Jirik\\miniconda3\\envs\\jupyterlab\\lib\\site-packages\\scipy\\stats\\_stats_py.py\", line 6587, in ttest_ind\n",
      "    v1 = _var(a, axis, ddof=1)\n",
      "  File \"C:\\Users\\Jirik\\miniconda3\\envs\\jupyterlab\\lib\\site-packages\\scipy\\stats\\_stats_py.py\", line 1250, in _var\n",
      "    var = _moment(x, 2, axis, mean=mean)\n",
      "  File \"C:\\Users\\Jirik\\miniconda3\\envs\\jupyterlab\\lib\\site-packages\\scipy\\stats\\_stats_py.py\", line 1223, in _moment\n",
      "    eps = np.finfo(a_zero_mean.dtype).resolution * 10\n",
      "  File \"C:\\Users\\Jirik\\miniconda3\\envs\\jupyterlab\\lib\\site-packages\\numpy\\core\\getlimits.py\", line 398, in __new__\n",
      "    raise ValueError(\"data type %r not inexact\" % (dtype))\n",
      "ValueError: data type <class 'numpy.object_'> not inexact\n",
      "Traceback (most recent call last):\n",
      "  File \"C:\\Users\\Jirik\\AppData\\Local\\Temp\\ipykernel_5084\\3727262361.py\", line 24, in <module>\n",
      "    t_stat, p_value = stats.ttest_ind(pretest_df[col], posttest_df[col], equal_var=False)  # Assuming unequal variance\n",
      "  File \"C:\\Users\\Jirik\\miniconda3\\envs\\jupyterlab\\lib\\site-packages\\scipy\\stats\\_stats_py.py\", line 6587, in ttest_ind\n",
      "    v1 = _var(a, axis, ddof=1)\n",
      "  File \"C:\\Users\\Jirik\\miniconda3\\envs\\jupyterlab\\lib\\site-packages\\scipy\\stats\\_stats_py.py\", line 1250, in _var\n",
      "    var = _moment(x, 2, axis, mean=mean)\n",
      "  File \"C:\\Users\\Jirik\\miniconda3\\envs\\jupyterlab\\lib\\site-packages\\scipy\\stats\\_stats_py.py\", line 1223, in _moment\n",
      "    eps = np.finfo(a_zero_mean.dtype).resolution * 10\n",
      "  File \"C:\\Users\\Jirik\\miniconda3\\envs\\jupyterlab\\lib\\site-packages\\numpy\\core\\getlimits.py\", line 398, in __new__\n",
      "    raise ValueError(\"data type %r not inexact\" % (dtype))\n",
      "ValueError: data type <class 'numpy.object_'> not inexact\n",
      "Traceback (most recent call last):\n",
      "  File \"C:\\Users\\Jirik\\AppData\\Local\\Temp\\ipykernel_5084\\3727262361.py\", line 24, in <module>\n",
      "    t_stat, p_value = stats.ttest_ind(pretest_df[col], posttest_df[col], equal_var=False)  # Assuming unequal variance\n",
      "  File \"C:\\Users\\Jirik\\miniconda3\\envs\\jupyterlab\\lib\\site-packages\\scipy\\stats\\_stats_py.py\", line 6587, in ttest_ind\n",
      "    v1 = _var(a, axis, ddof=1)\n",
      "  File \"C:\\Users\\Jirik\\miniconda3\\envs\\jupyterlab\\lib\\site-packages\\scipy\\stats\\_stats_py.py\", line 1250, in _var\n",
      "    var = _moment(x, 2, axis, mean=mean)\n",
      "  File \"C:\\Users\\Jirik\\miniconda3\\envs\\jupyterlab\\lib\\site-packages\\scipy\\stats\\_stats_py.py\", line 1223, in _moment\n",
      "    eps = np.finfo(a_zero_mean.dtype).resolution * 10\n",
      "  File \"C:\\Users\\Jirik\\miniconda3\\envs\\jupyterlab\\lib\\site-packages\\numpy\\core\\getlimits.py\", line 398, in __new__\n",
      "    raise ValueError(\"data type %r not inexact\" % (dtype))\n",
      "ValueError: data type <class 'numpy.object_'> not inexact\n",
      "Traceback (most recent call last):\n",
      "  File \"C:\\Users\\Jirik\\AppData\\Local\\Temp\\ipykernel_5084\\3727262361.py\", line 24, in <module>\n",
      "    t_stat, p_value = stats.ttest_ind(pretest_df[col], posttest_df[col], equal_var=False)  # Assuming unequal variance\n",
      "  File \"C:\\Users\\Jirik\\miniconda3\\envs\\jupyterlab\\lib\\site-packages\\scipy\\stats\\_stats_py.py\", line 6587, in ttest_ind\n",
      "    v1 = _var(a, axis, ddof=1)\n",
      "  File \"C:\\Users\\Jirik\\miniconda3\\envs\\jupyterlab\\lib\\site-packages\\scipy\\stats\\_stats_py.py\", line 1250, in _var\n",
      "    var = _moment(x, 2, axis, mean=mean)\n",
      "  File \"C:\\Users\\Jirik\\miniconda3\\envs\\jupyterlab\\lib\\site-packages\\scipy\\stats\\_stats_py.py\", line 1223, in _moment\n",
      "    eps = np.finfo(a_zero_mean.dtype).resolution * 10\n",
      "  File \"C:\\Users\\Jirik\\miniconda3\\envs\\jupyterlab\\lib\\site-packages\\numpy\\core\\getlimits.py\", line 398, in __new__\n",
      "    raise ValueError(\"data type %r not inexact\" % (dtype))\n",
      "ValueError: data type <class 'numpy.object_'> not inexact\n",
      "Traceback (most recent call last):\n",
      "  File \"C:\\Users\\Jirik\\AppData\\Local\\Temp\\ipykernel_5084\\3727262361.py\", line 24, in <module>\n",
      "    t_stat, p_value = stats.ttest_ind(pretest_df[col], posttest_df[col], equal_var=False)  # Assuming unequal variance\n",
      "  File \"C:\\Users\\Jirik\\miniconda3\\envs\\jupyterlab\\lib\\site-packages\\scipy\\stats\\_stats_py.py\", line 6587, in ttest_ind\n",
      "    v1 = _var(a, axis, ddof=1)\n",
      "  File \"C:\\Users\\Jirik\\miniconda3\\envs\\jupyterlab\\lib\\site-packages\\scipy\\stats\\_stats_py.py\", line 1250, in _var\n",
      "    var = _moment(x, 2, axis, mean=mean)\n",
      "  File \"C:\\Users\\Jirik\\miniconda3\\envs\\jupyterlab\\lib\\site-packages\\scipy\\stats\\_stats_py.py\", line 1223, in _moment\n",
      "    eps = np.finfo(a_zero_mean.dtype).resolution * 10\n",
      "  File \"C:\\Users\\Jirik\\miniconda3\\envs\\jupyterlab\\lib\\site-packages\\numpy\\core\\getlimits.py\", line 398, in __new__\n",
      "    raise ValueError(\"data type %r not inexact\" % (dtype))\n",
      "ValueError: data type <class 'numpy.object_'> not inexact\n",
      "Traceback (most recent call last):\n",
      "  File \"C:\\Users\\Jirik\\AppData\\Local\\Temp\\ipykernel_5084\\3727262361.py\", line 24, in <module>\n",
      "    t_stat, p_value = stats.ttest_ind(pretest_df[col], posttest_df[col], equal_var=False)  # Assuming unequal variance\n",
      "  File \"C:\\Users\\Jirik\\miniconda3\\envs\\jupyterlab\\lib\\site-packages\\scipy\\stats\\_stats_py.py\", line 6587, in ttest_ind\n",
      "    v1 = _var(a, axis, ddof=1)\n",
      "  File \"C:\\Users\\Jirik\\miniconda3\\envs\\jupyterlab\\lib\\site-packages\\scipy\\stats\\_stats_py.py\", line 1250, in _var\n",
      "    var = _moment(x, 2, axis, mean=mean)\n",
      "  File \"C:\\Users\\Jirik\\miniconda3\\envs\\jupyterlab\\lib\\site-packages\\scipy\\stats\\_stats_py.py\", line 1223, in _moment\n",
      "    eps = np.finfo(a_zero_mean.dtype).resolution * 10\n",
      "  File \"C:\\Users\\Jirik\\miniconda3\\envs\\jupyterlab\\lib\\site-packages\\numpy\\core\\getlimits.py\", line 398, in __new__\n",
      "    raise ValueError(\"data type %r not inexact\" % (dtype))\n",
      "ValueError: data type <class 'numpy.object_'> not inexact\n",
      "Traceback (most recent call last):\n",
      "  File \"C:\\Users\\Jirik\\AppData\\Local\\Temp\\ipykernel_5084\\3727262361.py\", line 24, in <module>\n",
      "    t_stat, p_value = stats.ttest_ind(pretest_df[col], posttest_df[col], equal_var=False)  # Assuming unequal variance\n",
      "  File \"C:\\Users\\Jirik\\miniconda3\\envs\\jupyterlab\\lib\\site-packages\\scipy\\stats\\_stats_py.py\", line 6587, in ttest_ind\n",
      "    v1 = _var(a, axis, ddof=1)\n",
      "  File \"C:\\Users\\Jirik\\miniconda3\\envs\\jupyterlab\\lib\\site-packages\\scipy\\stats\\_stats_py.py\", line 1250, in _var\n",
      "    var = _moment(x, 2, axis, mean=mean)\n",
      "  File \"C:\\Users\\Jirik\\miniconda3\\envs\\jupyterlab\\lib\\site-packages\\scipy\\stats\\_stats_py.py\", line 1223, in _moment\n",
      "    eps = np.finfo(a_zero_mean.dtype).resolution * 10\n",
      "  File \"C:\\Users\\Jirik\\miniconda3\\envs\\jupyterlab\\lib\\site-packages\\numpy\\core\\getlimits.py\", line 398, in __new__\n",
      "    raise ValueError(\"data type %r not inexact\" % (dtype))\n",
      "ValueError: data type <class 'numpy.object_'> not inexact\n",
      "Traceback (most recent call last):\n",
      "  File \"C:\\Users\\Jirik\\AppData\\Local\\Temp\\ipykernel_5084\\3727262361.py\", line 24, in <module>\n",
      "    t_stat, p_value = stats.ttest_ind(pretest_df[col], posttest_df[col], equal_var=False)  # Assuming unequal variance\n",
      "  File \"C:\\Users\\Jirik\\miniconda3\\envs\\jupyterlab\\lib\\site-packages\\scipy\\stats\\_stats_py.py\", line 6587, in ttest_ind\n",
      "    v1 = _var(a, axis, ddof=1)\n",
      "  File \"C:\\Users\\Jirik\\miniconda3\\envs\\jupyterlab\\lib\\site-packages\\scipy\\stats\\_stats_py.py\", line 1250, in _var\n",
      "    var = _moment(x, 2, axis, mean=mean)\n",
      "  File \"C:\\Users\\Jirik\\miniconda3\\envs\\jupyterlab\\lib\\site-packages\\scipy\\stats\\_stats_py.py\", line 1223, in _moment\n",
      "    eps = np.finfo(a_zero_mean.dtype).resolution * 10\n",
      "  File \"C:\\Users\\Jirik\\miniconda3\\envs\\jupyterlab\\lib\\site-packages\\numpy\\core\\getlimits.py\", line 398, in __new__\n",
      "    raise ValueError(\"data type %r not inexact\" % (dtype))\n",
      "ValueError: data type <class 'numpy.object_'> not inexact\n",
      "Traceback (most recent call last):\n",
      "  File \"C:\\Users\\Jirik\\AppData\\Local\\Temp\\ipykernel_5084\\3727262361.py\", line 24, in <module>\n",
      "    t_stat, p_value = stats.ttest_ind(pretest_df[col], posttest_df[col], equal_var=False)  # Assuming unequal variance\n",
      "  File \"C:\\Users\\Jirik\\miniconda3\\envs\\jupyterlab\\lib\\site-packages\\scipy\\stats\\_stats_py.py\", line 6587, in ttest_ind\n",
      "    v1 = _var(a, axis, ddof=1)\n",
      "  File \"C:\\Users\\Jirik\\miniconda3\\envs\\jupyterlab\\lib\\site-packages\\scipy\\stats\\_stats_py.py\", line 1250, in _var\n",
      "    var = _moment(x, 2, axis, mean=mean)\n",
      "  File \"C:\\Users\\Jirik\\miniconda3\\envs\\jupyterlab\\lib\\site-packages\\scipy\\stats\\_stats_py.py\", line 1223, in _moment\n",
      "    eps = np.finfo(a_zero_mean.dtype).resolution * 10\n",
      "  File \"C:\\Users\\Jirik\\miniconda3\\envs\\jupyterlab\\lib\\site-packages\\numpy\\core\\getlimits.py\", line 398, in __new__\n",
      "    raise ValueError(\"data type %r not inexact\" % (dtype))\n",
      "ValueError: data type <class 'numpy.object_'> not inexact\n",
      "Traceback (most recent call last):\n",
      "  File \"C:\\Users\\Jirik\\AppData\\Local\\Temp\\ipykernel_5084\\3727262361.py\", line 24, in <module>\n",
      "    t_stat, p_value = stats.ttest_ind(pretest_df[col], posttest_df[col], equal_var=False)  # Assuming unequal variance\n",
      "  File \"C:\\Users\\Jirik\\miniconda3\\envs\\jupyterlab\\lib\\site-packages\\scipy\\stats\\_stats_py.py\", line 6587, in ttest_ind\n",
      "    v1 = _var(a, axis, ddof=1)\n",
      "  File \"C:\\Users\\Jirik\\miniconda3\\envs\\jupyterlab\\lib\\site-packages\\scipy\\stats\\_stats_py.py\", line 1250, in _var\n",
      "    var = _moment(x, 2, axis, mean=mean)\n",
      "  File \"C:\\Users\\Jirik\\miniconda3\\envs\\jupyterlab\\lib\\site-packages\\scipy\\stats\\_stats_py.py\", line 1223, in _moment\n",
      "    eps = np.finfo(a_zero_mean.dtype).resolution * 10\n",
      "  File \"C:\\Users\\Jirik\\miniconda3\\envs\\jupyterlab\\lib\\site-packages\\numpy\\core\\getlimits.py\", line 398, in __new__\n",
      "    raise ValueError(\"data type %r not inexact\" % (dtype))\n",
      "ValueError: data type <class 'numpy.object_'> not inexact\n",
      "Traceback (most recent call last):\n",
      "  File \"C:\\Users\\Jirik\\AppData\\Local\\Temp\\ipykernel_5084\\3727262361.py\", line 24, in <module>\n",
      "    t_stat, p_value = stats.ttest_ind(pretest_df[col], posttest_df[col], equal_var=False)  # Assuming unequal variance\n",
      "  File \"C:\\Users\\Jirik\\miniconda3\\envs\\jupyterlab\\lib\\site-packages\\scipy\\stats\\_stats_py.py\", line 6587, in ttest_ind\n",
      "    v1 = _var(a, axis, ddof=1)\n",
      "  File \"C:\\Users\\Jirik\\miniconda3\\envs\\jupyterlab\\lib\\site-packages\\scipy\\stats\\_stats_py.py\", line 1250, in _var\n",
      "    var = _moment(x, 2, axis, mean=mean)\n",
      "  File \"C:\\Users\\Jirik\\miniconda3\\envs\\jupyterlab\\lib\\site-packages\\scipy\\stats\\_stats_py.py\", line 1223, in _moment\n",
      "    eps = np.finfo(a_zero_mean.dtype).resolution * 10\n",
      "  File \"C:\\Users\\Jirik\\miniconda3\\envs\\jupyterlab\\lib\\site-packages\\numpy\\core\\getlimits.py\", line 398, in __new__\n",
      "    raise ValueError(\"data type %r not inexact\" % (dtype))\n",
      "ValueError: data type <class 'numpy.object_'> not inexact\n",
      "Traceback (most recent call last):\n",
      "  File \"C:\\Users\\Jirik\\AppData\\Local\\Temp\\ipykernel_5084\\3727262361.py\", line 24, in <module>\n",
      "    t_stat, p_value = stats.ttest_ind(pretest_df[col], posttest_df[col], equal_var=False)  # Assuming unequal variance\n",
      "  File \"C:\\Users\\Jirik\\miniconda3\\envs\\jupyterlab\\lib\\site-packages\\scipy\\stats\\_stats_py.py\", line 6587, in ttest_ind\n",
      "    v1 = _var(a, axis, ddof=1)\n",
      "  File \"C:\\Users\\Jirik\\miniconda3\\envs\\jupyterlab\\lib\\site-packages\\scipy\\stats\\_stats_py.py\", line 1250, in _var\n",
      "    var = _moment(x, 2, axis, mean=mean)\n",
      "  File \"C:\\Users\\Jirik\\miniconda3\\envs\\jupyterlab\\lib\\site-packages\\scipy\\stats\\_stats_py.py\", line 1223, in _moment\n",
      "    eps = np.finfo(a_zero_mean.dtype).resolution * 10\n",
      "  File \"C:\\Users\\Jirik\\miniconda3\\envs\\jupyterlab\\lib\\site-packages\\numpy\\core\\getlimits.py\", line 398, in __new__\n",
      "    raise ValueError(\"data type %r not inexact\" % (dtype))\n",
      "ValueError: data type <class 'numpy.object_'> not inexact\n",
      "Traceback (most recent call last):\n",
      "  File \"C:\\Users\\Jirik\\AppData\\Local\\Temp\\ipykernel_5084\\3727262361.py\", line 24, in <module>\n",
      "    t_stat, p_value = stats.ttest_ind(pretest_df[col], posttest_df[col], equal_var=False)  # Assuming unequal variance\n",
      "  File \"C:\\Users\\Jirik\\miniconda3\\envs\\jupyterlab\\lib\\site-packages\\scipy\\stats\\_stats_py.py\", line 6587, in ttest_ind\n",
      "    v1 = _var(a, axis, ddof=1)\n",
      "  File \"C:\\Users\\Jirik\\miniconda3\\envs\\jupyterlab\\lib\\site-packages\\scipy\\stats\\_stats_py.py\", line 1250, in _var\n",
      "    var = _moment(x, 2, axis, mean=mean)\n",
      "  File \"C:\\Users\\Jirik\\miniconda3\\envs\\jupyterlab\\lib\\site-packages\\scipy\\stats\\_stats_py.py\", line 1223, in _moment\n",
      "    eps = np.finfo(a_zero_mean.dtype).resolution * 10\n",
      "  File \"C:\\Users\\Jirik\\miniconda3\\envs\\jupyterlab\\lib\\site-packages\\numpy\\core\\getlimits.py\", line 398, in __new__\n",
      "    raise ValueError(\"data type %r not inexact\" % (dtype))\n",
      "ValueError: data type <class 'numpy.object_'> not inexact\n",
      "Traceback (most recent call last):\n",
      "  File \"C:\\Users\\Jirik\\AppData\\Local\\Temp\\ipykernel_5084\\3727262361.py\", line 24, in <module>\n",
      "    t_stat, p_value = stats.ttest_ind(pretest_df[col], posttest_df[col], equal_var=False)  # Assuming unequal variance\n",
      "  File \"C:\\Users\\Jirik\\miniconda3\\envs\\jupyterlab\\lib\\site-packages\\scipy\\stats\\_stats_py.py\", line 6587, in ttest_ind\n",
      "    v1 = _var(a, axis, ddof=1)\n",
      "  File \"C:\\Users\\Jirik\\miniconda3\\envs\\jupyterlab\\lib\\site-packages\\scipy\\stats\\_stats_py.py\", line 1250, in _var\n",
      "    var = _moment(x, 2, axis, mean=mean)\n",
      "  File \"C:\\Users\\Jirik\\miniconda3\\envs\\jupyterlab\\lib\\site-packages\\scipy\\stats\\_stats_py.py\", line 1223, in _moment\n",
      "    eps = np.finfo(a_zero_mean.dtype).resolution * 10\n",
      "  File \"C:\\Users\\Jirik\\miniconda3\\envs\\jupyterlab\\lib\\site-packages\\numpy\\core\\getlimits.py\", line 398, in __new__\n",
      "    raise ValueError(\"data type %r not inexact\" % (dtype))\n",
      "ValueError: data type <class 'numpy.object_'> not inexact\n",
      "Traceback (most recent call last):\n",
      "  File \"C:\\Users\\Jirik\\AppData\\Local\\Temp\\ipykernel_5084\\3727262361.py\", line 24, in <module>\n",
      "    t_stat, p_value = stats.ttest_ind(pretest_df[col], posttest_df[col], equal_var=False)  # Assuming unequal variance\n",
      "  File \"C:\\Users\\Jirik\\miniconda3\\envs\\jupyterlab\\lib\\site-packages\\scipy\\stats\\_stats_py.py\", line 6587, in ttest_ind\n",
      "    v1 = _var(a, axis, ddof=1)\n",
      "  File \"C:\\Users\\Jirik\\miniconda3\\envs\\jupyterlab\\lib\\site-packages\\scipy\\stats\\_stats_py.py\", line 1250, in _var\n",
      "    var = _moment(x, 2, axis, mean=mean)\n",
      "  File \"C:\\Users\\Jirik\\miniconda3\\envs\\jupyterlab\\lib\\site-packages\\scipy\\stats\\_stats_py.py\", line 1223, in _moment\n",
      "    eps = np.finfo(a_zero_mean.dtype).resolution * 10\n",
      "  File \"C:\\Users\\Jirik\\miniconda3\\envs\\jupyterlab\\lib\\site-packages\\numpy\\core\\getlimits.py\", line 398, in __new__\n",
      "    raise ValueError(\"data type %r not inexact\" % (dtype))\n",
      "ValueError: data type <class 'numpy.object_'> not inexact\n",
      "Traceback (most recent call last):\n",
      "  File \"C:\\Users\\Jirik\\AppData\\Local\\Temp\\ipykernel_5084\\3727262361.py\", line 24, in <module>\n",
      "    t_stat, p_value = stats.ttest_ind(pretest_df[col], posttest_df[col], equal_var=False)  # Assuming unequal variance\n",
      "  File \"C:\\Users\\Jirik\\miniconda3\\envs\\jupyterlab\\lib\\site-packages\\scipy\\stats\\_stats_py.py\", line 6587, in ttest_ind\n",
      "    v1 = _var(a, axis, ddof=1)\n",
      "  File \"C:\\Users\\Jirik\\miniconda3\\envs\\jupyterlab\\lib\\site-packages\\scipy\\stats\\_stats_py.py\", line 1250, in _var\n",
      "    var = _moment(x, 2, axis, mean=mean)\n",
      "  File \"C:\\Users\\Jirik\\miniconda3\\envs\\jupyterlab\\lib\\site-packages\\scipy\\stats\\_stats_py.py\", line 1223, in _moment\n",
      "    eps = np.finfo(a_zero_mean.dtype).resolution * 10\n",
      "  File \"C:\\Users\\Jirik\\miniconda3\\envs\\jupyterlab\\lib\\site-packages\\numpy\\core\\getlimits.py\", line 398, in __new__\n",
      "    raise ValueError(\"data type %r not inexact\" % (dtype))\n",
      "ValueError: data type <class 'numpy.object_'> not inexact\n",
      "Traceback (most recent call last):\n",
      "  File \"C:\\Users\\Jirik\\AppData\\Local\\Temp\\ipykernel_5084\\3727262361.py\", line 24, in <module>\n",
      "    t_stat, p_value = stats.ttest_ind(pretest_df[col], posttest_df[col], equal_var=False)  # Assuming unequal variance\n",
      "  File \"C:\\Users\\Jirik\\miniconda3\\envs\\jupyterlab\\lib\\site-packages\\scipy\\stats\\_stats_py.py\", line 6587, in ttest_ind\n",
      "    v1 = _var(a, axis, ddof=1)\n",
      "  File \"C:\\Users\\Jirik\\miniconda3\\envs\\jupyterlab\\lib\\site-packages\\scipy\\stats\\_stats_py.py\", line 1250, in _var\n",
      "    var = _moment(x, 2, axis, mean=mean)\n",
      "  File \"C:\\Users\\Jirik\\miniconda3\\envs\\jupyterlab\\lib\\site-packages\\scipy\\stats\\_stats_py.py\", line 1223, in _moment\n",
      "    eps = np.finfo(a_zero_mean.dtype).resolution * 10\n",
      "  File \"C:\\Users\\Jirik\\miniconda3\\envs\\jupyterlab\\lib\\site-packages\\numpy\\core\\getlimits.py\", line 398, in __new__\n",
      "    raise ValueError(\"data type %r not inexact\" % (dtype))\n",
      "ValueError: data type <class 'numpy.object_'> not inexact\n",
      "Traceback (most recent call last):\n",
      "  File \"C:\\Users\\Jirik\\AppData\\Local\\Temp\\ipykernel_5084\\3727262361.py\", line 24, in <module>\n",
      "    t_stat, p_value = stats.ttest_ind(pretest_df[col], posttest_df[col], equal_var=False)  # Assuming unequal variance\n",
      "  File \"C:\\Users\\Jirik\\miniconda3\\envs\\jupyterlab\\lib\\site-packages\\scipy\\stats\\_stats_py.py\", line 6587, in ttest_ind\n",
      "    v1 = _var(a, axis, ddof=1)\n",
      "  File \"C:\\Users\\Jirik\\miniconda3\\envs\\jupyterlab\\lib\\site-packages\\scipy\\stats\\_stats_py.py\", line 1250, in _var\n",
      "    var = _moment(x, 2, axis, mean=mean)\n",
      "  File \"C:\\Users\\Jirik\\miniconda3\\envs\\jupyterlab\\lib\\site-packages\\scipy\\stats\\_stats_py.py\", line 1223, in _moment\n",
      "    eps = np.finfo(a_zero_mean.dtype).resolution * 10\n",
      "  File \"C:\\Users\\Jirik\\miniconda3\\envs\\jupyterlab\\lib\\site-packages\\numpy\\core\\getlimits.py\", line 398, in __new__\n",
      "    raise ValueError(\"data type %r not inexact\" % (dtype))\n",
      "ValueError: data type <class 'numpy.object_'> not inexact\n",
      "Traceback (most recent call last):\n",
      "  File \"C:\\Users\\Jirik\\AppData\\Local\\Temp\\ipykernel_5084\\3727262361.py\", line 24, in <module>\n",
      "    t_stat, p_value = stats.ttest_ind(pretest_df[col], posttest_df[col], equal_var=False)  # Assuming unequal variance\n",
      "  File \"C:\\Users\\Jirik\\miniconda3\\envs\\jupyterlab\\lib\\site-packages\\scipy\\stats\\_stats_py.py\", line 6587, in ttest_ind\n",
      "    v1 = _var(a, axis, ddof=1)\n",
      "  File \"C:\\Users\\Jirik\\miniconda3\\envs\\jupyterlab\\lib\\site-packages\\scipy\\stats\\_stats_py.py\", line 1250, in _var\n",
      "    var = _moment(x, 2, axis, mean=mean)\n",
      "  File \"C:\\Users\\Jirik\\miniconda3\\envs\\jupyterlab\\lib\\site-packages\\scipy\\stats\\_stats_py.py\", line 1223, in _moment\n",
      "    eps = np.finfo(a_zero_mean.dtype).resolution * 10\n",
      "  File \"C:\\Users\\Jirik\\miniconda3\\envs\\jupyterlab\\lib\\site-packages\\numpy\\core\\getlimits.py\", line 398, in __new__\n",
      "    raise ValueError(\"data type %r not inexact\" % (dtype))\n",
      "ValueError: data type <class 'numpy.object_'> not inexact\n",
      "Traceback (most recent call last):\n",
      "  File \"C:\\Users\\Jirik\\AppData\\Local\\Temp\\ipykernel_5084\\3727262361.py\", line 24, in <module>\n",
      "    t_stat, p_value = stats.ttest_ind(pretest_df[col], posttest_df[col], equal_var=False)  # Assuming unequal variance\n",
      "  File \"C:\\Users\\Jirik\\miniconda3\\envs\\jupyterlab\\lib\\site-packages\\scipy\\stats\\_stats_py.py\", line 6587, in ttest_ind\n",
      "    v1 = _var(a, axis, ddof=1)\n",
      "  File \"C:\\Users\\Jirik\\miniconda3\\envs\\jupyterlab\\lib\\site-packages\\scipy\\stats\\_stats_py.py\", line 1250, in _var\n",
      "    var = _moment(x, 2, axis, mean=mean)\n",
      "  File \"C:\\Users\\Jirik\\miniconda3\\envs\\jupyterlab\\lib\\site-packages\\scipy\\stats\\_stats_py.py\", line 1220, in _moment\n",
      "    mean = a.mean(axis, keepdims=True) if mean is None else mean\n",
      "  File \"C:\\Users\\Jirik\\miniconda3\\envs\\jupyterlab\\lib\\site-packages\\numpy\\core\\_methods.py\", line 179, in _mean\n",
      "    ret = umr_sum(arr, axis, dtype, out, keepdims, where=where)\n",
      "TypeError: can only concatenate str (not \"float\") to str\n",
      "Traceback (most recent call last):\n",
      "  File \"C:\\Users\\Jirik\\AppData\\Local\\Temp\\ipykernel_5084\\3727262361.py\", line 24, in <module>\n",
      "    t_stat, p_value = stats.ttest_ind(pretest_df[col], posttest_df[col], equal_var=False)  # Assuming unequal variance\n",
      "  File \"C:\\Users\\Jirik\\miniconda3\\envs\\jupyterlab\\lib\\site-packages\\scipy\\stats\\_stats_py.py\", line 6587, in ttest_ind\n",
      "    v1 = _var(a, axis, ddof=1)\n",
      "  File \"C:\\Users\\Jirik\\miniconda3\\envs\\jupyterlab\\lib\\site-packages\\scipy\\stats\\_stats_py.py\", line 1250, in _var\n",
      "    var = _moment(x, 2, axis, mean=mean)\n",
      "  File \"C:\\Users\\Jirik\\miniconda3\\envs\\jupyterlab\\lib\\site-packages\\scipy\\stats\\_stats_py.py\", line 1223, in _moment\n",
      "    eps = np.finfo(a_zero_mean.dtype).resolution * 10\n",
      "  File \"C:\\Users\\Jirik\\miniconda3\\envs\\jupyterlab\\lib\\site-packages\\numpy\\core\\getlimits.py\", line 398, in __new__\n",
      "    raise ValueError(\"data type %r not inexact\" % (dtype))\n",
      "ValueError: data type <class 'numpy.object_'> not inexact\n",
      "Traceback (most recent call last):\n",
      "  File \"C:\\Users\\Jirik\\AppData\\Local\\Temp\\ipykernel_5084\\3727262361.py\", line 24, in <module>\n",
      "    t_stat, p_value = stats.ttest_ind(pretest_df[col], posttest_df[col], equal_var=False)  # Assuming unequal variance\n",
      "  File \"C:\\Users\\Jirik\\miniconda3\\envs\\jupyterlab\\lib\\site-packages\\scipy\\stats\\_stats_py.py\", line 6587, in ttest_ind\n",
      "    v1 = _var(a, axis, ddof=1)\n",
      "  File \"C:\\Users\\Jirik\\miniconda3\\envs\\jupyterlab\\lib\\site-packages\\scipy\\stats\\_stats_py.py\", line 1250, in _var\n",
      "    var = _moment(x, 2, axis, mean=mean)\n",
      "  File \"C:\\Users\\Jirik\\miniconda3\\envs\\jupyterlab\\lib\\site-packages\\scipy\\stats\\_stats_py.py\", line 1223, in _moment\n",
      "    eps = np.finfo(a_zero_mean.dtype).resolution * 10\n",
      "  File \"C:\\Users\\Jirik\\miniconda3\\envs\\jupyterlab\\lib\\site-packages\\numpy\\core\\getlimits.py\", line 398, in __new__\n",
      "    raise ValueError(\"data type %r not inexact\" % (dtype))\n",
      "ValueError: data type <class 'numpy.object_'> not inexact\n",
      "Traceback (most recent call last):\n",
      "  File \"C:\\Users\\Jirik\\AppData\\Local\\Temp\\ipykernel_5084\\3727262361.py\", line 24, in <module>\n",
      "    t_stat, p_value = stats.ttest_ind(pretest_df[col], posttest_df[col], equal_var=False)  # Assuming unequal variance\n",
      "  File \"C:\\Users\\Jirik\\miniconda3\\envs\\jupyterlab\\lib\\site-packages\\scipy\\stats\\_stats_py.py\", line 6587, in ttest_ind\n",
      "    v1 = _var(a, axis, ddof=1)\n",
      "  File \"C:\\Users\\Jirik\\miniconda3\\envs\\jupyterlab\\lib\\site-packages\\scipy\\stats\\_stats_py.py\", line 1250, in _var\n",
      "    var = _moment(x, 2, axis, mean=mean)\n",
      "  File \"C:\\Users\\Jirik\\miniconda3\\envs\\jupyterlab\\lib\\site-packages\\scipy\\stats\\_stats_py.py\", line 1223, in _moment\n",
      "    eps = np.finfo(a_zero_mean.dtype).resolution * 10\n",
      "  File \"C:\\Users\\Jirik\\miniconda3\\envs\\jupyterlab\\lib\\site-packages\\numpy\\core\\getlimits.py\", line 398, in __new__\n",
      "    raise ValueError(\"data type %r not inexact\" % (dtype))\n",
      "ValueError: data type <class 'numpy.object_'> not inexact\n",
      "Traceback (most recent call last):\n",
      "  File \"C:\\Users\\Jirik\\AppData\\Local\\Temp\\ipykernel_5084\\3727262361.py\", line 24, in <module>\n",
      "    t_stat, p_value = stats.ttest_ind(pretest_df[col], posttest_df[col], equal_var=False)  # Assuming unequal variance\n",
      "  File \"C:\\Users\\Jirik\\miniconda3\\envs\\jupyterlab\\lib\\site-packages\\scipy\\stats\\_stats_py.py\", line 6587, in ttest_ind\n",
      "    v1 = _var(a, axis, ddof=1)\n",
      "  File \"C:\\Users\\Jirik\\miniconda3\\envs\\jupyterlab\\lib\\site-packages\\scipy\\stats\\_stats_py.py\", line 1250, in _var\n",
      "    var = _moment(x, 2, axis, mean=mean)\n",
      "  File \"C:\\Users\\Jirik\\miniconda3\\envs\\jupyterlab\\lib\\site-packages\\scipy\\stats\\_stats_py.py\", line 1223, in _moment\n",
      "    eps = np.finfo(a_zero_mean.dtype).resolution * 10\n",
      "  File \"C:\\Users\\Jirik\\miniconda3\\envs\\jupyterlab\\lib\\site-packages\\numpy\\core\\getlimits.py\", line 398, in __new__\n",
      "    raise ValueError(\"data type %r not inexact\" % (dtype))\n",
      "ValueError: data type <class 'numpy.object_'> not inexact\n",
      "Traceback (most recent call last):\n",
      "  File \"C:\\Users\\Jirik\\AppData\\Local\\Temp\\ipykernel_5084\\3727262361.py\", line 24, in <module>\n",
      "    t_stat, p_value = stats.ttest_ind(pretest_df[col], posttest_df[col], equal_var=False)  # Assuming unequal variance\n",
      "  File \"C:\\Users\\Jirik\\miniconda3\\envs\\jupyterlab\\lib\\site-packages\\scipy\\stats\\_stats_py.py\", line 6587, in ttest_ind\n",
      "    v1 = _var(a, axis, ddof=1)\n",
      "  File \"C:\\Users\\Jirik\\miniconda3\\envs\\jupyterlab\\lib\\site-packages\\scipy\\stats\\_stats_py.py\", line 1250, in _var\n",
      "    var = _moment(x, 2, axis, mean=mean)\n",
      "  File \"C:\\Users\\Jirik\\miniconda3\\envs\\jupyterlab\\lib\\site-packages\\scipy\\stats\\_stats_py.py\", line 1223, in _moment\n",
      "    eps = np.finfo(a_zero_mean.dtype).resolution * 10\n",
      "  File \"C:\\Users\\Jirik\\miniconda3\\envs\\jupyterlab\\lib\\site-packages\\numpy\\core\\getlimits.py\", line 398, in __new__\n",
      "    raise ValueError(\"data type %r not inexact\" % (dtype))\n",
      "ValueError: data type <class 'numpy.object_'> not inexact\n",
      "Traceback (most recent call last):\n",
      "  File \"C:\\Users\\Jirik\\AppData\\Local\\Temp\\ipykernel_5084\\3727262361.py\", line 24, in <module>\n",
      "    t_stat, p_value = stats.ttest_ind(pretest_df[col], posttest_df[col], equal_var=False)  # Assuming unequal variance\n",
      "  File \"C:\\Users\\Jirik\\miniconda3\\envs\\jupyterlab\\lib\\site-packages\\scipy\\stats\\_stats_py.py\", line 6587, in ttest_ind\n",
      "    v1 = _var(a, axis, ddof=1)\n",
      "  File \"C:\\Users\\Jirik\\miniconda3\\envs\\jupyterlab\\lib\\site-packages\\scipy\\stats\\_stats_py.py\", line 1250, in _var\n",
      "    var = _moment(x, 2, axis, mean=mean)\n",
      "  File \"C:\\Users\\Jirik\\miniconda3\\envs\\jupyterlab\\lib\\site-packages\\scipy\\stats\\_stats_py.py\", line 1223, in _moment\n",
      "    eps = np.finfo(a_zero_mean.dtype).resolution * 10\n",
      "  File \"C:\\Users\\Jirik\\miniconda3\\envs\\jupyterlab\\lib\\site-packages\\numpy\\core\\getlimits.py\", line 398, in __new__\n",
      "    raise ValueError(\"data type %r not inexact\" % (dtype))\n",
      "ValueError: data type <class 'numpy.object_'> not inexact\n",
      "Traceback (most recent call last):\n",
      "  File \"C:\\Users\\Jirik\\AppData\\Local\\Temp\\ipykernel_5084\\3727262361.py\", line 24, in <module>\n",
      "    t_stat, p_value = stats.ttest_ind(pretest_df[col], posttest_df[col], equal_var=False)  # Assuming unequal variance\n",
      "  File \"C:\\Users\\Jirik\\miniconda3\\envs\\jupyterlab\\lib\\site-packages\\scipy\\stats\\_stats_py.py\", line 6587, in ttest_ind\n",
      "    v1 = _var(a, axis, ddof=1)\n",
      "  File \"C:\\Users\\Jirik\\miniconda3\\envs\\jupyterlab\\lib\\site-packages\\scipy\\stats\\_stats_py.py\", line 1250, in _var\n",
      "    var = _moment(x, 2, axis, mean=mean)\n",
      "  File \"C:\\Users\\Jirik\\miniconda3\\envs\\jupyterlab\\lib\\site-packages\\scipy\\stats\\_stats_py.py\", line 1223, in _moment\n",
      "    eps = np.finfo(a_zero_mean.dtype).resolution * 10\n",
      "  File \"C:\\Users\\Jirik\\miniconda3\\envs\\jupyterlab\\lib\\site-packages\\numpy\\core\\getlimits.py\", line 398, in __new__\n",
      "    raise ValueError(\"data type %r not inexact\" % (dtype))\n",
      "ValueError: data type <class 'numpy.object_'> not inexact\n",
      "Traceback (most recent call last):\n",
      "  File \"C:\\Users\\Jirik\\AppData\\Local\\Temp\\ipykernel_5084\\3727262361.py\", line 24, in <module>\n",
      "    t_stat, p_value = stats.ttest_ind(pretest_df[col], posttest_df[col], equal_var=False)  # Assuming unequal variance\n",
      "  File \"C:\\Users\\Jirik\\miniconda3\\envs\\jupyterlab\\lib\\site-packages\\scipy\\stats\\_stats_py.py\", line 6587, in ttest_ind\n",
      "    v1 = _var(a, axis, ddof=1)\n",
      "  File \"C:\\Users\\Jirik\\miniconda3\\envs\\jupyterlab\\lib\\site-packages\\scipy\\stats\\_stats_py.py\", line 1250, in _var\n",
      "    var = _moment(x, 2, axis, mean=mean)\n",
      "  File \"C:\\Users\\Jirik\\miniconda3\\envs\\jupyterlab\\lib\\site-packages\\scipy\\stats\\_stats_py.py\", line 1223, in _moment\n",
      "    eps = np.finfo(a_zero_mean.dtype).resolution * 10\n",
      "  File \"C:\\Users\\Jirik\\miniconda3\\envs\\jupyterlab\\lib\\site-packages\\numpy\\core\\getlimits.py\", line 398, in __new__\n",
      "    raise ValueError(\"data type %r not inexact\" % (dtype))\n",
      "ValueError: data type <class 'numpy.object_'> not inexact\n",
      "Traceback (most recent call last):\n",
      "  File \"C:\\Users\\Jirik\\AppData\\Local\\Temp\\ipykernel_5084\\3727262361.py\", line 24, in <module>\n",
      "    t_stat, p_value = stats.ttest_ind(pretest_df[col], posttest_df[col], equal_var=False)  # Assuming unequal variance\n",
      "  File \"C:\\Users\\Jirik\\miniconda3\\envs\\jupyterlab\\lib\\site-packages\\scipy\\stats\\_stats_py.py\", line 6587, in ttest_ind\n",
      "    v1 = _var(a, axis, ddof=1)\n",
      "  File \"C:\\Users\\Jirik\\miniconda3\\envs\\jupyterlab\\lib\\site-packages\\scipy\\stats\\_stats_py.py\", line 1250, in _var\n",
      "    var = _moment(x, 2, axis, mean=mean)\n",
      "  File \"C:\\Users\\Jirik\\miniconda3\\envs\\jupyterlab\\lib\\site-packages\\scipy\\stats\\_stats_py.py\", line 1223, in _moment\n",
      "    eps = np.finfo(a_zero_mean.dtype).resolution * 10\n",
      "  File \"C:\\Users\\Jirik\\miniconda3\\envs\\jupyterlab\\lib\\site-packages\\numpy\\core\\getlimits.py\", line 398, in __new__\n",
      "    raise ValueError(\"data type %r not inexact\" % (dtype))\n",
      "ValueError: data type <class 'numpy.object_'> not inexact\n",
      "Traceback (most recent call last):\n",
      "  File \"C:\\Users\\Jirik\\AppData\\Local\\Temp\\ipykernel_5084\\3727262361.py\", line 24, in <module>\n",
      "    t_stat, p_value = stats.ttest_ind(pretest_df[col], posttest_df[col], equal_var=False)  # Assuming unequal variance\n",
      "  File \"C:\\Users\\Jirik\\miniconda3\\envs\\jupyterlab\\lib\\site-packages\\scipy\\stats\\_stats_py.py\", line 6587, in ttest_ind\n",
      "    v1 = _var(a, axis, ddof=1)\n",
      "  File \"C:\\Users\\Jirik\\miniconda3\\envs\\jupyterlab\\lib\\site-packages\\scipy\\stats\\_stats_py.py\", line 1250, in _var\n",
      "    var = _moment(x, 2, axis, mean=mean)\n",
      "  File \"C:\\Users\\Jirik\\miniconda3\\envs\\jupyterlab\\lib\\site-packages\\scipy\\stats\\_stats_py.py\", line 1223, in _moment\n",
      "    eps = np.finfo(a_zero_mean.dtype).resolution * 10\n",
      "  File \"C:\\Users\\Jirik\\miniconda3\\envs\\jupyterlab\\lib\\site-packages\\numpy\\core\\getlimits.py\", line 398, in __new__\n",
      "    raise ValueError(\"data type %r not inexact\" % (dtype))\n",
      "ValueError: data type <class 'numpy.object_'> not inexact\n",
      "Traceback (most recent call last):\n",
      "  File \"C:\\Users\\Jirik\\AppData\\Local\\Temp\\ipykernel_5084\\3727262361.py\", line 24, in <module>\n",
      "    t_stat, p_value = stats.ttest_ind(pretest_df[col], posttest_df[col], equal_var=False)  # Assuming unequal variance\n",
      "  File \"C:\\Users\\Jirik\\miniconda3\\envs\\jupyterlab\\lib\\site-packages\\scipy\\stats\\_stats_py.py\", line 6587, in ttest_ind\n",
      "    v1 = _var(a, axis, ddof=1)\n",
      "  File \"C:\\Users\\Jirik\\miniconda3\\envs\\jupyterlab\\lib\\site-packages\\scipy\\stats\\_stats_py.py\", line 1250, in _var\n",
      "    var = _moment(x, 2, axis, mean=mean)\n",
      "  File \"C:\\Users\\Jirik\\miniconda3\\envs\\jupyterlab\\lib\\site-packages\\scipy\\stats\\_stats_py.py\", line 1223, in _moment\n",
      "    eps = np.finfo(a_zero_mean.dtype).resolution * 10\n",
      "  File \"C:\\Users\\Jirik\\miniconda3\\envs\\jupyterlab\\lib\\site-packages\\numpy\\core\\getlimits.py\", line 398, in __new__\n",
      "    raise ValueError(\"data type %r not inexact\" % (dtype))\n",
      "ValueError: data type <class 'numpy.object_'> not inexact\n",
      "Traceback (most recent call last):\n",
      "  File \"C:\\Users\\Jirik\\AppData\\Local\\Temp\\ipykernel_5084\\3727262361.py\", line 24, in <module>\n",
      "    t_stat, p_value = stats.ttest_ind(pretest_df[col], posttest_df[col], equal_var=False)  # Assuming unequal variance\n",
      "  File \"C:\\Users\\Jirik\\miniconda3\\envs\\jupyterlab\\lib\\site-packages\\scipy\\stats\\_stats_py.py\", line 6587, in ttest_ind\n",
      "    v1 = _var(a, axis, ddof=1)\n",
      "  File \"C:\\Users\\Jirik\\miniconda3\\envs\\jupyterlab\\lib\\site-packages\\scipy\\stats\\_stats_py.py\", line 1250, in _var\n",
      "    var = _moment(x, 2, axis, mean=mean)\n",
      "  File \"C:\\Users\\Jirik\\miniconda3\\envs\\jupyterlab\\lib\\site-packages\\scipy\\stats\\_stats_py.py\", line 1223, in _moment\n",
      "    eps = np.finfo(a_zero_mean.dtype).resolution * 10\n",
      "  File \"C:\\Users\\Jirik\\miniconda3\\envs\\jupyterlab\\lib\\site-packages\\numpy\\core\\getlimits.py\", line 398, in __new__\n",
      "    raise ValueError(\"data type %r not inexact\" % (dtype))\n",
      "ValueError: data type <class 'numpy.object_'> not inexact\n"
     ]
    },
    {
     "data": {
      "text/plain": "      t_stat   p_value                                         col_name\n0  -1.091788  0.284914                Needle holder stitch 0 length [m]\n1  -0.641404  0.526610            Needle holder stitch 0 visibility [s]\n2   0.994463  0.349115                  Needle holder stitch 0 velocity\n3  -0.429353  0.673011            Needle holder stitch 0 visibility [%]\n4  -1.266786  0.225846         Needle holder stitch 0 area presence [%]\n5  -0.798207  0.435008                      Forceps stitch 0 length [m]\n6  -0.900951  0.375340                  Forceps stitch 0 visibility [s]\n7   0.991784  0.350338                        Forceps stitch 0 velocity\n8  -0.624186  0.539986                  Forceps stitch 0 visibility [%]\n9  -0.659007  0.521352               Forceps stitch 0 area presence [%]\n10 -0.331560  0.742726                            Stitch 0 duration [s]\n11  0.201060  0.843401                            Stitch 0 duration [%]\n12 -0.555979  0.582878                     Scissors stitch 0 length [m]\n13 -1.127175  0.272600                 Scissors stitch 0 visibility [s]\n14  1.178319  0.272323                       Scissors stitch 0 velocity\n15 -1.486556  0.157762                 Scissors stitch 0 visibility [%]\n16  0.461156  0.654103              Scissors stitch 0 area presence [%]\n17  1.000000  0.346594              Needle holder stitch 0 length [pix]\n18  1.000000  0.346594                    Forceps stitch 0 length [pix]\n19  1.000000  0.346594                   Scissors stitch 0 length [pix]\n20  2.000000  0.080516  Needle holder stitch 0 median area presence [%]\n21  2.000000  0.080516        Forceps stitch 0 median area presence [%]\n22  2.000000  0.080516       Scissors stitch 0 median area presence [%]",
      "text/html": "<div>\n<style scoped>\n    .dataframe tbody tr th:only-of-type {\n        vertical-align: middle;\n    }\n\n    .dataframe tbody tr th {\n        vertical-align: top;\n    }\n\n    .dataframe thead th {\n        text-align: right;\n    }\n</style>\n<table border=\"1\" class=\"dataframe\">\n  <thead>\n    <tr style=\"text-align: right;\">\n      <th></th>\n      <th>t_stat</th>\n      <th>p_value</th>\n      <th>col_name</th>\n    </tr>\n  </thead>\n  <tbody>\n    <tr>\n      <th>0</th>\n      <td>-1.091788</td>\n      <td>0.284914</td>\n      <td>Needle holder stitch 0 length [m]</td>\n    </tr>\n    <tr>\n      <th>1</th>\n      <td>-0.641404</td>\n      <td>0.526610</td>\n      <td>Needle holder stitch 0 visibility [s]</td>\n    </tr>\n    <tr>\n      <th>2</th>\n      <td>0.994463</td>\n      <td>0.349115</td>\n      <td>Needle holder stitch 0 velocity</td>\n    </tr>\n    <tr>\n      <th>3</th>\n      <td>-0.429353</td>\n      <td>0.673011</td>\n      <td>Needle holder stitch 0 visibility [%]</td>\n    </tr>\n    <tr>\n      <th>4</th>\n      <td>-1.266786</td>\n      <td>0.225846</td>\n      <td>Needle holder stitch 0 area presence [%]</td>\n    </tr>\n    <tr>\n      <th>5</th>\n      <td>-0.798207</td>\n      <td>0.435008</td>\n      <td>Forceps stitch 0 length [m]</td>\n    </tr>\n    <tr>\n      <th>6</th>\n      <td>-0.900951</td>\n      <td>0.375340</td>\n      <td>Forceps stitch 0 visibility [s]</td>\n    </tr>\n    <tr>\n      <th>7</th>\n      <td>0.991784</td>\n      <td>0.350338</td>\n      <td>Forceps stitch 0 velocity</td>\n    </tr>\n    <tr>\n      <th>8</th>\n      <td>-0.624186</td>\n      <td>0.539986</td>\n      <td>Forceps stitch 0 visibility [%]</td>\n    </tr>\n    <tr>\n      <th>9</th>\n      <td>-0.659007</td>\n      <td>0.521352</td>\n      <td>Forceps stitch 0 area presence [%]</td>\n    </tr>\n    <tr>\n      <th>10</th>\n      <td>-0.331560</td>\n      <td>0.742726</td>\n      <td>Stitch 0 duration [s]</td>\n    </tr>\n    <tr>\n      <th>11</th>\n      <td>0.201060</td>\n      <td>0.843401</td>\n      <td>Stitch 0 duration [%]</td>\n    </tr>\n    <tr>\n      <th>12</th>\n      <td>-0.555979</td>\n      <td>0.582878</td>\n      <td>Scissors stitch 0 length [m]</td>\n    </tr>\n    <tr>\n      <th>13</th>\n      <td>-1.127175</td>\n      <td>0.272600</td>\n      <td>Scissors stitch 0 visibility [s]</td>\n    </tr>\n    <tr>\n      <th>14</th>\n      <td>1.178319</td>\n      <td>0.272323</td>\n      <td>Scissors stitch 0 velocity</td>\n    </tr>\n    <tr>\n      <th>15</th>\n      <td>-1.486556</td>\n      <td>0.157762</td>\n      <td>Scissors stitch 0 visibility [%]</td>\n    </tr>\n    <tr>\n      <th>16</th>\n      <td>0.461156</td>\n      <td>0.654103</td>\n      <td>Scissors stitch 0 area presence [%]</td>\n    </tr>\n    <tr>\n      <th>17</th>\n      <td>1.000000</td>\n      <td>0.346594</td>\n      <td>Needle holder stitch 0 length [pix]</td>\n    </tr>\n    <tr>\n      <th>18</th>\n      <td>1.000000</td>\n      <td>0.346594</td>\n      <td>Forceps stitch 0 length [pix]</td>\n    </tr>\n    <tr>\n      <th>19</th>\n      <td>1.000000</td>\n      <td>0.346594</td>\n      <td>Scissors stitch 0 length [pix]</td>\n    </tr>\n    <tr>\n      <th>20</th>\n      <td>2.000000</td>\n      <td>0.080516</td>\n      <td>Needle holder stitch 0 median area presence [%]</td>\n    </tr>\n    <tr>\n      <th>21</th>\n      <td>2.000000</td>\n      <td>0.080516</td>\n      <td>Forceps stitch 0 median area presence [%]</td>\n    </tr>\n    <tr>\n      <th>22</th>\n      <td>2.000000</td>\n      <td>0.080516</td>\n      <td>Scissors stitch 0 median area presence [%]</td>\n    </tr>\n  </tbody>\n</table>\n</div>"
     },
     "execution_count": 205,
     "metadata": {},
     "output_type": "execute_result"
    }
   ],
   "source": [
    "import pandas as pd\n",
    "import scipy.stats as stats\n",
    "\n",
    "# Columns to compare\n",
    "# cols_with_0 = list(df_stats.index)  # Replace with your actual column names\n",
    "# relevant_column = \"is_pretest_num\"\n",
    "\n",
    "# DataFrames for each group\n",
    "pretest_df = dfs[dfs[relevant_column] == 1][cols_with_0]\n",
    "posttest_df = dfs[dfs[relevant_column] == 0][cols_with_0]\n",
    "\n",
    "# Calculate means and variances\n",
    "# pretest_mean = pretest_df.mean()\n",
    "# posttest_mean = posttest_df.mean()\n",
    "# pretest_var = pretest_df.var()\n",
    "# posttest_var = posttest_df.var()\n",
    "\n",
    "# Perform t-tests\n",
    "t_stats = []\n",
    "p_values = []\n",
    "col_names =[]\n",
    "for col in cols_with_0:\n",
    "    try:\n",
    "        t_stat, p_value = stats.ttest_ind(pretest_df[col], posttest_df[col], equal_var=False)  # Assuming unequal variance\n",
    "        t_stats.append(t_stat)\n",
    "        p_values.append(p_value)\n",
    "        col_names.append(col)\n",
    "    except:\n",
    "        print(col)\n",
    "        import traceback\n",
    "        traceback.print_exc()\n",
    "\n",
    "# Collect the statistics in a DataFrame\n",
    "df_stats = pd.DataFrame({\n",
    "    \"t_stat\": t_stats,\n",
    "    \"p_value\": p_values,\n",
    "    \"col_name\": col_names\n",
    "})\n",
    "\n",
    "# df_stats[\"diff\"] = df_stats[\"pretest_mean\"] - df_stats[\"posttest_mean\"]\n",
    "\n",
    "# import ace_tools as tools; tools.display_dataframe_to_user(name=\"Statistics DataFrame\", dataframe=df_stats)\n",
    "\n",
    "df_stats"
   ],
   "metadata": {
    "collapsed": false,
    "ExecuteTime": {
     "end_time": "2024-06-17T12:02:44.905473900Z",
     "start_time": "2024-06-17T12:02:44.566363400Z"
    }
   },
   "id": "14a4fee43499974f",
   "execution_count": 205
  },
  {
   "cell_type": "markdown",
   "source": [
    "## Find general correlation\n",
    "\n"
   ],
   "metadata": {
    "collapsed": false
   },
   "id": "a4d30e78bd28e63a"
  },
  {
   "cell_type": "code",
   "outputs": [
    {
     "data": {
      "text/plain": "Index(['annotation_annotation', 'annotation_annotation_annotation',\n       'annotation_annotation_stars', 'annotation_annotation_annotator',\n       'annotation_annotation_updated_at', 'annotation_annotation_id',\n       'annotation_annotation_created_at',\n       'annotation_annotation_needle_grabbed_correctly',\n       'annotation_annotation_needle_holder_stabilized',\n       'annotation_annotation_needle_pierced_at_first_try',\n       'annotation_annotation_needle_pierced_at_right_angle',\n       'annotation_annotation_needle_rotated_correctly_on_opposite_side',\n       'annotation_annotation_needle_rotated_correctly_on_students_side',\n       'annotation_annotation_forceps_grabs_the_edge',\n       'annotation_annotation_three_knots_per_stitch',\n       'annotation_annotation_knots_are_done_right',\n       'annotation_annotation_threads_shortened_appropriately',\n       'annotation_annotation_stitch_to_wound_distance_is_correct',\n       'annotation_annotation_distance_between_stitches_is_correct',\n       'annotation_annotation_stitches_perpendicular_to_wound',\n       'annotation_annotation_equal_sized_wound_portions',\n       'annotation_annotation_no_excessive_tension',\n       'annotation_annotation_respect_for_tissue',\n       'annotation_annotation_time_and_movements',\n       'annotation_annotation_instrument_handling',\n       'annotation_annotation_procedure_flow', 'annotation_annotation_i'],\n      dtype='object')"
     },
     "execution_count": 308,
     "metadata": {},
     "output_type": "execute_result"
    }
   ],
   "source": [
    "cols"
   ],
   "metadata": {
    "collapsed": false,
    "ExecuteTime": {
     "end_time": "2024-04-15T23:27:35.041227700Z",
     "start_time": "2024-04-15T23:27:34.970214500Z"
    }
   },
   "id": "120d45b67f00a185",
   "execution_count": 308
  },
  {
   "cell_type": "code",
   "outputs": [
    {
     "data": {
      "text/plain": "['annotation_annotation',\n 'annotation_annotation_annotation',\n 'annotation_annotation_stars',\n 'annotation_annotation_annotator',\n 'annotation_annotation_updated_at',\n 'annotation_annotation_id',\n 'annotation_annotation_created_at',\n 'annotation_annotation_needle_grabbed_correctly',\n 'annotation_annotation_needle_holder_stabilized',\n 'annotation_annotation_needle_pierced_at_first_try',\n 'annotation_annotation_needle_pierced_at_right_angle',\n 'annotation_annotation_needle_rotated_correctly_on_opposite_side',\n 'annotation_annotation_needle_rotated_correctly_on_students_side',\n 'annotation_annotation_forceps_grabs_the_edge',\n 'annotation_annotation_three_knots_per_stitch',\n 'annotation_annotation_knots_are_done_right',\n 'annotation_annotation_threads_shortened_appropriately',\n 'annotation_annotation_stitch_to_wound_distance_is_correct',\n 'annotation_annotation_distance_between_stitches_is_correct',\n 'annotation_annotation_stitches_perpendicular_to_wound',\n 'annotation_annotation_equal_sized_wound_portions',\n 'annotation_annotation_no_excessive_tension',\n 'annotation_annotation_respect_for_tissue',\n 'annotation_annotation_time_and_movements',\n 'annotation_annotation_instrument_handling',\n 'annotation_annotation_procedure_flow',\n 'annotation_annotation_i']"
     },
     "execution_count": 309,
     "metadata": {},
     "output_type": "execute_result"
    }
   ],
   "source": [
    "list(cols)"
   ],
   "metadata": {
    "collapsed": false,
    "ExecuteTime": {
     "end_time": "2024-04-15T23:27:35.528615400Z",
     "start_time": "2024-04-15T23:27:35.488617100Z"
    }
   },
   "id": "f8f58e85c36c83c",
   "execution_count": 309
  },
  {
   "cell_type": "code",
   "outputs": [
    {
     "data": {
      "text/plain": "                                           annotation_annotation_stars  \\\nfps                                                           0.057710   \nNeedle holder length [m]                                      0.098443   \nScissors length [m]                                           0.177458   \nForceps length [m]                                            0.135052   \nNeedle holder visibility [s]                                  0.053754   \n...                                                                ...   \nForceps curved stitch 0 unit                                       NaN   \nForceps curved stitch 0 visibility [%]                             NaN   \nForceps curved stitch 0 area presence [%]                          NaN   \nForceps curved stitch 0 length [pix]                               NaN   \nstars_auto_filename                                           0.439247   \n\n                                           annotation_annotation_id  \\\nfps                                                        0.153598   \nNeedle holder length [m]                                   0.448145   \nScissors length [m]                                        0.357064   \nForceps length [m]                                         0.069855   \nNeedle holder visibility [s]                               0.390411   \n...                                                             ...   \nForceps curved stitch 0 unit                                    NaN   \nForceps curved stitch 0 visibility [%]                          NaN   \nForceps curved stitch 0 area presence [%]                       NaN   \nForceps curved stitch 0 length [pix]                            NaN   \nstars_auto_filename                                        0.358587   \n\n                                           annotation_annotation_needle_grabbed_correctly  \\\nfps                                                                              0.028221   \nNeedle holder length [m]                                                         0.192226   \nScissors length [m]                                                              0.154983   \nForceps length [m]                                                               0.130507   \nNeedle holder visibility [s]                                                     0.029397   \n...                                                                                   ...   \nForceps curved stitch 0 unit                                                          NaN   \nForceps curved stitch 0 visibility [%]                                                NaN   \nForceps curved stitch 0 area presence [%]                                             NaN   \nForceps curved stitch 0 length [pix]                                                  NaN   \nstars_auto_filename                                                              0.116021   \n\n                                           annotation_annotation_needle_holder_stabilized  \\\nfps                                                                              0.047832   \nNeedle holder length [m]                                                         0.426560   \nScissors length [m]                                                              0.353819   \nForceps length [m]                                                               0.128535   \nNeedle holder visibility [s]                                                     0.417291   \n...                                                                                   ...   \nForceps curved stitch 0 unit                                                          NaN   \nForceps curved stitch 0 visibility [%]                                                NaN   \nForceps curved stitch 0 area presence [%]                                             NaN   \nForceps curved stitch 0 length [pix]                                                  NaN   \nstars_auto_filename                                                              0.265285   \n\n                                           annotation_annotation_needle_pierced_at_first_try  \\\nfps                                                                                 0.004461   \nNeedle holder length [m]                                                            0.274562   \nScissors length [m]                                                                 0.048558   \nForceps length [m]                                                                  0.078624   \nNeedle holder visibility [s]                                                        0.347248   \n...                                                                                      ...   \nForceps curved stitch 0 unit                                                             NaN   \nForceps curved stitch 0 visibility [%]                                                   NaN   \nForceps curved stitch 0 area presence [%]                                                NaN   \nForceps curved stitch 0 length [pix]                                                     NaN   \nstars_auto_filename                                                                 0.173085   \n\n                                           annotation_annotation_needle_pierced_at_right_angle  \\\nfps                                                                                 0.075943     \nNeedle holder length [m]                                                            0.110391     \nScissors length [m]                                                                 0.054214     \nForceps length [m]                                                                  0.002601     \nNeedle holder visibility [s]                                                        0.204690     \n...                                                                                      ...     \nForceps curved stitch 0 unit                                                             NaN     \nForceps curved stitch 0 visibility [%]                                                   NaN     \nForceps curved stitch 0 area presence [%]                                                NaN     \nForceps curved stitch 0 length [pix]                                                     NaN     \nstars_auto_filename                                                                 0.027634     \n\n                                           annotation_annotation_needle_rotated_correctly_on_opposite_side  \\\nfps                                                                                 0.063904                 \nNeedle holder length [m]                                                            0.335171                 \nScissors length [m]                                                                 0.209504                 \nForceps length [m]                                                                  0.140940                 \nNeedle holder visibility [s]                                                        0.418551                 \n...                                                                                      ...                 \nForceps curved stitch 0 unit                                                             NaN                 \nForceps curved stitch 0 visibility [%]                                                   NaN                 \nForceps curved stitch 0 area presence [%]                                                NaN                 \nForceps curved stitch 0 length [pix]                                                     NaN                 \nstars_auto_filename                                                                 0.518976                 \n\n                                           annotation_annotation_needle_rotated_correctly_on_students_side  \\\nfps                                                                                 0.135352                 \nNeedle holder length [m]                                                            0.060582                 \nScissors length [m]                                                                 0.247857                 \nForceps length [m]                                                                  0.047920                 \nNeedle holder visibility [s]                                                        0.145847                 \n...                                                                                      ...                 \nForceps curved stitch 0 unit                                                             NaN                 \nForceps curved stitch 0 visibility [%]                                                   NaN                 \nForceps curved stitch 0 area presence [%]                                                NaN                 \nForceps curved stitch 0 length [pix]                                                     NaN                 \nstars_auto_filename                                                                 0.232042                 \n\n                                           annotation_annotation_forceps_grabs_the_edge  \\\nfps                                                                            0.096049   \nNeedle holder length [m]                                                       0.119132   \nScissors length [m]                                                            0.268644   \nForceps length [m]                                                             0.011148   \nNeedle holder visibility [s]                                                   0.135778   \n...                                                                                 ...   \nForceps curved stitch 0 unit                                                        NaN   \nForceps curved stitch 0 visibility [%]                                              NaN   \nForceps curved stitch 0 area presence [%]                                           NaN   \nForceps curved stitch 0 length [pix]                                                NaN   \nstars_auto_filename                                                            0.163634   \n\n                                           annotation_annotation_three_knots_per_stitch  \\\nfps                                                                            0.277577   \nNeedle holder length [m]                                                       0.213167   \nScissors length [m]                                                            0.171345   \nForceps length [m]                                                             0.152697   \nNeedle holder visibility [s]                                                   0.205036   \n...                                                                                 ...   \nForceps curved stitch 0 unit                                                        NaN   \nForceps curved stitch 0 visibility [%]                                              NaN   \nForceps curved stitch 0 area presence [%]                                           NaN   \nForceps curved stitch 0 length [pix]                                                NaN   \nstars_auto_filename                                                            0.228944   \n\n                                           ...  \\\nfps                                        ...   \nNeedle holder length [m]                   ...   \nScissors length [m]                        ...   \nForceps length [m]                         ...   \nNeedle holder visibility [s]               ...   \n...                                        ...   \nForceps curved stitch 0 unit               ...   \nForceps curved stitch 0 visibility [%]     ...   \nForceps curved stitch 0 area presence [%]  ...   \nForceps curved stitch 0 length [pix]       ...   \nstars_auto_filename                        ...   \n\n                                           annotation_annotation_stitch_to_wound_distance_is_correct  \\\nfps                                                                                 0.078599           \nNeedle holder length [m]                                                            0.132985           \nScissors length [m]                                                                 0.068310           \nForceps length [m]                                                                  0.089335           \nNeedle holder visibility [s]                                                        0.195157           \n...                                                                                      ...           \nForceps curved stitch 0 unit                                                             NaN           \nForceps curved stitch 0 visibility [%]                                                   NaN           \nForceps curved stitch 0 area presence [%]                                                NaN           \nForceps curved stitch 0 length [pix]                                                     NaN           \nstars_auto_filename                                                                 0.318510           \n\n                                           annotation_annotation_distance_between_stitches_is_correct  \\\nfps                                                                                 0.019391            \nNeedle holder length [m]                                                            0.417669            \nScissors length [m]                                                                 0.283016            \nForceps length [m]                                                                  0.136371            \nNeedle holder visibility [s]                                                        0.462943            \n...                                                                                      ...            \nForceps curved stitch 0 unit                                                             NaN            \nForceps curved stitch 0 visibility [%]                                                   NaN            \nForceps curved stitch 0 area presence [%]                                                NaN            \nForceps curved stitch 0 length [pix]                                                     NaN            \nstars_auto_filename                                                                 0.528878            \n\n                                           annotation_annotation_stitches_perpendicular_to_wound  \\\nfps                                                                                 0.042364       \nNeedle holder length [m]                                                            0.150048       \nScissors length [m]                                                                 0.103569       \nForceps length [m]                                                                  0.156424       \nNeedle holder visibility [s]                                                        0.139948       \n...                                                                                      ...       \nForceps curved stitch 0 unit                                                             NaN       \nForceps curved stitch 0 visibility [%]                                                   NaN       \nForceps curved stitch 0 area presence [%]                                                NaN       \nForceps curved stitch 0 length [pix]                                                     NaN       \nstars_auto_filename                                                                 0.504724       \n\n                                           annotation_annotation_equal_sized_wound_portions  \\\nfps                                                                                0.061960   \nNeedle holder length [m]                                                           0.085487   \nScissors length [m]                                                                0.080355   \nForceps length [m]                                                                 0.148627   \nNeedle holder visibility [s]                                                       0.087367   \n...                                                                                     ...   \nForceps curved stitch 0 unit                                                            NaN   \nForceps curved stitch 0 visibility [%]                                                  NaN   \nForceps curved stitch 0 area presence [%]                                               NaN   \nForceps curved stitch 0 length [pix]                                                    NaN   \nstars_auto_filename                                                                0.030065   \n\n                                           annotation_annotation_no_excessive_tension  \\\nfps                                                                          0.035844   \nNeedle holder length [m]                                                     0.210091   \nScissors length [m]                                                          0.093489   \nForceps length [m]                                                           0.140810   \nNeedle holder visibility [s]                                                 0.226519   \n...                                                                               ...   \nForceps curved stitch 0 unit                                                      NaN   \nForceps curved stitch 0 visibility [%]                                            NaN   \nForceps curved stitch 0 area presence [%]                                         NaN   \nForceps curved stitch 0 length [pix]                                              NaN   \nstars_auto_filename                                                          0.503140   \n\n                                           annotation_annotation_respect_for_tissue  \\\nfps                                                                        0.062472   \nNeedle holder length [m]                                                   0.128034   \nScissors length [m]                                                        0.079239   \nForceps length [m]                                                         0.004152   \nNeedle holder visibility [s]                                               0.045817   \n...                                                                             ...   \nForceps curved stitch 0 unit                                                    NaN   \nForceps curved stitch 0 visibility [%]                                          NaN   \nForceps curved stitch 0 area presence [%]                                       NaN   \nForceps curved stitch 0 length [pix]                                            NaN   \nstars_auto_filename                                                        0.195176   \n\n                                           annotation_annotation_time_and_movements  \\\nfps                                                                        0.103676   \nNeedle holder length [m]                                                   0.171296   \nScissors length [m]                                                        0.113606   \nForceps length [m]                                                         0.121292   \nNeedle holder visibility [s]                                               0.016282   \n...                                                                             ...   \nForceps curved stitch 0 unit                                                    NaN   \nForceps curved stitch 0 visibility [%]                                          NaN   \nForceps curved stitch 0 area presence [%]                                       NaN   \nForceps curved stitch 0 length [pix]                                            NaN   \nstars_auto_filename                                                        0.444563   \n\n                                           annotation_annotation_instrument_handling  \\\nfps                                                                         0.014209   \nNeedle holder length [m]                                                    0.000737   \nScissors length [m]                                                         0.090229   \nForceps length [m]                                                          0.047083   \nNeedle holder visibility [s]                                                0.034079   \n...                                                                              ...   \nForceps curved stitch 0 unit                                                     NaN   \nForceps curved stitch 0 visibility [%]                                           NaN   \nForceps curved stitch 0 area presence [%]                                        NaN   \nForceps curved stitch 0 length [pix]                                             NaN   \nstars_auto_filename                                                         0.221422   \n\n                                           annotation_annotation_procedure_flow  \\\nfps                                                                    0.018903   \nNeedle holder length [m]                                               0.021612   \nScissors length [m]                                                    0.017431   \nForceps length [m]                                                     0.185527   \nNeedle holder visibility [s]                                           0.054452   \n...                                                                         ...   \nForceps curved stitch 0 unit                                                NaN   \nForceps curved stitch 0 visibility [%]                                      NaN   \nForceps curved stitch 0 area presence [%]                                   NaN   \nForceps curved stitch 0 length [pix]                                        NaN   \nstars_auto_filename                                                    0.331492   \n\n                                           annotation_annotation_i  \nfps                                                       0.024017  \nNeedle holder length [m]                                  0.406419  \nScissors length [m]                                       0.303175  \nForceps length [m]                                        0.186474  \nNeedle holder visibility [s]                              0.362151  \n...                                                            ...  \nForceps curved stitch 0 unit                                   NaN  \nForceps curved stitch 0 visibility [%]                         NaN  \nForceps curved stitch 0 area presence [%]                      NaN  \nForceps curved stitch 0 length [pix]                           NaN  \nstars_auto_filename                                       0.355319  \n\n[129 rows x 22 columns]",
      "text/html": "<div>\n<style scoped>\n    .dataframe tbody tr th:only-of-type {\n        vertical-align: middle;\n    }\n\n    .dataframe tbody tr th {\n        vertical-align: top;\n    }\n\n    .dataframe thead th {\n        text-align: right;\n    }\n</style>\n<table border=\"1\" class=\"dataframe\">\n  <thead>\n    <tr style=\"text-align: right;\">\n      <th></th>\n      <th>annotation_annotation_stars</th>\n      <th>annotation_annotation_id</th>\n      <th>annotation_annotation_needle_grabbed_correctly</th>\n      <th>annotation_annotation_needle_holder_stabilized</th>\n      <th>annotation_annotation_needle_pierced_at_first_try</th>\n      <th>annotation_annotation_needle_pierced_at_right_angle</th>\n      <th>annotation_annotation_needle_rotated_correctly_on_opposite_side</th>\n      <th>annotation_annotation_needle_rotated_correctly_on_students_side</th>\n      <th>annotation_annotation_forceps_grabs_the_edge</th>\n      <th>annotation_annotation_three_knots_per_stitch</th>\n      <th>...</th>\n      <th>annotation_annotation_stitch_to_wound_distance_is_correct</th>\n      <th>annotation_annotation_distance_between_stitches_is_correct</th>\n      <th>annotation_annotation_stitches_perpendicular_to_wound</th>\n      <th>annotation_annotation_equal_sized_wound_portions</th>\n      <th>annotation_annotation_no_excessive_tension</th>\n      <th>annotation_annotation_respect_for_tissue</th>\n      <th>annotation_annotation_time_and_movements</th>\n      <th>annotation_annotation_instrument_handling</th>\n      <th>annotation_annotation_procedure_flow</th>\n      <th>annotation_annotation_i</th>\n    </tr>\n  </thead>\n  <tbody>\n    <tr>\n      <th>fps</th>\n      <td>0.057710</td>\n      <td>0.153598</td>\n      <td>0.028221</td>\n      <td>0.047832</td>\n      <td>0.004461</td>\n      <td>0.075943</td>\n      <td>0.063904</td>\n      <td>0.135352</td>\n      <td>0.096049</td>\n      <td>0.277577</td>\n      <td>...</td>\n      <td>0.078599</td>\n      <td>0.019391</td>\n      <td>0.042364</td>\n      <td>0.061960</td>\n      <td>0.035844</td>\n      <td>0.062472</td>\n      <td>0.103676</td>\n      <td>0.014209</td>\n      <td>0.018903</td>\n      <td>0.024017</td>\n    </tr>\n    <tr>\n      <th>Needle holder length [m]</th>\n      <td>0.098443</td>\n      <td>0.448145</td>\n      <td>0.192226</td>\n      <td>0.426560</td>\n      <td>0.274562</td>\n      <td>0.110391</td>\n      <td>0.335171</td>\n      <td>0.060582</td>\n      <td>0.119132</td>\n      <td>0.213167</td>\n      <td>...</td>\n      <td>0.132985</td>\n      <td>0.417669</td>\n      <td>0.150048</td>\n      <td>0.085487</td>\n      <td>0.210091</td>\n      <td>0.128034</td>\n      <td>0.171296</td>\n      <td>0.000737</td>\n      <td>0.021612</td>\n      <td>0.406419</td>\n    </tr>\n    <tr>\n      <th>Scissors length [m]</th>\n      <td>0.177458</td>\n      <td>0.357064</td>\n      <td>0.154983</td>\n      <td>0.353819</td>\n      <td>0.048558</td>\n      <td>0.054214</td>\n      <td>0.209504</td>\n      <td>0.247857</td>\n      <td>0.268644</td>\n      <td>0.171345</td>\n      <td>...</td>\n      <td>0.068310</td>\n      <td>0.283016</td>\n      <td>0.103569</td>\n      <td>0.080355</td>\n      <td>0.093489</td>\n      <td>0.079239</td>\n      <td>0.113606</td>\n      <td>0.090229</td>\n      <td>0.017431</td>\n      <td>0.303175</td>\n    </tr>\n    <tr>\n      <th>Forceps length [m]</th>\n      <td>0.135052</td>\n      <td>0.069855</td>\n      <td>0.130507</td>\n      <td>0.128535</td>\n      <td>0.078624</td>\n      <td>0.002601</td>\n      <td>0.140940</td>\n      <td>0.047920</td>\n      <td>0.011148</td>\n      <td>0.152697</td>\n      <td>...</td>\n      <td>0.089335</td>\n      <td>0.136371</td>\n      <td>0.156424</td>\n      <td>0.148627</td>\n      <td>0.140810</td>\n      <td>0.004152</td>\n      <td>0.121292</td>\n      <td>0.047083</td>\n      <td>0.185527</td>\n      <td>0.186474</td>\n    </tr>\n    <tr>\n      <th>Needle holder visibility [s]</th>\n      <td>0.053754</td>\n      <td>0.390411</td>\n      <td>0.029397</td>\n      <td>0.417291</td>\n      <td>0.347248</td>\n      <td>0.204690</td>\n      <td>0.418551</td>\n      <td>0.145847</td>\n      <td>0.135778</td>\n      <td>0.205036</td>\n      <td>...</td>\n      <td>0.195157</td>\n      <td>0.462943</td>\n      <td>0.139948</td>\n      <td>0.087367</td>\n      <td>0.226519</td>\n      <td>0.045817</td>\n      <td>0.016282</td>\n      <td>0.034079</td>\n      <td>0.054452</td>\n      <td>0.362151</td>\n    </tr>\n    <tr>\n      <th>...</th>\n      <td>...</td>\n      <td>...</td>\n      <td>...</td>\n      <td>...</td>\n      <td>...</td>\n      <td>...</td>\n      <td>...</td>\n      <td>...</td>\n      <td>...</td>\n      <td>...</td>\n      <td>...</td>\n      <td>...</td>\n      <td>...</td>\n      <td>...</td>\n      <td>...</td>\n      <td>...</td>\n      <td>...</td>\n      <td>...</td>\n      <td>...</td>\n      <td>...</td>\n      <td>...</td>\n    </tr>\n    <tr>\n      <th>Forceps curved stitch 0 unit</th>\n      <td>NaN</td>\n      <td>NaN</td>\n      <td>NaN</td>\n      <td>NaN</td>\n      <td>NaN</td>\n      <td>NaN</td>\n      <td>NaN</td>\n      <td>NaN</td>\n      <td>NaN</td>\n      <td>NaN</td>\n      <td>...</td>\n      <td>NaN</td>\n      <td>NaN</td>\n      <td>NaN</td>\n      <td>NaN</td>\n      <td>NaN</td>\n      <td>NaN</td>\n      <td>NaN</td>\n      <td>NaN</td>\n      <td>NaN</td>\n      <td>NaN</td>\n    </tr>\n    <tr>\n      <th>Forceps curved stitch 0 visibility [%]</th>\n      <td>NaN</td>\n      <td>NaN</td>\n      <td>NaN</td>\n      <td>NaN</td>\n      <td>NaN</td>\n      <td>NaN</td>\n      <td>NaN</td>\n      <td>NaN</td>\n      <td>NaN</td>\n      <td>NaN</td>\n      <td>...</td>\n      <td>NaN</td>\n      <td>NaN</td>\n      <td>NaN</td>\n      <td>NaN</td>\n      <td>NaN</td>\n      <td>NaN</td>\n      <td>NaN</td>\n      <td>NaN</td>\n      <td>NaN</td>\n      <td>NaN</td>\n    </tr>\n    <tr>\n      <th>Forceps curved stitch 0 area presence [%]</th>\n      <td>NaN</td>\n      <td>NaN</td>\n      <td>NaN</td>\n      <td>NaN</td>\n      <td>NaN</td>\n      <td>NaN</td>\n      <td>NaN</td>\n      <td>NaN</td>\n      <td>NaN</td>\n      <td>NaN</td>\n      <td>...</td>\n      <td>NaN</td>\n      <td>NaN</td>\n      <td>NaN</td>\n      <td>NaN</td>\n      <td>NaN</td>\n      <td>NaN</td>\n      <td>NaN</td>\n      <td>NaN</td>\n      <td>NaN</td>\n      <td>NaN</td>\n    </tr>\n    <tr>\n      <th>Forceps curved stitch 0 length [pix]</th>\n      <td>NaN</td>\n      <td>NaN</td>\n      <td>NaN</td>\n      <td>NaN</td>\n      <td>NaN</td>\n      <td>NaN</td>\n      <td>NaN</td>\n      <td>NaN</td>\n      <td>NaN</td>\n      <td>NaN</td>\n      <td>...</td>\n      <td>NaN</td>\n      <td>NaN</td>\n      <td>NaN</td>\n      <td>NaN</td>\n      <td>NaN</td>\n      <td>NaN</td>\n      <td>NaN</td>\n      <td>NaN</td>\n      <td>NaN</td>\n      <td>NaN</td>\n    </tr>\n    <tr>\n      <th>stars_auto_filename</th>\n      <td>0.439247</td>\n      <td>0.358587</td>\n      <td>0.116021</td>\n      <td>0.265285</td>\n      <td>0.173085</td>\n      <td>0.027634</td>\n      <td>0.518976</td>\n      <td>0.232042</td>\n      <td>0.163634</td>\n      <td>0.228944</td>\n      <td>...</td>\n      <td>0.318510</td>\n      <td>0.528878</td>\n      <td>0.504724</td>\n      <td>0.030065</td>\n      <td>0.503140</td>\n      <td>0.195176</td>\n      <td>0.444563</td>\n      <td>0.221422</td>\n      <td>0.331492</td>\n      <td>0.355319</td>\n    </tr>\n  </tbody>\n</table>\n<p>129 rows × 22 columns</p>\n</div>"
     },
     "execution_count": 310,
     "metadata": {},
     "output_type": "execute_result"
    }
   ],
   "source": [
    "# try to find the best columns to predict stars_auto\n",
    "\n",
    "\n",
    "# corr = dfs.corr(numeric_only=True)\n",
    "# numeric_cols = corr.columns[corr.columns.str.contains(\"annotation_annotation\")]\n",
    "# corr = corr[numeric_cols].abs()# .sort_values(by=\"annotation_annotation_stars\", ascending=False).head(10)\n",
    "# # keep just rows not containing \"annotation_annotation\" in the index\n",
    "# corr = corr[~corr.index.str.contains(\"annotation_annotation\")]\n",
    "# \n",
    "# # [list(cols)].abs()# .sort_values(ascending=False).head(10)\n",
    "# # corr = corr[corr.index != \"stars_auto\"] \n",
    "# \n",
    "# corr"
   ],
   "metadata": {
    "collapsed": false,
    "ExecuteTime": {
     "end_time": "2024-04-15T23:27:36.019291900Z",
     "start_time": "2024-04-15T23:27:35.934297900Z"
    }
   },
   "id": "ff31bf56274927c7",
   "execution_count": 310
  },
  {
   "cell_type": "code",
   "outputs": [
    {
     "data": {
      "text/plain": "                                               annotation_annotation_stars  \\\nstars_auto_filename                                               0.439247   \nqr_data_pix_size_single_frame_detector_m                          0.256123   \nNeedle holder visibility [%]                                      0.239386   \nduration_s_tracking                                               0.108056   \nLeft hand bbox velocity                                           0.029935   \nForceps bbox area presence [%]                                    0.048855   \nNeedle holder stitch 0 visibility [s]                             0.154024   \nForceps velocity                                                  0.095470   \norig frame_height                                                 0.100997   \nqr_data_size_by_scene                                             0.227089   \nNeedle holder bbox stitch 0 area presence [%]                     0.241817   \nScissors bbox visibility [s]                                      0.253580   \nStitch 0 duration [s]                                             0.198482   \nNeedle holder stitch 0 visibility [s]                             0.154024   \nstars_auto_filename                                               0.439247   \nScissors stitch 0 visibility [s]                                  0.111097   \nStitch 0 duration [%]                                             0.336876   \nNeedle holder bbox stitch 0 visibility [%]                        0.038851   \nn_stitches_by_user                                                0.358122   \nStitch 0 duration [%]                                             0.336876   \nStitch 0 duration [%]                                             0.336876   \nStitch 0 duration [s]                                             0.198482   \n\n                                               annotation_annotation_id  \\\nstars_auto_filename                                            0.358587   \nqr_data_pix_size_single_frame_detector_m                       0.653340   \nNeedle holder visibility [%]                                   0.291410   \nduration_s_tracking                                            0.500097   \nLeft hand bbox velocity                                        0.264554   \nForceps bbox area presence [%]                                 0.125776   \nNeedle holder stitch 0 visibility [s]                          0.406410   \nForceps velocity                                               0.400256   \norig frame_height                                              0.004559   \nqr_data_size_by_scene                                          0.023594   \nNeedle holder bbox stitch 0 area presence [%]                  0.076273   \nScissors bbox visibility [s]                                   0.005126   \nStitch 0 duration [s]                                          0.468403   \nNeedle holder stitch 0 visibility [s]                          0.406410   \nstars_auto_filename                                            0.358587   \nScissors stitch 0 visibility [s]                               0.034244   \nStitch 0 duration [%]                                          0.069164   \nNeedle holder bbox stitch 0 visibility [%]                     0.101003   \nn_stitches_by_user                                             0.273337   \nStitch 0 duration [%]                                          0.069164   \nStitch 0 duration [%]                                          0.069164   \nStitch 0 duration [s]                                          0.468403   \n\n                                               annotation_annotation_needle_grabbed_correctly  \\\nstars_auto_filename                                                                  0.116021   \nqr_data_pix_size_single_frame_detector_m                                             0.296248   \nNeedle holder visibility [%]                                                         0.372107   \nduration_s_tracking                                                                  0.050354   \nLeft hand bbox velocity                                                              0.051702   \nForceps bbox area presence [%]                                                       0.168777   \nNeedle holder stitch 0 visibility [s]                                                0.069397   \nForceps velocity                                                                     0.250232   \norig frame_height                                                                    0.224523   \nqr_data_size_by_scene                                                                0.138313   \nNeedle holder bbox stitch 0 area presence [%]                                        0.133996   \nScissors bbox visibility [s]                                                         0.175425   \nStitch 0 duration [s]                                                                0.076037   \nNeedle holder stitch 0 visibility [s]                                                0.069397   \nstars_auto_filename                                                                  0.116021   \nScissors stitch 0 visibility [s]                                                     0.093425   \nStitch 0 duration [%]                                                                0.126588   \nNeedle holder bbox stitch 0 visibility [%]                                           0.013277   \nn_stitches_by_user                                                                   0.241983   \nStitch 0 duration [%]                                                                0.126588   \nStitch 0 duration [%]                                                                0.126588   \nStitch 0 duration [s]                                                                0.076037   \n\n                                               annotation_annotation_needle_holder_stabilized  \\\nstars_auto_filename                                                                  0.265285   \nqr_data_pix_size_single_frame_detector_m                                             0.144614   \nNeedle holder visibility [%]                                                         0.234912   \nduration_s_tracking                                                                  0.553984   \nLeft hand bbox velocity                                                              0.337971   \nForceps bbox area presence [%]                                                       0.199582   \nNeedle holder stitch 0 visibility [s]                                                0.537785   \nForceps velocity                                                                     0.067467   \norig frame_height                                                                    0.371381   \nqr_data_size_by_scene                                                                0.238445   \nNeedle holder bbox stitch 0 area presence [%]                                        0.006944   \nScissors bbox visibility [s]                                                         0.174731   \nStitch 0 duration [s]                                                                0.534825   \nNeedle holder stitch 0 visibility [s]                                                0.537785   \nstars_auto_filename                                                                  0.265285   \nScissors stitch 0 visibility [s]                                                     0.029907   \nStitch 0 duration [%]                                                                0.336205   \nNeedle holder bbox stitch 0 visibility [%]                                           0.212741   \nn_stitches_by_user                                                                   0.324933   \nStitch 0 duration [%]                                                                0.336205   \nStitch 0 duration [%]                                                                0.336205   \nStitch 0 duration [s]                                                                0.534825   \n\n                                               annotation_annotation_needle_pierced_at_first_try  \\\nstars_auto_filename                                                                     0.173085   \nqr_data_pix_size_single_frame_detector_m                                                0.098137   \nNeedle holder visibility [%]                                                            0.046032   \nduration_s_tracking                                                                     0.271825   \nLeft hand bbox velocity                                                                 0.481725   \nForceps bbox area presence [%]                                                          0.157130   \nNeedle holder stitch 0 visibility [s]                                                   0.210803   \nForceps velocity                                                                        0.003396   \norig frame_height                                                                       0.011659   \nqr_data_size_by_scene                                                                   0.121456   \nNeedle holder bbox stitch 0 area presence [%]                                           0.125715   \nScissors bbox visibility [s]                                                            0.148650   \nStitch 0 duration [s]                                                                   0.266274   \nNeedle holder stitch 0 visibility [s]                                                   0.210803   \nstars_auto_filename                                                                     0.173085   \nScissors stitch 0 visibility [s]                                                        0.099300   \nStitch 0 duration [%]                                                                   0.092640   \nNeedle holder bbox stitch 0 visibility [%]                                              0.205120   \nn_stitches_by_user                                                                      0.129948   \nStitch 0 duration [%]                                                                   0.092640   \nStitch 0 duration [%]                                                                   0.092640   \nStitch 0 duration [s]                                                                   0.266274   \n\n                                               annotation_annotation_needle_pierced_at_right_angle  \\\nstars_auto_filename                                                                     0.027634     \nqr_data_pix_size_single_frame_detector_m                                                0.078456     \nNeedle holder visibility [%]                                                            0.042951     \nduration_s_tracking                                                                     0.143456     \nLeft hand bbox velocity                                                                 0.223894     \nForceps bbox area presence [%]                                                          0.389521     \nNeedle holder stitch 0 visibility [s]                                                   0.121993     \nForceps velocity                                                                        0.127097     \norig frame_height                                                                       0.306823     \nqr_data_size_by_scene                                                                   0.178988     \nNeedle holder bbox stitch 0 area presence [%]                                           0.119149     \nScissors bbox visibility [s]                                                            0.214949     \nStitch 0 duration [s]                                                                   0.125997     \nNeedle holder stitch 0 visibility [s]                                                   0.121993     \nstars_auto_filename                                                                     0.027634     \nScissors stitch 0 visibility [s]                                                        0.134318     \nStitch 0 duration [%]                                                                   0.103448     \nNeedle holder bbox stitch 0 visibility [%]                                              0.107996     \nn_stitches_by_user                                                                      0.098945     \nStitch 0 duration [%]                                                                   0.103448     \nStitch 0 duration [%]                                                                   0.103448     \nStitch 0 duration [s]                                                                   0.125997     \n\n                                               annotation_annotation_needle_rotated_correctly_on_opposite_side  \\\nstars_auto_filename                                                                     0.518976                 \nqr_data_pix_size_single_frame_detector_m                                                0.104221                 \nNeedle holder visibility [%]                                                            0.059539                 \nduration_s_tracking                                                                     0.574142                 \nLeft hand bbox velocity                                                                 0.256933                 \nForceps bbox area presence [%]                                                          0.331541                 \nNeedle holder stitch 0 visibility [s]                                                   0.603778                 \nForceps velocity                                                                        0.162962                 \norig frame_height                                                                       0.153987                 \nqr_data_size_by_scene                                                                   0.150613                 \nNeedle holder bbox stitch 0 area presence [%]                                           0.031385                 \nScissors bbox visibility [s]                                                            0.249004                 \nStitch 0 duration [s]                                                                   0.576592                 \nNeedle holder stitch 0 visibility [s]                                                   0.603778                 \nstars_auto_filename                                                                     0.518976                 \nScissors stitch 0 visibility [s]                                                        0.121650                 \nStitch 0 duration [%]                                                                   0.448136                 \nNeedle holder bbox stitch 0 visibility [%]                                              0.005061                 \nn_stitches_by_user                                                                      0.425455                 \nStitch 0 duration [%]                                                                   0.448136                 \nStitch 0 duration [%]                                                                   0.448136                 \nStitch 0 duration [s]                                                                   0.576592                 \n\n                                               annotation_annotation_needle_rotated_correctly_on_students_side  \\\nstars_auto_filename                                                                     0.232042                 \nqr_data_pix_size_single_frame_detector_m                                                0.076197                 \nNeedle holder visibility [%]                                                            0.116380                 \nduration_s_tracking                                                                     0.225705                 \nLeft hand bbox velocity                                                                 0.112891                 \nForceps bbox area presence [%]                                                          0.097553                 \nNeedle holder stitch 0 visibility [s]                                                   0.285789                 \nForceps velocity                                                                        0.366609                 \norig frame_height                                                                       0.161394                 \nqr_data_size_by_scene                                                                   0.096035                 \nNeedle holder bbox stitch 0 area presence [%]                                           0.213118                 \nScissors bbox visibility [s]                                                            0.137180                 \nStitch 0 duration [s]                                                                   0.305111                 \nNeedle holder stitch 0 visibility [s]                                                   0.285789                 \nstars_auto_filename                                                                     0.232042                 \nScissors stitch 0 visibility [s]                                                        0.024979                 \nStitch 0 duration [%]                                                                   0.357534                 \nNeedle holder bbox stitch 0 visibility [%]                                              0.138766                 \nn_stitches_by_user                                                                      0.179792                 \nStitch 0 duration [%]                                                                   0.357534                 \nStitch 0 duration [%]                                                                   0.357534                 \nStitch 0 duration [s]                                                                   0.305111                 \n\n                                               annotation_annotation_forceps_grabs_the_edge  \\\nstars_auto_filename                                                                0.163634   \nqr_data_pix_size_single_frame_detector_m                                           0.087820   \nNeedle holder visibility [%]                                                       0.041796   \nduration_s_tracking                                                                0.148278   \nLeft hand bbox velocity                                                            0.154518   \nForceps bbox area presence [%]                                                     0.239325   \nNeedle holder stitch 0 visibility [s]                                              0.090898   \nForceps velocity                                                                   0.146043   \norig frame_height                                                                  0.355169   \nqr_data_size_by_scene                                                              0.283610   \nNeedle holder bbox stitch 0 area presence [%]                                      0.061413   \nScissors bbox visibility [s]                                                       0.047809   \nStitch 0 duration [s]                                                              0.014680   \nNeedle holder stitch 0 visibility [s]                                              0.090898   \nstars_auto_filename                                                                0.163634   \nScissors stitch 0 visibility [s]                                                   0.223763   \nStitch 0 duration [%]                                                              0.083925   \nNeedle holder bbox stitch 0 visibility [%]                                         0.171276   \nn_stitches_by_user                                                                 0.095707   \nStitch 0 duration [%]                                                              0.083925   \nStitch 0 duration [%]                                                              0.083925   \nStitch 0 duration [s]                                                              0.014680   \n\n                                               annotation_annotation_three_knots_per_stitch  \\\nstars_auto_filename                                                                0.228944   \nqr_data_pix_size_single_frame_detector_m                                           0.161934   \nNeedle holder visibility [%]                                                       0.020844   \nduration_s_tracking                                                                0.321583   \nLeft hand bbox velocity                                                            0.105128   \nForceps bbox area presence [%]                                                     0.176122   \nNeedle holder stitch 0 visibility [s]                                              0.216525   \nForceps velocity                                                                   0.319588   \norig frame_height                                                                  0.279142   \nqr_data_size_by_scene                                                              0.427327   \nNeedle holder bbox stitch 0 area presence [%]                                      0.105934   \nScissors bbox visibility [s]                                                       0.112715   \nStitch 0 duration [s]                                                              0.296013   \nNeedle holder stitch 0 visibility [s]                                              0.216525   \nstars_auto_filename                                                                0.228944   \nScissors stitch 0 visibility [s]                                                   0.127520   \nStitch 0 duration [%]                                                              0.134478   \nNeedle holder bbox stitch 0 visibility [%]                                         0.060760   \nn_stitches_by_user                                                                 0.306571   \nStitch 0 duration [%]                                                              0.134478   \nStitch 0 duration [%]                                                              0.134478   \nStitch 0 duration [s]                                                              0.296013   \n\n                                               ...  \\\nstars_auto_filename                            ...   \nqr_data_pix_size_single_frame_detector_m       ...   \nNeedle holder visibility [%]                   ...   \nduration_s_tracking                            ...   \nLeft hand bbox velocity                        ...   \nForceps bbox area presence [%]                 ...   \nNeedle holder stitch 0 visibility [s]          ...   \nForceps velocity                               ...   \norig frame_height                              ...   \nqr_data_size_by_scene                          ...   \nNeedle holder bbox stitch 0 area presence [%]  ...   \nScissors bbox visibility [s]                   ...   \nStitch 0 duration [s]                          ...   \nNeedle holder stitch 0 visibility [s]          ...   \nstars_auto_filename                            ...   \nScissors stitch 0 visibility [s]               ...   \nStitch 0 duration [%]                          ...   \nNeedle holder bbox stitch 0 visibility [%]     ...   \nn_stitches_by_user                             ...   \nStitch 0 duration [%]                          ...   \nStitch 0 duration [%]                          ...   \nStitch 0 duration [s]                          ...   \n\n                                               annotation_annotation_stitch_to_wound_distance_is_correct  \\\nstars_auto_filename                                                                     0.318510           \nqr_data_pix_size_single_frame_detector_m                                                0.078018           \nNeedle holder visibility [%]                                                            0.089579           \nduration_s_tracking                                                                     0.266795           \nLeft hand bbox velocity                                                                 0.052837           \nForceps bbox area presence [%]                                                          0.028875           \nNeedle holder stitch 0 visibility [s]                                                   0.325811           \nForceps velocity                                                                        0.077621           \norig frame_height                                                                       0.317366           \nqr_data_size_by_scene                                                                   0.126898           \nNeedle holder bbox stitch 0 area presence [%]                                           0.149422           \nScissors bbox visibility [s]                                                            0.014144           \nStitch 0 duration [s]                                                                   0.442734           \nNeedle holder stitch 0 visibility [s]                                                   0.325811           \nstars_auto_filename                                                                     0.318510           \nScissors stitch 0 visibility [s]                                                        0.176096           \nStitch 0 duration [%]                                                                   0.341107           \nNeedle holder bbox stitch 0 visibility [%]                                              0.118666           \nn_stitches_by_user                                                                      0.343078           \nStitch 0 duration [%]                                                                   0.341107           \nStitch 0 duration [%]                                                                   0.341107           \nStitch 0 duration [s]                                                                   0.442734           \n\n                                               annotation_annotation_distance_between_stitches_is_correct  \\\nstars_auto_filename                                                                     0.528878            \nqr_data_pix_size_single_frame_detector_m                                                0.104734            \nNeedle holder visibility [%]                                                            0.084495            \nduration_s_tracking                                                                     0.547352            \nLeft hand bbox velocity                                                                 0.281176            \nForceps bbox area presence [%]                                                          0.280539            \nNeedle holder stitch 0 visibility [s]                                                   0.596814            \nForceps velocity                                                                        0.065271            \norig frame_height                                                                       0.339439            \nqr_data_size_by_scene                                                                   0.266733            \nNeedle holder bbox stitch 0 area presence [%]                                           0.084952            \nScissors bbox visibility [s]                                                            0.169345            \nStitch 0 duration [s]                                                                   0.593673            \nNeedle holder stitch 0 visibility [s]                                                   0.596814            \nstars_auto_filename                                                                     0.528878            \nScissors stitch 0 visibility [s]                                                        0.061448            \nStitch 0 duration [%]                                                                   0.413240            \nNeedle holder bbox stitch 0 visibility [%]                                              0.180816            \nn_stitches_by_user                                                                      0.412097            \nStitch 0 duration [%]                                                                   0.413240            \nStitch 0 duration [%]                                                                   0.413240            \nStitch 0 duration [s]                                                                   0.593673            \n\n                                               annotation_annotation_stitches_perpendicular_to_wound  \\\nstars_auto_filename                                                                     0.504724       \nqr_data_pix_size_single_frame_detector_m                                                0.087205       \nNeedle holder visibility [%]                                                            0.092980       \nduration_s_tracking                                                                     0.252592       \nLeft hand bbox velocity                                                                 0.279844       \nForceps bbox area presence [%]                                                          0.106030       \nNeedle holder stitch 0 visibility [s]                                                   0.425639       \nForceps velocity                                                                        0.087528       \norig frame_height                                                                       0.193910       \nqr_data_size_by_scene                                                                   0.302964       \nNeedle holder bbox stitch 0 area presence [%]                                           0.326479       \nScissors bbox visibility [s]                                                            0.418597       \nStitch 0 duration [s]                                                                   0.354125       \nNeedle holder stitch 0 visibility [s]                                                   0.425639       \nstars_auto_filename                                                                     0.504724       \nScissors stitch 0 visibility [s]                                                        0.002624       \nStitch 0 duration [%]                                                                   0.434340       \nNeedle holder bbox stitch 0 visibility [%]                                              0.032230       \nn_stitches_by_user                                                                      0.478815       \nStitch 0 duration [%]                                                                   0.434340       \nStitch 0 duration [%]                                                                   0.434340       \nStitch 0 duration [s]                                                                   0.354125       \n\n                                               annotation_annotation_equal_sized_wound_portions  \\\nstars_auto_filename                                                                    0.030065   \nqr_data_pix_size_single_frame_detector_m                                               0.076332   \nNeedle holder visibility [%]                                                           0.179725   \nduration_s_tracking                                                                    0.092950   \nLeft hand bbox velocity                                                                0.050086   \nForceps bbox area presence [%]                                                         0.053147   \nNeedle holder stitch 0 visibility [s]                                                  0.020319   \nForceps velocity                                                                       0.201910   \norig frame_height                                                                      0.105642   \nqr_data_size_by_scene                                                                  0.091170   \nNeedle holder bbox stitch 0 area presence [%]                                          0.044524   \nScissors bbox visibility [s]                                                           0.079062   \nStitch 0 duration [s]                                                                  0.087750   \nNeedle holder stitch 0 visibility [s]                                                  0.020319   \nstars_auto_filename                                                                    0.030065   \nScissors stitch 0 visibility [s]                                                       0.357178   \nStitch 0 duration [%]                                                                  0.274801   \nNeedle holder bbox stitch 0 visibility [%]                                             0.155698   \nn_stitches_by_user                                                                     0.151249   \nStitch 0 duration [%]                                                                  0.274801   \nStitch 0 duration [%]                                                                  0.274801   \nStitch 0 duration [s]                                                                  0.087750   \n\n                                               annotation_annotation_no_excessive_tension  \\\nstars_auto_filename                                                              0.503140   \nqr_data_pix_size_single_frame_detector_m                                         0.034959   \nNeedle holder visibility [%]                                                     0.095656   \nduration_s_tracking                                                              0.357032   \nLeft hand bbox velocity                                                          0.137546   \nForceps bbox area presence [%]                                                   0.097398   \nNeedle holder stitch 0 visibility [s]                                            0.535860   \nForceps velocity                                                                 0.002774   \norig frame_height                                                                0.147740   \nqr_data_size_by_scene                                                            0.266733   \nNeedle holder bbox stitch 0 area presence [%]                                    0.042162   \nScissors bbox visibility [s]                                                     0.399350   \nStitch 0 duration [s]                                                            0.519796   \nNeedle holder stitch 0 visibility [s]                                            0.535860   \nstars_auto_filename                                                              0.503140   \nScissors stitch 0 visibility [s]                                                 0.015387   \nStitch 0 duration [%]                                                            0.635194   \nNeedle holder bbox stitch 0 visibility [%]                                       0.175010   \nn_stitches_by_user                                                               0.519900   \nStitch 0 duration [%]                                                            0.635194   \nStitch 0 duration [%]                                                            0.635194   \nStitch 0 duration [s]                                                            0.519796   \n\n                                               annotation_annotation_respect_for_tissue  \\\nstars_auto_filename                                                            0.195176   \nqr_data_pix_size_single_frame_detector_m                                       0.255614   \nNeedle holder visibility [%]                                                   0.285344   \nduration_s_tracking                                                            0.010448   \nLeft hand bbox velocity                                                        0.140670   \nForceps bbox area presence [%]                                                 0.070667   \nNeedle holder stitch 0 visibility [s]                                          0.070621   \nForceps velocity                                                               0.007691   \norig frame_height                                                              0.176218   \nqr_data_size_by_scene                                                          0.208571   \nNeedle holder bbox stitch 0 area presence [%]                                  0.240807   \nScissors bbox visibility [s]                                                   0.170977   \nStitch 0 duration [s]                                                          0.066362   \nNeedle holder stitch 0 visibility [s]                                          0.070621   \nstars_auto_filename                                                            0.195176   \nScissors stitch 0 visibility [s]                                               0.116443   \nStitch 0 duration [%]                                                          0.013041   \nNeedle holder bbox stitch 0 visibility [%]                                     0.309041   \nn_stitches_by_user                                                             0.066569   \nStitch 0 duration [%]                                                          0.013041   \nStitch 0 duration [%]                                                          0.013041   \nStitch 0 duration [s]                                                          0.066362   \n\n                                               annotation_annotation_time_and_movements  \\\nstars_auto_filename                                                            0.444563   \nqr_data_pix_size_single_frame_detector_m                                       0.226383   \nNeedle holder visibility [%]                                                   0.245125   \nduration_s_tracking                                                            0.186541   \nLeft hand bbox velocity                                                        0.246969   \nForceps bbox area presence [%]                                                 0.118561   \nNeedle holder stitch 0 visibility [s]                                          0.252800   \nForceps velocity                                                               0.092969   \norig frame_height                                                              0.121186   \nqr_data_size_by_scene                                                          0.139683   \nNeedle holder bbox stitch 0 area presence [%]                                  0.030048   \nScissors bbox visibility [s]                                                   0.367723   \nStitch 0 duration [s]                                                          0.279716   \nNeedle holder stitch 0 visibility [s]                                          0.252800   \nstars_auto_filename                                                            0.444563   \nScissors stitch 0 visibility [s]                                               0.078660   \nStitch 0 duration [%]                                                          0.381025   \nNeedle holder bbox stitch 0 visibility [%]                                     0.219498   \nn_stitches_by_user                                                             0.467177   \nStitch 0 duration [%]                                                          0.381025   \nStitch 0 duration [%]                                                          0.381025   \nStitch 0 duration [s]                                                          0.279716   \n\n                                               annotation_annotation_instrument_handling  \\\nstars_auto_filename                                                             0.221422   \nqr_data_pix_size_single_frame_detector_m                                        0.087622   \nNeedle holder visibility [%]                                                    0.053027   \nduration_s_tracking                                                             0.001867   \nLeft hand bbox velocity                                                         0.138689   \nForceps bbox area presence [%]                                                  0.099199   \nNeedle holder stitch 0 visibility [s]                                           0.046621   \nForceps velocity                                                                0.077383   \norig frame_height                                                               0.188417   \nqr_data_size_by_scene                                                           0.207446   \nNeedle holder bbox stitch 0 area presence [%]                                   0.202770   \nScissors bbox visibility [s]                                                    0.016867   \nStitch 0 duration [s]                                                           0.103815   \nNeedle holder stitch 0 visibility [s]                                           0.046621   \nstars_auto_filename                                                             0.221422   \nScissors stitch 0 visibility [s]                                                0.101664   \nStitch 0 duration [%]                                                           0.323435   \nNeedle holder bbox stitch 0 visibility [%]                                      0.020324   \nn_stitches_by_user                                                              0.180007   \nStitch 0 duration [%]                                                           0.323435   \nStitch 0 duration [%]                                                           0.323435   \nStitch 0 duration [s]                                                           0.103815   \n\n                                               annotation_annotation_procedure_flow  \\\nstars_auto_filename                                                        0.331492   \nqr_data_pix_size_single_frame_detector_m                                   0.287031   \nNeedle holder visibility [%]                                               0.214980   \nduration_s_tracking                                                        0.068255   \nLeft hand bbox velocity                                                    0.085818   \nForceps bbox area presence [%]                                             0.106933   \nNeedle holder stitch 0 visibility [s]                                      0.163927   \nForceps velocity                                                           0.223086   \norig frame_height                                                          0.008719   \nqr_data_size_by_scene                                                      0.162698   \nNeedle holder bbox stitch 0 area presence [%]                              0.062361   \nScissors bbox visibility [s]                                               0.271596   \nStitch 0 duration [s]                                                      0.180979   \nNeedle holder stitch 0 visibility [s]                                      0.163927   \nstars_auto_filename                                                        0.331492   \nScissors stitch 0 visibility [s]                                           0.085125   \nStitch 0 duration [%]                                                      0.406333   \nNeedle holder bbox stitch 0 visibility [%]                                 0.020273   \nn_stitches_by_user                                                         0.290027   \nStitch 0 duration [%]                                                      0.406333   \nStitch 0 duration [%]                                                      0.406333   \nStitch 0 duration [s]                                                      0.180979   \n\n                                               annotation_annotation_i  \nstars_auto_filename                                           0.355319  \nqr_data_pix_size_single_frame_detector_m                      0.303496  \nNeedle holder visibility [%]                                  0.196798  \nduration_s_tracking                                           0.579404  \nLeft hand bbox velocity                                       0.455671  \nForceps bbox area presence [%]                                0.320230  \nNeedle holder stitch 0 visibility [s]                         0.639522  \nForceps velocity                                              0.099852  \norig frame_height                                             0.314492  \nqr_data_size_by_scene                                         0.215353  \nNeedle holder bbox stitch 0 area presence [%]                 0.228848  \nScissors bbox visibility [s]                                  0.418461  \nStitch 0 duration [s]                                         0.654705  \nNeedle holder stitch 0 visibility [s]                         0.639522  \nstars_auto_filename                                           0.355319  \nScissors stitch 0 visibility [s]                              0.135984  \nStitch 0 duration [%]                                         0.613910  \nNeedle holder bbox stitch 0 visibility [%]                    0.060179  \nn_stitches_by_user                                            0.575694  \nStitch 0 duration [%]                                         0.613910  \nStitch 0 duration [%]                                         0.613910  \nStitch 0 duration [s]                                         0.654705  \n\n[22 rows x 22 columns]",
      "text/html": "<div>\n<style scoped>\n    .dataframe tbody tr th:only-of-type {\n        vertical-align: middle;\n    }\n\n    .dataframe tbody tr th {\n        vertical-align: top;\n    }\n\n    .dataframe thead th {\n        text-align: right;\n    }\n</style>\n<table border=\"1\" class=\"dataframe\">\n  <thead>\n    <tr style=\"text-align: right;\">\n      <th></th>\n      <th>annotation_annotation_stars</th>\n      <th>annotation_annotation_id</th>\n      <th>annotation_annotation_needle_grabbed_correctly</th>\n      <th>annotation_annotation_needle_holder_stabilized</th>\n      <th>annotation_annotation_needle_pierced_at_first_try</th>\n      <th>annotation_annotation_needle_pierced_at_right_angle</th>\n      <th>annotation_annotation_needle_rotated_correctly_on_opposite_side</th>\n      <th>annotation_annotation_needle_rotated_correctly_on_students_side</th>\n      <th>annotation_annotation_forceps_grabs_the_edge</th>\n      <th>annotation_annotation_three_knots_per_stitch</th>\n      <th>...</th>\n      <th>annotation_annotation_stitch_to_wound_distance_is_correct</th>\n      <th>annotation_annotation_distance_between_stitches_is_correct</th>\n      <th>annotation_annotation_stitches_perpendicular_to_wound</th>\n      <th>annotation_annotation_equal_sized_wound_portions</th>\n      <th>annotation_annotation_no_excessive_tension</th>\n      <th>annotation_annotation_respect_for_tissue</th>\n      <th>annotation_annotation_time_and_movements</th>\n      <th>annotation_annotation_instrument_handling</th>\n      <th>annotation_annotation_procedure_flow</th>\n      <th>annotation_annotation_i</th>\n    </tr>\n  </thead>\n  <tbody>\n    <tr>\n      <th>stars_auto_filename</th>\n      <td>0.439247</td>\n      <td>0.358587</td>\n      <td>0.116021</td>\n      <td>0.265285</td>\n      <td>0.173085</td>\n      <td>0.027634</td>\n      <td>0.518976</td>\n      <td>0.232042</td>\n      <td>0.163634</td>\n      <td>0.228944</td>\n      <td>...</td>\n      <td>0.318510</td>\n      <td>0.528878</td>\n      <td>0.504724</td>\n      <td>0.030065</td>\n      <td>0.503140</td>\n      <td>0.195176</td>\n      <td>0.444563</td>\n      <td>0.221422</td>\n      <td>0.331492</td>\n      <td>0.355319</td>\n    </tr>\n    <tr>\n      <th>qr_data_pix_size_single_frame_detector_m</th>\n      <td>0.256123</td>\n      <td>0.653340</td>\n      <td>0.296248</td>\n      <td>0.144614</td>\n      <td>0.098137</td>\n      <td>0.078456</td>\n      <td>0.104221</td>\n      <td>0.076197</td>\n      <td>0.087820</td>\n      <td>0.161934</td>\n      <td>...</td>\n      <td>0.078018</td>\n      <td>0.104734</td>\n      <td>0.087205</td>\n      <td>0.076332</td>\n      <td>0.034959</td>\n      <td>0.255614</td>\n      <td>0.226383</td>\n      <td>0.087622</td>\n      <td>0.287031</td>\n      <td>0.303496</td>\n    </tr>\n    <tr>\n      <th>Needle holder visibility [%]</th>\n      <td>0.239386</td>\n      <td>0.291410</td>\n      <td>0.372107</td>\n      <td>0.234912</td>\n      <td>0.046032</td>\n      <td>0.042951</td>\n      <td>0.059539</td>\n      <td>0.116380</td>\n      <td>0.041796</td>\n      <td>0.020844</td>\n      <td>...</td>\n      <td>0.089579</td>\n      <td>0.084495</td>\n      <td>0.092980</td>\n      <td>0.179725</td>\n      <td>0.095656</td>\n      <td>0.285344</td>\n      <td>0.245125</td>\n      <td>0.053027</td>\n      <td>0.214980</td>\n      <td>0.196798</td>\n    </tr>\n    <tr>\n      <th>duration_s_tracking</th>\n      <td>0.108056</td>\n      <td>0.500097</td>\n      <td>0.050354</td>\n      <td>0.553984</td>\n      <td>0.271825</td>\n      <td>0.143456</td>\n      <td>0.574142</td>\n      <td>0.225705</td>\n      <td>0.148278</td>\n      <td>0.321583</td>\n      <td>...</td>\n      <td>0.266795</td>\n      <td>0.547352</td>\n      <td>0.252592</td>\n      <td>0.092950</td>\n      <td>0.357032</td>\n      <td>0.010448</td>\n      <td>0.186541</td>\n      <td>0.001867</td>\n      <td>0.068255</td>\n      <td>0.579404</td>\n    </tr>\n    <tr>\n      <th>Left hand bbox velocity</th>\n      <td>0.029935</td>\n      <td>0.264554</td>\n      <td>0.051702</td>\n      <td>0.337971</td>\n      <td>0.481725</td>\n      <td>0.223894</td>\n      <td>0.256933</td>\n      <td>0.112891</td>\n      <td>0.154518</td>\n      <td>0.105128</td>\n      <td>...</td>\n      <td>0.052837</td>\n      <td>0.281176</td>\n      <td>0.279844</td>\n      <td>0.050086</td>\n      <td>0.137546</td>\n      <td>0.140670</td>\n      <td>0.246969</td>\n      <td>0.138689</td>\n      <td>0.085818</td>\n      <td>0.455671</td>\n    </tr>\n    <tr>\n      <th>Forceps bbox area presence [%]</th>\n      <td>0.048855</td>\n      <td>0.125776</td>\n      <td>0.168777</td>\n      <td>0.199582</td>\n      <td>0.157130</td>\n      <td>0.389521</td>\n      <td>0.331541</td>\n      <td>0.097553</td>\n      <td>0.239325</td>\n      <td>0.176122</td>\n      <td>...</td>\n      <td>0.028875</td>\n      <td>0.280539</td>\n      <td>0.106030</td>\n      <td>0.053147</td>\n      <td>0.097398</td>\n      <td>0.070667</td>\n      <td>0.118561</td>\n      <td>0.099199</td>\n      <td>0.106933</td>\n      <td>0.320230</td>\n    </tr>\n    <tr>\n      <th>Needle holder stitch 0 visibility [s]</th>\n      <td>0.154024</td>\n      <td>0.406410</td>\n      <td>0.069397</td>\n      <td>0.537785</td>\n      <td>0.210803</td>\n      <td>0.121993</td>\n      <td>0.603778</td>\n      <td>0.285789</td>\n      <td>0.090898</td>\n      <td>0.216525</td>\n      <td>...</td>\n      <td>0.325811</td>\n      <td>0.596814</td>\n      <td>0.425639</td>\n      <td>0.020319</td>\n      <td>0.535860</td>\n      <td>0.070621</td>\n      <td>0.252800</td>\n      <td>0.046621</td>\n      <td>0.163927</td>\n      <td>0.639522</td>\n    </tr>\n    <tr>\n      <th>Forceps velocity</th>\n      <td>0.095470</td>\n      <td>0.400256</td>\n      <td>0.250232</td>\n      <td>0.067467</td>\n      <td>0.003396</td>\n      <td>0.127097</td>\n      <td>0.162962</td>\n      <td>0.366609</td>\n      <td>0.146043</td>\n      <td>0.319588</td>\n      <td>...</td>\n      <td>0.077621</td>\n      <td>0.065271</td>\n      <td>0.087528</td>\n      <td>0.201910</td>\n      <td>0.002774</td>\n      <td>0.007691</td>\n      <td>0.092969</td>\n      <td>0.077383</td>\n      <td>0.223086</td>\n      <td>0.099852</td>\n    </tr>\n    <tr>\n      <th>orig frame_height</th>\n      <td>0.100997</td>\n      <td>0.004559</td>\n      <td>0.224523</td>\n      <td>0.371381</td>\n      <td>0.011659</td>\n      <td>0.306823</td>\n      <td>0.153987</td>\n      <td>0.161394</td>\n      <td>0.355169</td>\n      <td>0.279142</td>\n      <td>...</td>\n      <td>0.317366</td>\n      <td>0.339439</td>\n      <td>0.193910</td>\n      <td>0.105642</td>\n      <td>0.147740</td>\n      <td>0.176218</td>\n      <td>0.121186</td>\n      <td>0.188417</td>\n      <td>0.008719</td>\n      <td>0.314492</td>\n    </tr>\n    <tr>\n      <th>qr_data_size_by_scene</th>\n      <td>0.227089</td>\n      <td>0.023594</td>\n      <td>0.138313</td>\n      <td>0.238445</td>\n      <td>0.121456</td>\n      <td>0.178988</td>\n      <td>0.150613</td>\n      <td>0.096035</td>\n      <td>0.283610</td>\n      <td>0.427327</td>\n      <td>...</td>\n      <td>0.126898</td>\n      <td>0.266733</td>\n      <td>0.302964</td>\n      <td>0.091170</td>\n      <td>0.266733</td>\n      <td>0.208571</td>\n      <td>0.139683</td>\n      <td>0.207446</td>\n      <td>0.162698</td>\n      <td>0.215353</td>\n    </tr>\n    <tr>\n      <th>Needle holder bbox stitch 0 area presence [%]</th>\n      <td>0.241817</td>\n      <td>0.076273</td>\n      <td>0.133996</td>\n      <td>0.006944</td>\n      <td>0.125715</td>\n      <td>0.119149</td>\n      <td>0.031385</td>\n      <td>0.213118</td>\n      <td>0.061413</td>\n      <td>0.105934</td>\n      <td>...</td>\n      <td>0.149422</td>\n      <td>0.084952</td>\n      <td>0.326479</td>\n      <td>0.044524</td>\n      <td>0.042162</td>\n      <td>0.240807</td>\n      <td>0.030048</td>\n      <td>0.202770</td>\n      <td>0.062361</td>\n      <td>0.228848</td>\n    </tr>\n    <tr>\n      <th>Scissors bbox visibility [s]</th>\n      <td>0.253580</td>\n      <td>0.005126</td>\n      <td>0.175425</td>\n      <td>0.174731</td>\n      <td>0.148650</td>\n      <td>0.214949</td>\n      <td>0.249004</td>\n      <td>0.137180</td>\n      <td>0.047809</td>\n      <td>0.112715</td>\n      <td>...</td>\n      <td>0.014144</td>\n      <td>0.169345</td>\n      <td>0.418597</td>\n      <td>0.079062</td>\n      <td>0.399350</td>\n      <td>0.170977</td>\n      <td>0.367723</td>\n      <td>0.016867</td>\n      <td>0.271596</td>\n      <td>0.418461</td>\n    </tr>\n    <tr>\n      <th>Stitch 0 duration [s]</th>\n      <td>0.198482</td>\n      <td>0.468403</td>\n      <td>0.076037</td>\n      <td>0.534825</td>\n      <td>0.266274</td>\n      <td>0.125997</td>\n      <td>0.576592</td>\n      <td>0.305111</td>\n      <td>0.014680</td>\n      <td>0.296013</td>\n      <td>...</td>\n      <td>0.442734</td>\n      <td>0.593673</td>\n      <td>0.354125</td>\n      <td>0.087750</td>\n      <td>0.519796</td>\n      <td>0.066362</td>\n      <td>0.279716</td>\n      <td>0.103815</td>\n      <td>0.180979</td>\n      <td>0.654705</td>\n    </tr>\n    <tr>\n      <th>Needle holder stitch 0 visibility [s]</th>\n      <td>0.154024</td>\n      <td>0.406410</td>\n      <td>0.069397</td>\n      <td>0.537785</td>\n      <td>0.210803</td>\n      <td>0.121993</td>\n      <td>0.603778</td>\n      <td>0.285789</td>\n      <td>0.090898</td>\n      <td>0.216525</td>\n      <td>...</td>\n      <td>0.325811</td>\n      <td>0.596814</td>\n      <td>0.425639</td>\n      <td>0.020319</td>\n      <td>0.535860</td>\n      <td>0.070621</td>\n      <td>0.252800</td>\n      <td>0.046621</td>\n      <td>0.163927</td>\n      <td>0.639522</td>\n    </tr>\n    <tr>\n      <th>stars_auto_filename</th>\n      <td>0.439247</td>\n      <td>0.358587</td>\n      <td>0.116021</td>\n      <td>0.265285</td>\n      <td>0.173085</td>\n      <td>0.027634</td>\n      <td>0.518976</td>\n      <td>0.232042</td>\n      <td>0.163634</td>\n      <td>0.228944</td>\n      <td>...</td>\n      <td>0.318510</td>\n      <td>0.528878</td>\n      <td>0.504724</td>\n      <td>0.030065</td>\n      <td>0.503140</td>\n      <td>0.195176</td>\n      <td>0.444563</td>\n      <td>0.221422</td>\n      <td>0.331492</td>\n      <td>0.355319</td>\n    </tr>\n    <tr>\n      <th>Scissors stitch 0 visibility [s]</th>\n      <td>0.111097</td>\n      <td>0.034244</td>\n      <td>0.093425</td>\n      <td>0.029907</td>\n      <td>0.099300</td>\n      <td>0.134318</td>\n      <td>0.121650</td>\n      <td>0.024979</td>\n      <td>0.223763</td>\n      <td>0.127520</td>\n      <td>...</td>\n      <td>0.176096</td>\n      <td>0.061448</td>\n      <td>0.002624</td>\n      <td>0.357178</td>\n      <td>0.015387</td>\n      <td>0.116443</td>\n      <td>0.078660</td>\n      <td>0.101664</td>\n      <td>0.085125</td>\n      <td>0.135984</td>\n    </tr>\n    <tr>\n      <th>Stitch 0 duration [%]</th>\n      <td>0.336876</td>\n      <td>0.069164</td>\n      <td>0.126588</td>\n      <td>0.336205</td>\n      <td>0.092640</td>\n      <td>0.103448</td>\n      <td>0.448136</td>\n      <td>0.357534</td>\n      <td>0.083925</td>\n      <td>0.134478</td>\n      <td>...</td>\n      <td>0.341107</td>\n      <td>0.413240</td>\n      <td>0.434340</td>\n      <td>0.274801</td>\n      <td>0.635194</td>\n      <td>0.013041</td>\n      <td>0.381025</td>\n      <td>0.323435</td>\n      <td>0.406333</td>\n      <td>0.613910</td>\n    </tr>\n    <tr>\n      <th>Needle holder bbox stitch 0 visibility [%]</th>\n      <td>0.038851</td>\n      <td>0.101003</td>\n      <td>0.013277</td>\n      <td>0.212741</td>\n      <td>0.205120</td>\n      <td>0.107996</td>\n      <td>0.005061</td>\n      <td>0.138766</td>\n      <td>0.171276</td>\n      <td>0.060760</td>\n      <td>...</td>\n      <td>0.118666</td>\n      <td>0.180816</td>\n      <td>0.032230</td>\n      <td>0.155698</td>\n      <td>0.175010</td>\n      <td>0.309041</td>\n      <td>0.219498</td>\n      <td>0.020324</td>\n      <td>0.020273</td>\n      <td>0.060179</td>\n    </tr>\n    <tr>\n      <th>n_stitches_by_user</th>\n      <td>0.358122</td>\n      <td>0.273337</td>\n      <td>0.241983</td>\n      <td>0.324933</td>\n      <td>0.129948</td>\n      <td>0.098945</td>\n      <td>0.425455</td>\n      <td>0.179792</td>\n      <td>0.095707</td>\n      <td>0.306571</td>\n      <td>...</td>\n      <td>0.343078</td>\n      <td>0.412097</td>\n      <td>0.478815</td>\n      <td>0.151249</td>\n      <td>0.519900</td>\n      <td>0.066569</td>\n      <td>0.467177</td>\n      <td>0.180007</td>\n      <td>0.290027</td>\n      <td>0.575694</td>\n    </tr>\n    <tr>\n      <th>Stitch 0 duration [%]</th>\n      <td>0.336876</td>\n      <td>0.069164</td>\n      <td>0.126588</td>\n      <td>0.336205</td>\n      <td>0.092640</td>\n      <td>0.103448</td>\n      <td>0.448136</td>\n      <td>0.357534</td>\n      <td>0.083925</td>\n      <td>0.134478</td>\n      <td>...</td>\n      <td>0.341107</td>\n      <td>0.413240</td>\n      <td>0.434340</td>\n      <td>0.274801</td>\n      <td>0.635194</td>\n      <td>0.013041</td>\n      <td>0.381025</td>\n      <td>0.323435</td>\n      <td>0.406333</td>\n      <td>0.613910</td>\n    </tr>\n    <tr>\n      <th>Stitch 0 duration [%]</th>\n      <td>0.336876</td>\n      <td>0.069164</td>\n      <td>0.126588</td>\n      <td>0.336205</td>\n      <td>0.092640</td>\n      <td>0.103448</td>\n      <td>0.448136</td>\n      <td>0.357534</td>\n      <td>0.083925</td>\n      <td>0.134478</td>\n      <td>...</td>\n      <td>0.341107</td>\n      <td>0.413240</td>\n      <td>0.434340</td>\n      <td>0.274801</td>\n      <td>0.635194</td>\n      <td>0.013041</td>\n      <td>0.381025</td>\n      <td>0.323435</td>\n      <td>0.406333</td>\n      <td>0.613910</td>\n    </tr>\n    <tr>\n      <th>Stitch 0 duration [s]</th>\n      <td>0.198482</td>\n      <td>0.468403</td>\n      <td>0.076037</td>\n      <td>0.534825</td>\n      <td>0.266274</td>\n      <td>0.125997</td>\n      <td>0.576592</td>\n      <td>0.305111</td>\n      <td>0.014680</td>\n      <td>0.296013</td>\n      <td>...</td>\n      <td>0.442734</td>\n      <td>0.593673</td>\n      <td>0.354125</td>\n      <td>0.087750</td>\n      <td>0.519796</td>\n      <td>0.066362</td>\n      <td>0.279716</td>\n      <td>0.103815</td>\n      <td>0.180979</td>\n      <td>0.654705</td>\n    </tr>\n  </tbody>\n</table>\n<p>22 rows × 22 columns</p>\n</div>"
     },
     "execution_count": 311,
     "metadata": {},
     "output_type": "execute_result"
    }
   ],
   "source": [
    "# argmax in dataframe\n",
    "corr.loc[corr.idxmax()]"
   ],
   "metadata": {
    "collapsed": false,
    "ExecuteTime": {
     "end_time": "2024-04-15T23:27:36.689420600Z",
     "start_time": "2024-04-15T23:27:36.484292800Z"
    }
   },
   "id": "7b3db07430e3219c",
   "execution_count": 311
  },
  {
   "cell_type": "code",
   "outputs": [
    {
     "data": {
      "text/plain": "      annotation_annotation_knots_are_done_right  \\\n1650                                         1.0   \n1652                                         1.0   \n1653                                         1.0   \n1654                                         0.0   \n1661                                         1.0   \n1663                                         1.0   \n1665                                         1.0   \n1666                                         1.0   \n1667                                         0.0   \n1675                                         1.0   \n1680                                         0.0   \n1681                                         0.0   \n1682                                         1.0   \n1683                                         1.0   \n1684                                         1.0   \n1695                                         0.0   \n1696                                         0.0   \n1697                                         0.0   \n1698                                         1.0   \n1699                                         0.0   \n1700                                         1.0   \n1701                                         0.0   \n1702                                         1.0   \n1704                                         0.0   \n1705                                         0.0   \n1706                                         1.0   \n1708                                         0.0   \n1713                                         1.0   \n1714                                         1.0   \n1715                                         1.0   \n1716                                         0.0   \n1717                                         0.0   \n1718                                         0.0   \n1719                                         0.0   \n1720                                         0.0   \n1721                                         1.0   \n1722                                         1.0   \n1723                                         1.0   \n1725                                         1.0   \n1726                                         1.0   \n1727                                         0.0   \n1728                                         0.0   \n1729                                         1.0   \n1730                                         0.0   \n1731                                         1.0   \n1732                                         1.0   \n1733                                         1.0   \n1734                                         1.0   \n1735                                         0.0   \n1736                                         0.0   \n1737                                         1.0   \n\n                                               filename  \n1650                    Stresstest Aslanifard, Roja.mp4  \n1652                      Stresstest Barnikol, Erik.mp4  \n1653               Stresstest Beutler, Marie-Louise.mp4  \n1654                        Stresstest Brandis, Lea.MOV  \n1661                             Medium-Schweinefu_.mp4  \n1663                Medium-RPReplay_Final1634048018.mp4  \n1665               Good-Schweinefu__Einzelknopfnaht.mp4  \n1666  Good-Schmidt_Elisabeth_Einzelknotennaht_11_10_...  \n1667                         Good-162880einzelknopf.mp4  \n1675  medium-2021_11_03_A_Tengler_Sophie_Einzelknopf...  \n1680  Bad-2021_11_3_A_Brodersen___nne_Einzelknopfnah...  \n1681  Bad-2021_11_03_B_V_lz__Ann_Sophie_Einzelknopfn...  \n1682  Bad-2021_11_03_A_Spitze_Vanessa_Einzelknopfnah...  \n1683  Bad-2021_11_03_A_Petersen_Insa_Einzelknopfnaht...  \n1684  Bad-12_10_21__Loewe__Rebekka__Einzelknopfnaht.mp4  \n1695  Good-2021_10_27_B_Etzel_Peter_Einzelknopfnaht_...  \n1696  Good-2021_11_17_A_Gramlich_Judith_Stresstest_E...  \n1697                 Good-Einzelknopfnaht_Stoklossa.mp4  \n1698  Medium-2021_10_12_B_Westermann_Lammers_Johanna...  \n1699  Medium-2021_11_03_A_Tengler_Sophie_Einzelknopf...  \n1700  Medium-2021_11_03_A_Seifert_Johanna_Einzelknop...  \n1701  Good-2021_11_03_B_Zu_hl_Amelie_Einzelknopfnaht...  \n1702  Good-03_11_2021_B_Holzmu_ller_Katharina_Einzel...  \n1704  Bad-2021_11_03_A_Noll_Alexander_Einzelknopfnah...  \n1705  Bad-3_11_21_B_Grumt_Alina_Einzelknopfnaht_Schw...  \n1706   Bad-03_11_21_B_Hopfe_Johanna_Einzelknopfnaht.mp4  \n1708  Bad-trim_0B861D6D_C942_4D0E_90C7_5D9779BE091E.mp4  \n1713                    Stresstest Brockmann, Yelka.mp4  \n1714                    Stresstest Di Vincenzo, Kim.MOV  \n1715                    Stresstest Dost, Maximilian.mp4  \n1716                   Stresstest Feldmann, Francis.MOV  \n1717                  Stresstest Fischer, Henriette.MOV  \n1718                         Stresstest Hoche, Erik.mp4  \n1719                      Stresstest Holtz, Ben-Ole.MOV  \n1720                      Stresstest Hübner, Sascha.mp4  \n1721                    Stresstest Kirschner, Lukas.mp4  \n1722                        Stresstest Leheis, Anja.mov  \n1723                 Stresstest Nowaczyk, Sebastian.MOV  \n1725                     Stresstest Pacher, Corinna.MOV  \n1726                        Stresstest Ponnath, Pia.mp4  \n1727                  Stresstest Reinhardt, Philipp.mov  \n1728                       Stresstest Römer, Robert.MOV  \n1729                    Stresstest Schaudig, Kilian.MOV  \n1730                      Stresstest Singer, Hannes.MOV  \n1731                     Stresstest Spangolo, Alena.mp4  \n1732                       Stresstest Suckert, Iris.MOV  \n1733                    Stresstest Thiel, Stephanie.mp4  \n1734                      Stresstest Trübner, Ellen.MOV  \n1735                   Stresstest Weidner, Stefanie.MOV  \n1736                      Stresstest Wiedner, Georg.mp4  \n1737                      Stresstest Wutzke, Katrin.mp4  ",
      "text/html": "<div>\n<style scoped>\n    .dataframe tbody tr th:only-of-type {\n        vertical-align: middle;\n    }\n\n    .dataframe tbody tr th {\n        vertical-align: top;\n    }\n\n    .dataframe thead th {\n        text-align: right;\n    }\n</style>\n<table border=\"1\" class=\"dataframe\">\n  <thead>\n    <tr style=\"text-align: right;\">\n      <th></th>\n      <th>annotation_annotation_knots_are_done_right</th>\n      <th>filename</th>\n    </tr>\n  </thead>\n  <tbody>\n    <tr>\n      <th>1650</th>\n      <td>1.0</td>\n      <td>Stresstest Aslanifard, Roja.mp4</td>\n    </tr>\n    <tr>\n      <th>1652</th>\n      <td>1.0</td>\n      <td>Stresstest Barnikol, Erik.mp4</td>\n    </tr>\n    <tr>\n      <th>1653</th>\n      <td>1.0</td>\n      <td>Stresstest Beutler, Marie-Louise.mp4</td>\n    </tr>\n    <tr>\n      <th>1654</th>\n      <td>0.0</td>\n      <td>Stresstest Brandis, Lea.MOV</td>\n    </tr>\n    <tr>\n      <th>1661</th>\n      <td>1.0</td>\n      <td>Medium-Schweinefu_.mp4</td>\n    </tr>\n    <tr>\n      <th>1663</th>\n      <td>1.0</td>\n      <td>Medium-RPReplay_Final1634048018.mp4</td>\n    </tr>\n    <tr>\n      <th>1665</th>\n      <td>1.0</td>\n      <td>Good-Schweinefu__Einzelknopfnaht.mp4</td>\n    </tr>\n    <tr>\n      <th>1666</th>\n      <td>1.0</td>\n      <td>Good-Schmidt_Elisabeth_Einzelknotennaht_11_10_...</td>\n    </tr>\n    <tr>\n      <th>1667</th>\n      <td>0.0</td>\n      <td>Good-162880einzelknopf.mp4</td>\n    </tr>\n    <tr>\n      <th>1675</th>\n      <td>1.0</td>\n      <td>medium-2021_11_03_A_Tengler_Sophie_Einzelknopf...</td>\n    </tr>\n    <tr>\n      <th>1680</th>\n      <td>0.0</td>\n      <td>Bad-2021_11_3_A_Brodersen___nne_Einzelknopfnah...</td>\n    </tr>\n    <tr>\n      <th>1681</th>\n      <td>0.0</td>\n      <td>Bad-2021_11_03_B_V_lz__Ann_Sophie_Einzelknopfn...</td>\n    </tr>\n    <tr>\n      <th>1682</th>\n      <td>1.0</td>\n      <td>Bad-2021_11_03_A_Spitze_Vanessa_Einzelknopfnah...</td>\n    </tr>\n    <tr>\n      <th>1683</th>\n      <td>1.0</td>\n      <td>Bad-2021_11_03_A_Petersen_Insa_Einzelknopfnaht...</td>\n    </tr>\n    <tr>\n      <th>1684</th>\n      <td>1.0</td>\n      <td>Bad-12_10_21__Loewe__Rebekka__Einzelknopfnaht.mp4</td>\n    </tr>\n    <tr>\n      <th>1695</th>\n      <td>0.0</td>\n      <td>Good-2021_10_27_B_Etzel_Peter_Einzelknopfnaht_...</td>\n    </tr>\n    <tr>\n      <th>1696</th>\n      <td>0.0</td>\n      <td>Good-2021_11_17_A_Gramlich_Judith_Stresstest_E...</td>\n    </tr>\n    <tr>\n      <th>1697</th>\n      <td>0.0</td>\n      <td>Good-Einzelknopfnaht_Stoklossa.mp4</td>\n    </tr>\n    <tr>\n      <th>1698</th>\n      <td>1.0</td>\n      <td>Medium-2021_10_12_B_Westermann_Lammers_Johanna...</td>\n    </tr>\n    <tr>\n      <th>1699</th>\n      <td>0.0</td>\n      <td>Medium-2021_11_03_A_Tengler_Sophie_Einzelknopf...</td>\n    </tr>\n    <tr>\n      <th>1700</th>\n      <td>1.0</td>\n      <td>Medium-2021_11_03_A_Seifert_Johanna_Einzelknop...</td>\n    </tr>\n    <tr>\n      <th>1701</th>\n      <td>0.0</td>\n      <td>Good-2021_11_03_B_Zu_hl_Amelie_Einzelknopfnaht...</td>\n    </tr>\n    <tr>\n      <th>1702</th>\n      <td>1.0</td>\n      <td>Good-03_11_2021_B_Holzmu_ller_Katharina_Einzel...</td>\n    </tr>\n    <tr>\n      <th>1704</th>\n      <td>0.0</td>\n      <td>Bad-2021_11_03_A_Noll_Alexander_Einzelknopfnah...</td>\n    </tr>\n    <tr>\n      <th>1705</th>\n      <td>0.0</td>\n      <td>Bad-3_11_21_B_Grumt_Alina_Einzelknopfnaht_Schw...</td>\n    </tr>\n    <tr>\n      <th>1706</th>\n      <td>1.0</td>\n      <td>Bad-03_11_21_B_Hopfe_Johanna_Einzelknopfnaht.mp4</td>\n    </tr>\n    <tr>\n      <th>1708</th>\n      <td>0.0</td>\n      <td>Bad-trim_0B861D6D_C942_4D0E_90C7_5D9779BE091E.mp4</td>\n    </tr>\n    <tr>\n      <th>1713</th>\n      <td>1.0</td>\n      <td>Stresstest Brockmann, Yelka.mp4</td>\n    </tr>\n    <tr>\n      <th>1714</th>\n      <td>1.0</td>\n      <td>Stresstest Di Vincenzo, Kim.MOV</td>\n    </tr>\n    <tr>\n      <th>1715</th>\n      <td>1.0</td>\n      <td>Stresstest Dost, Maximilian.mp4</td>\n    </tr>\n    <tr>\n      <th>1716</th>\n      <td>0.0</td>\n      <td>Stresstest Feldmann, Francis.MOV</td>\n    </tr>\n    <tr>\n      <th>1717</th>\n      <td>0.0</td>\n      <td>Stresstest Fischer, Henriette.MOV</td>\n    </tr>\n    <tr>\n      <th>1718</th>\n      <td>0.0</td>\n      <td>Stresstest Hoche, Erik.mp4</td>\n    </tr>\n    <tr>\n      <th>1719</th>\n      <td>0.0</td>\n      <td>Stresstest Holtz, Ben-Ole.MOV</td>\n    </tr>\n    <tr>\n      <th>1720</th>\n      <td>0.0</td>\n      <td>Stresstest Hübner, Sascha.mp4</td>\n    </tr>\n    <tr>\n      <th>1721</th>\n      <td>1.0</td>\n      <td>Stresstest Kirschner, Lukas.mp4</td>\n    </tr>\n    <tr>\n      <th>1722</th>\n      <td>1.0</td>\n      <td>Stresstest Leheis, Anja.mov</td>\n    </tr>\n    <tr>\n      <th>1723</th>\n      <td>1.0</td>\n      <td>Stresstest Nowaczyk, Sebastian.MOV</td>\n    </tr>\n    <tr>\n      <th>1725</th>\n      <td>1.0</td>\n      <td>Stresstest Pacher, Corinna.MOV</td>\n    </tr>\n    <tr>\n      <th>1726</th>\n      <td>1.0</td>\n      <td>Stresstest Ponnath, Pia.mp4</td>\n    </tr>\n    <tr>\n      <th>1727</th>\n      <td>0.0</td>\n      <td>Stresstest Reinhardt, Philipp.mov</td>\n    </tr>\n    <tr>\n      <th>1728</th>\n      <td>0.0</td>\n      <td>Stresstest Römer, Robert.MOV</td>\n    </tr>\n    <tr>\n      <th>1729</th>\n      <td>1.0</td>\n      <td>Stresstest Schaudig, Kilian.MOV</td>\n    </tr>\n    <tr>\n      <th>1730</th>\n      <td>0.0</td>\n      <td>Stresstest Singer, Hannes.MOV</td>\n    </tr>\n    <tr>\n      <th>1731</th>\n      <td>1.0</td>\n      <td>Stresstest Spangolo, Alena.mp4</td>\n    </tr>\n    <tr>\n      <th>1732</th>\n      <td>1.0</td>\n      <td>Stresstest Suckert, Iris.MOV</td>\n    </tr>\n    <tr>\n      <th>1733</th>\n      <td>1.0</td>\n      <td>Stresstest Thiel, Stephanie.mp4</td>\n    </tr>\n    <tr>\n      <th>1734</th>\n      <td>1.0</td>\n      <td>Stresstest Trübner, Ellen.MOV</td>\n    </tr>\n    <tr>\n      <th>1735</th>\n      <td>0.0</td>\n      <td>Stresstest Weidner, Stefanie.MOV</td>\n    </tr>\n    <tr>\n      <th>1736</th>\n      <td>0.0</td>\n      <td>Stresstest Wiedner, Georg.mp4</td>\n    </tr>\n    <tr>\n      <th>1737</th>\n      <td>1.0</td>\n      <td>Stresstest Wutzke, Katrin.mp4</td>\n    </tr>\n  </tbody>\n</table>\n</div>"
     },
     "execution_count": 312,
     "metadata": {},
     "output_type": "execute_result"
    }
   ],
   "source": [
    "# dfs[[\"annotation_annotation_knots_are_done_right\", 'filename']]"
   ],
   "metadata": {
    "collapsed": false,
    "ExecuteTime": {
     "end_time": "2024-04-15T23:27:37.209529Z",
     "start_time": "2024-04-15T23:27:37.159529800Z"
    }
   },
   "id": "dc1f60eba3c3ac0a",
   "execution_count": 312
  },
  {
   "cell_type": "markdown",
   "id": "38565d3a-fde1-4cb2-9999-6febfa393d6b",
   "metadata": {},
   "source": [
    "# Train predictor"
   ]
  },
  {
   "cell_type": "code",
   "outputs": [
    {
     "name": "stdout",
     "output_type": "stream",
     "text": [
      "(20,)\n",
      "(20,)\n"
     ]
    }
   ],
   "source": [
    "print(corr.shape)\n",
    "corr = corr.dropna()\n",
    "print(corr.shape)\n"
   ],
   "metadata": {
    "collapsed": false,
    "ExecuteTime": {
     "end_time": "2024-06-17T09:36:46.911656600Z",
     "start_time": "2024-06-17T09:36:46.761946400Z"
    }
   },
   "id": "fc30ef00af707cf2",
   "execution_count": 103
  },
  {
   "cell_type": "code",
   "outputs": [
    {
     "data": {
      "text/plain": "Index(['is_pretest_num', 'Scissors visibility [%]',\n       'Scissors stitch 0 visibility [%]', 'Scissors visibility [s]',\n       'Scissors velocity', 'Stitches perpendicular score [%]',\n       'Forceps stitch 0 visibility [%]', 'duration_s_run_image_processing',\n       'annotation_annotation_id', 'Needle holder velocity',\n       'Needle holder stitch 0 velocity', 'Scissors stitch 0 visibility [s]',\n       'Forceps stitch 0 visibility [s]', 'n_stitches_by_user',\n       'Needle holder length [m]', 'Scissors stitch 0 velocity',\n       'Needle holder area presence [%]', 'Forceps visibility [%]',\n       'Needle holder stitch 0 length [m]', 'Needle holder visibility [%]'],\n      dtype='object')"
     },
     "execution_count": 108,
     "metadata": {},
     "output_type": "execute_result"
    }
   ],
   "source": [
    "corr.index"
   ],
   "metadata": {
    "collapsed": false,
    "ExecuteTime": {
     "end_time": "2024-06-17T09:38:06.076523500Z",
     "start_time": "2024-06-17T09:38:05.651972400Z"
    }
   },
   "id": "93e84aa713918bd",
   "execution_count": 108
  },
  {
   "cell_type": "code",
   "execution_count": 180,
   "id": "156ae14a777fe3fc",
   "metadata": {
    "collapsed": false,
    "tags": [],
    "ExecuteTime": {
     "end_time": "2024-06-17T10:22:42.952416600Z",
     "start_time": "2024-06-17T10:22:42.813511500Z"
    }
   },
   "outputs": [
    {
     "name": "stdout",
     "output_type": "stream",
     "text": [
      "['is_pretest_num']\n",
      "['Scissors stitch 0 velocity', 'Needle holder stitch 0 area presence [%]', 'Needle holder stitch 0 velocity', 'Forceps stitch 0 velocity', 'Scissors stitch 0 visibility [%]', 'Needle holder stitch 0 visibility [%]', 'Forceps stitch 0 visibility [%]', 'Scissors stitch 0 visibility [s]', 'Forceps stitch 0 visibility [s]', 'Forceps stitch 0 area presence [%]', 'Needle holder stitch 0 length [m]', 'Needle holder stitch 0 visibility [s]', 'Scissors stitch 0 area presence [%]', 'Forceps stitch 0 length [m]', 'Stitch 0 duration [s]', 'Stitch 0 duration [%]', 'Scissors stitch 0 length [m]', 'Needle holder stitch 0 length [pix]', 'Forceps stitch 0 length [pix]', 'Scissors stitch 0 length [pix]', 'Needle holder stitch 0 median area presence [%]', 'Forceps stitch 0 median area presence [%]', 'Scissors stitch 0 median area presence [%]', 'filename']\n"
     ]
    }
   ],
   "source": [
    "import sklearn\n",
    "# train a model to predict stars_auto\n",
    "from sklearn.linear_model import LinearRegression\n",
    "from sklearn.model_selection import train_test_split\n",
    "from sklearn.metrics import mean_squared_error, r2_score\n",
    "# import SVM\n",
    "from sklearn.svm import SVR\n",
    "#train a model to predict stars_auto\n",
    "\n",
    "predicted_columns = [\"is_pretest_num\"]  # list(corr.columns[corr.columns.str.contains(\"is_pretest_num\")])\n",
    "columns = list(corr.index[~corr.index.str.contains(\"is_pretest_num\")])\n",
    "# columns = list(corr.index)\n",
    "columns.append(\"filename\")\n",
    "print(predicted_columns)\n",
    "print(columns)\n",
    "\n"
   ]
  },
  {
   "cell_type": "code",
   "outputs": [],
   "source": [],
   "metadata": {
    "collapsed": false,
    "ExecuteTime": {
     "end_time": "2024-06-17T10:22:46.661986100Z",
     "start_time": "2024-06-17T10:22:46.505330500Z"
    }
   },
   "id": "d0411e42ff09cba6",
   "execution_count": 180
  },
  {
   "cell_type": "markdown",
   "source": [
    "### Remove NA values"
   ],
   "metadata": {
    "collapsed": false
   },
   "id": "fdaa2bd60b9f2c27"
  },
  {
   "cell_type": "code",
   "outputs": [],
   "source": [
    "# remove known problematic columns\n",
    "\n",
    "# # remove row with index 1708\n",
    "# if 1708 in dfs.index:\n",
    "#     dfs = dfs.drop(1708)\n",
    "# \n",
    "# if 1667 in dfs.index:\n",
    "#     dfs = dfs.drop(1667)\n",
    "# \n",
    "# # remove \"qr_data_pix_size_single_frame_detector_m\" from the columns\n",
    "# if \"qr_data_pix_size_single_frame_detector_m\" in columns:\n",
    "#     columns.remove(\"qr_data_pix_size_single_frame_detector_m\")\n",
    "\n",
    "# dfs[cols].isna().sum()\n"
   ],
   "metadata": {
    "collapsed": false,
    "ExecuteTime": {
     "end_time": "2024-06-17T10:22:47.303859600Z",
     "start_time": "2024-06-17T10:22:47.212844600Z"
    }
   },
   "id": "f8cb29b734476f56",
   "execution_count": 181
  },
  {
   "cell_type": "code",
   "outputs": [
    {
     "data": {
      "text/plain": "Scissors stitch 0 length [pix]                     29\nForceps stitch 0 length [pix]                      29\nNeedle holder stitch 0 length [pix]                29\nScissors stitch 0 median area presence [%]         27\nForceps stitch 0 median area presence [%]          27\nNeedle holder stitch 0 median area presence [%]    27\nScissors stitch 0 length [m]                        6\nScissors stitch 0 velocity                          5\nNeedle holder stitch 0 length [m]                   5\nForceps stitch 0 length [m]                         5\nScissors stitch 0 area presence [%]                 5\nScissors stitch 0 visibility [s]                    5\nScissors stitch 0 visibility [%]                    5\nNeedle holder stitch 0 visibility [s]               4\nNeedle holder stitch 0 area presence [%]            4\nForceps stitch 0 area presence [%]                  4\nStitch 0 duration [s]                               4\nStitch 0 duration [%]                               4\nForceps stitch 0 visibility [s]                     4\nForceps stitch 0 visibility [%]                     4\nNeedle holder stitch 0 visibility [%]               4\nForceps stitch 0 velocity                           4\nNeedle holder stitch 0 velocity                     4\nfilename                                            0\ndtype: int64"
     },
     "execution_count": 182,
     "metadata": {},
     "output_type": "execute_result"
    }
   ],
   "source": [
    "\n",
    "# count NA values in columns\n",
    "\n",
    "dfs[columns].isna().sum().sort_values(ascending=False)\n"
   ],
   "metadata": {
    "collapsed": false,
    "ExecuteTime": {
     "end_time": "2024-06-17T10:22:47.779889500Z",
     "start_time": "2024-06-17T10:22:47.609752400Z"
    }
   },
   "id": "e5dbd7d5647583f4",
   "execution_count": 182
  },
  {
   "cell_type": "code",
   "outputs": [
    {
     "data": {
      "text/plain": "2115    1\n2123    1\n2179    1\n2177    1\n2166    1\n2165    1\n2163    1\n2162    1\n2159    1\n2158    1\n2157    1\n2156    1\n2151    1\n2148    1\n2147    1\n2144    1\n2143    1\n2141    1\n2140    1\n2138    1\n2136    1\n2134    1\n2133    1\n2131    1\n2129    1\n2128    1\n2127    1\n2126    1\n2124    1\n2180    1\ndtype: int64"
     },
     "execution_count": 183,
     "metadata": {},
     "output_type": "execute_result"
    }
   ],
   "source": [
    "\n",
    "dfs[cols].isna().sum(axis=1).sort_values(ascending=False)\n"
   ],
   "metadata": {
    "collapsed": false,
    "ExecuteTime": {
     "end_time": "2024-06-17T10:22:48.769163300Z",
     "start_time": "2024-06-17T10:22:48.518271100Z"
    }
   },
   "id": "bce585c0e7450327",
   "execution_count": 183
  },
  {
   "cell_type": "code",
   "outputs": [],
   "source": [
    "# fill 0 instead of None\n",
    "dfs[columns] = dfs[columns].fillna(0)"
   ],
   "metadata": {
    "collapsed": false,
    "ExecuteTime": {
     "end_time": "2024-06-17T10:22:52.421061300Z",
     "start_time": "2024-06-17T10:22:52.243706900Z"
    }
   },
   "id": "b18fa2fea5ff16ed",
   "execution_count": 184
  },
  {
   "cell_type": "code",
   "outputs": [
    {
     "name": "stdout",
     "output_type": "stream",
     "text": [
      "is_pretest_num 0.012739961154499047\n"
     ]
    }
   ],
   "source": [
    "\n",
    "results = {}\n",
    "for predicted_column in predicted_columns:\n",
    "# if True:\n",
    "#     predicted_column = \"annotation_annotation_stars\"\n",
    "    cols = columns.copy()\n",
    "    cols.append(predicted_column)\n",
    "\n",
    "    dfsx = dfs[cols].copy()\n",
    "    l1 = len(dfsx)\n",
    "    dfsx = dfsx.dropna()\n",
    "    l2 = len(dfsx)\n",
    "    assert l1 == l2, \"There are still NA values in the data\"\n",
    "    X = dfsx[columns].drop(\"filename\", axis=1)\n",
    "    # X = X.drop(predicted_column, axis=1)\n",
    "    y = dfsx[predicted_column]\n",
    "    X_train, X_test, y_train, y_test = train_test_split(X, y, test_size=0.2, random_state=42)\n",
    "\n",
    "    clf = SVR()\n",
    "    clf.fit(X_train, y_train)\n",
    "    clf.score(X_test, y_test)\n",
    "    # \n",
    "    # X\n",
    "    # from sklearn.neural_network import MLPClassifier\n",
    "    # # X = [[0., 0.], [1., 1.]]\n",
    "    # # y = [0, 1]\n",
    "    # clf = MLPClassifier(solver='lbfgs', alpha=1e-5,\n",
    "    #                     hidden_layer_sizes=(5, 2), random_state=1)\n",
    "    clf.fit(X_train, y_train)\n",
    "    clf.score(X_test, y_test)\n",
    "    results[predicted_column] = {\"score\": clf.score(X_test, y_test), \"model\": clf}\n",
    "    print(predicted_column, clf.score(X_test, y_test))\n",
    "\n"
   ],
   "metadata": {
    "collapsed": false,
    "ExecuteTime": {
     "end_time": "2024-06-17T10:23:24.792213700Z",
     "start_time": "2024-06-17T10:23:24.625711900Z"
    }
   },
   "id": "cea978cf3532538c",
   "execution_count": 186
  },
  {
   "cell_type": "code",
   "outputs": [
    {
     "data": {
      "text/plain": "      Scissors visibility [%]  Scissors stitch 0 visibility [%]  \\\n2115                96.783560                         94.036185   \n2123                 5.222798                          8.067542   \n2124                47.943560                         13.359352   \n2126                 0.340368                          0.340368   \n2129                 2.330623                          2.330623   \n2133                96.915960                         96.915960   \n2136                31.216931                          2.183908   \n2140                14.704492                         24.047619   \n2141                 0.108108                          0.148148   \n2148                 0.842105                          0.921986   \n2149                 0.000000                          0.000000   \n2152                 0.000000                          0.000000   \n2157                19.551066                         68.965517   \n2158                 0.000000                          0.000000   \n2159                84.189017                         83.235294   \n2162                 0.000000                          0.000000   \n2166               100.000000                         93.145540   \n2167                 0.000000                          0.000000   \n\n      Scissors visibility [s]  Scissors velocity  \\\n2115               288.866667           0.003695   \n2123                16.800000           0.021788   \n2124               106.466667           0.002969   \n2126                 0.666667           0.020008   \n2129                 2.866667           0.027332   \n2133                83.800000           0.003581   \n2136                59.000000           0.002577   \n2140                41.466667           0.002957   \n2141                 0.200000           0.000301   \n2148                 2.400000           0.041240   \n2149                 0.000000           0.000000   \n2152                 0.000000           0.000000   \n2157                58.066667           0.001050   \n2158                 0.000000           0.000000   \n2159               219.733333           0.002933   \n2162                58.933333           0.000775   \n2166               143.000000           0.002094   \n2167                 0.000000           0.000000   \n\n      Stitches perpendicular score [%]  Forceps stitch 0 visibility [%]  \\\n2115                         66.666667                        45.968282   \n2123                         66.666667                        28.236398   \n2124                         33.333333                        35.544881   \n2126                         66.666667                        29.441797   \n2129                          0.000000                        38.861789   \n2133                         40.000000                        29.067078   \n2136                        100.000000                        45.747126   \n2140                          0.000000                        47.619048   \n2141                         50.000000                        51.703704   \n2148                          0.000000                        45.744681   \n2149                          0.000000                         0.000000   \n2152                          0.000000                         0.000000   \n2157                         66.666667                        51.149425   \n2158                         50.000000                        21.231884   \n2159                        100.000000                        50.686275   \n2162                          0.000000                         0.000000   \n2166                         66.666667                        55.117371   \n2167                          0.000000                         0.000000   \n\n      duration_s_run_image_processing  annotation_annotation_id  \\\n2115                         7.453282                     229.0   \n2123                         6.467052                     232.0   \n2124                        22.554897                     231.0   \n2126                        13.375598                     227.0   \n2129                         6.158983                     212.0   \n2133                         9.851187                     223.0   \n2136                        10.278608                     213.0   \n2140                        12.966902                     225.0   \n2141                         8.476551                     207.0   \n2148                         6.749438                     218.0   \n2149                         0.000000                     216.0   \n2152                         0.000000                     187.0   \n2157                         6.759841                     202.0   \n2158                         6.830342                     203.0   \n2159                        38.967066                     215.0   \n2162                         8.004234                     191.0   \n2166                         5.817754                     193.0   \n2167                         0.000000                     192.0   \n\n      Needle holder velocity  Needle holder stitch 0 velocity  \\\n2115                0.046078                         0.045985   \n2123                0.022032                         0.020763   \n2124                0.029098                         0.036781   \n2126                0.027614                         0.027630   \n2129                0.044734                         0.045320   \n2133                0.051724                         0.051724   \n2136                0.024679                         0.025564   \n2140                0.032891                         0.024867   \n2141                0.023985                         0.020547   \n2148                0.035146                         0.031691   \n2149                0.000000                         0.000000   \n2152                0.000000                         0.000000   \n2157                0.034704                         0.025232   \n2158                0.029726                         0.032878   \n2159                0.039241                         0.038436   \n2162                0.003016                         0.003016   \n2166                0.030708                         0.036742   \n2167                0.000000                         0.000000   \n\n      Scissors stitch 0 visibility [s]  Forceps stitch 0 visibility [s]  \\\n2115                        280.666667                       137.200000   \n2123                          5.733333                        20.066667   \n2124                         29.666667                        78.933333   \n2126                          0.666667                        57.666667   \n2129                          2.866667                        47.800000   \n2133                         83.800000                        25.133333   \n2136                          1.266667                        26.533333   \n2140                         20.200000                        40.000000   \n2141                          0.133333                        46.533333   \n2148                          0.866667                        43.000000   \n2149                          0.000000                         0.000000   \n2152                          0.000000                         0.000000   \n2157                         40.000000                        29.666667   \n2158                          0.000000                        19.533333   \n2159                         56.600000                        34.466667   \n2162                         58.933333                        15.933333   \n2166                         66.133333                        39.133333   \n2167                          0.000000                         0.000000   \n\n      n_stitches_by_user  Needle holder length [m]  \\\n2115                 0.0                 12.666088   \n2123                 4.0                  6.586552   \n2124                 0.0                  8.224077   \n2126                 0.0                  3.493096   \n2129                 0.0                  5.308360   \n2133                 0.0                  3.262977   \n2136                 0.0                  4.647988   \n2140                 0.0                  9.152938   \n2141                 0.0                  4.359753   \n2148                 0.0                  9.734372   \n2149                 0.0                  0.000000   \n2152                 0.0                  0.000000   \n2157                 0.0                  8.379467   \n2158                 0.0                  4.321863   \n2159                 0.0                 11.716970   \n2162                 0.0                  0.235409   \n2166                 0.0                  3.567076   \n2167                 0.0                  0.000000   \n\n      Scissors stitch 0 velocity  Needle holder area presence [%]  \\\n2115                    0.003659                        50.643177   \n2123                    0.019818                        25.345770   \n2124                    0.007957                         0.287563   \n2126                    0.020008                        61.163735   \n2129                    0.027332                         0.000000   \n2133                    0.003581                         0.000000   \n2136                    0.026218                        37.827537   \n2140                    0.001658                        26.798445   \n2141                    0.000021                        53.057294   \n2148                    0.021139                         0.120482   \n2149                    0.000000                         0.000000   \n2152                    0.000000                         0.000000   \n2157                    0.000741                        43.838863   \n2158                    0.000000                        12.889935   \n2159                    0.001076                        36.464238   \n2162                    0.000775                         0.000000   \n2166                    0.001833                         0.939702   \n2167                    0.000000                         0.000000   \n\n      Forceps visibility [%]  Needle holder stitch 0 length [m]  \\\n2115               46.102301                          12.619390   \n2123               36.663212                           1.496144   \n2124               35.845092                           6.744954   \n2126               29.441797                           3.492798   \n2129               38.861789                           5.297252   \n2133               29.067078                           3.262977   \n2136               35.555556                           1.459292   \n2140               38.652482                           2.058316   \n2141               43.171171                           1.833348   \n2148               45.871345                           2.869499   \n2149                0.000000                           0.000000   \n2152                0.000000                           0.000000   \n2157               42.716049                           1.366011   \n2158               22.261905                           2.653010   \n2159               38.978289                           2.732524   \n2162                0.000000                           0.235409   \n2166               46.200466                           2.032633   \n2167                0.000000                           0.000000   \n\n      Needle holder visibility [%]  \n2115                     79.874916  \n2123                     64.435233  \n2124                     83.518463  \n2126                     50.306331  \n2129                     77.181572  \n2133                     60.755590  \n2136                     74.038801  \n2140                     72.955083  \n2141                     74.846847  \n2148                     77.660819  \n2149                      0.000000  \n2152                      0.000000  \n2157                     66.307520  \n2158                     67.420635  \n2159                     94.636015  \n2162                      0.000000  \n2166                     59.533800  \n2167                      0.000000  ",
      "text/html": "<div>\n<style scoped>\n    .dataframe tbody tr th:only-of-type {\n        vertical-align: middle;\n    }\n\n    .dataframe tbody tr th {\n        vertical-align: top;\n    }\n\n    .dataframe thead th {\n        text-align: right;\n    }\n</style>\n<table border=\"1\" class=\"dataframe\">\n  <thead>\n    <tr style=\"text-align: right;\">\n      <th></th>\n      <th>Scissors visibility [%]</th>\n      <th>Scissors stitch 0 visibility [%]</th>\n      <th>Scissors visibility [s]</th>\n      <th>Scissors velocity</th>\n      <th>Stitches perpendicular score [%]</th>\n      <th>Forceps stitch 0 visibility [%]</th>\n      <th>duration_s_run_image_processing</th>\n      <th>annotation_annotation_id</th>\n      <th>Needle holder velocity</th>\n      <th>Needle holder stitch 0 velocity</th>\n      <th>Scissors stitch 0 visibility [s]</th>\n      <th>Forceps stitch 0 visibility [s]</th>\n      <th>n_stitches_by_user</th>\n      <th>Needle holder length [m]</th>\n      <th>Scissors stitch 0 velocity</th>\n      <th>Needle holder area presence [%]</th>\n      <th>Forceps visibility [%]</th>\n      <th>Needle holder stitch 0 length [m]</th>\n      <th>Needle holder visibility [%]</th>\n    </tr>\n  </thead>\n  <tbody>\n    <tr>\n      <th>2115</th>\n      <td>96.783560</td>\n      <td>94.036185</td>\n      <td>288.866667</td>\n      <td>0.003695</td>\n      <td>66.666667</td>\n      <td>45.968282</td>\n      <td>7.453282</td>\n      <td>229.0</td>\n      <td>0.046078</td>\n      <td>0.045985</td>\n      <td>280.666667</td>\n      <td>137.200000</td>\n      <td>0.0</td>\n      <td>12.666088</td>\n      <td>0.003659</td>\n      <td>50.643177</td>\n      <td>46.102301</td>\n      <td>12.619390</td>\n      <td>79.874916</td>\n    </tr>\n    <tr>\n      <th>2123</th>\n      <td>5.222798</td>\n      <td>8.067542</td>\n      <td>16.800000</td>\n      <td>0.021788</td>\n      <td>66.666667</td>\n      <td>28.236398</td>\n      <td>6.467052</td>\n      <td>232.0</td>\n      <td>0.022032</td>\n      <td>0.020763</td>\n      <td>5.733333</td>\n      <td>20.066667</td>\n      <td>4.0</td>\n      <td>6.586552</td>\n      <td>0.019818</td>\n      <td>25.345770</td>\n      <td>36.663212</td>\n      <td>1.496144</td>\n      <td>64.435233</td>\n    </tr>\n    <tr>\n      <th>2124</th>\n      <td>47.943560</td>\n      <td>13.359352</td>\n      <td>106.466667</td>\n      <td>0.002969</td>\n      <td>33.333333</td>\n      <td>35.544881</td>\n      <td>22.554897</td>\n      <td>231.0</td>\n      <td>0.029098</td>\n      <td>0.036781</td>\n      <td>29.666667</td>\n      <td>78.933333</td>\n      <td>0.0</td>\n      <td>8.224077</td>\n      <td>0.007957</td>\n      <td>0.287563</td>\n      <td>35.845092</td>\n      <td>6.744954</td>\n      <td>83.518463</td>\n    </tr>\n    <tr>\n      <th>2126</th>\n      <td>0.340368</td>\n      <td>0.340368</td>\n      <td>0.666667</td>\n      <td>0.020008</td>\n      <td>66.666667</td>\n      <td>29.441797</td>\n      <td>13.375598</td>\n      <td>227.0</td>\n      <td>0.027614</td>\n      <td>0.027630</td>\n      <td>0.666667</td>\n      <td>57.666667</td>\n      <td>0.0</td>\n      <td>3.493096</td>\n      <td>0.020008</td>\n      <td>61.163735</td>\n      <td>29.441797</td>\n      <td>3.492798</td>\n      <td>50.306331</td>\n    </tr>\n    <tr>\n      <th>2129</th>\n      <td>2.330623</td>\n      <td>2.330623</td>\n      <td>2.866667</td>\n      <td>0.027332</td>\n      <td>0.000000</td>\n      <td>38.861789</td>\n      <td>6.158983</td>\n      <td>212.0</td>\n      <td>0.044734</td>\n      <td>0.045320</td>\n      <td>2.866667</td>\n      <td>47.800000</td>\n      <td>0.0</td>\n      <td>5.308360</td>\n      <td>0.027332</td>\n      <td>0.000000</td>\n      <td>38.861789</td>\n      <td>5.297252</td>\n      <td>77.181572</td>\n    </tr>\n    <tr>\n      <th>2133</th>\n      <td>96.915960</td>\n      <td>96.915960</td>\n      <td>83.800000</td>\n      <td>0.003581</td>\n      <td>40.000000</td>\n      <td>29.067078</td>\n      <td>9.851187</td>\n      <td>223.0</td>\n      <td>0.051724</td>\n      <td>0.051724</td>\n      <td>83.800000</td>\n      <td>25.133333</td>\n      <td>0.0</td>\n      <td>3.262977</td>\n      <td>0.003581</td>\n      <td>0.000000</td>\n      <td>29.067078</td>\n      <td>3.262977</td>\n      <td>60.755590</td>\n    </tr>\n    <tr>\n      <th>2136</th>\n      <td>31.216931</td>\n      <td>2.183908</td>\n      <td>59.000000</td>\n      <td>0.002577</td>\n      <td>100.000000</td>\n      <td>45.747126</td>\n      <td>10.278608</td>\n      <td>213.0</td>\n      <td>0.024679</td>\n      <td>0.025564</td>\n      <td>1.266667</td>\n      <td>26.533333</td>\n      <td>0.0</td>\n      <td>4.647988</td>\n      <td>0.026218</td>\n      <td>37.827537</td>\n      <td>35.555556</td>\n      <td>1.459292</td>\n      <td>74.038801</td>\n    </tr>\n    <tr>\n      <th>2140</th>\n      <td>14.704492</td>\n      <td>24.047619</td>\n      <td>41.466667</td>\n      <td>0.002957</td>\n      <td>0.000000</td>\n      <td>47.619048</td>\n      <td>12.966902</td>\n      <td>225.0</td>\n      <td>0.032891</td>\n      <td>0.024867</td>\n      <td>20.200000</td>\n      <td>40.000000</td>\n      <td>0.0</td>\n      <td>9.152938</td>\n      <td>0.001658</td>\n      <td>26.798445</td>\n      <td>38.652482</td>\n      <td>2.058316</td>\n      <td>72.955083</td>\n    </tr>\n    <tr>\n      <th>2141</th>\n      <td>0.108108</td>\n      <td>0.148148</td>\n      <td>0.200000</td>\n      <td>0.000301</td>\n      <td>50.000000</td>\n      <td>51.703704</td>\n      <td>8.476551</td>\n      <td>207.0</td>\n      <td>0.023985</td>\n      <td>0.020547</td>\n      <td>0.133333</td>\n      <td>46.533333</td>\n      <td>0.0</td>\n      <td>4.359753</td>\n      <td>0.000021</td>\n      <td>53.057294</td>\n      <td>43.171171</td>\n      <td>1.833348</td>\n      <td>74.846847</td>\n    </tr>\n    <tr>\n      <th>2148</th>\n      <td>0.842105</td>\n      <td>0.921986</td>\n      <td>2.400000</td>\n      <td>0.041240</td>\n      <td>0.000000</td>\n      <td>45.744681</td>\n      <td>6.749438</td>\n      <td>218.0</td>\n      <td>0.035146</td>\n      <td>0.031691</td>\n      <td>0.866667</td>\n      <td>43.000000</td>\n      <td>0.0</td>\n      <td>9.734372</td>\n      <td>0.021139</td>\n      <td>0.120482</td>\n      <td>45.871345</td>\n      <td>2.869499</td>\n      <td>77.660819</td>\n    </tr>\n    <tr>\n      <th>2149</th>\n      <td>0.000000</td>\n      <td>0.000000</td>\n      <td>0.000000</td>\n      <td>0.000000</td>\n      <td>0.000000</td>\n      <td>0.000000</td>\n      <td>0.000000</td>\n      <td>216.0</td>\n      <td>0.000000</td>\n      <td>0.000000</td>\n      <td>0.000000</td>\n      <td>0.000000</td>\n      <td>0.0</td>\n      <td>0.000000</td>\n      <td>0.000000</td>\n      <td>0.000000</td>\n      <td>0.000000</td>\n      <td>0.000000</td>\n      <td>0.000000</td>\n    </tr>\n    <tr>\n      <th>2152</th>\n      <td>0.000000</td>\n      <td>0.000000</td>\n      <td>0.000000</td>\n      <td>0.000000</td>\n      <td>0.000000</td>\n      <td>0.000000</td>\n      <td>0.000000</td>\n      <td>187.0</td>\n      <td>0.000000</td>\n      <td>0.000000</td>\n      <td>0.000000</td>\n      <td>0.000000</td>\n      <td>0.0</td>\n      <td>0.000000</td>\n      <td>0.000000</td>\n      <td>0.000000</td>\n      <td>0.000000</td>\n      <td>0.000000</td>\n      <td>0.000000</td>\n    </tr>\n    <tr>\n      <th>2157</th>\n      <td>19.551066</td>\n      <td>68.965517</td>\n      <td>58.066667</td>\n      <td>0.001050</td>\n      <td>66.666667</td>\n      <td>51.149425</td>\n      <td>6.759841</td>\n      <td>202.0</td>\n      <td>0.034704</td>\n      <td>0.025232</td>\n      <td>40.000000</td>\n      <td>29.666667</td>\n      <td>0.0</td>\n      <td>8.379467</td>\n      <td>0.000741</td>\n      <td>43.838863</td>\n      <td>42.716049</td>\n      <td>1.366011</td>\n      <td>66.307520</td>\n    </tr>\n    <tr>\n      <th>2158</th>\n      <td>0.000000</td>\n      <td>0.000000</td>\n      <td>0.000000</td>\n      <td>0.000000</td>\n      <td>50.000000</td>\n      <td>21.231884</td>\n      <td>6.830342</td>\n      <td>203.0</td>\n      <td>0.029726</td>\n      <td>0.032878</td>\n      <td>0.000000</td>\n      <td>19.533333</td>\n      <td>0.0</td>\n      <td>4.321863</td>\n      <td>0.000000</td>\n      <td>12.889935</td>\n      <td>22.261905</td>\n      <td>2.653010</td>\n      <td>67.420635</td>\n    </tr>\n    <tr>\n      <th>2159</th>\n      <td>84.189017</td>\n      <td>83.235294</td>\n      <td>219.733333</td>\n      <td>0.002933</td>\n      <td>100.000000</td>\n      <td>50.686275</td>\n      <td>38.967066</td>\n      <td>215.0</td>\n      <td>0.039241</td>\n      <td>0.038436</td>\n      <td>56.600000</td>\n      <td>34.466667</td>\n      <td>0.0</td>\n      <td>11.716970</td>\n      <td>0.001076</td>\n      <td>36.464238</td>\n      <td>38.978289</td>\n      <td>2.732524</td>\n      <td>94.636015</td>\n    </tr>\n    <tr>\n      <th>2162</th>\n      <td>0.000000</td>\n      <td>0.000000</td>\n      <td>58.933333</td>\n      <td>0.000775</td>\n      <td>0.000000</td>\n      <td>0.000000</td>\n      <td>8.004234</td>\n      <td>191.0</td>\n      <td>0.003016</td>\n      <td>0.003016</td>\n      <td>58.933333</td>\n      <td>15.933333</td>\n      <td>0.0</td>\n      <td>0.235409</td>\n      <td>0.000775</td>\n      <td>0.000000</td>\n      <td>0.000000</td>\n      <td>0.235409</td>\n      <td>0.000000</td>\n    </tr>\n    <tr>\n      <th>2166</th>\n      <td>100.000000</td>\n      <td>93.145540</td>\n      <td>143.000000</td>\n      <td>0.002094</td>\n      <td>66.666667</td>\n      <td>55.117371</td>\n      <td>5.817754</td>\n      <td>193.0</td>\n      <td>0.030708</td>\n      <td>0.036742</td>\n      <td>66.133333</td>\n      <td>39.133333</td>\n      <td>0.0</td>\n      <td>3.567076</td>\n      <td>0.001833</td>\n      <td>0.939702</td>\n      <td>46.200466</td>\n      <td>2.032633</td>\n      <td>59.533800</td>\n    </tr>\n    <tr>\n      <th>2167</th>\n      <td>0.000000</td>\n      <td>0.000000</td>\n      <td>0.000000</td>\n      <td>0.000000</td>\n      <td>0.000000</td>\n      <td>0.000000</td>\n      <td>0.000000</td>\n      <td>192.0</td>\n      <td>0.000000</td>\n      <td>0.000000</td>\n      <td>0.000000</td>\n      <td>0.000000</td>\n      <td>0.0</td>\n      <td>0.000000</td>\n      <td>0.000000</td>\n      <td>0.000000</td>\n      <td>0.000000</td>\n      <td>0.000000</td>\n      <td>0.000000</td>\n    </tr>\n  </tbody>\n</table>\n</div>"
     },
     "execution_count": 115,
     "metadata": {},
     "output_type": "execute_result"
    }
   ],
   "source": [
    "X"
   ],
   "metadata": {
    "collapsed": false,
    "ExecuteTime": {
     "end_time": "2024-06-17T09:44:03.092636700Z",
     "start_time": "2024-06-17T09:44:02.974131800Z"
    }
   },
   "id": "f6232d8ccf3a6bde",
   "execution_count": 115
  },
  {
   "cell_type": "markdown",
   "id": "0b88ba78-25b8-4d01-acaa-b88f31a70453",
   "metadata": {},
   "source": [
    "## Score"
   ]
  },
  {
   "cell_type": "code",
   "execution_count": 116,
   "id": "8e041b38-a2b0-4dcd-be7d-ab17ec6eb12d",
   "metadata": {
    "tags": [],
    "ExecuteTime": {
     "end_time": "2024-06-17T09:44:53.231134600Z",
     "start_time": "2024-06-17T09:44:53.044169300Z"
    }
   },
   "outputs": [
    {
     "data": {
      "text/plain": "0.5"
     },
     "execution_count": 116,
     "metadata": {},
     "output_type": "execute_result"
    }
   ],
   "source": [
    "clf.score(X_test, y_test)"
   ]
  },
  {
   "cell_type": "code",
   "execution_count": 30,
   "id": "0cc6fb03-7d49-4ad1-a01c-3d54336a1446",
   "metadata": {
    "tags": [],
    "ExecuteTime": {
     "end_time": "2024-04-15T15:08:12.069794200Z",
     "start_time": "2024-04-15T15:08:11.863906600Z"
    }
   },
   "outputs": [
    {
     "ename": "NameError",
     "evalue": "name 'clf' is not defined",
     "output_type": "error",
     "traceback": [
      "\u001B[1;31m---------------------------------------------------------------------------\u001B[0m",
      "\u001B[1;31mNameError\u001B[0m                                 Traceback (most recent call last)",
      "Cell \u001B[1;32mIn [30], line 1\u001B[0m\n\u001B[1;32m----> 1\u001B[0m \u001B[43mclf\u001B[49m\u001B[38;5;241m.\u001B[39mscore(X_train, y_train)\n",
      "\u001B[1;31mNameError\u001B[0m: name 'clf' is not defined"
     ]
    }
   ],
   "source": [
    "clf.score(X_train, y_train)"
   ]
  },
  {
   "cell_type": "markdown",
   "id": "c1351837-f926-43a6-bb68-bc35c946b0ec",
   "metadata": {},
   "source": [
    "## Check the předictions"
   ]
  },
  {
   "cell_type": "code",
   "execution_count": 149,
   "id": "ab82921a7dc10572",
   "metadata": {
    "collapsed": false,
    "tags": [],
    "ExecuteTime": {
     "end_time": "2024-01-17T17:37:28.441691Z",
     "start_time": "2024-01-17T17:37:28.335020600Z"
    }
   },
   "outputs": [
    {
     "data": {
      "text/plain": "922    2\n928    0\n939    0\n924    2\nName: stars_auto, dtype: int32"
     },
     "execution_count": 149,
     "metadata": {},
     "output_type": "execute_result"
    }
   ],
   "source": [
    "y_test"
   ]
  },
  {
   "cell_type": "code",
   "execution_count": 150,
   "id": "e5ea4f24720d1a20",
   "metadata": {
    "collapsed": false,
    "tags": [],
    "ExecuteTime": {
     "end_time": "2024-01-17T17:37:30.396593400Z",
     "start_time": "2024-01-17T17:37:30.265265700Z"
    }
   },
   "outputs": [
    {
     "data": {
      "text/plain": "array([0, 2, 0, 0])"
     },
     "execution_count": 150,
     "metadata": {},
     "output_type": "execute_result"
    }
   ],
   "source": [
    "y_pred = clf.predict(X_test)\n",
    "y_pred"
   ]
  },
  {
   "cell_type": "code",
   "execution_count": 113,
   "id": "4ad7ea73ebc96391",
   "metadata": {
    "collapsed": false,
    "tags": [],
    "ExecuteTime": {
     "end_time": "2024-01-17T17:19:28.078856300Z",
     "start_time": "2024-01-17T17:19:28.054325900Z"
    }
   },
   "outputs": [
    {
     "data": {
      "text/plain": "array([0, 0, 2, 2, 2, 2, 2, 0, 0, 2, 2, 1, 2, 0, 1])"
     },
     "execution_count": 113,
     "metadata": {},
     "output_type": "execute_result"
    }
   ],
   "source": [
    "clf.predict(X_train)\n"
   ]
  },
  {
   "cell_type": "code",
   "execution_count": 114,
   "id": "4fb2137572f7d68c",
   "metadata": {
    "collapsed": false,
    "tags": [],
    "ExecuteTime": {
     "end_time": "2024-01-17T17:19:28.967718800Z",
     "start_time": "2024-01-17T17:19:28.943710800Z"
    }
   },
   "outputs": [
    {
     "data": {
      "text/plain": "933    1\n945    0\n926    2\n942    2\n944    2\n947    2\n925    2\n934    0\n948    0\n927    2\n940    0\n931    1\n938    1\n943    0\n930    1\nName: stars_auto, dtype: int32"
     },
     "execution_count": 114,
     "metadata": {},
     "output_type": "execute_result"
    }
   ],
   "source": [
    "y_train"
   ]
  },
  {
   "cell_type": "code",
   "execution_count": 117,
   "id": "f6ec8f07533d895f",
   "metadata": {
    "collapsed": false,
    "tags": [],
    "ExecuteTime": {
     "end_time": "2024-01-17T17:21:48.646464Z",
     "start_time": "2024-01-17T17:21:48.447422100Z"
    }
   },
   "outputs": [
    {
     "data": {
      "text/plain": "Index(['filename', 'report_url', 'timestamp', 'email', 'uploaded_at',\n       'finished_at', 'fps', 'Needle holder length [m]', 'Scissors length [m]',\n       'Forceps length [m]',\n       ...\n       'Scissors stitch 0 area presence [%]',\n       'Needle holder stitch 0 length [pix]', 'Forceps stitch 0 length [pix]',\n       'Scissors stitch 0 length [pix]',\n       'Needle holder bbox stitch 0 length [pix]',\n       'Forceps bbox stitch 0 length [pix]',\n       'Scissors bbox stitch 0 length [pix]',\n       'Left hand bbox stitch 0 length [pix]',\n       'Right hand bbox stitch 0 length [pix]', 'stars_auto'],\n      dtype='object', length=218)"
     },
     "execution_count": 117,
     "metadata": {},
     "output_type": "execute_result"
    }
   ],
   "source": [
    "\n",
    "# sns.histplot(dfs, x=\"n_stitches_by_user\")\n",
    "dfs.columns"
   ]
  },
  {
   "cell_type": "code",
   "execution_count": 26,
   "id": "e2941983090d2225",
   "metadata": {
    "ExecuteTime": {
     "end_time": "2024-01-08T23:07:40.232991400Z",
     "start_time": "2024-01-08T23:07:40.169171600Z"
    },
    "collapsed": false,
    "tags": []
   },
   "outputs": [
    {
     "data": {
      "text/plain": [
       "array([0, 0, 0, 0, 0, 0, 0, 0, 0, 0, 0, 0, 0, 0, 0, 0])"
      ]
     },
     "execution_count": 26,
     "metadata": {},
     "output_type": "execute_result"
    }
   ],
   "source": []
  },
  {
   "cell_type": "code",
   "execution_count": 65,
   "id": "e55f43281611b056",
   "metadata": {
    "ExecuteTime": {
     "end_time": "2024-01-08T23:07:21.340654100Z",
     "start_time": "2024-01-08T23:07:21.211130400Z"
    },
    "collapsed": false
   },
   "outputs": [
    {
     "data": {
      "text/plain": [
       "816    2\n",
       "842    0\n",
       "840    0\n",
       "822    2\n",
       "Name: stars_auto, dtype: int32"
      ]
     },
     "execution_count": 65,
     "metadata": {},
     "output_type": "execute_result"
    }
   ],
   "source": []
  },
  {
   "cell_type": "code",
   "execution_count": 146,
   "id": "2d4b03b5a062d9c1",
   "metadata": {
    "collapsed": false,
    "ExecuteTime": {
     "end_time": "2024-01-17T17:32:40.037096500Z",
     "start_time": "2024-01-17T17:32:39.829778700Z"
    }
   },
   "outputs": [
    {
     "data": {
      "text/plain": "<AxesSubplot: xlabel='n_stitches_by_user', ylabel='Count'>"
     },
     "execution_count": 146,
     "metadata": {},
     "output_type": "execute_result"
    },
    {
     "data": {
      "text/plain": "<Figure size 640x480 with 1 Axes>",
      "image/png": "[encoded data removed]"
     },
     "metadata": {},
     "output_type": "display_data"
    }
   ],
   "source": [
    "sns.histplot(dfs, x=\"n_stitches_by_user\", \n",
    "             # hue=\"stars_auto\"\n",
    "             )"
   ]
  },
  {
   "cell_type": "code",
   "outputs": [],
   "source": [],
   "metadata": {
    "collapsed": false
   },
   "id": "6a962e42daa9f092",
   "execution_count": null
  }
 ],
 "metadata": {
  "kernelspec": {
   "display_name": "Python 3 (ipykernel)",
   "language": "python",
   "name": "python3"
  },
  "language_info": {
   "codemirror_mode": {
    "name": "ipython",
    "version": 3
   },
   "file_extension": ".py",
   "mimetype": "text/x-python",
   "name": "python",
   "nbconvert_exporter": "python",
   "pygments_lexer": "ipython3",
   "version": "3.8.13"
  }
 },
 "nbformat": 4,
 "nbformat_minor": 5
}
