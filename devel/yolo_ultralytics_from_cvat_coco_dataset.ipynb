{
 "cells": [
  {
   "metadata": {
    "ExecuteTime": {
     "end_time": "2025-09-14T21:13:35.853487Z",
     "start_time": "2025-09-14T21:13:35.848674Z"
    }
   },
   "cell_type": "code",
   "source": [
    "\n",
    "import json\n",
    "from pathlib import Path\n",
    "\n",
    "# from piglegcv.debug_stitch_split import labels\n",
    "\n",
    "# ====== KONFIGURACE ======\n",
    "# coco_json = Path(\"/content/pilsen-toys/annotations/instances_default.json\")\n",
    "# images_root = Path(\"/content/pilsen-toys/images\")  # kde jsou obrázky\n",
    "# output_dir = Path(\"/content/pilsen-toys/labels\")\n",
    "\n",
    "dataset_root = Path(\"~/Downloads/pigleg_maybe_viktora_single_image_detector\").expanduser()\n",
    "coco_json = Path(dataset_root / \"annotations/instances_default.json\").expanduser()\n",
    "images_root = Path(dataset_root / \"images\")\n",
    "labels_root = Path(dataset_root / \"labels\")\n",
    "\n",
    "assert coco_json.exists(), f\"COCO JSON soubor nenalezen: {coco_json}\""
   ],
   "id": "b58b596341e6823b",
   "outputs": [],
   "execution_count": 18
  },
  {
   "metadata": {
    "collapsed": true,
    "ExecuteTime": {
     "end_time": "2025-09-14T20:48:40.505694Z",
     "start_time": "2025-09-14T20:48:35.706268Z"
    }
   },
   "cell_type": "code",
   "source": [
    "\n",
    "\n",
    "# Convert json-coco to ultralytics format\n",
    "\n",
    "labels_root.mkdir(parents=True, exist_ok=True)\n",
    "\n",
    "# ====== NAČTENÍ ======\n",
    "with coco_json.open() as f:\n",
    "    coco = json.load(f)\n",
    "\n",
    "# Vytvoříme mapu image_id -> image info\n",
    "image_map = {img[\"id\"]: img for img in coco[\"images\"]}\n",
    "\n",
    "# Uložíme YOLO labely\n",
    "count = 0\n",
    "for ann in coco[\"annotations\"]:\n",
    "    img_info = image_map[ann[\"image_id\"]]\n",
    "    img_path = Path(img_info[\"file_name\"])\n",
    "\n",
    "    # pokud je file_name relativní, přidej prefix\n",
    "    if not img_path.is_absolute():\n",
    "        img_path = images_root / img_path\n",
    "\n",
    "    if not img_path.exists():\n",
    "        print(f\"⚠️ Obrázek nenalezen: {img_path}\")\n",
    "        continue\n",
    "\n",
    "    # COCO bbox: [x, y, w, h]\n",
    "    x, y, w, h = ann[\"bbox\"]\n",
    "    img_w, img_h = img_info[\"width\"], img_info[\"height\"]\n",
    "\n",
    "    # YOLO formát: x_center, y_center, width, height (relativní 0-1)\n",
    "    x_center = (x + w / 2) / img_w\n",
    "    y_center = (y + h / 2) / img_h\n",
    "    w_rel = w / img_w\n",
    "    h_rel = h / img_h\n",
    "\n",
    "    class_id = ann[\"category_id\"] - 1  # COCO obvykle začíná id=1, YOLO čeká 0-based\n",
    "\n",
    "    # připravíme řádek\n",
    "    line = f\"{class_id} {x_center:.6f} {y_center:.6f} {w_rel:.6f} {h_rel:.6f}\\n\"\n",
    "\n",
    "    # txt file má stejný název jako obrázek, ale s příponou .txt\n",
    "    rel_img_parent_path = img_path.parent.relative_to(images_root)\n",
    "    label_file = labels_root / rel_img_parent_path / (img_path.stem + \".txt\")\n",
    "    label_file.parent.mkdir(parents=True, exist_ok=True)\n",
    "    # label_file = output_dir / (img_path.stem + \".txt\")\n",
    "    with label_file.open(\"a\") as f:\n",
    "        f.write(line)\n",
    "\n",
    "    count += 1\n",
    "\n",
    "print(f\"✅ Hotovo! Uloženo {count} anotací do složky {labels_root}\")"
   ],
   "id": "a764fcd217eaa381",
   "outputs": [
    {
     "name": "stdout",
     "output_type": "stream",
     "text": [
      "✅ Hotovo! Uloženo 5690 anotací do složky C:\\Users\\Jirik\\Downloads\\pigleg_maybe_viktora_single_image_detector\\labels\n"
     ]
    }
   ],
   "execution_count": 14
  },
  {
   "metadata": {
    "ExecuteTime": {
     "end_time": "2025-09-14T21:08:17.676302Z",
     "start_time": "2025-09-14T21:06:04.885717Z"
    }
   },
   "cell_type": "code",
   "source": [
    "# Convert PNG to JPG\n",
    "\n",
    "from pathlib import Path\n",
    "from PIL import Image\n",
    "import os\n",
    "def pngs_to_jpgs(images_root: Path, delete_png: bool = False):\n",
    "    \"\"\"Konvertuje všechny PNG obrázky ve složce (rekurzivně) na JPG.\"\"\"\n",
    "    converted_count = 0\n",
    "\n",
    "    # PNG and png files\n",
    "    png_iterator = [p for p in images_root.rglob(\"*\") if p.suffix.lower() == \".png\"]\n",
    "\n",
    "    for png_path in png_iterator:\n",
    "        jpg_path = png_path.with_suffix(\".jpg\")\n",
    "\n",
    "        # Otevři a konvertuj\n",
    "        with Image.open(png_path) as im:\n",
    "            if im.mode in (\"RGBA\", \"LA\"):  # má alfa kanál\n",
    "                # sloučíme na bílý podklad\n",
    "                background = Image.new(\"RGB\", im.size, (255, 255, 255))\n",
    "                background.paste(im, mask=im.getchannel(\"A\"))\n",
    "                rgb_im = background\n",
    "            else:\n",
    "                rgb_im = im.convert(\"RGB\")\n",
    "\n",
    "            rgb_im.save(jpg_path, format=\"JPEG\", quality=90)\n",
    "            converted_count += 1\n",
    "\n",
    "        # (volitelně) smaž původní PNG\n",
    "        if delete_png:\n",
    "            os.remove(png_path)\n",
    "            # print(f\"Smazán {png_path}\")\n",
    "        # os.remove(png_path)\n",
    "\n",
    "    print(f\"✅ Převedeno {converted_count} PNG souborů na JPG.\")\n",
    "\n",
    "\n",
    "pngs_to_jpgs(images_root, delete_png=True)"
   ],
   "id": "119f0b6e0a7e3a8e",
   "outputs": [
    {
     "name": "stdout",
     "output_type": "stream",
     "text": [
      "✅ Převedeno 2287 PNG souborů na JPG.\n"
     ]
    }
   ],
   "execution_count": 16
  },
  {
   "metadata": {
    "ExecuteTime": {
     "end_time": "2025-09-14T21:13:45.368364Z",
     "start_time": "2025-09-14T21:13:44.455510Z"
    }
   },
   "cell_type": "code",
   "source": [
    "# Remove image files without labels\n",
    "removed = 0\n",
    "\n",
    "for img_path in images_root.rglob(\"*.*\"):\n",
    "    if img_path.suffix.lower() not in [\".jpg\", \".jpeg\", \".png\"]:\n",
    "        continue  # přeskoč neobrázkové soubory\n",
    "\n",
    "    label_path = labels_root / img_path.relative_to(images_root)\n",
    "    label_path = label_path.with_suffix(\".txt\")\n",
    "\n",
    "    if not label_path.exists():\n",
    "        img_path.unlink()\n",
    "        removed += 1\n",
    "        continue\n",
    "\n",
    "    # pokud existuje, zkontrolujeme jestli není prázdný\n",
    "    if label_path.stat().st_size == 0:\n",
    "        img_path.unlink()\n",
    "        label_path.unlink()  # smažeme i prázdný label\n",
    "        removed += 1\n",
    "\n",
    "print(f\"✅ Odstraněno {removed} obrázků bez anotací.\")\n"
   ],
   "id": "503edb3e2b874be8",
   "outputs": [
    {
     "name": "stdout",
     "output_type": "stream",
     "text": [
      "✅ Odstraněno 1156 obrázků bez anotací.\n"
     ]
    }
   ],
   "execution_count": 19
  },
  {
   "metadata": {},
   "cell_type": "code",
   "outputs": [],
   "execution_count": null,
   "source": "",
   "id": "af5ade1ec92e5d20"
  },
  {
   "metadata": {},
   "cell_type": "code",
   "outputs": [],
   "execution_count": null,
   "source": "",
   "id": "bd8fb9dfd999b16d"
  },
  {
   "metadata": {},
   "cell_type": "markdown",
   "source": "# Train, val, test split",
   "id": "f28aa492152c28e1"
  },
  {
   "metadata": {
    "ExecuteTime": {
     "end_time": "2025-09-14T21:17:41.197014Z",
     "start_time": "2025-09-14T21:17:37.414133Z"
    }
   },
   "cell_type": "code",
   "source": [
    "\n",
    "import json, random, shutil\n",
    "from pathlib import Path\n",
    "\n",
    "# ===== KONFIGURACE =====\n",
    "# images_root = Path(\"/content/pilsen-toys/images\")\n",
    "# labels_root = Path(\"/content/pilsen-toys/labels\")  # složka s .txt soubory\n",
    "output_root = Path(\"~/Downloads/suran_sid/\").expanduser()\n",
    "names = [\"Dog\", \"Sun\", \"Zebra\", \"Flute\"]  # přizpůsob svým třídám\n",
    "output_root.mkdir(parents=True, exist_ok=True)\n",
    "\n",
    "# Podíl dat pro train/val/test\n",
    "split_ratios = {\"train\": 0.7, \"val\": 0.2, \"test\": 0.1}\n",
    "random.seed(42)\n",
    "\n",
    "# ===== NAČTENÍ SOUBORŮ =====\n",
    "image_files = list(images_root.glob(\"*.jpg\"))\n",
    "random.shuffle(image_files)\n",
    "\n",
    "n_total = len(image_files)\n",
    "n_train = int(n_total * split_ratios[\"train\"])\n",
    "n_val = int(n_total * split_ratios[\"val\"])\n",
    "\n",
    "splits = {\n",
    "    \"train\": image_files[:n_train],\n",
    "    \"val\": image_files[n_train:n_train+n_val],\n",
    "    \"test\": image_files[n_train+n_val:]\n",
    "}\n",
    "\n",
    "print(f\"Dataset má {n_total} obrázků → train: {len(splits['train'])}, val: {len(splits['val'])}, test: {len(splits['test'])}\")\n",
    "\n",
    "# ===== KOPÍROVÁNÍ =====\n",
    "for split, files in splits.items():\n",
    "    img_out = output_root / \"images\" / split\n",
    "    lbl_out = output_root / \"labels\" / split\n",
    "    img_out.mkdir(parents=True, exist_ok=True)\n",
    "    lbl_out.mkdir(parents=True, exist_ok=True)\n",
    "\n",
    "    for img_path in files:\n",
    "        # kopíruj obrázek\n",
    "        shutil.copy2(img_path, img_out / img_path.name)\n",
    "\n",
    "        # kopíruj odpovídající label, pokud existuje\n",
    "        lbl_path = labels_root / (img_path.stem + \".txt\")\n",
    "        if lbl_path.exists():\n",
    "            shutil.copy2(lbl_path, lbl_out / lbl_path.name)\n",
    "\n",
    "print(\"✅ Dataset rozdělen a zkopírován.\")\n",
    "\n",
    "# ===== YAML =====\n",
    "yaml_path = output_root / \"dataset.yaml\"\n",
    "\n",
    "with open(yaml_path, \"w\") as f:\n",
    "    f.write(f\"train: {output_root / 'images/train'}\\n\")\n",
    "    f.write(f\"val: {output_root / 'images/val'}\\n\")\n",
    "    f.write(f\"test: {output_root / 'images/test'}\\n\\n\")\n",
    "    f.write(\"names:\\n\")\n",
    "    for i, name in enumerate(names):\n",
    "        f.write(f\"  {i}: {name}\\n\")\n",
    "\n",
    "print(f\"✅ YAML uložen do {yaml_path}\")"
   ],
   "id": "a722f5c3163d86e0",
   "outputs": [
    {
     "name": "stdout",
     "output_type": "stream",
     "text": [
      "Dataset má 1286 obrázků → train: 900, val: 257, test: 129\n",
      "✅ Dataset rozdělen a zkopírován.\n",
      "✅ YAML uložen do C:\\Users\\Jirik\\Downloads\\suran_sid\\dataset.yaml\n"
     ]
    }
   ],
   "execution_count": 20
  }
 ],
 "metadata": {
  "kernelspec": {
   "display_name": "Python 3",
   "language": "python",
   "name": "python3"
  },
  "language_info": {
   "codemirror_mode": {
    "name": "ipython",
    "version": 2
   },
   "file_extension": ".py",
   "mimetype": "text/x-python",
   "name": "python",
   "nbconvert_exporter": "python",
   "pygments_lexer": "ipython2",
   "version": "2.7.6"
  }
 },
 "nbformat": 4,
 "nbformat_minor": 5
}
