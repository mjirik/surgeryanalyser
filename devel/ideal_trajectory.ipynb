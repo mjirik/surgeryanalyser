{
 "cells": [
  {
   "cell_type": "code",
   "id": "initial_id",
   "metadata": {
    "collapsed": true,
    "ExecuteTime": {
     "end_time": "2025-01-30T16:01:08.719582Z",
     "start_time": "2025-01-30T16:01:08.712970Z"
    }
   },
   "source": [
    "from matplotlib import pyplot as plt\n",
    "\n",
    "\n",
    "def draw_ideal_trajetory(ax, point, color='red'):\n",
    "    # Get the current axis limits\n",
    "    x_min, x_max = ax.get_xlim()\n",
    "    y_min, y_max = ax.get_ylim()\n",
    "\n",
    "    # Calculate the slope of the line\n",
    "    slope = point[1] / point[0]\n",
    "\n",
    "    # Calculate the intercepts with the bounding box\n",
    "    # Using the line equation y = slope * x\n",
    "    x_line = []\n",
    "    y_line = []\n",
    "\n",
    "    # Check where the line intersects the x and y axis bounds\n",
    "    if y_min <= slope * x_min <= y_max:  # Intersects left edge\n",
    "        x_line.append(x_min)\n",
    "        y_line.append(slope * x_min)\n",
    "\n",
    "    if y_min <= slope * x_max <= y_max:  # Intersects right edge\n",
    "        x_line.append(x_max)\n",
    "        y_line.append(slope * x_max)\n",
    "\n",
    "    if x_min <= y_min / slope <= x_max:  # Intersects bottom edge\n",
    "        x_line.append(y_min / slope)\n",
    "        y_line.append(y_min)\n",
    "\n",
    "    if x_min <= y_max / slope <= x_max:  # Intersects top edge\n",
    "        x_line.append(y_max / slope)\n",
    "        y_line.append(y_max)\n",
    "\n",
    "    # Plot the line\n",
    "    ax.plot(x_line, y_line, color=color,\n",
    "            # linestyle=\"--\", alpha=0.5,\n",
    "            # label='Line through point'\n",
    "            )\n",
    "\n",
    "    # Restore the original axis limits\n",
    "    # ax.set_xlim(x_min, x_max)\n",
    "    # ax.set_ylim(y_min, y_max)\n",
    "\n",
    "    return ax\n"
   ],
   "outputs": [],
   "execution_count": 6
  },
  {
   "metadata": {
    "ExecuteTime": {
     "end_time": "2025-01-30T16:01:11.160761Z",
     "start_time": "2025-01-30T16:01:11.013891Z"
    }
   },
   "cell_type": "code",
   "source": [
    "import numpy as np\n",
    "\n",
    "fig = plt.figure()\n",
    "ax = plt.gca()\n",
    "\n",
    "# random x and y values\n",
    "x = np.random.rand(10) * 15\n",
    "y = np.random.rand(10)\n",
    "\n",
    "\n",
    "plt.plot(x, y, 'o')\n",
    "draw_ideal_trajetory(ax, [0.5, 0.5])\n"
   ],
   "id": "b113718a068f5c4d",
   "outputs": [
    {
     "data": {
      "text/plain": [
       "<AxesSubplot:>"
      ]
     },
     "execution_count": 7,
     "metadata": {},
     "output_type": "execute_result"
    },
    {
     "data": {
      "text/plain": [
       "<Figure size 432x288 with 1 Axes>"
      ],
      "image/png": "[encoded data removed]"
     },
     "metadata": {
      "needs_background": "light"
     },
     "output_type": "display_data"
    }
   ],
   "execution_count": 7
  },
  {
   "metadata": {},
   "cell_type": "code",
   "outputs": [],
   "execution_count": null,
   "source": "",
   "id": "7b36bc1eed6a9653"
  }
 ],
 "metadata": {
  "kernelspec": {
   "display_name": "Python 3",
   "language": "python",
   "name": "python3"
  },
  "language_info": {
   "codemirror_mode": {
    "name": "ipython",
    "version": 2
   },
   "file_extension": ".py",
   "mimetype": "text/x-python",
   "name": "python",
   "nbconvert_exporter": "python",
   "pygments_lexer": "ipython2",
   "version": "2.7.6"
  }
 },
 "nbformat": 4,
 "nbformat_minor": 5
}
